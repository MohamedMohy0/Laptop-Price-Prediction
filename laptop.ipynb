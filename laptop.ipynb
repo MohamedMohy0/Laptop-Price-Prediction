{
 "cells": [
  {
   "cell_type": "code",
   "execution_count": null,
   "metadata": {},
   "outputs": [],
   "source": [
    "'''\n",
    "data link:\n",
    "https://www.kaggle.com/datasets/gyanprakashkushwaha/laptop-price-prediction-cleaned-dataset\n",
    "'''"
   ]
  },
  {
   "cell_type": "code",
   "execution_count": 1,
   "metadata": {},
   "outputs": [],
   "source": [
    "import pandas as pd \n",
    "import matplotlib.pyplot as plt \n",
    "import plotly.express as pt\n",
    "import seaborn as sns\n",
    "import plotly.graph_objects as go\n",
    "from sklearn.model_selection import train_test_split\n",
    "from sklearn.preprocessing import LabelEncoder,StandardScaler\n",
    "from sklearn.linear_model import LinearRegression, Ridge, Lasso\n",
    "from sklearn.tree import DecisionTreeRegressor\n",
    "from sklearn.ensemble import RandomForestRegressor, GradientBoostingRegressor\n",
    "from sklearn.svm import SVR\n",
    "from sklearn.neighbors import KNeighborsRegressor\n",
    "from sklearn.metrics import mean_squared_error, r2_score,accuracy_score\n",
    "import numpy as np"
   ]
  },
  {
   "cell_type": "code",
   "execution_count": 2,
   "metadata": {},
   "outputs": [
    {
     "data": {
      "text/html": [
       "<div>\n",
       "<style scoped>\n",
       "    .dataframe tbody tr th:only-of-type {\n",
       "        vertical-align: middle;\n",
       "    }\n",
       "\n",
       "    .dataframe tbody tr th {\n",
       "        vertical-align: top;\n",
       "    }\n",
       "\n",
       "    .dataframe thead th {\n",
       "        text-align: right;\n",
       "    }\n",
       "</style>\n",
       "<table border=\"1\" class=\"dataframe\">\n",
       "  <thead>\n",
       "    <tr style=\"text-align: right;\">\n",
       "      <th></th>\n",
       "      <th>Company</th>\n",
       "      <th>TypeName</th>\n",
       "      <th>Ram</th>\n",
       "      <th>Weight</th>\n",
       "      <th>Price</th>\n",
       "      <th>TouchScreen</th>\n",
       "      <th>Ips</th>\n",
       "      <th>Ppi</th>\n",
       "      <th>Cpu_brand</th>\n",
       "      <th>HDD</th>\n",
       "      <th>SSD</th>\n",
       "      <th>Gpu_brand</th>\n",
       "      <th>Os</th>\n",
       "    </tr>\n",
       "  </thead>\n",
       "  <tbody>\n",
       "    <tr>\n",
       "      <th>0</th>\n",
       "      <td>Apple</td>\n",
       "      <td>Ultrabook</td>\n",
       "      <td>8</td>\n",
       "      <td>1.37</td>\n",
       "      <td>11.175755</td>\n",
       "      <td>0</td>\n",
       "      <td>1</td>\n",
       "      <td>226.983005</td>\n",
       "      <td>Intel Core i5</td>\n",
       "      <td>0</td>\n",
       "      <td>128</td>\n",
       "      <td>Intel</td>\n",
       "      <td>Mac</td>\n",
       "    </tr>\n",
       "    <tr>\n",
       "      <th>1</th>\n",
       "      <td>Apple</td>\n",
       "      <td>Ultrabook</td>\n",
       "      <td>8</td>\n",
       "      <td>1.34</td>\n",
       "      <td>10.776777</td>\n",
       "      <td>0</td>\n",
       "      <td>0</td>\n",
       "      <td>127.677940</td>\n",
       "      <td>Intel Core i5</td>\n",
       "      <td>0</td>\n",
       "      <td>0</td>\n",
       "      <td>Intel</td>\n",
       "      <td>Mac</td>\n",
       "    </tr>\n",
       "    <tr>\n",
       "      <th>2</th>\n",
       "      <td>HP</td>\n",
       "      <td>Notebook</td>\n",
       "      <td>8</td>\n",
       "      <td>1.86</td>\n",
       "      <td>10.329931</td>\n",
       "      <td>0</td>\n",
       "      <td>0</td>\n",
       "      <td>141.211998</td>\n",
       "      <td>Intel Core i5</td>\n",
       "      <td>0</td>\n",
       "      <td>256</td>\n",
       "      <td>Intel</td>\n",
       "      <td>Others</td>\n",
       "    </tr>\n",
       "    <tr>\n",
       "      <th>3</th>\n",
       "      <td>Apple</td>\n",
       "      <td>Ultrabook</td>\n",
       "      <td>16</td>\n",
       "      <td>1.83</td>\n",
       "      <td>11.814476</td>\n",
       "      <td>0</td>\n",
       "      <td>1</td>\n",
       "      <td>220.534624</td>\n",
       "      <td>Intel Core i7</td>\n",
       "      <td>0</td>\n",
       "      <td>512</td>\n",
       "      <td>AMD</td>\n",
       "      <td>Mac</td>\n",
       "    </tr>\n",
       "    <tr>\n",
       "      <th>4</th>\n",
       "      <td>Apple</td>\n",
       "      <td>Ultrabook</td>\n",
       "      <td>8</td>\n",
       "      <td>1.37</td>\n",
       "      <td>11.473101</td>\n",
       "      <td>0</td>\n",
       "      <td>1</td>\n",
       "      <td>226.983005</td>\n",
       "      <td>Intel Core i5</td>\n",
       "      <td>0</td>\n",
       "      <td>256</td>\n",
       "      <td>Intel</td>\n",
       "      <td>Mac</td>\n",
       "    </tr>\n",
       "  </tbody>\n",
       "</table>\n",
       "</div>"
      ],
      "text/plain": [
       "  Company   TypeName  Ram  Weight      Price  TouchScreen  Ips         Ppi  \\\n",
       "0   Apple  Ultrabook    8    1.37  11.175755            0    1  226.983005   \n",
       "1   Apple  Ultrabook    8    1.34  10.776777            0    0  127.677940   \n",
       "2      HP   Notebook    8    1.86  10.329931            0    0  141.211998   \n",
       "3   Apple  Ultrabook   16    1.83  11.814476            0    1  220.534624   \n",
       "4   Apple  Ultrabook    8    1.37  11.473101            0    1  226.983005   \n",
       "\n",
       "       Cpu_brand  HDD  SSD Gpu_brand      Os  \n",
       "0  Intel Core i5    0  128     Intel     Mac  \n",
       "1  Intel Core i5    0    0     Intel     Mac  \n",
       "2  Intel Core i5    0  256     Intel  Others  \n",
       "3  Intel Core i7    0  512       AMD     Mac  \n",
       "4  Intel Core i5    0  256     Intel     Mac  "
      ]
     },
     "execution_count": 2,
     "metadata": {},
     "output_type": "execute_result"
    }
   ],
   "source": [
    "data=pd.read_csv(\"laptop_data_cleaned.csv\")\n",
    "data.head(5)"
   ]
  },
  {
   "cell_type": "code",
   "execution_count": 3,
   "metadata": {},
   "outputs": [
    {
     "name": "stdout",
     "output_type": "stream",
     "text": [
      "<class 'pandas.core.frame.DataFrame'>\n",
      "RangeIndex: 1273 entries, 0 to 1272\n",
      "Data columns (total 13 columns):\n",
      " #   Column       Non-Null Count  Dtype  \n",
      "---  ------       --------------  -----  \n",
      " 0   Company      1273 non-null   object \n",
      " 1   TypeName     1273 non-null   object \n",
      " 2   Ram          1273 non-null   int64  \n",
      " 3   Weight       1273 non-null   float64\n",
      " 4   Price        1273 non-null   float64\n",
      " 5   TouchScreen  1273 non-null   int64  \n",
      " 6   Ips          1273 non-null   int64  \n",
      " 7   Ppi          1273 non-null   float64\n",
      " 8   Cpu_brand    1273 non-null   object \n",
      " 9   HDD          1273 non-null   int64  \n",
      " 10  SSD          1273 non-null   int64  \n",
      " 11  Gpu_brand    1273 non-null   object \n",
      " 12  Os           1273 non-null   object \n",
      "dtypes: float64(3), int64(5), object(5)\n",
      "memory usage: 129.4+ KB\n"
     ]
    }
   ],
   "source": [
    "data.info()"
   ]
  },
  {
   "cell_type": "code",
   "execution_count": 4,
   "metadata": {},
   "outputs": [],
   "source": [
    "string=data.select_dtypes(include='O')\n",
    "number=data.select_dtypes(include='number')"
   ]
  },
  {
   "cell_type": "code",
   "execution_count": 5,
   "metadata": {},
   "outputs": [
    {
     "data": {
      "text/plain": [
       "Company        0.0\n",
       "TypeName       0.0\n",
       "Ram            0.0\n",
       "Weight         0.0\n",
       "Price          0.0\n",
       "TouchScreen    0.0\n",
       "Ips            0.0\n",
       "Ppi            0.0\n",
       "Cpu_brand      0.0\n",
       "HDD            0.0\n",
       "SSD            0.0\n",
       "Gpu_brand      0.0\n",
       "Os             0.0\n",
       "dtype: float64"
      ]
     },
     "execution_count": 5,
     "metadata": {},
     "output_type": "execute_result"
    }
   ],
   "source": [
    "#check the nan in data\n",
    "na=data.isnull().sum()*100/len(data)\n",
    "na.sort_values(ascending=True)"
   ]
  },
  {
   "cell_type": "code",
   "execution_count": 6,
   "metadata": {},
   "outputs": [
    {
     "data": {
      "text/html": [
       "<div>\n",
       "<style scoped>\n",
       "    .dataframe tbody tr th:only-of-type {\n",
       "        vertical-align: middle;\n",
       "    }\n",
       "\n",
       "    .dataframe tbody tr th {\n",
       "        vertical-align: top;\n",
       "    }\n",
       "\n",
       "    .dataframe thead th {\n",
       "        text-align: right;\n",
       "    }\n",
       "</style>\n",
       "<table border=\"1\" class=\"dataframe\">\n",
       "  <thead>\n",
       "    <tr style=\"text-align: right;\">\n",
       "      <th></th>\n",
       "      <th>count</th>\n",
       "      <th>mean</th>\n",
       "      <th>std</th>\n",
       "      <th>min</th>\n",
       "      <th>25%</th>\n",
       "      <th>50%</th>\n",
       "      <th>75%</th>\n",
       "      <th>max</th>\n",
       "    </tr>\n",
       "  </thead>\n",
       "  <tbody>\n",
       "    <tr>\n",
       "      <th>Ram</th>\n",
       "      <td>1273.0</td>\n",
       "      <td>8.447761</td>\n",
       "      <td>5.098771</td>\n",
       "      <td>2.000000</td>\n",
       "      <td>4.000000</td>\n",
       "      <td>8.000000</td>\n",
       "      <td>8.000000</td>\n",
       "      <td>64.000000</td>\n",
       "    </tr>\n",
       "    <tr>\n",
       "      <th>Weight</th>\n",
       "      <td>1273.0</td>\n",
       "      <td>2.041100</td>\n",
       "      <td>0.669241</td>\n",
       "      <td>0.690000</td>\n",
       "      <td>1.500000</td>\n",
       "      <td>2.040000</td>\n",
       "      <td>2.310000</td>\n",
       "      <td>4.700000</td>\n",
       "    </tr>\n",
       "    <tr>\n",
       "      <th>Price</th>\n",
       "      <td>1273.0</td>\n",
       "      <td>10.828218</td>\n",
       "      <td>0.619565</td>\n",
       "      <td>9.134616</td>\n",
       "      <td>10.387379</td>\n",
       "      <td>10.872255</td>\n",
       "      <td>11.287447</td>\n",
       "      <td>12.691441</td>\n",
       "    </tr>\n",
       "    <tr>\n",
       "      <th>TouchScreen</th>\n",
       "      <td>1273.0</td>\n",
       "      <td>0.146897</td>\n",
       "      <td>0.354142</td>\n",
       "      <td>0.000000</td>\n",
       "      <td>0.000000</td>\n",
       "      <td>0.000000</td>\n",
       "      <td>0.000000</td>\n",
       "      <td>1.000000</td>\n",
       "    </tr>\n",
       "    <tr>\n",
       "      <th>Ips</th>\n",
       "      <td>1273.0</td>\n",
       "      <td>0.279654</td>\n",
       "      <td>0.449006</td>\n",
       "      <td>0.000000</td>\n",
       "      <td>0.000000</td>\n",
       "      <td>0.000000</td>\n",
       "      <td>1.000000</td>\n",
       "      <td>1.000000</td>\n",
       "    </tr>\n",
       "    <tr>\n",
       "      <th>Ppi</th>\n",
       "      <td>1273.0</td>\n",
       "      <td>146.950812</td>\n",
       "      <td>42.926775</td>\n",
       "      <td>90.583402</td>\n",
       "      <td>127.335675</td>\n",
       "      <td>141.211998</td>\n",
       "      <td>157.350512</td>\n",
       "      <td>352.465147</td>\n",
       "    </tr>\n",
       "    <tr>\n",
       "      <th>HDD</th>\n",
       "      <td>1273.0</td>\n",
       "      <td>413.715632</td>\n",
       "      <td>518.054486</td>\n",
       "      <td>0.000000</td>\n",
       "      <td>0.000000</td>\n",
       "      <td>0.000000</td>\n",
       "      <td>1000.000000</td>\n",
       "      <td>2000.000000</td>\n",
       "    </tr>\n",
       "    <tr>\n",
       "      <th>SSD</th>\n",
       "      <td>1273.0</td>\n",
       "      <td>186.252946</td>\n",
       "      <td>186.531571</td>\n",
       "      <td>0.000000</td>\n",
       "      <td>0.000000</td>\n",
       "      <td>256.000000</td>\n",
       "      <td>256.000000</td>\n",
       "      <td>1024.000000</td>\n",
       "    </tr>\n",
       "  </tbody>\n",
       "</table>\n",
       "</div>"
      ],
      "text/plain": [
       "              count        mean         std        min         25%  \\\n",
       "Ram          1273.0    8.447761    5.098771   2.000000    4.000000   \n",
       "Weight       1273.0    2.041100    0.669241   0.690000    1.500000   \n",
       "Price        1273.0   10.828218    0.619565   9.134616   10.387379   \n",
       "TouchScreen  1273.0    0.146897    0.354142   0.000000    0.000000   \n",
       "Ips          1273.0    0.279654    0.449006   0.000000    0.000000   \n",
       "Ppi          1273.0  146.950812   42.926775  90.583402  127.335675   \n",
       "HDD          1273.0  413.715632  518.054486   0.000000    0.000000   \n",
       "SSD          1273.0  186.252946  186.531571   0.000000    0.000000   \n",
       "\n",
       "                    50%          75%          max  \n",
       "Ram            8.000000     8.000000    64.000000  \n",
       "Weight         2.040000     2.310000     4.700000  \n",
       "Price         10.872255    11.287447    12.691441  \n",
       "TouchScreen    0.000000     0.000000     1.000000  \n",
       "Ips            0.000000     1.000000     1.000000  \n",
       "Ppi          141.211998   157.350512   352.465147  \n",
       "HDD            0.000000  1000.000000  2000.000000  \n",
       "SSD          256.000000   256.000000  1024.000000  "
      ]
     },
     "execution_count": 6,
     "metadata": {},
     "output_type": "execute_result"
    }
   ],
   "source": [
    "data[number.columns].describe().T"
   ]
  },
  {
   "cell_type": "code",
   "execution_count": 7,
   "metadata": {},
   "outputs": [
    {
     "data": {
      "text/html": [
       "<div>\n",
       "<style scoped>\n",
       "    .dataframe tbody tr th:only-of-type {\n",
       "        vertical-align: middle;\n",
       "    }\n",
       "\n",
       "    .dataframe tbody tr th {\n",
       "        vertical-align: top;\n",
       "    }\n",
       "\n",
       "    .dataframe thead th {\n",
       "        text-align: right;\n",
       "    }\n",
       "</style>\n",
       "<table border=\"1\" class=\"dataframe\">\n",
       "  <thead>\n",
       "    <tr style=\"text-align: right;\">\n",
       "      <th></th>\n",
       "      <th>count</th>\n",
       "      <th>unique</th>\n",
       "      <th>top</th>\n",
       "      <th>freq</th>\n",
       "    </tr>\n",
       "  </thead>\n",
       "  <tbody>\n",
       "    <tr>\n",
       "      <th>Company</th>\n",
       "      <td>1273</td>\n",
       "      <td>19</td>\n",
       "      <td>Dell</td>\n",
       "      <td>291</td>\n",
       "    </tr>\n",
       "    <tr>\n",
       "      <th>TypeName</th>\n",
       "      <td>1273</td>\n",
       "      <td>6</td>\n",
       "      <td>Notebook</td>\n",
       "      <td>706</td>\n",
       "    </tr>\n",
       "    <tr>\n",
       "      <th>Cpu_brand</th>\n",
       "      <td>1273</td>\n",
       "      <td>5</td>\n",
       "      <td>Intel Core i7</td>\n",
       "      <td>515</td>\n",
       "    </tr>\n",
       "    <tr>\n",
       "      <th>Gpu_brand</th>\n",
       "      <td>1273</td>\n",
       "      <td>3</td>\n",
       "      <td>Intel</td>\n",
       "      <td>703</td>\n",
       "    </tr>\n",
       "    <tr>\n",
       "      <th>Os</th>\n",
       "      <td>1273</td>\n",
       "      <td>3</td>\n",
       "      <td>Windows</td>\n",
       "      <td>1100</td>\n",
       "    </tr>\n",
       "  </tbody>\n",
       "</table>\n",
       "</div>"
      ],
      "text/plain": [
       "          count unique            top  freq\n",
       "Company    1273     19           Dell   291\n",
       "TypeName   1273      6       Notebook   706\n",
       "Cpu_brand  1273      5  Intel Core i7   515\n",
       "Gpu_brand  1273      3          Intel   703\n",
       "Os         1273      3        Windows  1100"
      ]
     },
     "execution_count": 7,
     "metadata": {},
     "output_type": "execute_result"
    }
   ],
   "source": [
    "data[string.columns].describe().T"
   ]
  },
  {
   "cell_type": "code",
   "execution_count": 8,
   "metadata": {},
   "outputs": [
    {
     "data": {
      "image/png": "[encoded data removed]",
      "text/plain": [
       "<Figure size 2000x2000 with 2 Axes>"
      ]
     },
     "metadata": {},
     "output_type": "display_data"
    }
   ],
   "source": [
    "#Check correlation\n",
    "cor=data[number.columns].corr()\n",
    "plt.figure(figsize=(20, 20))\n",
    "sns.heatmap(cor, cmap='coolwarm',annot=True)\n",
    "plt.show()"
   ]
  },
  {
   "cell_type": "code",
   "execution_count": 9,
   "metadata": {},
   "outputs": [
    {
     "data": {
      "application/vnd.plotly.v1+json": {
       "config": {
        "plotlyServerURL": "https://plot.ly"
       },
       "data": [
        {
         "domain": {
          "x": [
           0,
           1
          ],
          "y": [
           0,
           1
          ]
         },
         "hovertemplate": "Os=%{label}<br>Count=%{value}<extra></extra>",
         "labels": [
          "Windows",
          "Others",
          "Mac"
         ],
         "legendgroup": "",
         "name": "",
         "showlegend": true,
         "type": "pie",
         "values": [
          1100,
          152,
          21
         ]
        }
       ],
       "layout": {
        "legend": {
         "tracegroupgap": 0
        },
        "margin": {
         "t": 60
        },
        "template": {
         "data": {
          "bar": [
           {
            "error_x": {
             "color": "#2a3f5f"
            },
            "error_y": {
             "color": "#2a3f5f"
            },
            "marker": {
             "line": {
              "color": "#E5ECF6",
              "width": 0.5
             },
             "pattern": {
              "fillmode": "overlay",
              "size": 10,
              "solidity": 0.2
             }
            },
            "type": "bar"
           }
          ],
          "barpolar": [
           {
            "marker": {
             "line": {
              "color": "#E5ECF6",
              "width": 0.5
             },
             "pattern": {
              "fillmode": "overlay",
              "size": 10,
              "solidity": 0.2
             }
            },
            "type": "barpolar"
           }
          ],
          "carpet": [
           {
            "aaxis": {
             "endlinecolor": "#2a3f5f",
             "gridcolor": "white",
             "linecolor": "white",
             "minorgridcolor": "white",
             "startlinecolor": "#2a3f5f"
            },
            "baxis": {
             "endlinecolor": "#2a3f5f",
             "gridcolor": "white",
             "linecolor": "white",
             "minorgridcolor": "white",
             "startlinecolor": "#2a3f5f"
            },
            "type": "carpet"
           }
          ],
          "choropleth": [
           {
            "colorbar": {
             "outlinewidth": 0,
             "ticks": ""
            },
            "type": "choropleth"
           }
          ],
          "contour": [
           {
            "colorbar": {
             "outlinewidth": 0,
             "ticks": ""
            },
            "colorscale": [
             [
              0,
              "#0d0887"
             ],
             [
              0.1111111111111111,
              "#46039f"
             ],
             [
              0.2222222222222222,
              "#7201a8"
             ],
             [
              0.3333333333333333,
              "#9c179e"
             ],
             [
              0.4444444444444444,
              "#bd3786"
             ],
             [
              0.5555555555555556,
              "#d8576b"
             ],
             [
              0.6666666666666666,
              "#ed7953"
             ],
             [
              0.7777777777777778,
              "#fb9f3a"
             ],
             [
              0.8888888888888888,
              "#fdca26"
             ],
             [
              1,
              "#f0f921"
             ]
            ],
            "type": "contour"
           }
          ],
          "contourcarpet": [
           {
            "colorbar": {
             "outlinewidth": 0,
             "ticks": ""
            },
            "type": "contourcarpet"
           }
          ],
          "heatmap": [
           {
            "colorbar": {
             "outlinewidth": 0,
             "ticks": ""
            },
            "colorscale": [
             [
              0,
              "#0d0887"
             ],
             [
              0.1111111111111111,
              "#46039f"
             ],
             [
              0.2222222222222222,
              "#7201a8"
             ],
             [
              0.3333333333333333,
              "#9c179e"
             ],
             [
              0.4444444444444444,
              "#bd3786"
             ],
             [
              0.5555555555555556,
              "#d8576b"
             ],
             [
              0.6666666666666666,
              "#ed7953"
             ],
             [
              0.7777777777777778,
              "#fb9f3a"
             ],
             [
              0.8888888888888888,
              "#fdca26"
             ],
             [
              1,
              "#f0f921"
             ]
            ],
            "type": "heatmap"
           }
          ],
          "heatmapgl": [
           {
            "colorbar": {
             "outlinewidth": 0,
             "ticks": ""
            },
            "colorscale": [
             [
              0,
              "#0d0887"
             ],
             [
              0.1111111111111111,
              "#46039f"
             ],
             [
              0.2222222222222222,
              "#7201a8"
             ],
             [
              0.3333333333333333,
              "#9c179e"
             ],
             [
              0.4444444444444444,
              "#bd3786"
             ],
             [
              0.5555555555555556,
              "#d8576b"
             ],
             [
              0.6666666666666666,
              "#ed7953"
             ],
             [
              0.7777777777777778,
              "#fb9f3a"
             ],
             [
              0.8888888888888888,
              "#fdca26"
             ],
             [
              1,
              "#f0f921"
             ]
            ],
            "type": "heatmapgl"
           }
          ],
          "histogram": [
           {
            "marker": {
             "pattern": {
              "fillmode": "overlay",
              "size": 10,
              "solidity": 0.2
             }
            },
            "type": "histogram"
           }
          ],
          "histogram2d": [
           {
            "colorbar": {
             "outlinewidth": 0,
             "ticks": ""
            },
            "colorscale": [
             [
              0,
              "#0d0887"
             ],
             [
              0.1111111111111111,
              "#46039f"
             ],
             [
              0.2222222222222222,
              "#7201a8"
             ],
             [
              0.3333333333333333,
              "#9c179e"
             ],
             [
              0.4444444444444444,
              "#bd3786"
             ],
             [
              0.5555555555555556,
              "#d8576b"
             ],
             [
              0.6666666666666666,
              "#ed7953"
             ],
             [
              0.7777777777777778,
              "#fb9f3a"
             ],
             [
              0.8888888888888888,
              "#fdca26"
             ],
             [
              1,
              "#f0f921"
             ]
            ],
            "type": "histogram2d"
           }
          ],
          "histogram2dcontour": [
           {
            "colorbar": {
             "outlinewidth": 0,
             "ticks": ""
            },
            "colorscale": [
             [
              0,
              "#0d0887"
             ],
             [
              0.1111111111111111,
              "#46039f"
             ],
             [
              0.2222222222222222,
              "#7201a8"
             ],
             [
              0.3333333333333333,
              "#9c179e"
             ],
             [
              0.4444444444444444,
              "#bd3786"
             ],
             [
              0.5555555555555556,
              "#d8576b"
             ],
             [
              0.6666666666666666,
              "#ed7953"
             ],
             [
              0.7777777777777778,
              "#fb9f3a"
             ],
             [
              0.8888888888888888,
              "#fdca26"
             ],
             [
              1,
              "#f0f921"
             ]
            ],
            "type": "histogram2dcontour"
           }
          ],
          "mesh3d": [
           {
            "colorbar": {
             "outlinewidth": 0,
             "ticks": ""
            },
            "type": "mesh3d"
           }
          ],
          "parcoords": [
           {
            "line": {
             "colorbar": {
              "outlinewidth": 0,
              "ticks": ""
             }
            },
            "type": "parcoords"
           }
          ],
          "pie": [
           {
            "automargin": true,
            "type": "pie"
           }
          ],
          "scatter": [
           {
            "fillpattern": {
             "fillmode": "overlay",
             "size": 10,
             "solidity": 0.2
            },
            "type": "scatter"
           }
          ],
          "scatter3d": [
           {
            "line": {
             "colorbar": {
              "outlinewidth": 0,
              "ticks": ""
             }
            },
            "marker": {
             "colorbar": {
              "outlinewidth": 0,
              "ticks": ""
             }
            },
            "type": "scatter3d"
           }
          ],
          "scattercarpet": [
           {
            "marker": {
             "colorbar": {
              "outlinewidth": 0,
              "ticks": ""
             }
            },
            "type": "scattercarpet"
           }
          ],
          "scattergeo": [
           {
            "marker": {
             "colorbar": {
              "outlinewidth": 0,
              "ticks": ""
             }
            },
            "type": "scattergeo"
           }
          ],
          "scattergl": [
           {
            "marker": {
             "colorbar": {
              "outlinewidth": 0,
              "ticks": ""
             }
            },
            "type": "scattergl"
           }
          ],
          "scattermapbox": [
           {
            "marker": {
             "colorbar": {
              "outlinewidth": 0,
              "ticks": ""
             }
            },
            "type": "scattermapbox"
           }
          ],
          "scatterpolar": [
           {
            "marker": {
             "colorbar": {
              "outlinewidth": 0,
              "ticks": ""
             }
            },
            "type": "scatterpolar"
           }
          ],
          "scatterpolargl": [
           {
            "marker": {
             "colorbar": {
              "outlinewidth": 0,
              "ticks": ""
             }
            },
            "type": "scatterpolargl"
           }
          ],
          "scatterternary": [
           {
            "marker": {
             "colorbar": {
              "outlinewidth": 0,
              "ticks": ""
             }
            },
            "type": "scatterternary"
           }
          ],
          "surface": [
           {
            "colorbar": {
             "outlinewidth": 0,
             "ticks": ""
            },
            "colorscale": [
             [
              0,
              "#0d0887"
             ],
             [
              0.1111111111111111,
              "#46039f"
             ],
             [
              0.2222222222222222,
              "#7201a8"
             ],
             [
              0.3333333333333333,
              "#9c179e"
             ],
             [
              0.4444444444444444,
              "#bd3786"
             ],
             [
              0.5555555555555556,
              "#d8576b"
             ],
             [
              0.6666666666666666,
              "#ed7953"
             ],
             [
              0.7777777777777778,
              "#fb9f3a"
             ],
             [
              0.8888888888888888,
              "#fdca26"
             ],
             [
              1,
              "#f0f921"
             ]
            ],
            "type": "surface"
           }
          ],
          "table": [
           {
            "cells": {
             "fill": {
              "color": "#EBF0F8"
             },
             "line": {
              "color": "white"
             }
            },
            "header": {
             "fill": {
              "color": "#C8D4E3"
             },
             "line": {
              "color": "white"
             }
            },
            "type": "table"
           }
          ]
         },
         "layout": {
          "annotationdefaults": {
           "arrowcolor": "#2a3f5f",
           "arrowhead": 0,
           "arrowwidth": 1
          },
          "autotypenumbers": "strict",
          "coloraxis": {
           "colorbar": {
            "outlinewidth": 0,
            "ticks": ""
           }
          },
          "colorscale": {
           "diverging": [
            [
             0,
             "#8e0152"
            ],
            [
             0.1,
             "#c51b7d"
            ],
            [
             0.2,
             "#de77ae"
            ],
            [
             0.3,
             "#f1b6da"
            ],
            [
             0.4,
             "#fde0ef"
            ],
            [
             0.5,
             "#f7f7f7"
            ],
            [
             0.6,
             "#e6f5d0"
            ],
            [
             0.7,
             "#b8e186"
            ],
            [
             0.8,
             "#7fbc41"
            ],
            [
             0.9,
             "#4d9221"
            ],
            [
             1,
             "#276419"
            ]
           ],
           "sequential": [
            [
             0,
             "#0d0887"
            ],
            [
             0.1111111111111111,
             "#46039f"
            ],
            [
             0.2222222222222222,
             "#7201a8"
            ],
            [
             0.3333333333333333,
             "#9c179e"
            ],
            [
             0.4444444444444444,
             "#bd3786"
            ],
            [
             0.5555555555555556,
             "#d8576b"
            ],
            [
             0.6666666666666666,
             "#ed7953"
            ],
            [
             0.7777777777777778,
             "#fb9f3a"
            ],
            [
             0.8888888888888888,
             "#fdca26"
            ],
            [
             1,
             "#f0f921"
            ]
           ],
           "sequentialminus": [
            [
             0,
             "#0d0887"
            ],
            [
             0.1111111111111111,
             "#46039f"
            ],
            [
             0.2222222222222222,
             "#7201a8"
            ],
            [
             0.3333333333333333,
             "#9c179e"
            ],
            [
             0.4444444444444444,
             "#bd3786"
            ],
            [
             0.5555555555555556,
             "#d8576b"
            ],
            [
             0.6666666666666666,
             "#ed7953"
            ],
            [
             0.7777777777777778,
             "#fb9f3a"
            ],
            [
             0.8888888888888888,
             "#fdca26"
            ],
            [
             1,
             "#f0f921"
            ]
           ]
          },
          "colorway": [
           "#636efa",
           "#EF553B",
           "#00cc96",
           "#ab63fa",
           "#FFA15A",
           "#19d3f3",
           "#FF6692",
           "#B6E880",
           "#FF97FF",
           "#FECB52"
          ],
          "font": {
           "color": "#2a3f5f"
          },
          "geo": {
           "bgcolor": "white",
           "lakecolor": "white",
           "landcolor": "#E5ECF6",
           "showlakes": true,
           "showland": true,
           "subunitcolor": "white"
          },
          "hoverlabel": {
           "align": "left"
          },
          "hovermode": "closest",
          "mapbox": {
           "style": "light"
          },
          "paper_bgcolor": "white",
          "plot_bgcolor": "#E5ECF6",
          "polar": {
           "angularaxis": {
            "gridcolor": "white",
            "linecolor": "white",
            "ticks": ""
           },
           "bgcolor": "#E5ECF6",
           "radialaxis": {
            "gridcolor": "white",
            "linecolor": "white",
            "ticks": ""
           }
          },
          "scene": {
           "xaxis": {
            "backgroundcolor": "#E5ECF6",
            "gridcolor": "white",
            "gridwidth": 2,
            "linecolor": "white",
            "showbackground": true,
            "ticks": "",
            "zerolinecolor": "white"
           },
           "yaxis": {
            "backgroundcolor": "#E5ECF6",
            "gridcolor": "white",
            "gridwidth": 2,
            "linecolor": "white",
            "showbackground": true,
            "ticks": "",
            "zerolinecolor": "white"
           },
           "zaxis": {
            "backgroundcolor": "#E5ECF6",
            "gridcolor": "white",
            "gridwidth": 2,
            "linecolor": "white",
            "showbackground": true,
            "ticks": "",
            "zerolinecolor": "white"
           }
          },
          "shapedefaults": {
           "line": {
            "color": "#2a3f5f"
           }
          },
          "ternary": {
           "aaxis": {
            "gridcolor": "white",
            "linecolor": "white",
            "ticks": ""
           },
           "baxis": {
            "gridcolor": "white",
            "linecolor": "white",
            "ticks": ""
           },
           "bgcolor": "#E5ECF6",
           "caxis": {
            "gridcolor": "white",
            "linecolor": "white",
            "ticks": ""
           }
          },
          "title": {
           "x": 0.05
          },
          "xaxis": {
           "automargin": true,
           "gridcolor": "white",
           "linecolor": "white",
           "ticks": "",
           "title": {
            "standoff": 15
           },
           "zerolinecolor": "white",
           "zerolinewidth": 2
          },
          "yaxis": {
           "automargin": true,
           "gridcolor": "white",
           "linecolor": "white",
           "ticks": "",
           "title": {
            "standoff": 15
           },
           "zerolinecolor": "white",
           "zerolinewidth": 2
          }
         }
        }
       }
      }
     },
     "metadata": {},
     "output_type": "display_data"
    }
   ],
   "source": [
    "os_data=data['Os']\n",
    "os_counts = os_data.value_counts().reset_index()\n",
    "os_counts.columns = ['Os', 'Count']\n",
    "fig = pt.pie(os_counts, values='Count', names='Os')\n",
    "fig.show()\n",
    "# the windows is the most Os used in laptop "
   ]
  },
  {
   "cell_type": "code",
   "execution_count": 10,
   "metadata": {},
   "outputs": [
    {
     "data": {
      "application/vnd.plotly.v1+json": {
       "config": {
        "plotlyServerURL": "https://plot.ly"
       },
       "data": [
        {
         "domain": {
          "x": [
           0,
           1
          ],
          "y": [
           0,
           1
          ]
         },
         "hovertemplate": "Company=%{label}<br>Count=%{value}<extra></extra>",
         "labels": [
          "Dell",
          "Lenovo",
          "HP",
          "Asus",
          "Acer",
          "MSI",
          "Toshiba",
          "Apple",
          "Samsung",
          "Razer",
          "Mediacom",
          "Microsoft",
          "Xiaomi",
          "Vero",
          "Chuwi",
          "Google",
          "Fujitsu",
          "LG",
          "Huawei"
         ],
         "legendgroup": "",
         "name": "",
         "showlegend": true,
         "type": "pie",
         "values": [
          291,
          289,
          268,
          151,
          101,
          54,
          48,
          21,
          8,
          7,
          7,
          6,
          4,
          4,
          3,
          3,
          3,
          3,
          2
         ]
        }
       ],
       "layout": {
        "legend": {
         "tracegroupgap": 0
        },
        "margin": {
         "t": 60
        },
        "template": {
         "data": {
          "bar": [
           {
            "error_x": {
             "color": "#2a3f5f"
            },
            "error_y": {
             "color": "#2a3f5f"
            },
            "marker": {
             "line": {
              "color": "#E5ECF6",
              "width": 0.5
             },
             "pattern": {
              "fillmode": "overlay",
              "size": 10,
              "solidity": 0.2
             }
            },
            "type": "bar"
           }
          ],
          "barpolar": [
           {
            "marker": {
             "line": {
              "color": "#E5ECF6",
              "width": 0.5
             },
             "pattern": {
              "fillmode": "overlay",
              "size": 10,
              "solidity": 0.2
             }
            },
            "type": "barpolar"
           }
          ],
          "carpet": [
           {
            "aaxis": {
             "endlinecolor": "#2a3f5f",
             "gridcolor": "white",
             "linecolor": "white",
             "minorgridcolor": "white",
             "startlinecolor": "#2a3f5f"
            },
            "baxis": {
             "endlinecolor": "#2a3f5f",
             "gridcolor": "white",
             "linecolor": "white",
             "minorgridcolor": "white",
             "startlinecolor": "#2a3f5f"
            },
            "type": "carpet"
           }
          ],
          "choropleth": [
           {
            "colorbar": {
             "outlinewidth": 0,
             "ticks": ""
            },
            "type": "choropleth"
           }
          ],
          "contour": [
           {
            "colorbar": {
             "outlinewidth": 0,
             "ticks": ""
            },
            "colorscale": [
             [
              0,
              "#0d0887"
             ],
             [
              0.1111111111111111,
              "#46039f"
             ],
             [
              0.2222222222222222,
              "#7201a8"
             ],
             [
              0.3333333333333333,
              "#9c179e"
             ],
             [
              0.4444444444444444,
              "#bd3786"
             ],
             [
              0.5555555555555556,
              "#d8576b"
             ],
             [
              0.6666666666666666,
              "#ed7953"
             ],
             [
              0.7777777777777778,
              "#fb9f3a"
             ],
             [
              0.8888888888888888,
              "#fdca26"
             ],
             [
              1,
              "#f0f921"
             ]
            ],
            "type": "contour"
           }
          ],
          "contourcarpet": [
           {
            "colorbar": {
             "outlinewidth": 0,
             "ticks": ""
            },
            "type": "contourcarpet"
           }
          ],
          "heatmap": [
           {
            "colorbar": {
             "outlinewidth": 0,
             "ticks": ""
            },
            "colorscale": [
             [
              0,
              "#0d0887"
             ],
             [
              0.1111111111111111,
              "#46039f"
             ],
             [
              0.2222222222222222,
              "#7201a8"
             ],
             [
              0.3333333333333333,
              "#9c179e"
             ],
             [
              0.4444444444444444,
              "#bd3786"
             ],
             [
              0.5555555555555556,
              "#d8576b"
             ],
             [
              0.6666666666666666,
              "#ed7953"
             ],
             [
              0.7777777777777778,
              "#fb9f3a"
             ],
             [
              0.8888888888888888,
              "#fdca26"
             ],
             [
              1,
              "#f0f921"
             ]
            ],
            "type": "heatmap"
           }
          ],
          "heatmapgl": [
           {
            "colorbar": {
             "outlinewidth": 0,
             "ticks": ""
            },
            "colorscale": [
             [
              0,
              "#0d0887"
             ],
             [
              0.1111111111111111,
              "#46039f"
             ],
             [
              0.2222222222222222,
              "#7201a8"
             ],
             [
              0.3333333333333333,
              "#9c179e"
             ],
             [
              0.4444444444444444,
              "#bd3786"
             ],
             [
              0.5555555555555556,
              "#d8576b"
             ],
             [
              0.6666666666666666,
              "#ed7953"
             ],
             [
              0.7777777777777778,
              "#fb9f3a"
             ],
             [
              0.8888888888888888,
              "#fdca26"
             ],
             [
              1,
              "#f0f921"
             ]
            ],
            "type": "heatmapgl"
           }
          ],
          "histogram": [
           {
            "marker": {
             "pattern": {
              "fillmode": "overlay",
              "size": 10,
              "solidity": 0.2
             }
            },
            "type": "histogram"
           }
          ],
          "histogram2d": [
           {
            "colorbar": {
             "outlinewidth": 0,
             "ticks": ""
            },
            "colorscale": [
             [
              0,
              "#0d0887"
             ],
             [
              0.1111111111111111,
              "#46039f"
             ],
             [
              0.2222222222222222,
              "#7201a8"
             ],
             [
              0.3333333333333333,
              "#9c179e"
             ],
             [
              0.4444444444444444,
              "#bd3786"
             ],
             [
              0.5555555555555556,
              "#d8576b"
             ],
             [
              0.6666666666666666,
              "#ed7953"
             ],
             [
              0.7777777777777778,
              "#fb9f3a"
             ],
             [
              0.8888888888888888,
              "#fdca26"
             ],
             [
              1,
              "#f0f921"
             ]
            ],
            "type": "histogram2d"
           }
          ],
          "histogram2dcontour": [
           {
            "colorbar": {
             "outlinewidth": 0,
             "ticks": ""
            },
            "colorscale": [
             [
              0,
              "#0d0887"
             ],
             [
              0.1111111111111111,
              "#46039f"
             ],
             [
              0.2222222222222222,
              "#7201a8"
             ],
             [
              0.3333333333333333,
              "#9c179e"
             ],
             [
              0.4444444444444444,
              "#bd3786"
             ],
             [
              0.5555555555555556,
              "#d8576b"
             ],
             [
              0.6666666666666666,
              "#ed7953"
             ],
             [
              0.7777777777777778,
              "#fb9f3a"
             ],
             [
              0.8888888888888888,
              "#fdca26"
             ],
             [
              1,
              "#f0f921"
             ]
            ],
            "type": "histogram2dcontour"
           }
          ],
          "mesh3d": [
           {
            "colorbar": {
             "outlinewidth": 0,
             "ticks": ""
            },
            "type": "mesh3d"
           }
          ],
          "parcoords": [
           {
            "line": {
             "colorbar": {
              "outlinewidth": 0,
              "ticks": ""
             }
            },
            "type": "parcoords"
           }
          ],
          "pie": [
           {
            "automargin": true,
            "type": "pie"
           }
          ],
          "scatter": [
           {
            "fillpattern": {
             "fillmode": "overlay",
             "size": 10,
             "solidity": 0.2
            },
            "type": "scatter"
           }
          ],
          "scatter3d": [
           {
            "line": {
             "colorbar": {
              "outlinewidth": 0,
              "ticks": ""
             }
            },
            "marker": {
             "colorbar": {
              "outlinewidth": 0,
              "ticks": ""
             }
            },
            "type": "scatter3d"
           }
          ],
          "scattercarpet": [
           {
            "marker": {
             "colorbar": {
              "outlinewidth": 0,
              "ticks": ""
             }
            },
            "type": "scattercarpet"
           }
          ],
          "scattergeo": [
           {
            "marker": {
             "colorbar": {
              "outlinewidth": 0,
              "ticks": ""
             }
            },
            "type": "scattergeo"
           }
          ],
          "scattergl": [
           {
            "marker": {
             "colorbar": {
              "outlinewidth": 0,
              "ticks": ""
             }
            },
            "type": "scattergl"
           }
          ],
          "scattermapbox": [
           {
            "marker": {
             "colorbar": {
              "outlinewidth": 0,
              "ticks": ""
             }
            },
            "type": "scattermapbox"
           }
          ],
          "scatterpolar": [
           {
            "marker": {
             "colorbar": {
              "outlinewidth": 0,
              "ticks": ""
             }
            },
            "type": "scatterpolar"
           }
          ],
          "scatterpolargl": [
           {
            "marker": {
             "colorbar": {
              "outlinewidth": 0,
              "ticks": ""
             }
            },
            "type": "scatterpolargl"
           }
          ],
          "scatterternary": [
           {
            "marker": {
             "colorbar": {
              "outlinewidth": 0,
              "ticks": ""
             }
            },
            "type": "scatterternary"
           }
          ],
          "surface": [
           {
            "colorbar": {
             "outlinewidth": 0,
             "ticks": ""
            },
            "colorscale": [
             [
              0,
              "#0d0887"
             ],
             [
              0.1111111111111111,
              "#46039f"
             ],
             [
              0.2222222222222222,
              "#7201a8"
             ],
             [
              0.3333333333333333,
              "#9c179e"
             ],
             [
              0.4444444444444444,
              "#bd3786"
             ],
             [
              0.5555555555555556,
              "#d8576b"
             ],
             [
              0.6666666666666666,
              "#ed7953"
             ],
             [
              0.7777777777777778,
              "#fb9f3a"
             ],
             [
              0.8888888888888888,
              "#fdca26"
             ],
             [
              1,
              "#f0f921"
             ]
            ],
            "type": "surface"
           }
          ],
          "table": [
           {
            "cells": {
             "fill": {
              "color": "#EBF0F8"
             },
             "line": {
              "color": "white"
             }
            },
            "header": {
             "fill": {
              "color": "#C8D4E3"
             },
             "line": {
              "color": "white"
             }
            },
            "type": "table"
           }
          ]
         },
         "layout": {
          "annotationdefaults": {
           "arrowcolor": "#2a3f5f",
           "arrowhead": 0,
           "arrowwidth": 1
          },
          "autotypenumbers": "strict",
          "coloraxis": {
           "colorbar": {
            "outlinewidth": 0,
            "ticks": ""
           }
          },
          "colorscale": {
           "diverging": [
            [
             0,
             "#8e0152"
            ],
            [
             0.1,
             "#c51b7d"
            ],
            [
             0.2,
             "#de77ae"
            ],
            [
             0.3,
             "#f1b6da"
            ],
            [
             0.4,
             "#fde0ef"
            ],
            [
             0.5,
             "#f7f7f7"
            ],
            [
             0.6,
             "#e6f5d0"
            ],
            [
             0.7,
             "#b8e186"
            ],
            [
             0.8,
             "#7fbc41"
            ],
            [
             0.9,
             "#4d9221"
            ],
            [
             1,
             "#276419"
            ]
           ],
           "sequential": [
            [
             0,
             "#0d0887"
            ],
            [
             0.1111111111111111,
             "#46039f"
            ],
            [
             0.2222222222222222,
             "#7201a8"
            ],
            [
             0.3333333333333333,
             "#9c179e"
            ],
            [
             0.4444444444444444,
             "#bd3786"
            ],
            [
             0.5555555555555556,
             "#d8576b"
            ],
            [
             0.6666666666666666,
             "#ed7953"
            ],
            [
             0.7777777777777778,
             "#fb9f3a"
            ],
            [
             0.8888888888888888,
             "#fdca26"
            ],
            [
             1,
             "#f0f921"
            ]
           ],
           "sequentialminus": [
            [
             0,
             "#0d0887"
            ],
            [
             0.1111111111111111,
             "#46039f"
            ],
            [
             0.2222222222222222,
             "#7201a8"
            ],
            [
             0.3333333333333333,
             "#9c179e"
            ],
            [
             0.4444444444444444,
             "#bd3786"
            ],
            [
             0.5555555555555556,
             "#d8576b"
            ],
            [
             0.6666666666666666,
             "#ed7953"
            ],
            [
             0.7777777777777778,
             "#fb9f3a"
            ],
            [
             0.8888888888888888,
             "#fdca26"
            ],
            [
             1,
             "#f0f921"
            ]
           ]
          },
          "colorway": [
           "#636efa",
           "#EF553B",
           "#00cc96",
           "#ab63fa",
           "#FFA15A",
           "#19d3f3",
           "#FF6692",
           "#B6E880",
           "#FF97FF",
           "#FECB52"
          ],
          "font": {
           "color": "#2a3f5f"
          },
          "geo": {
           "bgcolor": "white",
           "lakecolor": "white",
           "landcolor": "#E5ECF6",
           "showlakes": true,
           "showland": true,
           "subunitcolor": "white"
          },
          "hoverlabel": {
           "align": "left"
          },
          "hovermode": "closest",
          "mapbox": {
           "style": "light"
          },
          "paper_bgcolor": "white",
          "plot_bgcolor": "#E5ECF6",
          "polar": {
           "angularaxis": {
            "gridcolor": "white",
            "linecolor": "white",
            "ticks": ""
           },
           "bgcolor": "#E5ECF6",
           "radialaxis": {
            "gridcolor": "white",
            "linecolor": "white",
            "ticks": ""
           }
          },
          "scene": {
           "xaxis": {
            "backgroundcolor": "#E5ECF6",
            "gridcolor": "white",
            "gridwidth": 2,
            "linecolor": "white",
            "showbackground": true,
            "ticks": "",
            "zerolinecolor": "white"
           },
           "yaxis": {
            "backgroundcolor": "#E5ECF6",
            "gridcolor": "white",
            "gridwidth": 2,
            "linecolor": "white",
            "showbackground": true,
            "ticks": "",
            "zerolinecolor": "white"
           },
           "zaxis": {
            "backgroundcolor": "#E5ECF6",
            "gridcolor": "white",
            "gridwidth": 2,
            "linecolor": "white",
            "showbackground": true,
            "ticks": "",
            "zerolinecolor": "white"
           }
          },
          "shapedefaults": {
           "line": {
            "color": "#2a3f5f"
           }
          },
          "ternary": {
           "aaxis": {
            "gridcolor": "white",
            "linecolor": "white",
            "ticks": ""
           },
           "baxis": {
            "gridcolor": "white",
            "linecolor": "white",
            "ticks": ""
           },
           "bgcolor": "#E5ECF6",
           "caxis": {
            "gridcolor": "white",
            "linecolor": "white",
            "ticks": ""
           }
          },
          "title": {
           "x": 0.05
          },
          "xaxis": {
           "automargin": true,
           "gridcolor": "white",
           "linecolor": "white",
           "ticks": "",
           "title": {
            "standoff": 15
           },
           "zerolinecolor": "white",
           "zerolinewidth": 2
          },
          "yaxis": {
           "automargin": true,
           "gridcolor": "white",
           "linecolor": "white",
           "ticks": "",
           "title": {
            "standoff": 15
           },
           "zerolinecolor": "white",
           "zerolinewidth": 2
          }
         }
        }
       }
      }
     },
     "metadata": {},
     "output_type": "display_data"
    }
   ],
   "source": [
    "company_data=data['Company']\n",
    "company_counts = company_data.value_counts().reset_index()\n",
    "company_counts.columns = ['Company', 'Count']\n",
    "fig = pt.pie(company_counts, values='Count', names='Company')\n",
    "fig.show()\n",
    "#most company names are dell , lenovo , HP"
   ]
  },
  {
   "cell_type": "code",
   "execution_count": 11,
   "metadata": {},
   "outputs": [
    {
     "data": {
      "application/vnd.plotly.v1+json": {
       "config": {
        "plotlyServerURL": "https://plot.ly"
       },
       "data": [
        {
         "domain": {
          "x": [
           0,
           1
          ],
          "y": [
           0,
           1
          ]
         },
         "hovertemplate": "TypeName=%{label}<br>Count=%{value}<extra></extra>",
         "labels": [
          "Notebook",
          "Gaming",
          "Ultrabook",
          "2 in 1 Convertible",
          "Workstation",
          "Netbook"
         ],
         "legendgroup": "",
         "name": "",
         "showlegend": true,
         "type": "pie",
         "values": [
          706,
          205,
          194,
          116,
          29,
          23
         ]
        }
       ],
       "layout": {
        "legend": {
         "tracegroupgap": 0
        },
        "margin": {
         "t": 60
        },
        "template": {
         "data": {
          "bar": [
           {
            "error_x": {
             "color": "#2a3f5f"
            },
            "error_y": {
             "color": "#2a3f5f"
            },
            "marker": {
             "line": {
              "color": "#E5ECF6",
              "width": 0.5
             },
             "pattern": {
              "fillmode": "overlay",
              "size": 10,
              "solidity": 0.2
             }
            },
            "type": "bar"
           }
          ],
          "barpolar": [
           {
            "marker": {
             "line": {
              "color": "#E5ECF6",
              "width": 0.5
             },
             "pattern": {
              "fillmode": "overlay",
              "size": 10,
              "solidity": 0.2
             }
            },
            "type": "barpolar"
           }
          ],
          "carpet": [
           {
            "aaxis": {
             "endlinecolor": "#2a3f5f",
             "gridcolor": "white",
             "linecolor": "white",
             "minorgridcolor": "white",
             "startlinecolor": "#2a3f5f"
            },
            "baxis": {
             "endlinecolor": "#2a3f5f",
             "gridcolor": "white",
             "linecolor": "white",
             "minorgridcolor": "white",
             "startlinecolor": "#2a3f5f"
            },
            "type": "carpet"
           }
          ],
          "choropleth": [
           {
            "colorbar": {
             "outlinewidth": 0,
             "ticks": ""
            },
            "type": "choropleth"
           }
          ],
          "contour": [
           {
            "colorbar": {
             "outlinewidth": 0,
             "ticks": ""
            },
            "colorscale": [
             [
              0,
              "#0d0887"
             ],
             [
              0.1111111111111111,
              "#46039f"
             ],
             [
              0.2222222222222222,
              "#7201a8"
             ],
             [
              0.3333333333333333,
              "#9c179e"
             ],
             [
              0.4444444444444444,
              "#bd3786"
             ],
             [
              0.5555555555555556,
              "#d8576b"
             ],
             [
              0.6666666666666666,
              "#ed7953"
             ],
             [
              0.7777777777777778,
              "#fb9f3a"
             ],
             [
              0.8888888888888888,
              "#fdca26"
             ],
             [
              1,
              "#f0f921"
             ]
            ],
            "type": "contour"
           }
          ],
          "contourcarpet": [
           {
            "colorbar": {
             "outlinewidth": 0,
             "ticks": ""
            },
            "type": "contourcarpet"
           }
          ],
          "heatmap": [
           {
            "colorbar": {
             "outlinewidth": 0,
             "ticks": ""
            },
            "colorscale": [
             [
              0,
              "#0d0887"
             ],
             [
              0.1111111111111111,
              "#46039f"
             ],
             [
              0.2222222222222222,
              "#7201a8"
             ],
             [
              0.3333333333333333,
              "#9c179e"
             ],
             [
              0.4444444444444444,
              "#bd3786"
             ],
             [
              0.5555555555555556,
              "#d8576b"
             ],
             [
              0.6666666666666666,
              "#ed7953"
             ],
             [
              0.7777777777777778,
              "#fb9f3a"
             ],
             [
              0.8888888888888888,
              "#fdca26"
             ],
             [
              1,
              "#f0f921"
             ]
            ],
            "type": "heatmap"
           }
          ],
          "heatmapgl": [
           {
            "colorbar": {
             "outlinewidth": 0,
             "ticks": ""
            },
            "colorscale": [
             [
              0,
              "#0d0887"
             ],
             [
              0.1111111111111111,
              "#46039f"
             ],
             [
              0.2222222222222222,
              "#7201a8"
             ],
             [
              0.3333333333333333,
              "#9c179e"
             ],
             [
              0.4444444444444444,
              "#bd3786"
             ],
             [
              0.5555555555555556,
              "#d8576b"
             ],
             [
              0.6666666666666666,
              "#ed7953"
             ],
             [
              0.7777777777777778,
              "#fb9f3a"
             ],
             [
              0.8888888888888888,
              "#fdca26"
             ],
             [
              1,
              "#f0f921"
             ]
            ],
            "type": "heatmapgl"
           }
          ],
          "histogram": [
           {
            "marker": {
             "pattern": {
              "fillmode": "overlay",
              "size": 10,
              "solidity": 0.2
             }
            },
            "type": "histogram"
           }
          ],
          "histogram2d": [
           {
            "colorbar": {
             "outlinewidth": 0,
             "ticks": ""
            },
            "colorscale": [
             [
              0,
              "#0d0887"
             ],
             [
              0.1111111111111111,
              "#46039f"
             ],
             [
              0.2222222222222222,
              "#7201a8"
             ],
             [
              0.3333333333333333,
              "#9c179e"
             ],
             [
              0.4444444444444444,
              "#bd3786"
             ],
             [
              0.5555555555555556,
              "#d8576b"
             ],
             [
              0.6666666666666666,
              "#ed7953"
             ],
             [
              0.7777777777777778,
              "#fb9f3a"
             ],
             [
              0.8888888888888888,
              "#fdca26"
             ],
             [
              1,
              "#f0f921"
             ]
            ],
            "type": "histogram2d"
           }
          ],
          "histogram2dcontour": [
           {
            "colorbar": {
             "outlinewidth": 0,
             "ticks": ""
            },
            "colorscale": [
             [
              0,
              "#0d0887"
             ],
             [
              0.1111111111111111,
              "#46039f"
             ],
             [
              0.2222222222222222,
              "#7201a8"
             ],
             [
              0.3333333333333333,
              "#9c179e"
             ],
             [
              0.4444444444444444,
              "#bd3786"
             ],
             [
              0.5555555555555556,
              "#d8576b"
             ],
             [
              0.6666666666666666,
              "#ed7953"
             ],
             [
              0.7777777777777778,
              "#fb9f3a"
             ],
             [
              0.8888888888888888,
              "#fdca26"
             ],
             [
              1,
              "#f0f921"
             ]
            ],
            "type": "histogram2dcontour"
           }
          ],
          "mesh3d": [
           {
            "colorbar": {
             "outlinewidth": 0,
             "ticks": ""
            },
            "type": "mesh3d"
           }
          ],
          "parcoords": [
           {
            "line": {
             "colorbar": {
              "outlinewidth": 0,
              "ticks": ""
             }
            },
            "type": "parcoords"
           }
          ],
          "pie": [
           {
            "automargin": true,
            "type": "pie"
           }
          ],
          "scatter": [
           {
            "fillpattern": {
             "fillmode": "overlay",
             "size": 10,
             "solidity": 0.2
            },
            "type": "scatter"
           }
          ],
          "scatter3d": [
           {
            "line": {
             "colorbar": {
              "outlinewidth": 0,
              "ticks": ""
             }
            },
            "marker": {
             "colorbar": {
              "outlinewidth": 0,
              "ticks": ""
             }
            },
            "type": "scatter3d"
           }
          ],
          "scattercarpet": [
           {
            "marker": {
             "colorbar": {
              "outlinewidth": 0,
              "ticks": ""
             }
            },
            "type": "scattercarpet"
           }
          ],
          "scattergeo": [
           {
            "marker": {
             "colorbar": {
              "outlinewidth": 0,
              "ticks": ""
             }
            },
            "type": "scattergeo"
           }
          ],
          "scattergl": [
           {
            "marker": {
             "colorbar": {
              "outlinewidth": 0,
              "ticks": ""
             }
            },
            "type": "scattergl"
           }
          ],
          "scattermapbox": [
           {
            "marker": {
             "colorbar": {
              "outlinewidth": 0,
              "ticks": ""
             }
            },
            "type": "scattermapbox"
           }
          ],
          "scatterpolar": [
           {
            "marker": {
             "colorbar": {
              "outlinewidth": 0,
              "ticks": ""
             }
            },
            "type": "scatterpolar"
           }
          ],
          "scatterpolargl": [
           {
            "marker": {
             "colorbar": {
              "outlinewidth": 0,
              "ticks": ""
             }
            },
            "type": "scatterpolargl"
           }
          ],
          "scatterternary": [
           {
            "marker": {
             "colorbar": {
              "outlinewidth": 0,
              "ticks": ""
             }
            },
            "type": "scatterternary"
           }
          ],
          "surface": [
           {
            "colorbar": {
             "outlinewidth": 0,
             "ticks": ""
            },
            "colorscale": [
             [
              0,
              "#0d0887"
             ],
             [
              0.1111111111111111,
              "#46039f"
             ],
             [
              0.2222222222222222,
              "#7201a8"
             ],
             [
              0.3333333333333333,
              "#9c179e"
             ],
             [
              0.4444444444444444,
              "#bd3786"
             ],
             [
              0.5555555555555556,
              "#d8576b"
             ],
             [
              0.6666666666666666,
              "#ed7953"
             ],
             [
              0.7777777777777778,
              "#fb9f3a"
             ],
             [
              0.8888888888888888,
              "#fdca26"
             ],
             [
              1,
              "#f0f921"
             ]
            ],
            "type": "surface"
           }
          ],
          "table": [
           {
            "cells": {
             "fill": {
              "color": "#EBF0F8"
             },
             "line": {
              "color": "white"
             }
            },
            "header": {
             "fill": {
              "color": "#C8D4E3"
             },
             "line": {
              "color": "white"
             }
            },
            "type": "table"
           }
          ]
         },
         "layout": {
          "annotationdefaults": {
           "arrowcolor": "#2a3f5f",
           "arrowhead": 0,
           "arrowwidth": 1
          },
          "autotypenumbers": "strict",
          "coloraxis": {
           "colorbar": {
            "outlinewidth": 0,
            "ticks": ""
           }
          },
          "colorscale": {
           "diverging": [
            [
             0,
             "#8e0152"
            ],
            [
             0.1,
             "#c51b7d"
            ],
            [
             0.2,
             "#de77ae"
            ],
            [
             0.3,
             "#f1b6da"
            ],
            [
             0.4,
             "#fde0ef"
            ],
            [
             0.5,
             "#f7f7f7"
            ],
            [
             0.6,
             "#e6f5d0"
            ],
            [
             0.7,
             "#b8e186"
            ],
            [
             0.8,
             "#7fbc41"
            ],
            [
             0.9,
             "#4d9221"
            ],
            [
             1,
             "#276419"
            ]
           ],
           "sequential": [
            [
             0,
             "#0d0887"
            ],
            [
             0.1111111111111111,
             "#46039f"
            ],
            [
             0.2222222222222222,
             "#7201a8"
            ],
            [
             0.3333333333333333,
             "#9c179e"
            ],
            [
             0.4444444444444444,
             "#bd3786"
            ],
            [
             0.5555555555555556,
             "#d8576b"
            ],
            [
             0.6666666666666666,
             "#ed7953"
            ],
            [
             0.7777777777777778,
             "#fb9f3a"
            ],
            [
             0.8888888888888888,
             "#fdca26"
            ],
            [
             1,
             "#f0f921"
            ]
           ],
           "sequentialminus": [
            [
             0,
             "#0d0887"
            ],
            [
             0.1111111111111111,
             "#46039f"
            ],
            [
             0.2222222222222222,
             "#7201a8"
            ],
            [
             0.3333333333333333,
             "#9c179e"
            ],
            [
             0.4444444444444444,
             "#bd3786"
            ],
            [
             0.5555555555555556,
             "#d8576b"
            ],
            [
             0.6666666666666666,
             "#ed7953"
            ],
            [
             0.7777777777777778,
             "#fb9f3a"
            ],
            [
             0.8888888888888888,
             "#fdca26"
            ],
            [
             1,
             "#f0f921"
            ]
           ]
          },
          "colorway": [
           "#636efa",
           "#EF553B",
           "#00cc96",
           "#ab63fa",
           "#FFA15A",
           "#19d3f3",
           "#FF6692",
           "#B6E880",
           "#FF97FF",
           "#FECB52"
          ],
          "font": {
           "color": "#2a3f5f"
          },
          "geo": {
           "bgcolor": "white",
           "lakecolor": "white",
           "landcolor": "#E5ECF6",
           "showlakes": true,
           "showland": true,
           "subunitcolor": "white"
          },
          "hoverlabel": {
           "align": "left"
          },
          "hovermode": "closest",
          "mapbox": {
           "style": "light"
          },
          "paper_bgcolor": "white",
          "plot_bgcolor": "#E5ECF6",
          "polar": {
           "angularaxis": {
            "gridcolor": "white",
            "linecolor": "white",
            "ticks": ""
           },
           "bgcolor": "#E5ECF6",
           "radialaxis": {
            "gridcolor": "white",
            "linecolor": "white",
            "ticks": ""
           }
          },
          "scene": {
           "xaxis": {
            "backgroundcolor": "#E5ECF6",
            "gridcolor": "white",
            "gridwidth": 2,
            "linecolor": "white",
            "showbackground": true,
            "ticks": "",
            "zerolinecolor": "white"
           },
           "yaxis": {
            "backgroundcolor": "#E5ECF6",
            "gridcolor": "white",
            "gridwidth": 2,
            "linecolor": "white",
            "showbackground": true,
            "ticks": "",
            "zerolinecolor": "white"
           },
           "zaxis": {
            "backgroundcolor": "#E5ECF6",
            "gridcolor": "white",
            "gridwidth": 2,
            "linecolor": "white",
            "showbackground": true,
            "ticks": "",
            "zerolinecolor": "white"
           }
          },
          "shapedefaults": {
           "line": {
            "color": "#2a3f5f"
           }
          },
          "ternary": {
           "aaxis": {
            "gridcolor": "white",
            "linecolor": "white",
            "ticks": ""
           },
           "baxis": {
            "gridcolor": "white",
            "linecolor": "white",
            "ticks": ""
           },
           "bgcolor": "#E5ECF6",
           "caxis": {
            "gridcolor": "white",
            "linecolor": "white",
            "ticks": ""
           }
          },
          "title": {
           "x": 0.05
          },
          "xaxis": {
           "automargin": true,
           "gridcolor": "white",
           "linecolor": "white",
           "ticks": "",
           "title": {
            "standoff": 15
           },
           "zerolinecolor": "white",
           "zerolinewidth": 2
          },
          "yaxis": {
           "automargin": true,
           "gridcolor": "white",
           "linecolor": "white",
           "ticks": "",
           "title": {
            "standoff": 15
           },
           "zerolinecolor": "white",
           "zerolinewidth": 2
          }
         }
        }
       }
      }
     },
     "metadata": {},
     "output_type": "display_data"
    }
   ],
   "source": [
    "TypeName_data=data['TypeName']\n",
    "TypeName_counts = TypeName_data.value_counts().reset_index()\n",
    "TypeName_counts.columns = ['TypeName', 'Count']\n",
    "fig = pt.pie(TypeName_counts, values='Count', names='TypeName',)\n",
    "fig.show()\n",
    "# the most type name is notebook"
   ]
  },
  {
   "cell_type": "code",
   "execution_count": 12,
   "metadata": {},
   "outputs": [
    {
     "data": {
      "application/vnd.plotly.v1+json": {
       "config": {
        "plotlyServerURL": "https://plot.ly"
       },
       "data": [
        {
         "domain": {
          "x": [
           0,
           1
          ],
          "y": [
           0,
           1
          ]
         },
         "hovertemplate": "Cpu_brand=%{label}<br>Count=%{value}<extra></extra>",
         "labels": [
          "Intel Core i7",
          "Intel Core i5",
          "Other Intel Processor",
          "Intel Core i3",
          "AMD Processor"
         ],
         "legendgroup": "",
         "name": "",
         "showlegend": true,
         "type": "pie",
         "values": [
          515,
          423,
          141,
          134,
          60
         ]
        }
       ],
       "layout": {
        "legend": {
         "tracegroupgap": 0
        },
        "margin": {
         "t": 60
        },
        "template": {
         "data": {
          "bar": [
           {
            "error_x": {
             "color": "#2a3f5f"
            },
            "error_y": {
             "color": "#2a3f5f"
            },
            "marker": {
             "line": {
              "color": "#E5ECF6",
              "width": 0.5
             },
             "pattern": {
              "fillmode": "overlay",
              "size": 10,
              "solidity": 0.2
             }
            },
            "type": "bar"
           }
          ],
          "barpolar": [
           {
            "marker": {
             "line": {
              "color": "#E5ECF6",
              "width": 0.5
             },
             "pattern": {
              "fillmode": "overlay",
              "size": 10,
              "solidity": 0.2
             }
            },
            "type": "barpolar"
           }
          ],
          "carpet": [
           {
            "aaxis": {
             "endlinecolor": "#2a3f5f",
             "gridcolor": "white",
             "linecolor": "white",
             "minorgridcolor": "white",
             "startlinecolor": "#2a3f5f"
            },
            "baxis": {
             "endlinecolor": "#2a3f5f",
             "gridcolor": "white",
             "linecolor": "white",
             "minorgridcolor": "white",
             "startlinecolor": "#2a3f5f"
            },
            "type": "carpet"
           }
          ],
          "choropleth": [
           {
            "colorbar": {
             "outlinewidth": 0,
             "ticks": ""
            },
            "type": "choropleth"
           }
          ],
          "contour": [
           {
            "colorbar": {
             "outlinewidth": 0,
             "ticks": ""
            },
            "colorscale": [
             [
              0,
              "#0d0887"
             ],
             [
              0.1111111111111111,
              "#46039f"
             ],
             [
              0.2222222222222222,
              "#7201a8"
             ],
             [
              0.3333333333333333,
              "#9c179e"
             ],
             [
              0.4444444444444444,
              "#bd3786"
             ],
             [
              0.5555555555555556,
              "#d8576b"
             ],
             [
              0.6666666666666666,
              "#ed7953"
             ],
             [
              0.7777777777777778,
              "#fb9f3a"
             ],
             [
              0.8888888888888888,
              "#fdca26"
             ],
             [
              1,
              "#f0f921"
             ]
            ],
            "type": "contour"
           }
          ],
          "contourcarpet": [
           {
            "colorbar": {
             "outlinewidth": 0,
             "ticks": ""
            },
            "type": "contourcarpet"
           }
          ],
          "heatmap": [
           {
            "colorbar": {
             "outlinewidth": 0,
             "ticks": ""
            },
            "colorscale": [
             [
              0,
              "#0d0887"
             ],
             [
              0.1111111111111111,
              "#46039f"
             ],
             [
              0.2222222222222222,
              "#7201a8"
             ],
             [
              0.3333333333333333,
              "#9c179e"
             ],
             [
              0.4444444444444444,
              "#bd3786"
             ],
             [
              0.5555555555555556,
              "#d8576b"
             ],
             [
              0.6666666666666666,
              "#ed7953"
             ],
             [
              0.7777777777777778,
              "#fb9f3a"
             ],
             [
              0.8888888888888888,
              "#fdca26"
             ],
             [
              1,
              "#f0f921"
             ]
            ],
            "type": "heatmap"
           }
          ],
          "heatmapgl": [
           {
            "colorbar": {
             "outlinewidth": 0,
             "ticks": ""
            },
            "colorscale": [
             [
              0,
              "#0d0887"
             ],
             [
              0.1111111111111111,
              "#46039f"
             ],
             [
              0.2222222222222222,
              "#7201a8"
             ],
             [
              0.3333333333333333,
              "#9c179e"
             ],
             [
              0.4444444444444444,
              "#bd3786"
             ],
             [
              0.5555555555555556,
              "#d8576b"
             ],
             [
              0.6666666666666666,
              "#ed7953"
             ],
             [
              0.7777777777777778,
              "#fb9f3a"
             ],
             [
              0.8888888888888888,
              "#fdca26"
             ],
             [
              1,
              "#f0f921"
             ]
            ],
            "type": "heatmapgl"
           }
          ],
          "histogram": [
           {
            "marker": {
             "pattern": {
              "fillmode": "overlay",
              "size": 10,
              "solidity": 0.2
             }
            },
            "type": "histogram"
           }
          ],
          "histogram2d": [
           {
            "colorbar": {
             "outlinewidth": 0,
             "ticks": ""
            },
            "colorscale": [
             [
              0,
              "#0d0887"
             ],
             [
              0.1111111111111111,
              "#46039f"
             ],
             [
              0.2222222222222222,
              "#7201a8"
             ],
             [
              0.3333333333333333,
              "#9c179e"
             ],
             [
              0.4444444444444444,
              "#bd3786"
             ],
             [
              0.5555555555555556,
              "#d8576b"
             ],
             [
              0.6666666666666666,
              "#ed7953"
             ],
             [
              0.7777777777777778,
              "#fb9f3a"
             ],
             [
              0.8888888888888888,
              "#fdca26"
             ],
             [
              1,
              "#f0f921"
             ]
            ],
            "type": "histogram2d"
           }
          ],
          "histogram2dcontour": [
           {
            "colorbar": {
             "outlinewidth": 0,
             "ticks": ""
            },
            "colorscale": [
             [
              0,
              "#0d0887"
             ],
             [
              0.1111111111111111,
              "#46039f"
             ],
             [
              0.2222222222222222,
              "#7201a8"
             ],
             [
              0.3333333333333333,
              "#9c179e"
             ],
             [
              0.4444444444444444,
              "#bd3786"
             ],
             [
              0.5555555555555556,
              "#d8576b"
             ],
             [
              0.6666666666666666,
              "#ed7953"
             ],
             [
              0.7777777777777778,
              "#fb9f3a"
             ],
             [
              0.8888888888888888,
              "#fdca26"
             ],
             [
              1,
              "#f0f921"
             ]
            ],
            "type": "histogram2dcontour"
           }
          ],
          "mesh3d": [
           {
            "colorbar": {
             "outlinewidth": 0,
             "ticks": ""
            },
            "type": "mesh3d"
           }
          ],
          "parcoords": [
           {
            "line": {
             "colorbar": {
              "outlinewidth": 0,
              "ticks": ""
             }
            },
            "type": "parcoords"
           }
          ],
          "pie": [
           {
            "automargin": true,
            "type": "pie"
           }
          ],
          "scatter": [
           {
            "fillpattern": {
             "fillmode": "overlay",
             "size": 10,
             "solidity": 0.2
            },
            "type": "scatter"
           }
          ],
          "scatter3d": [
           {
            "line": {
             "colorbar": {
              "outlinewidth": 0,
              "ticks": ""
             }
            },
            "marker": {
             "colorbar": {
              "outlinewidth": 0,
              "ticks": ""
             }
            },
            "type": "scatter3d"
           }
          ],
          "scattercarpet": [
           {
            "marker": {
             "colorbar": {
              "outlinewidth": 0,
              "ticks": ""
             }
            },
            "type": "scattercarpet"
           }
          ],
          "scattergeo": [
           {
            "marker": {
             "colorbar": {
              "outlinewidth": 0,
              "ticks": ""
             }
            },
            "type": "scattergeo"
           }
          ],
          "scattergl": [
           {
            "marker": {
             "colorbar": {
              "outlinewidth": 0,
              "ticks": ""
             }
            },
            "type": "scattergl"
           }
          ],
          "scattermapbox": [
           {
            "marker": {
             "colorbar": {
              "outlinewidth": 0,
              "ticks": ""
             }
            },
            "type": "scattermapbox"
           }
          ],
          "scatterpolar": [
           {
            "marker": {
             "colorbar": {
              "outlinewidth": 0,
              "ticks": ""
             }
            },
            "type": "scatterpolar"
           }
          ],
          "scatterpolargl": [
           {
            "marker": {
             "colorbar": {
              "outlinewidth": 0,
              "ticks": ""
             }
            },
            "type": "scatterpolargl"
           }
          ],
          "scatterternary": [
           {
            "marker": {
             "colorbar": {
              "outlinewidth": 0,
              "ticks": ""
             }
            },
            "type": "scatterternary"
           }
          ],
          "surface": [
           {
            "colorbar": {
             "outlinewidth": 0,
             "ticks": ""
            },
            "colorscale": [
             [
              0,
              "#0d0887"
             ],
             [
              0.1111111111111111,
              "#46039f"
             ],
             [
              0.2222222222222222,
              "#7201a8"
             ],
             [
              0.3333333333333333,
              "#9c179e"
             ],
             [
              0.4444444444444444,
              "#bd3786"
             ],
             [
              0.5555555555555556,
              "#d8576b"
             ],
             [
              0.6666666666666666,
              "#ed7953"
             ],
             [
              0.7777777777777778,
              "#fb9f3a"
             ],
             [
              0.8888888888888888,
              "#fdca26"
             ],
             [
              1,
              "#f0f921"
             ]
            ],
            "type": "surface"
           }
          ],
          "table": [
           {
            "cells": {
             "fill": {
              "color": "#EBF0F8"
             },
             "line": {
              "color": "white"
             }
            },
            "header": {
             "fill": {
              "color": "#C8D4E3"
             },
             "line": {
              "color": "white"
             }
            },
            "type": "table"
           }
          ]
         },
         "layout": {
          "annotationdefaults": {
           "arrowcolor": "#2a3f5f",
           "arrowhead": 0,
           "arrowwidth": 1
          },
          "autotypenumbers": "strict",
          "coloraxis": {
           "colorbar": {
            "outlinewidth": 0,
            "ticks": ""
           }
          },
          "colorscale": {
           "diverging": [
            [
             0,
             "#8e0152"
            ],
            [
             0.1,
             "#c51b7d"
            ],
            [
             0.2,
             "#de77ae"
            ],
            [
             0.3,
             "#f1b6da"
            ],
            [
             0.4,
             "#fde0ef"
            ],
            [
             0.5,
             "#f7f7f7"
            ],
            [
             0.6,
             "#e6f5d0"
            ],
            [
             0.7,
             "#b8e186"
            ],
            [
             0.8,
             "#7fbc41"
            ],
            [
             0.9,
             "#4d9221"
            ],
            [
             1,
             "#276419"
            ]
           ],
           "sequential": [
            [
             0,
             "#0d0887"
            ],
            [
             0.1111111111111111,
             "#46039f"
            ],
            [
             0.2222222222222222,
             "#7201a8"
            ],
            [
             0.3333333333333333,
             "#9c179e"
            ],
            [
             0.4444444444444444,
             "#bd3786"
            ],
            [
             0.5555555555555556,
             "#d8576b"
            ],
            [
             0.6666666666666666,
             "#ed7953"
            ],
            [
             0.7777777777777778,
             "#fb9f3a"
            ],
            [
             0.8888888888888888,
             "#fdca26"
            ],
            [
             1,
             "#f0f921"
            ]
           ],
           "sequentialminus": [
            [
             0,
             "#0d0887"
            ],
            [
             0.1111111111111111,
             "#46039f"
            ],
            [
             0.2222222222222222,
             "#7201a8"
            ],
            [
             0.3333333333333333,
             "#9c179e"
            ],
            [
             0.4444444444444444,
             "#bd3786"
            ],
            [
             0.5555555555555556,
             "#d8576b"
            ],
            [
             0.6666666666666666,
             "#ed7953"
            ],
            [
             0.7777777777777778,
             "#fb9f3a"
            ],
            [
             0.8888888888888888,
             "#fdca26"
            ],
            [
             1,
             "#f0f921"
            ]
           ]
          },
          "colorway": [
           "#636efa",
           "#EF553B",
           "#00cc96",
           "#ab63fa",
           "#FFA15A",
           "#19d3f3",
           "#FF6692",
           "#B6E880",
           "#FF97FF",
           "#FECB52"
          ],
          "font": {
           "color": "#2a3f5f"
          },
          "geo": {
           "bgcolor": "white",
           "lakecolor": "white",
           "landcolor": "#E5ECF6",
           "showlakes": true,
           "showland": true,
           "subunitcolor": "white"
          },
          "hoverlabel": {
           "align": "left"
          },
          "hovermode": "closest",
          "mapbox": {
           "style": "light"
          },
          "paper_bgcolor": "white",
          "plot_bgcolor": "#E5ECF6",
          "polar": {
           "angularaxis": {
            "gridcolor": "white",
            "linecolor": "white",
            "ticks": ""
           },
           "bgcolor": "#E5ECF6",
           "radialaxis": {
            "gridcolor": "white",
            "linecolor": "white",
            "ticks": ""
           }
          },
          "scene": {
           "xaxis": {
            "backgroundcolor": "#E5ECF6",
            "gridcolor": "white",
            "gridwidth": 2,
            "linecolor": "white",
            "showbackground": true,
            "ticks": "",
            "zerolinecolor": "white"
           },
           "yaxis": {
            "backgroundcolor": "#E5ECF6",
            "gridcolor": "white",
            "gridwidth": 2,
            "linecolor": "white",
            "showbackground": true,
            "ticks": "",
            "zerolinecolor": "white"
           },
           "zaxis": {
            "backgroundcolor": "#E5ECF6",
            "gridcolor": "white",
            "gridwidth": 2,
            "linecolor": "white",
            "showbackground": true,
            "ticks": "",
            "zerolinecolor": "white"
           }
          },
          "shapedefaults": {
           "line": {
            "color": "#2a3f5f"
           }
          },
          "ternary": {
           "aaxis": {
            "gridcolor": "white",
            "linecolor": "white",
            "ticks": ""
           },
           "baxis": {
            "gridcolor": "white",
            "linecolor": "white",
            "ticks": ""
           },
           "bgcolor": "#E5ECF6",
           "caxis": {
            "gridcolor": "white",
            "linecolor": "white",
            "ticks": ""
           }
          },
          "title": {
           "x": 0.05
          },
          "xaxis": {
           "automargin": true,
           "gridcolor": "white",
           "linecolor": "white",
           "ticks": "",
           "title": {
            "standoff": 15
           },
           "zerolinecolor": "white",
           "zerolinewidth": 2
          },
          "yaxis": {
           "automargin": true,
           "gridcolor": "white",
           "linecolor": "white",
           "ticks": "",
           "title": {
            "standoff": 15
           },
           "zerolinecolor": "white",
           "zerolinewidth": 2
          }
         }
        }
       }
      }
     },
     "metadata": {},
     "output_type": "display_data"
    }
   ],
   "source": [
    "Cpu_brand_data=data['Cpu_brand']\n",
    "Cpu_brand_counts = Cpu_brand_data.value_counts().reset_index()\n",
    "Cpu_brand_counts.columns = ['Cpu_brand', 'Count']\n",
    "fig = pt.pie(Cpu_brand_counts, values='Count', names='Cpu_brand',)\n",
    "fig.show()\n",
    "# the most repated cpu is intel core i7"
   ]
  },
  {
   "cell_type": "code",
   "execution_count": 13,
   "metadata": {},
   "outputs": [
    {
     "data": {
      "application/vnd.plotly.v1+json": {
       "config": {
        "plotlyServerURL": "https://plot.ly"
       },
       "data": [
        {
         "domain": {
          "x": [
           0,
           1
          ],
          "y": [
           0,
           1
          ]
         },
         "hovertemplate": "Gpu_brand=%{label}<br>Count=%{value}<extra></extra>",
         "labels": [
          "Intel",
          "Nvidia",
          "AMD"
         ],
         "legendgroup": "",
         "name": "",
         "showlegend": true,
         "type": "pie",
         "values": [
          703,
          396,
          174
         ]
        }
       ],
       "layout": {
        "legend": {
         "tracegroupgap": 0
        },
        "margin": {
         "t": 60
        },
        "template": {
         "data": {
          "bar": [
           {
            "error_x": {
             "color": "#2a3f5f"
            },
            "error_y": {
             "color": "#2a3f5f"
            },
            "marker": {
             "line": {
              "color": "#E5ECF6",
              "width": 0.5
             },
             "pattern": {
              "fillmode": "overlay",
              "size": 10,
              "solidity": 0.2
             }
            },
            "type": "bar"
           }
          ],
          "barpolar": [
           {
            "marker": {
             "line": {
              "color": "#E5ECF6",
              "width": 0.5
             },
             "pattern": {
              "fillmode": "overlay",
              "size": 10,
              "solidity": 0.2
             }
            },
            "type": "barpolar"
           }
          ],
          "carpet": [
           {
            "aaxis": {
             "endlinecolor": "#2a3f5f",
             "gridcolor": "white",
             "linecolor": "white",
             "minorgridcolor": "white",
             "startlinecolor": "#2a3f5f"
            },
            "baxis": {
             "endlinecolor": "#2a3f5f",
             "gridcolor": "white",
             "linecolor": "white",
             "minorgridcolor": "white",
             "startlinecolor": "#2a3f5f"
            },
            "type": "carpet"
           }
          ],
          "choropleth": [
           {
            "colorbar": {
             "outlinewidth": 0,
             "ticks": ""
            },
            "type": "choropleth"
           }
          ],
          "contour": [
           {
            "colorbar": {
             "outlinewidth": 0,
             "ticks": ""
            },
            "colorscale": [
             [
              0,
              "#0d0887"
             ],
             [
              0.1111111111111111,
              "#46039f"
             ],
             [
              0.2222222222222222,
              "#7201a8"
             ],
             [
              0.3333333333333333,
              "#9c179e"
             ],
             [
              0.4444444444444444,
              "#bd3786"
             ],
             [
              0.5555555555555556,
              "#d8576b"
             ],
             [
              0.6666666666666666,
              "#ed7953"
             ],
             [
              0.7777777777777778,
              "#fb9f3a"
             ],
             [
              0.8888888888888888,
              "#fdca26"
             ],
             [
              1,
              "#f0f921"
             ]
            ],
            "type": "contour"
           }
          ],
          "contourcarpet": [
           {
            "colorbar": {
             "outlinewidth": 0,
             "ticks": ""
            },
            "type": "contourcarpet"
           }
          ],
          "heatmap": [
           {
            "colorbar": {
             "outlinewidth": 0,
             "ticks": ""
            },
            "colorscale": [
             [
              0,
              "#0d0887"
             ],
             [
              0.1111111111111111,
              "#46039f"
             ],
             [
              0.2222222222222222,
              "#7201a8"
             ],
             [
              0.3333333333333333,
              "#9c179e"
             ],
             [
              0.4444444444444444,
              "#bd3786"
             ],
             [
              0.5555555555555556,
              "#d8576b"
             ],
             [
              0.6666666666666666,
              "#ed7953"
             ],
             [
              0.7777777777777778,
              "#fb9f3a"
             ],
             [
              0.8888888888888888,
              "#fdca26"
             ],
             [
              1,
              "#f0f921"
             ]
            ],
            "type": "heatmap"
           }
          ],
          "heatmapgl": [
           {
            "colorbar": {
             "outlinewidth": 0,
             "ticks": ""
            },
            "colorscale": [
             [
              0,
              "#0d0887"
             ],
             [
              0.1111111111111111,
              "#46039f"
             ],
             [
              0.2222222222222222,
              "#7201a8"
             ],
             [
              0.3333333333333333,
              "#9c179e"
             ],
             [
              0.4444444444444444,
              "#bd3786"
             ],
             [
              0.5555555555555556,
              "#d8576b"
             ],
             [
              0.6666666666666666,
              "#ed7953"
             ],
             [
              0.7777777777777778,
              "#fb9f3a"
             ],
             [
              0.8888888888888888,
              "#fdca26"
             ],
             [
              1,
              "#f0f921"
             ]
            ],
            "type": "heatmapgl"
           }
          ],
          "histogram": [
           {
            "marker": {
             "pattern": {
              "fillmode": "overlay",
              "size": 10,
              "solidity": 0.2
             }
            },
            "type": "histogram"
           }
          ],
          "histogram2d": [
           {
            "colorbar": {
             "outlinewidth": 0,
             "ticks": ""
            },
            "colorscale": [
             [
              0,
              "#0d0887"
             ],
             [
              0.1111111111111111,
              "#46039f"
             ],
             [
              0.2222222222222222,
              "#7201a8"
             ],
             [
              0.3333333333333333,
              "#9c179e"
             ],
             [
              0.4444444444444444,
              "#bd3786"
             ],
             [
              0.5555555555555556,
              "#d8576b"
             ],
             [
              0.6666666666666666,
              "#ed7953"
             ],
             [
              0.7777777777777778,
              "#fb9f3a"
             ],
             [
              0.8888888888888888,
              "#fdca26"
             ],
             [
              1,
              "#f0f921"
             ]
            ],
            "type": "histogram2d"
           }
          ],
          "histogram2dcontour": [
           {
            "colorbar": {
             "outlinewidth": 0,
             "ticks": ""
            },
            "colorscale": [
             [
              0,
              "#0d0887"
             ],
             [
              0.1111111111111111,
              "#46039f"
             ],
             [
              0.2222222222222222,
              "#7201a8"
             ],
             [
              0.3333333333333333,
              "#9c179e"
             ],
             [
              0.4444444444444444,
              "#bd3786"
             ],
             [
              0.5555555555555556,
              "#d8576b"
             ],
             [
              0.6666666666666666,
              "#ed7953"
             ],
             [
              0.7777777777777778,
              "#fb9f3a"
             ],
             [
              0.8888888888888888,
              "#fdca26"
             ],
             [
              1,
              "#f0f921"
             ]
            ],
            "type": "histogram2dcontour"
           }
          ],
          "mesh3d": [
           {
            "colorbar": {
             "outlinewidth": 0,
             "ticks": ""
            },
            "type": "mesh3d"
           }
          ],
          "parcoords": [
           {
            "line": {
             "colorbar": {
              "outlinewidth": 0,
              "ticks": ""
             }
            },
            "type": "parcoords"
           }
          ],
          "pie": [
           {
            "automargin": true,
            "type": "pie"
           }
          ],
          "scatter": [
           {
            "fillpattern": {
             "fillmode": "overlay",
             "size": 10,
             "solidity": 0.2
            },
            "type": "scatter"
           }
          ],
          "scatter3d": [
           {
            "line": {
             "colorbar": {
              "outlinewidth": 0,
              "ticks": ""
             }
            },
            "marker": {
             "colorbar": {
              "outlinewidth": 0,
              "ticks": ""
             }
            },
            "type": "scatter3d"
           }
          ],
          "scattercarpet": [
           {
            "marker": {
             "colorbar": {
              "outlinewidth": 0,
              "ticks": ""
             }
            },
            "type": "scattercarpet"
           }
          ],
          "scattergeo": [
           {
            "marker": {
             "colorbar": {
              "outlinewidth": 0,
              "ticks": ""
             }
            },
            "type": "scattergeo"
           }
          ],
          "scattergl": [
           {
            "marker": {
             "colorbar": {
              "outlinewidth": 0,
              "ticks": ""
             }
            },
            "type": "scattergl"
           }
          ],
          "scattermapbox": [
           {
            "marker": {
             "colorbar": {
              "outlinewidth": 0,
              "ticks": ""
             }
            },
            "type": "scattermapbox"
           }
          ],
          "scatterpolar": [
           {
            "marker": {
             "colorbar": {
              "outlinewidth": 0,
              "ticks": ""
             }
            },
            "type": "scatterpolar"
           }
          ],
          "scatterpolargl": [
           {
            "marker": {
             "colorbar": {
              "outlinewidth": 0,
              "ticks": ""
             }
            },
            "type": "scatterpolargl"
           }
          ],
          "scatterternary": [
           {
            "marker": {
             "colorbar": {
              "outlinewidth": 0,
              "ticks": ""
             }
            },
            "type": "scatterternary"
           }
          ],
          "surface": [
           {
            "colorbar": {
             "outlinewidth": 0,
             "ticks": ""
            },
            "colorscale": [
             [
              0,
              "#0d0887"
             ],
             [
              0.1111111111111111,
              "#46039f"
             ],
             [
              0.2222222222222222,
              "#7201a8"
             ],
             [
              0.3333333333333333,
              "#9c179e"
             ],
             [
              0.4444444444444444,
              "#bd3786"
             ],
             [
              0.5555555555555556,
              "#d8576b"
             ],
             [
              0.6666666666666666,
              "#ed7953"
             ],
             [
              0.7777777777777778,
              "#fb9f3a"
             ],
             [
              0.8888888888888888,
              "#fdca26"
             ],
             [
              1,
              "#f0f921"
             ]
            ],
            "type": "surface"
           }
          ],
          "table": [
           {
            "cells": {
             "fill": {
              "color": "#EBF0F8"
             },
             "line": {
              "color": "white"
             }
            },
            "header": {
             "fill": {
              "color": "#C8D4E3"
             },
             "line": {
              "color": "white"
             }
            },
            "type": "table"
           }
          ]
         },
         "layout": {
          "annotationdefaults": {
           "arrowcolor": "#2a3f5f",
           "arrowhead": 0,
           "arrowwidth": 1
          },
          "autotypenumbers": "strict",
          "coloraxis": {
           "colorbar": {
            "outlinewidth": 0,
            "ticks": ""
           }
          },
          "colorscale": {
           "diverging": [
            [
             0,
             "#8e0152"
            ],
            [
             0.1,
             "#c51b7d"
            ],
            [
             0.2,
             "#de77ae"
            ],
            [
             0.3,
             "#f1b6da"
            ],
            [
             0.4,
             "#fde0ef"
            ],
            [
             0.5,
             "#f7f7f7"
            ],
            [
             0.6,
             "#e6f5d0"
            ],
            [
             0.7,
             "#b8e186"
            ],
            [
             0.8,
             "#7fbc41"
            ],
            [
             0.9,
             "#4d9221"
            ],
            [
             1,
             "#276419"
            ]
           ],
           "sequential": [
            [
             0,
             "#0d0887"
            ],
            [
             0.1111111111111111,
             "#46039f"
            ],
            [
             0.2222222222222222,
             "#7201a8"
            ],
            [
             0.3333333333333333,
             "#9c179e"
            ],
            [
             0.4444444444444444,
             "#bd3786"
            ],
            [
             0.5555555555555556,
             "#d8576b"
            ],
            [
             0.6666666666666666,
             "#ed7953"
            ],
            [
             0.7777777777777778,
             "#fb9f3a"
            ],
            [
             0.8888888888888888,
             "#fdca26"
            ],
            [
             1,
             "#f0f921"
            ]
           ],
           "sequentialminus": [
            [
             0,
             "#0d0887"
            ],
            [
             0.1111111111111111,
             "#46039f"
            ],
            [
             0.2222222222222222,
             "#7201a8"
            ],
            [
             0.3333333333333333,
             "#9c179e"
            ],
            [
             0.4444444444444444,
             "#bd3786"
            ],
            [
             0.5555555555555556,
             "#d8576b"
            ],
            [
             0.6666666666666666,
             "#ed7953"
            ],
            [
             0.7777777777777778,
             "#fb9f3a"
            ],
            [
             0.8888888888888888,
             "#fdca26"
            ],
            [
             1,
             "#f0f921"
            ]
           ]
          },
          "colorway": [
           "#636efa",
           "#EF553B",
           "#00cc96",
           "#ab63fa",
           "#FFA15A",
           "#19d3f3",
           "#FF6692",
           "#B6E880",
           "#FF97FF",
           "#FECB52"
          ],
          "font": {
           "color": "#2a3f5f"
          },
          "geo": {
           "bgcolor": "white",
           "lakecolor": "white",
           "landcolor": "#E5ECF6",
           "showlakes": true,
           "showland": true,
           "subunitcolor": "white"
          },
          "hoverlabel": {
           "align": "left"
          },
          "hovermode": "closest",
          "mapbox": {
           "style": "light"
          },
          "paper_bgcolor": "white",
          "plot_bgcolor": "#E5ECF6",
          "polar": {
           "angularaxis": {
            "gridcolor": "white",
            "linecolor": "white",
            "ticks": ""
           },
           "bgcolor": "#E5ECF6",
           "radialaxis": {
            "gridcolor": "white",
            "linecolor": "white",
            "ticks": ""
           }
          },
          "scene": {
           "xaxis": {
            "backgroundcolor": "#E5ECF6",
            "gridcolor": "white",
            "gridwidth": 2,
            "linecolor": "white",
            "showbackground": true,
            "ticks": "",
            "zerolinecolor": "white"
           },
           "yaxis": {
            "backgroundcolor": "#E5ECF6",
            "gridcolor": "white",
            "gridwidth": 2,
            "linecolor": "white",
            "showbackground": true,
            "ticks": "",
            "zerolinecolor": "white"
           },
           "zaxis": {
            "backgroundcolor": "#E5ECF6",
            "gridcolor": "white",
            "gridwidth": 2,
            "linecolor": "white",
            "showbackground": true,
            "ticks": "",
            "zerolinecolor": "white"
           }
          },
          "shapedefaults": {
           "line": {
            "color": "#2a3f5f"
           }
          },
          "ternary": {
           "aaxis": {
            "gridcolor": "white",
            "linecolor": "white",
            "ticks": ""
           },
           "baxis": {
            "gridcolor": "white",
            "linecolor": "white",
            "ticks": ""
           },
           "bgcolor": "#E5ECF6",
           "caxis": {
            "gridcolor": "white",
            "linecolor": "white",
            "ticks": ""
           }
          },
          "title": {
           "x": 0.05
          },
          "xaxis": {
           "automargin": true,
           "gridcolor": "white",
           "linecolor": "white",
           "ticks": "",
           "title": {
            "standoff": 15
           },
           "zerolinecolor": "white",
           "zerolinewidth": 2
          },
          "yaxis": {
           "automargin": true,
           "gridcolor": "white",
           "linecolor": "white",
           "ticks": "",
           "title": {
            "standoff": 15
           },
           "zerolinecolor": "white",
           "zerolinewidth": 2
          }
         }
        }
       }
      }
     },
     "metadata": {},
     "output_type": "display_data"
    }
   ],
   "source": [
    "Gpu_brand_data=data['Gpu_brand']\n",
    "Gpu_brand_counts = Gpu_brand_data.value_counts().reset_index()\n",
    "Gpu_brand_counts.columns = ['Gpu_brand', 'Count']\n",
    "fig = pt.pie(Gpu_brand_counts, values='Count', names='Gpu_brand',)\n",
    "fig.show()\n",
    "# the intel gpu is the most freq"
   ]
  },
  {
   "cell_type": "code",
   "execution_count": 14,
   "metadata": {},
   "outputs": [
    {
     "data": {
      "application/vnd.plotly.v1+json": {
       "config": {
        "plotlyServerURL": "https://plot.ly"
       },
       "data": [
        {
         "alignmentgroup": "True",
         "bingroup": "x",
         "hovertemplate": "Ram=%{x}<br>count=%{y}<extra></extra>",
         "legendgroup": "",
         "marker": {
          "color": "#636efa",
          "pattern": {
           "shape": ""
          }
         },
         "name": "",
         "offsetgroup": "",
         "orientation": "v",
         "showlegend": false,
         "type": "histogram",
         "x": [
          8,
          8,
          8,
          16,
          8,
          4,
          16,
          8,
          16,
          8,
          4,
          4,
          16,
          4,
          8,
          8,
          8,
          16,
          8,
          8,
          2,
          8,
          4,
          8,
          8,
          4,
          8,
          8,
          8,
          8,
          4,
          2,
          4,
          16,
          8,
          4,
          4,
          8,
          4,
          8,
          4,
          16,
          8,
          4,
          12,
          8,
          4,
          8,
          4,
          4,
          4,
          8,
          4,
          8,
          4,
          8,
          4,
          4,
          16,
          4,
          16,
          8,
          8,
          8,
          8,
          16,
          4,
          4,
          4,
          12,
          4,
          8,
          8,
          8,
          8,
          8,
          8,
          8,
          4,
          8,
          8,
          8,
          8,
          4,
          4,
          16,
          8,
          8,
          16,
          8,
          8,
          8,
          16,
          8,
          8,
          8,
          8,
          4,
          6,
          12,
          8,
          4,
          8,
          8,
          8,
          6,
          4,
          8,
          16,
          8,
          16,
          8,
          8,
          4,
          8,
          8,
          8,
          8,
          4,
          8,
          6,
          16,
          8,
          16,
          4,
          4,
          8,
          4,
          16,
          8,
          8,
          4,
          8,
          4,
          8,
          8,
          4,
          8,
          4,
          4,
          4,
          8,
          8,
          4,
          4,
          8,
          8,
          4,
          16,
          4,
          16,
          8,
          4,
          16,
          4,
          6,
          4,
          8,
          8,
          4,
          4,
          4,
          8,
          16,
          4,
          16,
          4,
          8,
          8,
          4,
          8,
          6,
          4,
          4,
          8,
          8,
          4,
          32,
          8,
          8,
          16,
          8,
          16,
          8,
          8,
          16,
          16,
          8,
          8,
          8,
          16,
          4,
          8,
          8,
          8,
          8,
          32,
          8,
          16,
          8,
          16,
          4,
          8,
          16,
          16,
          16,
          6,
          8,
          8,
          8,
          8,
          16,
          4,
          8,
          8,
          8,
          8,
          8,
          8,
          16,
          8,
          8,
          8,
          8,
          16,
          8,
          16,
          8,
          8,
          8,
          4,
          4,
          16,
          8,
          8,
          16,
          4,
          4,
          32,
          8,
          8,
          8,
          8,
          8,
          8,
          8,
          8,
          16,
          4,
          8,
          8,
          16,
          4,
          8,
          4,
          8,
          8,
          16,
          16,
          8,
          8,
          4,
          4,
          4,
          8,
          8,
          8,
          4,
          8,
          8,
          8,
          16,
          8,
          16,
          8,
          12,
          8,
          8,
          4,
          8,
          6,
          4,
          8,
          6,
          8,
          12,
          8,
          8,
          16,
          8,
          2,
          8,
          8,
          8,
          8,
          8,
          8,
          16,
          6,
          16,
          4,
          16,
          6,
          8,
          8,
          4,
          16,
          8,
          8,
          4,
          8,
          16,
          16,
          8,
          2,
          8,
          16,
          4,
          8,
          4,
          8,
          4,
          8,
          8,
          8,
          4,
          6,
          8,
          8,
          32,
          8,
          8,
          8,
          4,
          8,
          8,
          8,
          8,
          4,
          8,
          4,
          12,
          8,
          16,
          8,
          16,
          2,
          16,
          4,
          8,
          16,
          8,
          8,
          8,
          16,
          8,
          4,
          8,
          8,
          8,
          4,
          8,
          6,
          8,
          8,
          8,
          8,
          8,
          8,
          8,
          12,
          4,
          16,
          4,
          8,
          4,
          4,
          4,
          4,
          8,
          8,
          4,
          8,
          8,
          16,
          8,
          4,
          8,
          8,
          16,
          8,
          16,
          12,
          8,
          8,
          4,
          8,
          8,
          8,
          16,
          4,
          16,
          8,
          8,
          16,
          8,
          16,
          8,
          4,
          2,
          8,
          8,
          4,
          8,
          8,
          4,
          4,
          8,
          8,
          8,
          16,
          6,
          8,
          8,
          16,
          8,
          8,
          8,
          12,
          4,
          4,
          8,
          4,
          16,
          16,
          8,
          4,
          16,
          24,
          4,
          8,
          4,
          8,
          4,
          8,
          8,
          4,
          8,
          8,
          16,
          8,
          16,
          8,
          8,
          8,
          4,
          8,
          4,
          8,
          8,
          4,
          4,
          8,
          8,
          8,
          4,
          4,
          8,
          12,
          12,
          8,
          8,
          8,
          8,
          12,
          8,
          8,
          8,
          8,
          8,
          8,
          4,
          4,
          4,
          4,
          8,
          16,
          16,
          16,
          16,
          8,
          32,
          8,
          8,
          24,
          8,
          8,
          8,
          8,
          8,
          4,
          8,
          8,
          4,
          4,
          8,
          8,
          4,
          8,
          8,
          8,
          4,
          8,
          16,
          16,
          2,
          4,
          24,
          8,
          16,
          8,
          8,
          8,
          4,
          8,
          8,
          4,
          8,
          4,
          8,
          16,
          8,
          8,
          4,
          8,
          8,
          8,
          4,
          12,
          8,
          8,
          4,
          8,
          8,
          4,
          4,
          4,
          4,
          4,
          8,
          4,
          8,
          16,
          8,
          8,
          4,
          4,
          6,
          6,
          4,
          4,
          4,
          16,
          8,
          8,
          8,
          4,
          8,
          4,
          4,
          8,
          8,
          6,
          8,
          4,
          4,
          16,
          32,
          16,
          8,
          4,
          8,
          4,
          16,
          4,
          16,
          16,
          12,
          12,
          8,
          8,
          12,
          4,
          16,
          4,
          8,
          8,
          8,
          8,
          8,
          8,
          4,
          4,
          16,
          4,
          16,
          8,
          6,
          8,
          4,
          32,
          16,
          4,
          4,
          4,
          8,
          4,
          8,
          16,
          4,
          8,
          8,
          4,
          8,
          4,
          8,
          2,
          4,
          6,
          8,
          16,
          16,
          4,
          4,
          8,
          8,
          8,
          2,
          8,
          16,
          8,
          8,
          16,
          8,
          4,
          4,
          8,
          16,
          8,
          8,
          32,
          8,
          8,
          8,
          4,
          8,
          8,
          16,
          8,
          32,
          8,
          4,
          4,
          6,
          8,
          4,
          8,
          8,
          8,
          4,
          8,
          8,
          8,
          4,
          4,
          16,
          8,
          8,
          8,
          16,
          8,
          4,
          16,
          4,
          8,
          16,
          4,
          4,
          6,
          4,
          4,
          4,
          8,
          8,
          8,
          4,
          16,
          4,
          16,
          4,
          8,
          4,
          8,
          4,
          4,
          8,
          8,
          16,
          8,
          6,
          8,
          8,
          8,
          4,
          16,
          8,
          8,
          4,
          4,
          8,
          8,
          8,
          8,
          32,
          8,
          4,
          8,
          4,
          8,
          4,
          16,
          12,
          6,
          4,
          8,
          4,
          16,
          8,
          16,
          4,
          8,
          8,
          8,
          8,
          16,
          2,
          16,
          8,
          8,
          16,
          4,
          8,
          4,
          4,
          4,
          8,
          8,
          8,
          16,
          4,
          8,
          16,
          8,
          8,
          4,
          4,
          4,
          16,
          8,
          4,
          16,
          16,
          4,
          8,
          4,
          12,
          16,
          4,
          16,
          8,
          32,
          16,
          16,
          8,
          16,
          16,
          8,
          4,
          16,
          8,
          8,
          4,
          8,
          8,
          8,
          8,
          4,
          8,
          8,
          8,
          8,
          8,
          8,
          8,
          4,
          8,
          4,
          8,
          16,
          4,
          12,
          16,
          8,
          8,
          8,
          8,
          16,
          4,
          16,
          4,
          4,
          4,
          8,
          8,
          8,
          4,
          8,
          4,
          4,
          8,
          32,
          16,
          4,
          8,
          8,
          16,
          16,
          4,
          4,
          8,
          16,
          32,
          8,
          8,
          8,
          4,
          4,
          8,
          8,
          8,
          4,
          16,
          8,
          8,
          8,
          8,
          4,
          8,
          8,
          4,
          8,
          8,
          4,
          8,
          16,
          4,
          8,
          8,
          8,
          8,
          4,
          4,
          8,
          4,
          16,
          8,
          4,
          8,
          4,
          4,
          4,
          4,
          4,
          8,
          4,
          4,
          4,
          12,
          4,
          4,
          4,
          16,
          8,
          8,
          16,
          8,
          8,
          8,
          4,
          8,
          8,
          32,
          16,
          8,
          8,
          16,
          8,
          4,
          8,
          8,
          8,
          8,
          6,
          8,
          4,
          4,
          8,
          16,
          16,
          8,
          4,
          8,
          8,
          16,
          8,
          4,
          8,
          8,
          4,
          4,
          4,
          4,
          4,
          16,
          4,
          8,
          4,
          8,
          8,
          16,
          8,
          4,
          4,
          8,
          8,
          16,
          8,
          8,
          4,
          4,
          8,
          8,
          8,
          8,
          8,
          16,
          8,
          4,
          8,
          4,
          8,
          8,
          12,
          8,
          8,
          4,
          4,
          4,
          32,
          6,
          16,
          8,
          32,
          8,
          16,
          8,
          4,
          16,
          6,
          16,
          12,
          4,
          6,
          4,
          4,
          4,
          8,
          8,
          8,
          8,
          8,
          4,
          4,
          8,
          8,
          8,
          8,
          4,
          16,
          8,
          8,
          8,
          4,
          4,
          4,
          4,
          4,
          8,
          8,
          4,
          8,
          4,
          4,
          8,
          4,
          8,
          4,
          16,
          8,
          8,
          4,
          8,
          8,
          8,
          8,
          4,
          4,
          4,
          8,
          8,
          4,
          6,
          8,
          8,
          8,
          8,
          4,
          8,
          8,
          8,
          4,
          2,
          16,
          8,
          4,
          8,
          8,
          16,
          16,
          4,
          16,
          8,
          8,
          4,
          16,
          4,
          4,
          8,
          12,
          16,
          8,
          16,
          4,
          16,
          16,
          8,
          64,
          8,
          16,
          8,
          4,
          4,
          8,
          8,
          8,
          8,
          4,
          16,
          4,
          4,
          8,
          32,
          4,
          16,
          8,
          4,
          8,
          8,
          4,
          4,
          4,
          4,
          8,
          4,
          4,
          8,
          8,
          8,
          4,
          16,
          4,
          4,
          4,
          8,
          16,
          8,
          8,
          4,
          4,
          16,
          8,
          4,
          4,
          8,
          4,
          8,
          16,
          8,
          16,
          8,
          4,
          8,
          8,
          4,
          4,
          8,
          4,
          8,
          8,
          8,
          8,
          8,
          4,
          8,
          4,
          16,
          8,
          8,
          16,
          8,
          16,
          8,
          8,
          8,
          8,
          8,
          8,
          8,
          8,
          8,
          4,
          4,
          8,
          8,
          8,
          4,
          16,
          12,
          8,
          8,
          8,
          16,
          8,
          8,
          4,
          8,
          8,
          4,
          2,
          8,
          8,
          16,
          4,
          4,
          8,
          4,
          4,
          16,
          16,
          4,
          8,
          6,
          8,
          4,
          6,
          8,
          16,
          4,
          8,
          16,
          8,
          4,
          8,
          8,
          12,
          4,
          16,
          4,
          16,
          4,
          8,
          16,
          16,
          8,
          8,
          8,
          4,
          8,
          16,
          8,
          16,
          16,
          8,
          16,
          2,
          4,
          8,
          8,
          8,
          8,
          8,
          6,
          8,
          4,
          4,
          8,
          4,
          16,
          8,
          16,
          16,
          8,
          16,
          4,
          4,
          8,
          4,
          8,
          16,
          6,
          8,
          4,
          16,
          4,
          16,
          4,
          16,
          8,
          8,
          4,
          4,
          6,
          8,
          4,
          4,
          16,
          4,
          8,
          8,
          4,
          8,
          6,
          4,
          2,
          8,
          6,
          8,
          2,
          4,
          4,
          16,
          2,
          6
         ],
         "xaxis": "x",
         "yaxis": "y"
        }
       ],
       "layout": {
        "barmode": "relative",
        "legend": {
         "tracegroupgap": 0
        },
        "margin": {
         "t": 60
        },
        "template": {
         "data": {
          "bar": [
           {
            "error_x": {
             "color": "#2a3f5f"
            },
            "error_y": {
             "color": "#2a3f5f"
            },
            "marker": {
             "line": {
              "color": "#E5ECF6",
              "width": 0.5
             },
             "pattern": {
              "fillmode": "overlay",
              "size": 10,
              "solidity": 0.2
             }
            },
            "type": "bar"
           }
          ],
          "barpolar": [
           {
            "marker": {
             "line": {
              "color": "#E5ECF6",
              "width": 0.5
             },
             "pattern": {
              "fillmode": "overlay",
              "size": 10,
              "solidity": 0.2
             }
            },
            "type": "barpolar"
           }
          ],
          "carpet": [
           {
            "aaxis": {
             "endlinecolor": "#2a3f5f",
             "gridcolor": "white",
             "linecolor": "white",
             "minorgridcolor": "white",
             "startlinecolor": "#2a3f5f"
            },
            "baxis": {
             "endlinecolor": "#2a3f5f",
             "gridcolor": "white",
             "linecolor": "white",
             "minorgridcolor": "white",
             "startlinecolor": "#2a3f5f"
            },
            "type": "carpet"
           }
          ],
          "choropleth": [
           {
            "colorbar": {
             "outlinewidth": 0,
             "ticks": ""
            },
            "type": "choropleth"
           }
          ],
          "contour": [
           {
            "colorbar": {
             "outlinewidth": 0,
             "ticks": ""
            },
            "colorscale": [
             [
              0,
              "#0d0887"
             ],
             [
              0.1111111111111111,
              "#46039f"
             ],
             [
              0.2222222222222222,
              "#7201a8"
             ],
             [
              0.3333333333333333,
              "#9c179e"
             ],
             [
              0.4444444444444444,
              "#bd3786"
             ],
             [
              0.5555555555555556,
              "#d8576b"
             ],
             [
              0.6666666666666666,
              "#ed7953"
             ],
             [
              0.7777777777777778,
              "#fb9f3a"
             ],
             [
              0.8888888888888888,
              "#fdca26"
             ],
             [
              1,
              "#f0f921"
             ]
            ],
            "type": "contour"
           }
          ],
          "contourcarpet": [
           {
            "colorbar": {
             "outlinewidth": 0,
             "ticks": ""
            },
            "type": "contourcarpet"
           }
          ],
          "heatmap": [
           {
            "colorbar": {
             "outlinewidth": 0,
             "ticks": ""
            },
            "colorscale": [
             [
              0,
              "#0d0887"
             ],
             [
              0.1111111111111111,
              "#46039f"
             ],
             [
              0.2222222222222222,
              "#7201a8"
             ],
             [
              0.3333333333333333,
              "#9c179e"
             ],
             [
              0.4444444444444444,
              "#bd3786"
             ],
             [
              0.5555555555555556,
              "#d8576b"
             ],
             [
              0.6666666666666666,
              "#ed7953"
             ],
             [
              0.7777777777777778,
              "#fb9f3a"
             ],
             [
              0.8888888888888888,
              "#fdca26"
             ],
             [
              1,
              "#f0f921"
             ]
            ],
            "type": "heatmap"
           }
          ],
          "heatmapgl": [
           {
            "colorbar": {
             "outlinewidth": 0,
             "ticks": ""
            },
            "colorscale": [
             [
              0,
              "#0d0887"
             ],
             [
              0.1111111111111111,
              "#46039f"
             ],
             [
              0.2222222222222222,
              "#7201a8"
             ],
             [
              0.3333333333333333,
              "#9c179e"
             ],
             [
              0.4444444444444444,
              "#bd3786"
             ],
             [
              0.5555555555555556,
              "#d8576b"
             ],
             [
              0.6666666666666666,
              "#ed7953"
             ],
             [
              0.7777777777777778,
              "#fb9f3a"
             ],
             [
              0.8888888888888888,
              "#fdca26"
             ],
             [
              1,
              "#f0f921"
             ]
            ],
            "type": "heatmapgl"
           }
          ],
          "histogram": [
           {
            "marker": {
             "pattern": {
              "fillmode": "overlay",
              "size": 10,
              "solidity": 0.2
             }
            },
            "type": "histogram"
           }
          ],
          "histogram2d": [
           {
            "colorbar": {
             "outlinewidth": 0,
             "ticks": ""
            },
            "colorscale": [
             [
              0,
              "#0d0887"
             ],
             [
              0.1111111111111111,
              "#46039f"
             ],
             [
              0.2222222222222222,
              "#7201a8"
             ],
             [
              0.3333333333333333,
              "#9c179e"
             ],
             [
              0.4444444444444444,
              "#bd3786"
             ],
             [
              0.5555555555555556,
              "#d8576b"
             ],
             [
              0.6666666666666666,
              "#ed7953"
             ],
             [
              0.7777777777777778,
              "#fb9f3a"
             ],
             [
              0.8888888888888888,
              "#fdca26"
             ],
             [
              1,
              "#f0f921"
             ]
            ],
            "type": "histogram2d"
           }
          ],
          "histogram2dcontour": [
           {
            "colorbar": {
             "outlinewidth": 0,
             "ticks": ""
            },
            "colorscale": [
             [
              0,
              "#0d0887"
             ],
             [
              0.1111111111111111,
              "#46039f"
             ],
             [
              0.2222222222222222,
              "#7201a8"
             ],
             [
              0.3333333333333333,
              "#9c179e"
             ],
             [
              0.4444444444444444,
              "#bd3786"
             ],
             [
              0.5555555555555556,
              "#d8576b"
             ],
             [
              0.6666666666666666,
              "#ed7953"
             ],
             [
              0.7777777777777778,
              "#fb9f3a"
             ],
             [
              0.8888888888888888,
              "#fdca26"
             ],
             [
              1,
              "#f0f921"
             ]
            ],
            "type": "histogram2dcontour"
           }
          ],
          "mesh3d": [
           {
            "colorbar": {
             "outlinewidth": 0,
             "ticks": ""
            },
            "type": "mesh3d"
           }
          ],
          "parcoords": [
           {
            "line": {
             "colorbar": {
              "outlinewidth": 0,
              "ticks": ""
             }
            },
            "type": "parcoords"
           }
          ],
          "pie": [
           {
            "automargin": true,
            "type": "pie"
           }
          ],
          "scatter": [
           {
            "fillpattern": {
             "fillmode": "overlay",
             "size": 10,
             "solidity": 0.2
            },
            "type": "scatter"
           }
          ],
          "scatter3d": [
           {
            "line": {
             "colorbar": {
              "outlinewidth": 0,
              "ticks": ""
             }
            },
            "marker": {
             "colorbar": {
              "outlinewidth": 0,
              "ticks": ""
             }
            },
            "type": "scatter3d"
           }
          ],
          "scattercarpet": [
           {
            "marker": {
             "colorbar": {
              "outlinewidth": 0,
              "ticks": ""
             }
            },
            "type": "scattercarpet"
           }
          ],
          "scattergeo": [
           {
            "marker": {
             "colorbar": {
              "outlinewidth": 0,
              "ticks": ""
             }
            },
            "type": "scattergeo"
           }
          ],
          "scattergl": [
           {
            "marker": {
             "colorbar": {
              "outlinewidth": 0,
              "ticks": ""
             }
            },
            "type": "scattergl"
           }
          ],
          "scattermapbox": [
           {
            "marker": {
             "colorbar": {
              "outlinewidth": 0,
              "ticks": ""
             }
            },
            "type": "scattermapbox"
           }
          ],
          "scatterpolar": [
           {
            "marker": {
             "colorbar": {
              "outlinewidth": 0,
              "ticks": ""
             }
            },
            "type": "scatterpolar"
           }
          ],
          "scatterpolargl": [
           {
            "marker": {
             "colorbar": {
              "outlinewidth": 0,
              "ticks": ""
             }
            },
            "type": "scatterpolargl"
           }
          ],
          "scatterternary": [
           {
            "marker": {
             "colorbar": {
              "outlinewidth": 0,
              "ticks": ""
             }
            },
            "type": "scatterternary"
           }
          ],
          "surface": [
           {
            "colorbar": {
             "outlinewidth": 0,
             "ticks": ""
            },
            "colorscale": [
             [
              0,
              "#0d0887"
             ],
             [
              0.1111111111111111,
              "#46039f"
             ],
             [
              0.2222222222222222,
              "#7201a8"
             ],
             [
              0.3333333333333333,
              "#9c179e"
             ],
             [
              0.4444444444444444,
              "#bd3786"
             ],
             [
              0.5555555555555556,
              "#d8576b"
             ],
             [
              0.6666666666666666,
              "#ed7953"
             ],
             [
              0.7777777777777778,
              "#fb9f3a"
             ],
             [
              0.8888888888888888,
              "#fdca26"
             ],
             [
              1,
              "#f0f921"
             ]
            ],
            "type": "surface"
           }
          ],
          "table": [
           {
            "cells": {
             "fill": {
              "color": "#EBF0F8"
             },
             "line": {
              "color": "white"
             }
            },
            "header": {
             "fill": {
              "color": "#C8D4E3"
             },
             "line": {
              "color": "white"
             }
            },
            "type": "table"
           }
          ]
         },
         "layout": {
          "annotationdefaults": {
           "arrowcolor": "#2a3f5f",
           "arrowhead": 0,
           "arrowwidth": 1
          },
          "autotypenumbers": "strict",
          "coloraxis": {
           "colorbar": {
            "outlinewidth": 0,
            "ticks": ""
           }
          },
          "colorscale": {
           "diverging": [
            [
             0,
             "#8e0152"
            ],
            [
             0.1,
             "#c51b7d"
            ],
            [
             0.2,
             "#de77ae"
            ],
            [
             0.3,
             "#f1b6da"
            ],
            [
             0.4,
             "#fde0ef"
            ],
            [
             0.5,
             "#f7f7f7"
            ],
            [
             0.6,
             "#e6f5d0"
            ],
            [
             0.7,
             "#b8e186"
            ],
            [
             0.8,
             "#7fbc41"
            ],
            [
             0.9,
             "#4d9221"
            ],
            [
             1,
             "#276419"
            ]
           ],
           "sequential": [
            [
             0,
             "#0d0887"
            ],
            [
             0.1111111111111111,
             "#46039f"
            ],
            [
             0.2222222222222222,
             "#7201a8"
            ],
            [
             0.3333333333333333,
             "#9c179e"
            ],
            [
             0.4444444444444444,
             "#bd3786"
            ],
            [
             0.5555555555555556,
             "#d8576b"
            ],
            [
             0.6666666666666666,
             "#ed7953"
            ],
            [
             0.7777777777777778,
             "#fb9f3a"
            ],
            [
             0.8888888888888888,
             "#fdca26"
            ],
            [
             1,
             "#f0f921"
            ]
           ],
           "sequentialminus": [
            [
             0,
             "#0d0887"
            ],
            [
             0.1111111111111111,
             "#46039f"
            ],
            [
             0.2222222222222222,
             "#7201a8"
            ],
            [
             0.3333333333333333,
             "#9c179e"
            ],
            [
             0.4444444444444444,
             "#bd3786"
            ],
            [
             0.5555555555555556,
             "#d8576b"
            ],
            [
             0.6666666666666666,
             "#ed7953"
            ],
            [
             0.7777777777777778,
             "#fb9f3a"
            ],
            [
             0.8888888888888888,
             "#fdca26"
            ],
            [
             1,
             "#f0f921"
            ]
           ]
          },
          "colorway": [
           "#636efa",
           "#EF553B",
           "#00cc96",
           "#ab63fa",
           "#FFA15A",
           "#19d3f3",
           "#FF6692",
           "#B6E880",
           "#FF97FF",
           "#FECB52"
          ],
          "font": {
           "color": "#2a3f5f"
          },
          "geo": {
           "bgcolor": "white",
           "lakecolor": "white",
           "landcolor": "#E5ECF6",
           "showlakes": true,
           "showland": true,
           "subunitcolor": "white"
          },
          "hoverlabel": {
           "align": "left"
          },
          "hovermode": "closest",
          "mapbox": {
           "style": "light"
          },
          "paper_bgcolor": "white",
          "plot_bgcolor": "#E5ECF6",
          "polar": {
           "angularaxis": {
            "gridcolor": "white",
            "linecolor": "white",
            "ticks": ""
           },
           "bgcolor": "#E5ECF6",
           "radialaxis": {
            "gridcolor": "white",
            "linecolor": "white",
            "ticks": ""
           }
          },
          "scene": {
           "xaxis": {
            "backgroundcolor": "#E5ECF6",
            "gridcolor": "white",
            "gridwidth": 2,
            "linecolor": "white",
            "showbackground": true,
            "ticks": "",
            "zerolinecolor": "white"
           },
           "yaxis": {
            "backgroundcolor": "#E5ECF6",
            "gridcolor": "white",
            "gridwidth": 2,
            "linecolor": "white",
            "showbackground": true,
            "ticks": "",
            "zerolinecolor": "white"
           },
           "zaxis": {
            "backgroundcolor": "#E5ECF6",
            "gridcolor": "white",
            "gridwidth": 2,
            "linecolor": "white",
            "showbackground": true,
            "ticks": "",
            "zerolinecolor": "white"
           }
          },
          "shapedefaults": {
           "line": {
            "color": "#2a3f5f"
           }
          },
          "ternary": {
           "aaxis": {
            "gridcolor": "white",
            "linecolor": "white",
            "ticks": ""
           },
           "baxis": {
            "gridcolor": "white",
            "linecolor": "white",
            "ticks": ""
           },
           "bgcolor": "#E5ECF6",
           "caxis": {
            "gridcolor": "white",
            "linecolor": "white",
            "ticks": ""
           }
          },
          "title": {
           "x": 0.05
          },
          "xaxis": {
           "automargin": true,
           "gridcolor": "white",
           "linecolor": "white",
           "ticks": "",
           "title": {
            "standoff": 15
           },
           "zerolinecolor": "white",
           "zerolinewidth": 2
          },
          "yaxis": {
           "automargin": true,
           "gridcolor": "white",
           "linecolor": "white",
           "ticks": "",
           "title": {
            "standoff": 15
           },
           "zerolinecolor": "white",
           "zerolinewidth": 2
          }
         }
        },
        "xaxis": {
         "anchor": "y",
         "domain": [
          0,
          1
         ],
         "title": {
          "text": "Ram"
         }
        },
        "yaxis": {
         "anchor": "x",
         "domain": [
          0,
          1
         ],
         "title": {
          "text": "count"
         }
        }
       }
      }
     },
     "metadata": {},
     "output_type": "display_data"
    },
    {
     "data": {
      "application/vnd.plotly.v1+json": {
       "config": {
        "plotlyServerURL": "https://plot.ly"
       },
       "data": [
        {
         "alignmentgroup": "True",
         "bingroup": "x",
         "hovertemplate": "Weight=%{x}<br>count=%{y}<extra></extra>",
         "legendgroup": "",
         "marker": {
          "color": "#636efa",
          "pattern": {
           "shape": ""
          }
         },
         "name": "",
         "offsetgroup": "",
         "orientation": "v",
         "showlegend": false,
         "type": "histogram",
         "x": [
          1.37,
          1.34,
          1.86,
          1.83,
          1.37,
          2.1,
          2.04,
          1.34,
          1.3,
          1.6,
          1.86,
          1.86,
          1.83,
          2.2,
          0.92,
          1.37,
          2.2,
          1.83,
          2.2,
          1.22,
          0.98,
          2.5,
          1.86,
          1.62,
          1.91,
          2.3,
          1.35,
          2.2,
          1.88,
          2.5,
          1.89,
          1.65,
          2.71,
          1.2,
          1.35,
          1.44,
          2.1,
          2.8,
          1.86,
          2.1,
          2,
          2.65,
          2.3,
          2.2,
          2.77,
          1.37,
          2.2,
          3.2,
          2.3,
          2.8,
          0.69,
          2.2,
          1.86,
          1.49,
          2.4,
          2.13,
          1.91,
          2,
          2.43,
          2,
          2.8,
          1.7,
          1.7,
          1.4,
          1.86,
          1.8,
          1.86,
          1.44,
          1.9,
          3,
          1.252,
          1.4,
          2.2,
          2.7,
          2.1,
          2.2,
          2.2,
          2.02,
          2.2,
          2.5,
          1.88,
          0.92,
          1.63,
          2.2,
          2.1,
          2.65,
          1.83,
          1.96,
          2.2,
          1.21,
          2.45,
          2.2,
          1.49,
          2.65,
          1.25,
          1.5,
          2.2,
          2.2,
          2,
          2.62,
          1.91,
          2.1,
          2.2,
          1.38,
          1.252,
          1.58,
          1.85,
          1.3,
          2.2,
          1.58,
          1.5,
          1.23,
          1.37,
          1.63,
          1.21,
          1.26,
          1.63,
          2.16,
          2,
          1.7,
          2.1,
          1.8,
          2.2,
          2.5,
          2.1,
          1.86,
          1.63,
          1.65,
          2.8,
          2.5,
          2.36,
          2.2,
          1.6,
          2.2,
          2.05,
          1.63,
          1.9,
          3,
          2.2,
          1.32,
          3,
          1.75,
          2.4,
          2.1,
          1.86,
          1.25,
          0.97,
          2,
          2.9,
          2.1,
          2.56,
          2.62,
          1.9,
          2.8,
          1.48,
          1.91,
          1.74,
          1.1,
          1.56,
          2.1,
          2.03,
          3,
          2.13,
          2.5,
          2.1,
          2.4,
          2.1,
          2.56,
          3,
          1.49,
          1.05,
          2.71,
          2.2,
          2,
          2.5,
          2.3,
          2.1,
          4.4,
          1.9,
          1.29,
          2.02,
          1.23,
          1.4,
          2,
          1.95,
          2.77,
          2.06,
          2.4,
          1.12,
          2.8,
          1.42,
          1.3,
          1.3,
          2.8,
          1.62,
          2.5,
          3.49,
          1.49,
          3.35,
          2.5,
          2.65,
          2.1,
          2.23,
          3.2,
          2.8,
          2.4,
          2.3,
          1.21,
          1.2,
          2.2,
          2.4,
          2.9,
          2.1,
          2.2,
          1.05,
          1.4,
          2.8,
          1.63,
          1.6,
          1.62,
          2.2,
          1.74,
          1.2,
          2.1,
          4.42,
          2.2,
          2.3,
          2,
          2.69,
          1.9,
          2.37,
          2.1,
          3.2,
          1.6,
          1.6,
          2.36,
          2.1,
          2.2,
          4.7,
          2.5,
          2.2,
          2.1,
          2.69,
          2.56,
          1.38,
          2.2,
          2.04,
          3.6,
          1.49,
          1.37,
          2.08,
          4.3,
          1.68,
          1.37,
          3,
          1.41,
          1.91,
          2.9,
          4.14,
          2,
          2.8,
          2.2,
          2.1,
          2.18,
          2.24,
          2.67,
          1.1,
          2.2,
          2.5,
          2.05,
          1.37,
          3.2,
          2.14,
          1.36,
          2.2,
          2.3,
          2.8,
          2.2,
          2.8,
          2.8,
          2.8,
          2.25,
          2.5,
          2.2,
          3,
          2.15,
          1.95,
          1.7,
          2.5,
          2.2,
          2.19,
          3,
          2.54,
          2,
          2.05,
          3.2,
          2.5,
          3.42,
          2.4,
          1.63,
          1.3,
          2.9,
          2.8,
          2.2,
          2.5,
          2.2,
          1.28,
          2.2,
          2.3,
          1.86,
          1.1,
          1.21,
          2.8,
          2.23,
          1.1,
          2.33,
          1.29,
          1.45,
          1.95,
          1.4,
          1.48,
          2.79,
          2,
          2.1,
          2.2,
          1.44,
          2.23,
          1.7,
          1.26,
          2.06,
          2.7,
          2,
          2,
          1.85,
          2.5,
          1.48,
          1.9,
          1.84,
          2,
          2,
          2.2,
          2.2,
          2.1,
          1.4,
          1.2,
          2.4,
          1.44,
          1.88,
          1.5,
          1.9,
          2.06,
          1.84,
          2.7,
          2.6,
          2.4,
          2.02,
          2.2,
          2.65,
          2.36,
          1.36,
          1.86,
          2,
          2.8,
          1.86,
          2.2,
          2.04,
          2.8,
          2.4,
          2.33,
          1.36,
          2.26,
          2.1,
          3.25,
          2.6,
          1.62,
          1.91,
          1.59,
          1.8,
          1.5,
          2.4,
          3.35,
          1.85,
          2.3,
          1.5,
          1.1,
          1.13,
          1.5,
          2.23,
          2,
          1.42,
          3,
          3,
          2.2,
          2.7,
          2.33,
          1.91,
          2.1,
          1.9,
          1.78,
          1.13,
          2.2,
          2.9,
          2.1,
          2.5,
          2.8,
          1.1,
          1.2,
          1.36,
          2.2,
          1.15,
          2.67,
          1.7,
          2.1,
          1.6,
          1.27,
          2.3,
          1.65,
          1.43,
          2.14,
          1.75,
          2,
          1.4,
          2.31,
          2.3,
          4.42,
          2.62,
          2.02,
          1.6,
          3.35,
          1.16,
          1.15,
          1.4,
          1.7,
          2.3,
          2.5,
          3.2,
          2.1,
          1.1,
          1.32,
          2,
          2.8,
          2.2,
          1.36,
          2.2,
          2.2,
          1.64,
          2.4,
          2.23,
          2.2,
          1.25,
          1.91,
          2.17,
          2.31,
          1.65,
          2.36,
          1.47,
          4.42,
          1.252,
          1.25,
          2.5,
          2.23,
          1.4,
          2.37,
          1.5,
          2.67,
          2,
          2.2,
          2.02,
          3.78,
          1.4,
          1.29,
          1.9,
          1.1,
          1.42,
          2.06,
          1.79,
          1.78,
          1.7,
          2.2,
          1.05,
          2.16,
          2.18,
          1.49,
          1.89,
          2.3,
          1.75,
          2.17,
          2.06,
          1.36,
          0.91,
          2.3,
          1.05,
          1.99,
          2.2,
          4.33,
          1.3,
          2.17,
          1.48,
          1.4,
          2.3,
          1.2,
          1.91,
          1.4,
          2.1,
          1.25,
          1.44,
          2,
          2.2,
          1.34,
          2.4,
          1.29,
          2.2,
          2.18,
          2.2,
          1.95,
          1.1,
          2.04,
          2.24,
          2.04,
          3,
          3.2,
          1.32,
          1.64,
          1.63,
          2.8,
          2.02,
          2.2,
          2.2,
          2.3,
          1.9,
          4.42,
          2,
          2,
          1.2,
          2.3,
          1.93,
          2.2,
          1.86,
          2.62,
          1.87,
          1.2,
          1.6,
          1.34,
          2.4,
          2,
          2.1,
          1.87,
          2.15,
          1.86,
          1.99,
          2.2,
          1.9,
          4.42,
          2.65,
          2.63,
          2,
          1.35,
          2.8,
          1.91,
          2.18,
          1.25,
          2.05,
          1.16,
          3.4,
          2.5,
          1.21,
          1.93,
          2.2,
          2.2,
          2.02,
          3.14,
          1.94,
          1.95,
          2.3,
          2.05,
          1.4,
          1.24,
          4.6,
          4.14,
          2.2,
          1.45,
          1.9,
          1.49,
          1.93,
          1.26,
          4.5,
          3.78,
          1.4,
          2.2,
          2.73,
          2.2,
          2.2,
          1.39,
          2.5,
          2.8,
          2.29,
          1.37,
          1.7,
          1.34,
          2.06,
          1.84,
          2.1,
          1.6,
          4.14,
          2.18,
          1.8,
          2.2,
          2.4,
          2,
          1.6,
          2.5,
          2.59,
          2.18,
          2.25,
          1.93,
          3,
          2.18,
          1.84,
          2.94,
          1.25,
          2.31,
          1.65,
          2.2,
          2.2,
          1.88,
          2.2,
          1.4,
          2.2,
          1.5,
          2,
          1.1,
          2.62,
          1.8,
          2.2,
          2,
          1.99,
          1.23,
          1.42,
          1.37,
          2.06,
          2.5,
          2.6,
          1.14,
          2.5,
          2.4,
          1.43,
          1.8,
          1.95,
          1.2,
          1.36,
          3.8,
          2.4,
          1.2,
          2.2,
          1.86,
          2,
          2.2,
          2.2,
          3.31,
          4.42,
          1.56,
          2.2,
          2.2,
          2.04,
          2.7,
          2.1,
          2.06,
          2.1,
          2,
          2.1,
          1.252,
          1.9,
          1.3,
          2.2,
          1.63,
          2.4,
          1.1,
          1.4,
          1.09,
          2.5,
          2.2,
          1.86,
          3.21,
          2.5,
          1.19,
          3.49,
          1.86,
          2.2,
          2.65,
          2.1,
          1.45,
          1.7,
          3.14,
          1.42,
          1.5,
          1.4,
          1.38,
          1.2,
          1.36,
          2.1,
          2.56,
          2.2,
          2.2,
          2.1,
          1.9,
          2.18,
          1.6,
          2.18,
          1.8,
          2.71,
          2.5,
          1.64,
          1.98,
          1.5,
          1.93,
          1.87,
          1.9,
          2.19,
          1.4,
          2.63,
          1.17,
          1.58,
          1.32,
          4.36,
          2.7,
          1.9,
          2.2,
          1.71,
          2.32,
          2.1,
          4.2,
          2.25,
          2.1,
          2.4,
          1.44,
          1.85,
          2.6,
          1.55,
          1.8,
          2.4,
          2,
          2,
          1.25,
          1.7,
          2.5,
          1.68,
          0.81,
          1.86,
          1.6,
          3,
          1.4,
          1.84,
          2.45,
          1.7,
          2.37,
          1.3,
          2.2,
          2.59,
          4.42,
          2.1,
          2.5,
          1.18,
          1.1,
          1.2,
          1.65,
          1.6,
          2.8,
          2.72,
          1.31,
          2.1,
          2.3,
          1.71,
          1.75,
          2.62,
          1.26,
          2.3,
          2.5,
          1.8,
          1.95,
          2,
          4.42,
          4.3,
          1.47,
          2.2,
          1.7,
          1.6,
          2.2,
          2.4,
          4.2,
          2.62,
          2.24,
          1.22,
          1.37,
          2.08,
          0.92,
          1.42,
          1.63,
          1.95,
          1.38,
          2,
          3.14,
          2.37,
          1.29,
          2.06,
          1.63,
          1.26,
          2.1,
          2.04,
          2.62,
          2.4,
          3.74,
          2.9,
          0.81,
          1.98,
          2.18,
          1.32,
          1.29,
          1.23,
          4.36,
          1.76,
          2.1,
          1.25,
          1.13,
          2.4,
          1.13,
          1.75,
          1.1,
          1.76,
          1.35,
          1.5,
          3.49,
          1.1,
          2.1,
          1.7,
          1.32,
          3.21,
          2.9,
          2,
          1.5,
          2.3,
          2.73,
          4.42,
          2.63,
          2.18,
          1.54,
          2.18,
          1.4,
          1.45,
          1.28,
          1.54,
          1.86,
          2.1,
          2.83,
          1.96,
          2.3,
          1.9,
          2,
          1.28,
          1.62,
          2.2,
          2.3,
          1.84,
          1.05,
          2.5,
          1.29,
          2.07,
          1.2,
          1.37,
          1.56,
          2.23,
          2.38,
          2.2,
          2,
          1.44,
          1.23,
          1.6,
          2,
          1.28,
          2.18,
          2.04,
          1.28,
          2.3,
          1.65,
          2.2,
          2.2,
          1.28,
          2.18,
          2.2,
          1.25,
          2.8,
          1.95,
          1.42,
          1.17,
          1.32,
          2.43,
          1.05,
          2.62,
          2.04,
          2.18,
          1.9,
          1.24,
          3.58,
          1.22,
          1.13,
          1.95,
          1.08,
          1.26,
          2.2,
          2.6,
          0.98,
          1.6,
          1.09,
          2.2,
          2.04,
          2.4,
          1.44,
          1.49,
          2.7,
          2.6,
          2.2,
          2.18,
          1.84,
          1.39,
          2.4,
          1.37,
          1.95,
          1.36,
          2.31,
          2.18,
          1.95,
          2.2,
          1.26,
          1.86,
          1.3,
          1.47,
          1.26,
          2.18,
          2.2,
          1.36,
          4.36,
          2.75,
          2.8,
          2.23,
          2.2,
          1.1,
          2.5,
          1.36,
          2.2,
          2.36,
          1.68,
          2,
          1.36,
          1.2,
          1.2,
          1.7,
          4.36,
          1.24,
          1.45,
          1.3,
          1.25,
          1.2,
          1.36,
          2.4,
          1.1,
          2.04,
          2.25,
          1.9,
          2.04,
          4.42,
          2.4,
          1.22,
          1.5,
          4.42,
          1.95,
          2.73,
          2.04,
          1.7,
          2.3,
          2.04,
          2.99,
          2.19,
          1.2,
          2.2,
          2.3,
          1.75,
          2.25,
          2.04,
          2.5,
          2.36,
          1.6,
          0.97,
          2.1,
          1.9,
          2.3,
          1.68,
          1.4,
          1.11,
          2.4,
          2.5,
          1.48,
          2.7,
          1.34,
          2.18,
          1.64,
          1.2,
          1.48,
          1.95,
          1.43,
          1.64,
          1.64,
          2.65,
          1.26,
          1.48,
          1.54,
          1.49,
          1.5,
          2.04,
          2.4,
          1.47,
          1.43,
          2.08,
          1.2,
          1.11,
          1.64,
          2.09,
          1.26,
          2.31,
          1.95,
          1.29,
          2.63,
          1.64,
          2.1,
          2.7,
          1.95,
          1.84,
          1.26,
          2.04,
          1.47,
          2.09,
          1.64,
          1.8,
          1.45,
          2.4,
          2.3,
          1.54,
          1.84,
          1.43,
          3.78,
          4.6,
          1.2,
          1.1,
          1.91,
          2.3,
          2.04,
          1.2,
          2.31,
          1.96,
          2.4,
          1.6,
          2.94,
          2.04,
          4,
          2.25,
          2.32,
          1.8,
          1.29,
          3.58,
          1.62,
          3.21,
          0.92,
          2.06,
          2.31,
          1.26,
          1.49,
          1.3,
          3,
          2.3,
          3.78,
          2.1,
          2.31,
          0.99,
          4.6,
          0.69,
          1.3,
          2.18,
          1.54,
          1.9,
          1.7,
          1.29,
          2.4,
          2.2,
          1.86,
          2.7,
          1.4,
          2.4,
          2.4,
          2.36,
          2.6,
          1.96,
          4.3,
          1.5,
          1.5,
          2.2,
          3,
          2.4,
          1.5,
          2.9,
          2.1,
          2.1,
          2.59,
          1.16,
          2.24,
          2.1,
          1.16,
          0.69,
          1.23,
          4.6,
          1.25,
          1.05,
          3.52,
          1.35,
          1.16,
          1.43,
          2.09,
          2,
          1.8,
          0.69,
          1.26,
          2.4,
          3.35,
          2.04,
          1.8,
          1.5,
          1.84,
          2.23,
          2.5,
          3,
          2.5,
          3.78,
          1.88,
          2.8,
          2.4,
          1.48,
          2.59,
          1.48,
          2,
          1.26,
          2.18,
          1.88,
          1.27,
          1.9,
          1.86,
          2.32,
          2.62,
          2.04,
          1.91,
          2.7,
          1.4,
          2.5,
          1.48,
          1.7,
          1.7,
          2.62,
          2.2,
          2.1,
          2.62,
          1.95,
          2.2,
          1.44,
          2.2,
          1.96,
          2.1,
          2.2,
          2.1,
          2.2,
          2,
          2.32,
          3.31,
          1.91,
          2.07,
          1.36,
          1.54,
          1.98,
          2.1,
          2.18,
          2.591,
          2.09,
          2.23,
          1.23,
          4.2,
          2.4,
          1.86,
          0.92,
          1.6,
          2.21,
          1.9,
          4.3,
          2.1,
          2.43,
          2.3,
          2.2,
          2,
          1.2,
          2.2,
          2.36,
          1.91,
          2.2,
          3.3,
          2.2,
          0.92,
          2.2,
          2.43,
          2.191,
          2.9,
          1.3,
          3.3,
          2.8,
          2.6,
          1.2,
          2.3,
          2.2,
          2.1,
          1.26,
          2.08,
          2.65,
          1.29,
          2.18,
          2.6,
          2.2,
          1.3,
          1.95,
          2.3,
          2.7,
          1.08,
          2.1,
          1.54,
          2.24,
          2.3,
          1.4,
          2.2,
          1.45,
          2.4,
          2.77,
          1.54,
          2.5,
          1.6,
          2.34,
          2.3,
          1.24,
          2.2,
          1.86,
          2.4,
          1.9,
          2.2,
          2,
          4,
          2.29,
          2.32,
          2.4,
          1.8,
          1.2,
          2.3,
          2.4,
          2.2,
          2.6,
          2.04,
          2.3,
          1.17,
          2.2,
          1.8,
          1.3,
          1.5,
          2.19
         ],
         "xaxis": "x",
         "yaxis": "y"
        }
       ],
       "layout": {
        "barmode": "relative",
        "legend": {
         "tracegroupgap": 0
        },
        "margin": {
         "t": 60
        },
        "template": {
         "data": {
          "bar": [
           {
            "error_x": {
             "color": "#2a3f5f"
            },
            "error_y": {
             "color": "#2a3f5f"
            },
            "marker": {
             "line": {
              "color": "#E5ECF6",
              "width": 0.5
             },
             "pattern": {
              "fillmode": "overlay",
              "size": 10,
              "solidity": 0.2
             }
            },
            "type": "bar"
           }
          ],
          "barpolar": [
           {
            "marker": {
             "line": {
              "color": "#E5ECF6",
              "width": 0.5
             },
             "pattern": {
              "fillmode": "overlay",
              "size": 10,
              "solidity": 0.2
             }
            },
            "type": "barpolar"
           }
          ],
          "carpet": [
           {
            "aaxis": {
             "endlinecolor": "#2a3f5f",
             "gridcolor": "white",
             "linecolor": "white",
             "minorgridcolor": "white",
             "startlinecolor": "#2a3f5f"
            },
            "baxis": {
             "endlinecolor": "#2a3f5f",
             "gridcolor": "white",
             "linecolor": "white",
             "minorgridcolor": "white",
             "startlinecolor": "#2a3f5f"
            },
            "type": "carpet"
           }
          ],
          "choropleth": [
           {
            "colorbar": {
             "outlinewidth": 0,
             "ticks": ""
            },
            "type": "choropleth"
           }
          ],
          "contour": [
           {
            "colorbar": {
             "outlinewidth": 0,
             "ticks": ""
            },
            "colorscale": [
             [
              0,
              "#0d0887"
             ],
             [
              0.1111111111111111,
              "#46039f"
             ],
             [
              0.2222222222222222,
              "#7201a8"
             ],
             [
              0.3333333333333333,
              "#9c179e"
             ],
             [
              0.4444444444444444,
              "#bd3786"
             ],
             [
              0.5555555555555556,
              "#d8576b"
             ],
             [
              0.6666666666666666,
              "#ed7953"
             ],
             [
              0.7777777777777778,
              "#fb9f3a"
             ],
             [
              0.8888888888888888,
              "#fdca26"
             ],
             [
              1,
              "#f0f921"
             ]
            ],
            "type": "contour"
           }
          ],
          "contourcarpet": [
           {
            "colorbar": {
             "outlinewidth": 0,
             "ticks": ""
            },
            "type": "contourcarpet"
           }
          ],
          "heatmap": [
           {
            "colorbar": {
             "outlinewidth": 0,
             "ticks": ""
            },
            "colorscale": [
             [
              0,
              "#0d0887"
             ],
             [
              0.1111111111111111,
              "#46039f"
             ],
             [
              0.2222222222222222,
              "#7201a8"
             ],
             [
              0.3333333333333333,
              "#9c179e"
             ],
             [
              0.4444444444444444,
              "#bd3786"
             ],
             [
              0.5555555555555556,
              "#d8576b"
             ],
             [
              0.6666666666666666,
              "#ed7953"
             ],
             [
              0.7777777777777778,
              "#fb9f3a"
             ],
             [
              0.8888888888888888,
              "#fdca26"
             ],
             [
              1,
              "#f0f921"
             ]
            ],
            "type": "heatmap"
           }
          ],
          "heatmapgl": [
           {
            "colorbar": {
             "outlinewidth": 0,
             "ticks": ""
            },
            "colorscale": [
             [
              0,
              "#0d0887"
             ],
             [
              0.1111111111111111,
              "#46039f"
             ],
             [
              0.2222222222222222,
              "#7201a8"
             ],
             [
              0.3333333333333333,
              "#9c179e"
             ],
             [
              0.4444444444444444,
              "#bd3786"
             ],
             [
              0.5555555555555556,
              "#d8576b"
             ],
             [
              0.6666666666666666,
              "#ed7953"
             ],
             [
              0.7777777777777778,
              "#fb9f3a"
             ],
             [
              0.8888888888888888,
              "#fdca26"
             ],
             [
              1,
              "#f0f921"
             ]
            ],
            "type": "heatmapgl"
           }
          ],
          "histogram": [
           {
            "marker": {
             "pattern": {
              "fillmode": "overlay",
              "size": 10,
              "solidity": 0.2
             }
            },
            "type": "histogram"
           }
          ],
          "histogram2d": [
           {
            "colorbar": {
             "outlinewidth": 0,
             "ticks": ""
            },
            "colorscale": [
             [
              0,
              "#0d0887"
             ],
             [
              0.1111111111111111,
              "#46039f"
             ],
             [
              0.2222222222222222,
              "#7201a8"
             ],
             [
              0.3333333333333333,
              "#9c179e"
             ],
             [
              0.4444444444444444,
              "#bd3786"
             ],
             [
              0.5555555555555556,
              "#d8576b"
             ],
             [
              0.6666666666666666,
              "#ed7953"
             ],
             [
              0.7777777777777778,
              "#fb9f3a"
             ],
             [
              0.8888888888888888,
              "#fdca26"
             ],
             [
              1,
              "#f0f921"
             ]
            ],
            "type": "histogram2d"
           }
          ],
          "histogram2dcontour": [
           {
            "colorbar": {
             "outlinewidth": 0,
             "ticks": ""
            },
            "colorscale": [
             [
              0,
              "#0d0887"
             ],
             [
              0.1111111111111111,
              "#46039f"
             ],
             [
              0.2222222222222222,
              "#7201a8"
             ],
             [
              0.3333333333333333,
              "#9c179e"
             ],
             [
              0.4444444444444444,
              "#bd3786"
             ],
             [
              0.5555555555555556,
              "#d8576b"
             ],
             [
              0.6666666666666666,
              "#ed7953"
             ],
             [
              0.7777777777777778,
              "#fb9f3a"
             ],
             [
              0.8888888888888888,
              "#fdca26"
             ],
             [
              1,
              "#f0f921"
             ]
            ],
            "type": "histogram2dcontour"
           }
          ],
          "mesh3d": [
           {
            "colorbar": {
             "outlinewidth": 0,
             "ticks": ""
            },
            "type": "mesh3d"
           }
          ],
          "parcoords": [
           {
            "line": {
             "colorbar": {
              "outlinewidth": 0,
              "ticks": ""
             }
            },
            "type": "parcoords"
           }
          ],
          "pie": [
           {
            "automargin": true,
            "type": "pie"
           }
          ],
          "scatter": [
           {
            "fillpattern": {
             "fillmode": "overlay",
             "size": 10,
             "solidity": 0.2
            },
            "type": "scatter"
           }
          ],
          "scatter3d": [
           {
            "line": {
             "colorbar": {
              "outlinewidth": 0,
              "ticks": ""
             }
            },
            "marker": {
             "colorbar": {
              "outlinewidth": 0,
              "ticks": ""
             }
            },
            "type": "scatter3d"
           }
          ],
          "scattercarpet": [
           {
            "marker": {
             "colorbar": {
              "outlinewidth": 0,
              "ticks": ""
             }
            },
            "type": "scattercarpet"
           }
          ],
          "scattergeo": [
           {
            "marker": {
             "colorbar": {
              "outlinewidth": 0,
              "ticks": ""
             }
            },
            "type": "scattergeo"
           }
          ],
          "scattergl": [
           {
            "marker": {
             "colorbar": {
              "outlinewidth": 0,
              "ticks": ""
             }
            },
            "type": "scattergl"
           }
          ],
          "scattermapbox": [
           {
            "marker": {
             "colorbar": {
              "outlinewidth": 0,
              "ticks": ""
             }
            },
            "type": "scattermapbox"
           }
          ],
          "scatterpolar": [
           {
            "marker": {
             "colorbar": {
              "outlinewidth": 0,
              "ticks": ""
             }
            },
            "type": "scatterpolar"
           }
          ],
          "scatterpolargl": [
           {
            "marker": {
             "colorbar": {
              "outlinewidth": 0,
              "ticks": ""
             }
            },
            "type": "scatterpolargl"
           }
          ],
          "scatterternary": [
           {
            "marker": {
             "colorbar": {
              "outlinewidth": 0,
              "ticks": ""
             }
            },
            "type": "scatterternary"
           }
          ],
          "surface": [
           {
            "colorbar": {
             "outlinewidth": 0,
             "ticks": ""
            },
            "colorscale": [
             [
              0,
              "#0d0887"
             ],
             [
              0.1111111111111111,
              "#46039f"
             ],
             [
              0.2222222222222222,
              "#7201a8"
             ],
             [
              0.3333333333333333,
              "#9c179e"
             ],
             [
              0.4444444444444444,
              "#bd3786"
             ],
             [
              0.5555555555555556,
              "#d8576b"
             ],
             [
              0.6666666666666666,
              "#ed7953"
             ],
             [
              0.7777777777777778,
              "#fb9f3a"
             ],
             [
              0.8888888888888888,
              "#fdca26"
             ],
             [
              1,
              "#f0f921"
             ]
            ],
            "type": "surface"
           }
          ],
          "table": [
           {
            "cells": {
             "fill": {
              "color": "#EBF0F8"
             },
             "line": {
              "color": "white"
             }
            },
            "header": {
             "fill": {
              "color": "#C8D4E3"
             },
             "line": {
              "color": "white"
             }
            },
            "type": "table"
           }
          ]
         },
         "layout": {
          "annotationdefaults": {
           "arrowcolor": "#2a3f5f",
           "arrowhead": 0,
           "arrowwidth": 1
          },
          "autotypenumbers": "strict",
          "coloraxis": {
           "colorbar": {
            "outlinewidth": 0,
            "ticks": ""
           }
          },
          "colorscale": {
           "diverging": [
            [
             0,
             "#8e0152"
            ],
            [
             0.1,
             "#c51b7d"
            ],
            [
             0.2,
             "#de77ae"
            ],
            [
             0.3,
             "#f1b6da"
            ],
            [
             0.4,
             "#fde0ef"
            ],
            [
             0.5,
             "#f7f7f7"
            ],
            [
             0.6,
             "#e6f5d0"
            ],
            [
             0.7,
             "#b8e186"
            ],
            [
             0.8,
             "#7fbc41"
            ],
            [
             0.9,
             "#4d9221"
            ],
            [
             1,
             "#276419"
            ]
           ],
           "sequential": [
            [
             0,
             "#0d0887"
            ],
            [
             0.1111111111111111,
             "#46039f"
            ],
            [
             0.2222222222222222,
             "#7201a8"
            ],
            [
             0.3333333333333333,
             "#9c179e"
            ],
            [
             0.4444444444444444,
             "#bd3786"
            ],
            [
             0.5555555555555556,
             "#d8576b"
            ],
            [
             0.6666666666666666,
             "#ed7953"
            ],
            [
             0.7777777777777778,
             "#fb9f3a"
            ],
            [
             0.8888888888888888,
             "#fdca26"
            ],
            [
             1,
             "#f0f921"
            ]
           ],
           "sequentialminus": [
            [
             0,
             "#0d0887"
            ],
            [
             0.1111111111111111,
             "#46039f"
            ],
            [
             0.2222222222222222,
             "#7201a8"
            ],
            [
             0.3333333333333333,
             "#9c179e"
            ],
            [
             0.4444444444444444,
             "#bd3786"
            ],
            [
             0.5555555555555556,
             "#d8576b"
            ],
            [
             0.6666666666666666,
             "#ed7953"
            ],
            [
             0.7777777777777778,
             "#fb9f3a"
            ],
            [
             0.8888888888888888,
             "#fdca26"
            ],
            [
             1,
             "#f0f921"
            ]
           ]
          },
          "colorway": [
           "#636efa",
           "#EF553B",
           "#00cc96",
           "#ab63fa",
           "#FFA15A",
           "#19d3f3",
           "#FF6692",
           "#B6E880",
           "#FF97FF",
           "#FECB52"
          ],
          "font": {
           "color": "#2a3f5f"
          },
          "geo": {
           "bgcolor": "white",
           "lakecolor": "white",
           "landcolor": "#E5ECF6",
           "showlakes": true,
           "showland": true,
           "subunitcolor": "white"
          },
          "hoverlabel": {
           "align": "left"
          },
          "hovermode": "closest",
          "mapbox": {
           "style": "light"
          },
          "paper_bgcolor": "white",
          "plot_bgcolor": "#E5ECF6",
          "polar": {
           "angularaxis": {
            "gridcolor": "white",
            "linecolor": "white",
            "ticks": ""
           },
           "bgcolor": "#E5ECF6",
           "radialaxis": {
            "gridcolor": "white",
            "linecolor": "white",
            "ticks": ""
           }
          },
          "scene": {
           "xaxis": {
            "backgroundcolor": "#E5ECF6",
            "gridcolor": "white",
            "gridwidth": 2,
            "linecolor": "white",
            "showbackground": true,
            "ticks": "",
            "zerolinecolor": "white"
           },
           "yaxis": {
            "backgroundcolor": "#E5ECF6",
            "gridcolor": "white",
            "gridwidth": 2,
            "linecolor": "white",
            "showbackground": true,
            "ticks": "",
            "zerolinecolor": "white"
           },
           "zaxis": {
            "backgroundcolor": "#E5ECF6",
            "gridcolor": "white",
            "gridwidth": 2,
            "linecolor": "white",
            "showbackground": true,
            "ticks": "",
            "zerolinecolor": "white"
           }
          },
          "shapedefaults": {
           "line": {
            "color": "#2a3f5f"
           }
          },
          "ternary": {
           "aaxis": {
            "gridcolor": "white",
            "linecolor": "white",
            "ticks": ""
           },
           "baxis": {
            "gridcolor": "white",
            "linecolor": "white",
            "ticks": ""
           },
           "bgcolor": "#E5ECF6",
           "caxis": {
            "gridcolor": "white",
            "linecolor": "white",
            "ticks": ""
           }
          },
          "title": {
           "x": 0.05
          },
          "xaxis": {
           "automargin": true,
           "gridcolor": "white",
           "linecolor": "white",
           "ticks": "",
           "title": {
            "standoff": 15
           },
           "zerolinecolor": "white",
           "zerolinewidth": 2
          },
          "yaxis": {
           "automargin": true,
           "gridcolor": "white",
           "linecolor": "white",
           "ticks": "",
           "title": {
            "standoff": 15
           },
           "zerolinecolor": "white",
           "zerolinewidth": 2
          }
         }
        },
        "xaxis": {
         "anchor": "y",
         "domain": [
          0,
          1
         ],
         "title": {
          "text": "Weight"
         }
        },
        "yaxis": {
         "anchor": "x",
         "domain": [
          0,
          1
         ],
         "title": {
          "text": "count"
         }
        }
       }
      }
     },
     "metadata": {},
     "output_type": "display_data"
    },
    {
     "data": {
      "application/vnd.plotly.v1+json": {
       "config": {
        "plotlyServerURL": "https://plot.ly"
       },
       "data": [
        {
         "alignmentgroup": "True",
         "bingroup": "x",
         "hovertemplate": "Price=%{x}<br>count=%{y}<extra></extra>",
         "legendgroup": "",
         "marker": {
          "color": "#636efa",
          "pattern": {
           "shape": ""
          }
         },
         "name": "",
         "offsetgroup": "",
         "orientation": "v",
         "showlegend": false,
         "type": "histogram",
         "x": [
          11.175754549129524,
          10.77677731765335,
          10.329931067029484,
          11.814475944954545,
          11.473100972779063,
          9.967025573340116,
          11.64410811545818,
          11.03061499223515,
          11.28544251205692,
          10.621951541079865,
          9.951658096208996,
          9.81907645733616,
          11.775302049361828,
          10.187966701099125,
          11.116330976323743,
          11.301072237406668,
          10.588945244611692,
          11.933438384721946,
          10.188167121983652,
          10.862092668762644,
          9.232535429245788,
          10.882315804880689,
          9.528520611153752,
          10.683645110085203,
          10.46628456073464,
          10.012572388296086,
          10.977716980635757,
          10.660172753900062,
          11.144140923496169,
          10.773501439207063,
          9.476778419617322,
          9.268865850956626,
          10.060060439307303,
          11.508719833687696,
          10.881314302543595,
          9.49301392269684,
          9.880922874286703,
          10.862092668762644,
          10.167289367847482,
          10.754345923917311,
          9.93914036985058,
          11.288114524334732,
          10.235123369655367,
          10.500590684075595,
          10.882315804880689,
          11.233268703392175,
          9.88635767027266,
          11.144911042902732,
          10.435465480609668,
          10.11974666035778,
          9.74075212901698,
          10.71015268620508,
          9.963243430044656,
          10.981350045485636,
          9.92620357881986,
          10.619090308798832,
          10.060060439307303,
          10.349204995339194,
          11.7789960831843,
          10.003839546462832,
          11.144911042902732,
          10.754345923917311,
          10.370822624347584,
          10.822504165817511,
          10.51225262382344,
          11.56792715475193,
          10.059354039524033,
          9.409283029786373,
          10.283659467741664,
          10.83096982484206,
          10.968576149165091,
          10.837272366712863,
          10.744054237880762,
          10.974070668482735,
          9.93914036985058,
          10.83096982484206,
          10.227464909398025,
          10.726662495168894,
          10.2484380327783,
          10.860047678274915,
          10.975129468486722,
          11.295425956041104,
          10.732493415479688,
          9.964522443121997,
          9.954446791133256,
          11.18267988243989,
          10.525211768465944,
          10.370805929717411,
          11.254189968552817,
          11.383485348791732,
          10.525211768465944,
          10.510802297245792,
          11.063134731790107,
          11.061462490597744,
          10.931153634628432,
          10.717261720884188,
          10.37232400089118,
          10.159709917169616,
          10.333403292740233,
          11.105659536357711,
          10.55342238395318,
          9.83063294843456,
          10.447907320733034,
          10.99575173454406,
          11.17598591917709,
          10.46628456073464,
          10.003598553570956,
          11.05978744833005,
          11.144911042902732,
          11.275358392990295,
          11.116014069333293,
          11.204674904025437,
          11.219074000897615,
          10.55758616512496,
          11.37128263483418,
          11.219066852909238,
          10.963974208231726,
          11.005825930702713,
          10.310615277730191,
          10.994857679947176,
          10.147261623643049,
          11.690461589827628,
          10.419692282932576,
          11.123120297421588,
          10.087028365734811,
          9.532389087931673,
          10.675061366393813,
          9.603146168052769,
          11.216927309554451,
          10.808592759018332,
          10.435449831034946,
          10.082583913974387,
          10.760018088869778,
          10.324700017611931,
          10.369151780182763,
          10.87124372398,
          9.506417665734745,
          10.81931097523836,
          10.188167121983652,
          10.525211768465944,
          10.460196261867386,
          10.99308509015976,
          10.742904151497523,
          10.375818471540954,
          9.88635767027266,
          10.977716980635757,
          11.583439099510642,
          9.816202683605532,
          11.590859366057948,
          10.078119620845705,
          11.105867681227291,
          10.776844060703754,
          10.186161103256786,
          11.51989313428582,
          10.96212748563856,
          10.403666298916727,
          10.419692282932576,
          11.157152970844,
          10.931153634628432,
          10.078119620845705,
          9.974497588178815,
          10.666403303650696,
          10.56586207442882,
          10.959350991490268,
          9.827763506006608,
          11.470547260182666,
          9.871367833143674,
          10.942047370678033,
          10.725492220020705,
          10.60095339424009,
          11.18267988243989,
          10.525211768465944,
          9.70890230312988,
          10.167923515707006,
          10.803190260734986,
          10.104611236292678,
          10.082583913974387,
          11.912578515747589,
          10.676292135779944,
          11.288114524334732,
          10.931153634628432,
          11.219074000897615,
          11.49796125761926,
          10.651384247866982,
          11.064804181259648,
          11.320925866649002,
          11.757534260666516,
          10.633572072102885,
          10.872255357854844,
          10.964896292206694,
          11.921470624845266,
          9.536242657247662,
          10.883216300213936,
          10.523780128994506,
          10.70777173269934,
          10.793391597686284,
          12.69144112852859,
          10.841452101115571,
          11.204674904025437,
          10.927333190631044,
          11.495795582706762,
          10.176070200274824,
          10.584910269399517,
          11.442360501250736,
          12.000095897837827,
          11.21835894902589,
          10.060060439307303,
          11.550632725739694,
          11.254189968552817,
          10.367478139624737,
          10.633572072102885,
          11.224776083346525,
          9.83063294843456,
          10.283659467741664,
          11.288114524334732,
          10.812765077263236,
          10.35398720988372,
          10.913845510249091,
          11.02220830408089,
          11.129394827810977,
          10.49374915225888,
          10.776844060703754,
          11.193004457928666,
          10.65264448747927,
          11.781988742399806,
          10.699393467053342,
          10.731341589592168,
          10.620651995737775,
          10.767905453702944,
          11.12154549394652,
          9.964497380151284,
          9.77465368069266,
          11.288114524334732,
          10.73132994821639,
          10.510802297245792,
          10.776844060703754,
          9.941707765355826,
          10.329931067029484,
          12.241725462844624,
          10.716080385838357,
          10.35398720988372,
          11.018720942220474,
          10.765658261746038,
          10.754345923917311,
          10.959350991490268,
          10.868202667404224,
          10.301710499387234,
          11.981595204981144,
          10.490273717104664,
          11.596266113070396,
          10.683645110085203,
          11.470547260182666,
          10.126163794678414,
          11.49796125761926,
          10.529494430257945,
          10.83096982484206,
          10.075655737865564,
          10.94064137183354,
          11.799206957067089,
          11.413356147904066,
          11.016097416448089,
          10.07138558866436,
          10.55758616512496,
          10.463245044716745,
          10.312386757378574,
          10.658921971998408,
          11.288114524334732,
          10.121890283901031,
          10.901156223342602,
          10.755482933704386,
          11.555699396421488,
          11.320925866649002,
          10.57552675900535,
          11.799206957067089,
          10.675061366393813,
          10.545140618545505,
          10.977716980635757,
          10.588945244611692,
          10.167923515707006,
          10.71962021254348,
          10.73132994821639,
          10.034684221813931,
          10.695781181367428,
          10.336863503805128,
          10.833075088777523,
          10.46628456073464,
          10.975895486507364,
          10.860047678274915,
          11.047982926769505,
          10.466299735126338,
          9.268865850956626,
          11.0547454208418,
          10.167923515707006,
          11.487085674623,
          10.580858947180335,
          11.144911042902732,
          10.862092668762644,
          11.942792677133784,
          10.188167121983652,
          11.267217235406594,
          10.208009042782656,
          11.635675345406062,
          10.450993742936223,
          10.283659467741664,
          11.118388427393754,
          9.861637279518702,
          11.563884703567355,
          10.925417481232904,
          10.683645110085203,
          10.126163794678414,
          10.882315804880689,
          11.799206957067089,
          11.624777346052769,
          10.126163794678414,
          9.592332123898704,
          10.71371352082809,
          11.7789960831843,
          10.106570100778011,
          10.863113597896753,
          10.159709917169616,
          11.13950771057468,
          10.35398720988372,
          10.97315700921406,
          10.780175546294757,
          10.46628456073464,
          9.652314828500415,
          10.283659467741664,
          10.93201122675303,
          11.172247597066484,
          11.853716362735458,
          11.064804181259648,
          10.82462730886559,
          11.171498252707703,
          10.082583913974387,
          10.882315804880689,
          11.120757161229305,
          10.931153634628432,
          11.017847198171877,
          9.592295759601168,
          11.016753943443987,
          9.591968421403331,
          10.776844060703754,
          10.54924119319278,
          11.624777346052769,
          11.340108040487776,
          11.004648590381796,
          9.6067728080535,
          11.358282600039752,
          9.902487052202543,
          10.472336016417996,
          11.590080353983309,
          11.148752768718731,
          11.226196538130814,
          11.436206670969892,
          11.221929106334594,
          10.853784502608232,
          9.750081515393676,
          10.882315804880689,
          10.298790318518323,
          11.23889064370897,
          10.060060439307303,
          10.826745953725876,
          10.55342238395318,
          10.435465480609668,
          10.188167121983652,
          9.93914036985058,
          10.964896292206694,
          10.671359943290623,
          10.776844060703754,
          11.442932093149691,
          10.977716980635757,
          10.030000372501505,
          11.671319016786894,
          10.167923515707006,
          10.742915658911176,
          10.167903065600154,
          10.290919027754468,
          9.70890230312988,
          9.631552837051986,
          10.716080385838357,
          11.058109595587434,
          9.975737513942136,
          11.387117314043296,
          10.977716980635757,
          11.44230332408728,
          11.708368556654154,
          10.283659467741664,
          11.197396851520583,
          11.64178295189486,
          11.803200572598556,
          10.921575017331362,
          11.34767905456992,
          10.518018577413224,
          11.18267988243989,
          10.633405177560588,
          10.188167121983652,
          11.08997268702302,
          10.81931097523836,
          11.88100267529242,
          11.84839720125786,
          9.699146128184514,
          11.307930232161196,
          11.018284165624754,
          10.754345923917311,
          11.69380197819145,
          11.510857728676225,
          11.44121633636619,
          11.402110098629436,
          9.989276182274937,
          9.694067896286716,
          11.53824227295402,
          11.547549475609571,
          10.126163794678414,
          10.64634002126892,
          10.808592759018332,
          10.37065566550255,
          10.510802297245792,
          11.288781413322436,
          10.267037568910904,
          11.078373090310093,
          11.52464373704442,
          10.082583913974387,
          11.23889064370897,
          10.367478139624737,
          11.912578515747589,
          11.030873869571886,
          11.016447617817454,
          10.977716980635757,
          11.575963360732532,
          9.67600459962282,
          9.570272405833974,
          10.89326663606744,
          10.370822624347584,
          11.777361428141106,
          11.7789960831843,
          11.410999046046683,
          9.824885806178992,
          11.671319016786894,
          11.75125677614738,
          10.301710499387234,
          10.227464909398025,
          10.594300009749354,
          11.240291204162,
          9.83063294843456,
          10.977716980635757,
          11.047982926769505,
          10.066418317218153,
          11.572957346444928,
          10.910678521970082,
          11.83458800598367,
          10.35398720988372,
          11.563884703567355,
          11.311195008159336,
          11.179710318268071,
          10.862092668762644,
          10.147261623643049,
          11.599202972743706,
          10.872255357854844,
          11.470547260182666,
          10.436872940377548,
          10.274510273088076,
          10.050907057320815,
          10.594300009749354,
          10.658921971998408,
          11.62048037119099,
          9.692588727638356,
          10.126163794678414,
          10.607562803627763,
          11.413356147904066,
          11.502816945605918,
          11.575963360732532,
          11.026550473300178,
          11.12626248382466,
          11.494086806506765,
          11.144911042902732,
          10.58221121243035,
          11.762112832660844,
          11.19373786463554,
          10.490273717104664,
          11.39733681987678,
          11.116014069333293,
          10.349904182775484,
          10.56311104105693,
          9.49261223560568,
          10.312386757378574,
          10.931153634628432,
          11.732612168264149,
          11.52464373704442,
          11.4699912412637,
          11.551145677789926,
          10.895234994607796,
          11.912578515747589,
          11.18342089766461,
          10.336863503805128,
          11.12154549394652,
          10.977716980635757,
          10.776732819811487,
          11.442360501250736,
          10.83096982484206,
          10.790103923492092,
          9.80450664384234,
          10.403650143697382,
          11.352694739066088,
          9.67600459962282,
          9.555290852218356,
          10.83096982484206,
          11.085440489304403,
          10.393925962168344,
          11.16321819034709,
          11.02220830408089,
          10.776844060703754,
          10.435465480609668,
          10.704189639316835,
          11.081544019025282,
          11.219752826912,
          9.47681923677686,
          10.232212772652003,
          11.971204630519404,
          10.765658261746038,
          11.291444530741918,
          11.219074000897615,
          11.219074000897615,
          11.129965423395353,
          10.510802297245792,
          10.765658261746038,
          11.17598591917709,
          10.658921971998408,
          10.104611236292678,
          10.34717287346399,
          11.203223524960787,
          11.98617622657084,
          10.732493415479688,
          11.144911042902732,
          9.88635767027266,
          11.383485348791732,
          11.197396851520583,
          10.656930001858216,
          9.964497380151284,
          11.470547260182666,
          10.73132994821639,
          11.219074000897615,
          10.576614498925236,
          11.018720942220474,
          10.657669623681942,
          9.83063294843456,
          10.534467797525002,
          10.641244744014545,
          10.11188320625578,
          9.959497306919324,
          11.430859511915424,
          10.188167121983652,
          10.993953872709785,
          11.876197639250138,
          10.274785970374204,
          11.130176383145796,
          9.387207078087174,
          9.51682457139056,
          10.83096982484206,
          10.319265697988737,
          10.401887658299067,
          9.83063294843456,
          10.421280845617712,
          11.558808550535495,
          11.981595204981144,
          10.70777173269934,
          11.352694739066088,
          10.841452101115571,
          10.580858947180335,
          9.816202683605532,
          10.87326596936077,
          11.504424909404817,
          9.93914036985058,
          10.450993742936223,
          10.696986727022775,
          10.50497986449436,
          9.49301392269684,
          11.50657735831005,
          11.862769612046066,
          11.887251546940472,
          10.594313360795072,
          9.93914036985058,
          10.89180021486258,
          10.55342238395318,
          11.313402478637911,
          9.662536382571954,
          11.737306010891048,
          11.2874471903093,
          11.397934727218958,
          10.38737929394203,
          11.454295851800008,
          10.580858947180335,
          10.83096982484206,
          10.37747822295932,
          11.413356147904066,
          10.246549458090431,
          10.104611236292678,
          11.588886005772771,
          11.271296098981416,
          11.396139931642937,
          11.450333208630004,
          11.081347155713406,
          10.480567504600335,
          9.771618776997505,
          11.671319016786894,
          10.11759843181949,
          11.715790550995315,
          11.219074000897615,
          10.310615277730191,
          11.144911042902732,
          9.83063294843456,
          12.472347407870709,
          10.754357300416876,
          10.071160338072124,
          9.858883414720411,
          10.742904151497523,
          11.038609189620306,
          10.319441460358464,
          11.211900368986475,
          11.702152960779438,
          9.91309723131456,
          11.00021005668577,
          11.265171547683302,
          10.629713546415353,
          10.658921971998408,
          10.812893840917726,
          10.776844060703754,
          9.452024578163645,
          10.12402932214978,
          10.435481129939486,
          11.482152806302976,
          11.525170191386666,
          11.274682488942933,
          10.695781181367428,
          10.336863503805128,
          9.964522443121997,
          10.785284424941176,
          11.508719833687696,
          9.49301392269684,
          11.44716312967751,
          11.758368289071829,
          10.9867750135825,
          10.23111911098328,
          11.779404329770909,
          11.039464987704202,
          10.084808608996498,
          9.588689132620203,
          10.79884714858782,
          11.838443060873624,
          11.076412935176185,
          11.343269598606504,
          11.912578515747589,
          10.53941655276426,
          11.254810893751282,
          11.058781074545012,
          9.875184369674535,
          10.945351696133724,
          10.79884714858782,
          11.009948956147635,
          11.06229896074271,
          12.029883488676532,
          11.089517135798168,
          10.013431946154272,
          10.25782777312814,
          10.265276597141131,
          11.27992228688911,
          10.186161103256786,
          10.837272366712863,
          10.588945244611692,
          11.11283946349252,
          9.99658437558166,
          11.508104342010856,
          10.682362236272311,
          10.916751081300507,
          9.83063294843456,
          10.525211768465944,
          11.14105450129298,
          11.009948956147635,
          10.180118788800824,
          11.715790550995315,
          11.144911042902732,
          10.8812140971224,
          10.013431946154272,
          11.601643784304514,
          10.525211768465944,
          11.288114524334732,
          11.917834418453076,
          10.393289544363068,
          10.277575423651992,
          10.319441460358464,
          9.73761240901231,
          9.902487052202543,
          10.525211768465944,
          11.529366637136484,
          11.834974180925718,
          10.85594510841814,
          9.570272405833974,
          11.442360501250736,
          10.481345086360362,
          11.512991062818642,
          10.510802297245792,
          10.683645110085203,
          9.964522443121997,
          10.03701794516015,
          10.407616483423654,
          10.084808608996498,
          10.653903140886465,
          10.882315804880689,
          11.50120100127367,
          11.058109595587434,
          10.460211528926417,
          11.105659536357711,
          10.968576149165091,
          10.56311104105693,
          9.672654512737536,
          11.238652353231751,
          10.729080621774308,
          11.047982926769505,
          9.672654512737536,
          9.555290852218356,
          11.065637862008224,
          11.406054689443872,
          10.704907085240231,
          11.288114524334732,
          12.1806155047626,
          11.182294337407903,
          10.169762314876662,
          10.55342238395318,
          10.450993742936223,
          10.354869672690878,
          10.167923515707006,
          11.543423631696015,
          10.450993742936223,
          10.452533389121816,
          10.301710499387234,
          10.842494310694017,
          10.633572072102885,
          11.76667053684216,
          10.46628456073464,
          11.6226216177553,
          9.993667504286536,
          11.071454247329664,
          10.475348066887989,
          11.311846686253432,
          10.882315804880689,
          12.076935697460716,
          9.77465368069266,
          11.383485348791732,
          10.265276597141131,
          11.002618186839925,
          12.362417715920367,
          10.138875830266777,
          11.525170191386666,
          10.336863503805128,
          10.974983493740094,
          10.720679721736714,
          11.064804181259648,
          10.977716980635757,
          11.328642946747566,
          11.937276356672394,
          10.370822624347584,
          10.93019989111312,
          11.503355013953575,
          11.32736089528991,
          11.004648590381796,
          10.71962021254348,
          10.460196261867386,
          10.12901686366082,
          10.977716980635757,
          11.352694739066088,
          9.672654512737536,
          11.049906436113686,
          11.470547260182666,
          10.90311893251045,
          10.977716980635757,
          11.101648299531258,
          10.70777173269934,
          11.74620626036131,
          10.430759589572256,
          11.947682155153789,
          10.34185963789476,
          12.161134189998078,
          11.737731633370338,
          11.45090026279887,
          9.771618776997505,
          11.715790550995315,
          11.520422094890591,
          10.968576149165091,
          10.882315804880689,
          11.715790550995315,
          10.868202667404224,
          11.175239371923306,
          9.288274273063903,
          11.561349847964168,
          10.841452101115571,
          11.036037392231934,
          11.72918457279188,
          9.67600459962282,
          10.67259527389862,
          11.18267988243989,
          10.580858947180335,
          11.608398104304564,
          10.977716980635757,
          11.288114524334732,
          11.442360501250736,
          10.587602061065226,
          11.211900368986475,
          10.634854945915771,
          10.419692282932576,
          11.401514683309674,
          10.38737929394203,
          11.442360501250736,
          11.765015592318807,
          11.288114524334732,
          10.843535435202426,
          10.647353436437802,
          11.503355013953575,
          11.470547260182666,
          9.928804360519916,
          11.801613023751164,
          10.602278775481158,
          10.169762314876662,
          10.969494001455322,
          11.799206957067089,
          11.064804181259648,
          11.511924964636645,
          10.188167121983652,
          11.189329334350775,
          10.34717287346399,
          9.84767881570755,
          10.403666298916727,
          12.587882562739948,
          11.624777346052769,
          10.227464909398025,
          11.053902605789805,
          11.38409159312676,
          11.903833710189655,
          11.76667053684216,
          10.481345086360362,
          9.759386208561873,
          10.3556835631319,
          11.470547260182666,
          12.0059347920825,
          10.78900562574303,
          10.546429982871398,
          11.509254736080766,
          10.580858947180335,
          10.397183294038651,
          10.908984051962848,
          11.706175092295874,
          11.267217235406594,
          9.67600459962282,
          11.52464373704442,
          10.738290533164012,
          11.526747893528285,
          10.643789274649537,
          10.826745953725876,
          10.082583913974387,
          11.822932862391925,
          10.450993742936223,
          10.126163794678414,
          10.7215735450074,
          11.18267988243989,
          11.134075023561454,
          10.900173422280696,
          11.68979217108122,
          10.78900562574303,
          10.974070668482735,
          11.551145677789926,
          10.780175546294757,
          11.458805442305984,
          10.9368570721423,
          10.147261623643049,
          11.211180167298885,
          10.575431525444971,
          11.49796125761926,
          11.408044834149251,
          9.964497380151284,
          10.81610755552082,
          10.79174911168878,
          10.70777173269934,
          11.41394455627644,
          10.504687851059666,
          9.827763506006608,
          10.481345086360362,
          9.88635767027266,
          11.470547260182666,
          10.09739572450197,
          11.198054049689478,
          9.669293165034832,
          9.91309723131456,
          11.118388427393754,
          11.219074000897615,
          11.413356147904066,
          11.470547260182666,
          11.857498515504204,
          11.271974295006054,
          10.809669765045973,
          10.777955789556444,
          10.395555954379276,
          10.81610755552082,
          11.582992127736915,
          11.129394827810977,
          11.383485348791732,
          11.600668174471034,
          11.557785126252114,
          11.624777346052769,
          11.277383368370064,
          9.858883414720411,
          10.646327347078008,
          11.52464373704442,
          11.06979587215689,
          12.01471841670537,
          10.646327347078008,
          10.902128245864017,
          10.188167121983652,
          10.756618652168314,
          10.842494310694017,
          11.352694739066088,
          11.18267988243989,
          10.996564630149608,
          10.504965265847654,
          11.143362500418624,
          11.02220830408089,
          11.563884703567355,
          11.484896292248726,
          10.56846856468972,
          11.38409159312676,
          11.036037392231934,
          10.538089862097848,
          11.02220830408089,
          9.70890230312988,
          11.340108040487776,
          9.641641633704324,
          11.470547260182666,
          10.983161640183988,
          11.395540949893968,
          10.30099467974321,
          11.064804181259648,
          11.377402604975964,
          11.89782208458538,
          11.219074000897615,
          10.2484380327783,
          10.403666298916727,
          10.99575173454406,
          11.144911042902732,
          10.882315804880689,
          11.27007418585674,
          10.50497986449436,
          10.46628456073464,
          9.83063294843456,
          11.69380197819145,
          11.45711672814165,
          11.261752740934517,
          11.030873869571886,
          11.281414342976868,
          12.031987793755118,
          11.52464373704442,
          10.62842405558548,
          11.120757161229305,
          9.93914036985058,
          11.311846686253432,
          11.448630114264333,
          10.892276046585742,
          11.465531925066934,
          10.716671227805325,
          10.118930877053268,
          10.690944412566814,
          10.50497986449436,
          12.030401247333158,
          10.519472871796928,
          11.52464373704442,
          11.55778003196968,
          11.91293572239543,
          11.048830743691845,
          11.601107316686976,
          10.862092668762644,
          10.885314307876945,
          11.470547260182666,
          10.336863503805128,
          11.442360501250736,
          11.144911042902732,
          11.061462490597744,
          10.283659467741664,
          10.450993742936223,
          10.794485091507656,
          10.370822624347584,
          10.667644768738764,
          11.056428922922915,
          10.594300009749354,
          10.99575173454406,
          11.529371878240363,
          10.188167121983652,
          9.576276649067632,
          11.18267988243989,
          10.765658261746038,
          11.02307824758943,
          11.18267988243989,
          9.915732278952564,
          11.470547260182666,
          11.6200017877887,
          11.114428026177658,
          11.056428922922915,
          10.280009828654116,
          10.633572072102885,
          11.061462490597744,
          10.978617394068182,
          11.06979587215689,
          11.254189968552817,
          10.931401459017524,
          10.503518943854685,
          10.83096982484206,
          11.314449160071012,
          11.34705032144641,
          11.518415853167008,
          10.660172753900062,
          11.07393666482292,
          10.621938553982543,
          11.971204630519404,
          11.28209242517164,
          11.684869359618002,
          10.655147649183531,
          11.34705032144641,
          11.02220830408089,
          11.053421883178572,
          10.928710232504155,
          11.32736089528991,
          11.056428922922915,
          10.941585213338248,
          11.368208546953756,
          10.9602773463504,
          10.85594510841814,
          9.989276182274937,
          11.058781074545012,
          11.061462490597744,
          11.089508999068563,
          11.18267988243989,
          10.584910269399517,
          11.428543355697592,
          10.944364366779205,
          10.893771459117888,
          10.717261720884188,
          9.326470842899342,
          11.237488118934884,
          10.93172544442196,
          10.88331630521427,
          11.626842862666368,
          11.26789820240601,
          11.318754369272693,
          11.711863755958657,
          9.638174223850264,
          11.846490622987275,
          10.862092668762644,
          10.97315700921406,
          10.862092668762644,
          11.696022720831856,
          10.533971572370383,
          10.188167121983652,
          10.082583913974387,
          11.144911042902732,
          11.481603204750256,
          10.950974953688084,
          10.881314302543595,
          10.301710499387234,
          10.873255868299651,
          11.540318039137862,
          11.260381938800736,
          12.263341053320566,
          10.657682154931749,
          11.167743084945378,
          11.145680569681762,
          10.15346364564591,
          11.064804181259648,
          11.064804181259648,
          10.969494001455322,
          11.421848531521595,
          10.46628456073464,
          10.860047678274915,
          11.799206957067089,
          10.267130165790451,
          10.821440901496183,
          11.219074000897615,
          12.05888963501851,
          10.446778399351528,
          11.600668174471034,
          10.59563423276249,
          10.913835810881007,
          11.28544251205692,
          11.064804181259648,
          10.397183294038651,
          9.933985719261916,
          9.950616680806068,
          9.82197089913809,
          11.352694739066088,
          10.682851144184026,
          11.352694739066088,
          10.658921971998408,
          10.435152442572992,
          11.352694739066088,
          10.190169124654323,
          11.715790550995315,
          11.010081106005767,
          11.037726951247386,
          9.317895278196945,
          11.947682155153789,
          11.064804181259648,
          11.229102177820836,
          11.296213725139731,
          10.740600003012675,
          9.962013031516571,
          11.175239371923306,
          11.413356147904066,
          10.620847035233894,
          10.03701794516015,
          11.56084210487126,
          10.283659467741664,
          11.204674904025437,
          11.894913580522502,
          10.911903762066183,
          11.683522558067624,
          11.155242401621267,
          9.253675685462651,
          11.408044834149251,
          11.29741074002049,
          10.236346354272076,
          10.050907057320815,
          11.395540949893968,
          10.147261623643049,
          11.52253514374866,
          10.872255357854844,
          11.004648590381796,
          10.419692282932576,
          11.601341447040118,
          9.60318213992277,
          10.598297350181973,
          10.398807989765654,
          10.977716980635757,
          12.256879973855344,
          10.639970046582542,
          11.758368289071829,
          11.658835785532077,
          11.775314344519382,
          11.016797696588752,
          11.37128263483418,
          11.684869359618002,
          11.470547260182666,
          11.52464373704442,
          11.71489846116146,
          10.893167621264643,
          11.340108040487776,
          11.733039792816312,
          9.801561133612584,
          9.669293165034832,
          10.370822624347584,
          11.064804181259648,
          11.694548697992886,
          10.147031952176633,
          11.283969856325212,
          11.715790550995315,
          10.645680750246626,
          11.596756189041978,
          11.288114524334732,
          11.45373072039192,
          10.776844060703754,
          10.104611236292678,
          10.143056552540132,
          11.2874471903093,
          11.212620052356872,
          10.12402932214978,
          9.49301392269684,
          10.70777173269934,
          10.49618215379083,
          11.030873869571886,
          9.88635767027266,
          9.962013031516571,
          10.53941655276426,
          10.620651995737775,
          10.690944412566814,
          11.149519345988928,
          11.650350362059475,
          10.452533389121816,
          11.37618160360327,
          10.698190821087582,
          10.772395917628929,
          9.783703516212578,
          10.658921971998408,
          10.787906120409612,
          11.047982926769505,
          10.513700849999804,
          10.977716980635757,
          11.838443060873624,
          10.683645110085203,
          10.159709917169616,
          11.034319178750795,
          11.064804181259648,
          11.166237060564342,
          9.883643964401063,
          11.648784147353842,
          9.58136309252813,
          11.600619368985289,
          10.188167121983652,
          10.419692282932576,
          11.134075023561454,
          11.869133099737036,
          11.039464987704202,
          10.765658261746038,
          10.336863503805128,
          9.67600459962282,
          10.419692282932576,
          11.7789960831843,
          11.129394827810977,
          11.442360501250736,
          11.550627594890203,
          10.882315804880689,
          11.550632725739694,
          9.134616325446665,
          10.369151780182763,
          10.265276597141131,
          11.1239067701322,
          11.02220830408089,
          11.307930232161196,
          11.272726554360904,
          10.246549458090431,
          11.421778496562451,
          10.208009042782656,
          9.70890230312988,
          11.273329308763511,
          10.23296037890921,
          10.911903762066183,
          11.02220830408089,
          11.38409159312676,
          12.135793518599822,
          10.126185116412724,
          11.352069152558354,
          10.841452101115571,
          10.14517175872359,
          11.670950599679989,
          10.578148918421473,
          11.039464987704202,
          11.288114524334732,
          10.368432457987426,
          11.130176383145796,
          9.866652599193328,
          11.470547260182666,
          10.978617394068182,
          11.353319934460009,
          10.749784912589748,
          11.727036344253593,
          10.326446742946873,
          11.478299236986985,
          9.756304542024465,
          9.964522443121997,
          10.319441460358464,
          10.952842367862882,
          10.0713630658882,
          9.801561133612584,
          11.525170191386666,
          10.169966417336806,
          10.772384744506988,
          11.089517135798168,
          10.70060667312884,
          10.567234758240792,
          10.104611236292678,
          9.641987714344566,
          9.91309723131456,
          10.776844060703754,
          10.285461122475176,
          10.667632361713904,
          9.317895278196945,
          10.5552565839505,
          10.433899309576924,
          11.288114524334732,
          9.409283029786373,
          10.614128815398654
         ],
         "xaxis": "x",
         "yaxis": "y"
        }
       ],
       "layout": {
        "barmode": "relative",
        "legend": {
         "tracegroupgap": 0
        },
        "margin": {
         "t": 60
        },
        "template": {
         "data": {
          "bar": [
           {
            "error_x": {
             "color": "#2a3f5f"
            },
            "error_y": {
             "color": "#2a3f5f"
            },
            "marker": {
             "line": {
              "color": "#E5ECF6",
              "width": 0.5
             },
             "pattern": {
              "fillmode": "overlay",
              "size": 10,
              "solidity": 0.2
             }
            },
            "type": "bar"
           }
          ],
          "barpolar": [
           {
            "marker": {
             "line": {
              "color": "#E5ECF6",
              "width": 0.5
             },
             "pattern": {
              "fillmode": "overlay",
              "size": 10,
              "solidity": 0.2
             }
            },
            "type": "barpolar"
           }
          ],
          "carpet": [
           {
            "aaxis": {
             "endlinecolor": "#2a3f5f",
             "gridcolor": "white",
             "linecolor": "white",
             "minorgridcolor": "white",
             "startlinecolor": "#2a3f5f"
            },
            "baxis": {
             "endlinecolor": "#2a3f5f",
             "gridcolor": "white",
             "linecolor": "white",
             "minorgridcolor": "white",
             "startlinecolor": "#2a3f5f"
            },
            "type": "carpet"
           }
          ],
          "choropleth": [
           {
            "colorbar": {
             "outlinewidth": 0,
             "ticks": ""
            },
            "type": "choropleth"
           }
          ],
          "contour": [
           {
            "colorbar": {
             "outlinewidth": 0,
             "ticks": ""
            },
            "colorscale": [
             [
              0,
              "#0d0887"
             ],
             [
              0.1111111111111111,
              "#46039f"
             ],
             [
              0.2222222222222222,
              "#7201a8"
             ],
             [
              0.3333333333333333,
              "#9c179e"
             ],
             [
              0.4444444444444444,
              "#bd3786"
             ],
             [
              0.5555555555555556,
              "#d8576b"
             ],
             [
              0.6666666666666666,
              "#ed7953"
             ],
             [
              0.7777777777777778,
              "#fb9f3a"
             ],
             [
              0.8888888888888888,
              "#fdca26"
             ],
             [
              1,
              "#f0f921"
             ]
            ],
            "type": "contour"
           }
          ],
          "contourcarpet": [
           {
            "colorbar": {
             "outlinewidth": 0,
             "ticks": ""
            },
            "type": "contourcarpet"
           }
          ],
          "heatmap": [
           {
            "colorbar": {
             "outlinewidth": 0,
             "ticks": ""
            },
            "colorscale": [
             [
              0,
              "#0d0887"
             ],
             [
              0.1111111111111111,
              "#46039f"
             ],
             [
              0.2222222222222222,
              "#7201a8"
             ],
             [
              0.3333333333333333,
              "#9c179e"
             ],
             [
              0.4444444444444444,
              "#bd3786"
             ],
             [
              0.5555555555555556,
              "#d8576b"
             ],
             [
              0.6666666666666666,
              "#ed7953"
             ],
             [
              0.7777777777777778,
              "#fb9f3a"
             ],
             [
              0.8888888888888888,
              "#fdca26"
             ],
             [
              1,
              "#f0f921"
             ]
            ],
            "type": "heatmap"
           }
          ],
          "heatmapgl": [
           {
            "colorbar": {
             "outlinewidth": 0,
             "ticks": ""
            },
            "colorscale": [
             [
              0,
              "#0d0887"
             ],
             [
              0.1111111111111111,
              "#46039f"
             ],
             [
              0.2222222222222222,
              "#7201a8"
             ],
             [
              0.3333333333333333,
              "#9c179e"
             ],
             [
              0.4444444444444444,
              "#bd3786"
             ],
             [
              0.5555555555555556,
              "#d8576b"
             ],
             [
              0.6666666666666666,
              "#ed7953"
             ],
             [
              0.7777777777777778,
              "#fb9f3a"
             ],
             [
              0.8888888888888888,
              "#fdca26"
             ],
             [
              1,
              "#f0f921"
             ]
            ],
            "type": "heatmapgl"
           }
          ],
          "histogram": [
           {
            "marker": {
             "pattern": {
              "fillmode": "overlay",
              "size": 10,
              "solidity": 0.2
             }
            },
            "type": "histogram"
           }
          ],
          "histogram2d": [
           {
            "colorbar": {
             "outlinewidth": 0,
             "ticks": ""
            },
            "colorscale": [
             [
              0,
              "#0d0887"
             ],
             [
              0.1111111111111111,
              "#46039f"
             ],
             [
              0.2222222222222222,
              "#7201a8"
             ],
             [
              0.3333333333333333,
              "#9c179e"
             ],
             [
              0.4444444444444444,
              "#bd3786"
             ],
             [
              0.5555555555555556,
              "#d8576b"
             ],
             [
              0.6666666666666666,
              "#ed7953"
             ],
             [
              0.7777777777777778,
              "#fb9f3a"
             ],
             [
              0.8888888888888888,
              "#fdca26"
             ],
             [
              1,
              "#f0f921"
             ]
            ],
            "type": "histogram2d"
           }
          ],
          "histogram2dcontour": [
           {
            "colorbar": {
             "outlinewidth": 0,
             "ticks": ""
            },
            "colorscale": [
             [
              0,
              "#0d0887"
             ],
             [
              0.1111111111111111,
              "#46039f"
             ],
             [
              0.2222222222222222,
              "#7201a8"
             ],
             [
              0.3333333333333333,
              "#9c179e"
             ],
             [
              0.4444444444444444,
              "#bd3786"
             ],
             [
              0.5555555555555556,
              "#d8576b"
             ],
             [
              0.6666666666666666,
              "#ed7953"
             ],
             [
              0.7777777777777778,
              "#fb9f3a"
             ],
             [
              0.8888888888888888,
              "#fdca26"
             ],
             [
              1,
              "#f0f921"
             ]
            ],
            "type": "histogram2dcontour"
           }
          ],
          "mesh3d": [
           {
            "colorbar": {
             "outlinewidth": 0,
             "ticks": ""
            },
            "type": "mesh3d"
           }
          ],
          "parcoords": [
           {
            "line": {
             "colorbar": {
              "outlinewidth": 0,
              "ticks": ""
             }
            },
            "type": "parcoords"
           }
          ],
          "pie": [
           {
            "automargin": true,
            "type": "pie"
           }
          ],
          "scatter": [
           {
            "fillpattern": {
             "fillmode": "overlay",
             "size": 10,
             "solidity": 0.2
            },
            "type": "scatter"
           }
          ],
          "scatter3d": [
           {
            "line": {
             "colorbar": {
              "outlinewidth": 0,
              "ticks": ""
             }
            },
            "marker": {
             "colorbar": {
              "outlinewidth": 0,
              "ticks": ""
             }
            },
            "type": "scatter3d"
           }
          ],
          "scattercarpet": [
           {
            "marker": {
             "colorbar": {
              "outlinewidth": 0,
              "ticks": ""
             }
            },
            "type": "scattercarpet"
           }
          ],
          "scattergeo": [
           {
            "marker": {
             "colorbar": {
              "outlinewidth": 0,
              "ticks": ""
             }
            },
            "type": "scattergeo"
           }
          ],
          "scattergl": [
           {
            "marker": {
             "colorbar": {
              "outlinewidth": 0,
              "ticks": ""
             }
            },
            "type": "scattergl"
           }
          ],
          "scattermapbox": [
           {
            "marker": {
             "colorbar": {
              "outlinewidth": 0,
              "ticks": ""
             }
            },
            "type": "scattermapbox"
           }
          ],
          "scatterpolar": [
           {
            "marker": {
             "colorbar": {
              "outlinewidth": 0,
              "ticks": ""
             }
            },
            "type": "scatterpolar"
           }
          ],
          "scatterpolargl": [
           {
            "marker": {
             "colorbar": {
              "outlinewidth": 0,
              "ticks": ""
             }
            },
            "type": "scatterpolargl"
           }
          ],
          "scatterternary": [
           {
            "marker": {
             "colorbar": {
              "outlinewidth": 0,
              "ticks": ""
             }
            },
            "type": "scatterternary"
           }
          ],
          "surface": [
           {
            "colorbar": {
             "outlinewidth": 0,
             "ticks": ""
            },
            "colorscale": [
             [
              0,
              "#0d0887"
             ],
             [
              0.1111111111111111,
              "#46039f"
             ],
             [
              0.2222222222222222,
              "#7201a8"
             ],
             [
              0.3333333333333333,
              "#9c179e"
             ],
             [
              0.4444444444444444,
              "#bd3786"
             ],
             [
              0.5555555555555556,
              "#d8576b"
             ],
             [
              0.6666666666666666,
              "#ed7953"
             ],
             [
              0.7777777777777778,
              "#fb9f3a"
             ],
             [
              0.8888888888888888,
              "#fdca26"
             ],
             [
              1,
              "#f0f921"
             ]
            ],
            "type": "surface"
           }
          ],
          "table": [
           {
            "cells": {
             "fill": {
              "color": "#EBF0F8"
             },
             "line": {
              "color": "white"
             }
            },
            "header": {
             "fill": {
              "color": "#C8D4E3"
             },
             "line": {
              "color": "white"
             }
            },
            "type": "table"
           }
          ]
         },
         "layout": {
          "annotationdefaults": {
           "arrowcolor": "#2a3f5f",
           "arrowhead": 0,
           "arrowwidth": 1
          },
          "autotypenumbers": "strict",
          "coloraxis": {
           "colorbar": {
            "outlinewidth": 0,
            "ticks": ""
           }
          },
          "colorscale": {
           "diverging": [
            [
             0,
             "#8e0152"
            ],
            [
             0.1,
             "#c51b7d"
            ],
            [
             0.2,
             "#de77ae"
            ],
            [
             0.3,
             "#f1b6da"
            ],
            [
             0.4,
             "#fde0ef"
            ],
            [
             0.5,
             "#f7f7f7"
            ],
            [
             0.6,
             "#e6f5d0"
            ],
            [
             0.7,
             "#b8e186"
            ],
            [
             0.8,
             "#7fbc41"
            ],
            [
             0.9,
             "#4d9221"
            ],
            [
             1,
             "#276419"
            ]
           ],
           "sequential": [
            [
             0,
             "#0d0887"
            ],
            [
             0.1111111111111111,
             "#46039f"
            ],
            [
             0.2222222222222222,
             "#7201a8"
            ],
            [
             0.3333333333333333,
             "#9c179e"
            ],
            [
             0.4444444444444444,
             "#bd3786"
            ],
            [
             0.5555555555555556,
             "#d8576b"
            ],
            [
             0.6666666666666666,
             "#ed7953"
            ],
            [
             0.7777777777777778,
             "#fb9f3a"
            ],
            [
             0.8888888888888888,
             "#fdca26"
            ],
            [
             1,
             "#f0f921"
            ]
           ],
           "sequentialminus": [
            [
             0,
             "#0d0887"
            ],
            [
             0.1111111111111111,
             "#46039f"
            ],
            [
             0.2222222222222222,
             "#7201a8"
            ],
            [
             0.3333333333333333,
             "#9c179e"
            ],
            [
             0.4444444444444444,
             "#bd3786"
            ],
            [
             0.5555555555555556,
             "#d8576b"
            ],
            [
             0.6666666666666666,
             "#ed7953"
            ],
            [
             0.7777777777777778,
             "#fb9f3a"
            ],
            [
             0.8888888888888888,
             "#fdca26"
            ],
            [
             1,
             "#f0f921"
            ]
           ]
          },
          "colorway": [
           "#636efa",
           "#EF553B",
           "#00cc96",
           "#ab63fa",
           "#FFA15A",
           "#19d3f3",
           "#FF6692",
           "#B6E880",
           "#FF97FF",
           "#FECB52"
          ],
          "font": {
           "color": "#2a3f5f"
          },
          "geo": {
           "bgcolor": "white",
           "lakecolor": "white",
           "landcolor": "#E5ECF6",
           "showlakes": true,
           "showland": true,
           "subunitcolor": "white"
          },
          "hoverlabel": {
           "align": "left"
          },
          "hovermode": "closest",
          "mapbox": {
           "style": "light"
          },
          "paper_bgcolor": "white",
          "plot_bgcolor": "#E5ECF6",
          "polar": {
           "angularaxis": {
            "gridcolor": "white",
            "linecolor": "white",
            "ticks": ""
           },
           "bgcolor": "#E5ECF6",
           "radialaxis": {
            "gridcolor": "white",
            "linecolor": "white",
            "ticks": ""
           }
          },
          "scene": {
           "xaxis": {
            "backgroundcolor": "#E5ECF6",
            "gridcolor": "white",
            "gridwidth": 2,
            "linecolor": "white",
            "showbackground": true,
            "ticks": "",
            "zerolinecolor": "white"
           },
           "yaxis": {
            "backgroundcolor": "#E5ECF6",
            "gridcolor": "white",
            "gridwidth": 2,
            "linecolor": "white",
            "showbackground": true,
            "ticks": "",
            "zerolinecolor": "white"
           },
           "zaxis": {
            "backgroundcolor": "#E5ECF6",
            "gridcolor": "white",
            "gridwidth": 2,
            "linecolor": "white",
            "showbackground": true,
            "ticks": "",
            "zerolinecolor": "white"
           }
          },
          "shapedefaults": {
           "line": {
            "color": "#2a3f5f"
           }
          },
          "ternary": {
           "aaxis": {
            "gridcolor": "white",
            "linecolor": "white",
            "ticks": ""
           },
           "baxis": {
            "gridcolor": "white",
            "linecolor": "white",
            "ticks": ""
           },
           "bgcolor": "#E5ECF6",
           "caxis": {
            "gridcolor": "white",
            "linecolor": "white",
            "ticks": ""
           }
          },
          "title": {
           "x": 0.05
          },
          "xaxis": {
           "automargin": true,
           "gridcolor": "white",
           "linecolor": "white",
           "ticks": "",
           "title": {
            "standoff": 15
           },
           "zerolinecolor": "white",
           "zerolinewidth": 2
          },
          "yaxis": {
           "automargin": true,
           "gridcolor": "white",
           "linecolor": "white",
           "ticks": "",
           "title": {
            "standoff": 15
           },
           "zerolinecolor": "white",
           "zerolinewidth": 2
          }
         }
        },
        "xaxis": {
         "anchor": "y",
         "domain": [
          0,
          1
         ],
         "title": {
          "text": "Price"
         }
        },
        "yaxis": {
         "anchor": "x",
         "domain": [
          0,
          1
         ],
         "title": {
          "text": "count"
         }
        }
       }
      }
     },
     "metadata": {},
     "output_type": "display_data"
    },
    {
     "data": {
      "application/vnd.plotly.v1+json": {
       "config": {
        "plotlyServerURL": "https://plot.ly"
       },
       "data": [
        {
         "alignmentgroup": "True",
         "bingroup": "x",
         "hovertemplate": "TouchScreen=%{x}<br>count=%{y}<extra></extra>",
         "legendgroup": "",
         "marker": {
          "color": "#636efa",
          "pattern": {
           "shape": ""
          }
         },
         "name": "",
         "offsetgroup": "",
         "orientation": "v",
         "showlegend": false,
         "type": "histogram",
         "x": [
          0,
          0,
          0,
          0,
          0,
          0,
          0,
          0,
          0,
          0,
          0,
          0,
          0,
          0,
          0,
          0,
          0,
          0,
          0,
          1,
          0,
          0,
          0,
          1,
          0,
          0,
          0,
          0,
          0,
          0,
          0,
          0,
          0,
          1,
          0,
          0,
          0,
          0,
          0,
          0,
          0,
          0,
          0,
          0,
          1,
          0,
          0,
          0,
          0,
          0,
          1,
          0,
          0,
          0,
          0,
          0,
          0,
          0,
          0,
          0,
          0,
          0,
          0,
          0,
          0,
          0,
          0,
          0,
          0,
          0,
          1,
          0,
          0,
          0,
          0,
          0,
          0,
          0,
          0,
          0,
          0,
          0,
          0,
          0,
          0,
          0,
          0,
          0,
          0,
          0,
          0,
          0,
          0,
          0,
          0,
          1,
          0,
          0,
          0,
          0,
          0,
          0,
          0,
          0,
          1,
          0,
          0,
          0,
          0,
          0,
          0,
          1,
          1,
          0,
          0,
          1,
          0,
          0,
          0,
          0,
          1,
          0,
          0,
          0,
          0,
          0,
          0,
          0,
          0,
          0,
          0,
          0,
          0,
          0,
          0,
          0,
          0,
          0,
          0,
          0,
          0,
          0,
          0,
          0,
          0,
          0,
          1,
          0,
          0,
          0,
          0,
          0,
          0,
          0,
          0,
          0,
          1,
          1,
          1,
          0,
          0,
          0,
          0,
          0,
          0,
          0,
          0,
          0,
          0,
          0,
          0,
          0,
          0,
          0,
          0,
          0,
          0,
          0,
          0,
          1,
          0,
          0,
          1,
          0,
          0,
          1,
          1,
          0,
          0,
          0,
          1,
          0,
          0,
          0,
          1,
          0,
          1,
          0,
          0,
          0,
          0,
          0,
          0,
          0,
          0,
          0,
          1,
          1,
          0,
          0,
          0,
          0,
          0,
          0,
          0,
          0,
          0,
          0,
          0,
          1,
          0,
          0,
          0,
          0,
          0,
          0,
          1,
          0,
          0,
          0,
          0,
          0,
          0,
          0,
          1,
          0,
          0,
          0,
          0,
          0,
          0,
          0,
          0,
          0,
          1,
          0,
          1,
          0,
          0,
          0,
          1,
          0,
          0,
          1,
          0,
          0,
          0,
          0,
          0,
          1,
          0,
          0,
          0,
          0,
          0,
          1,
          1,
          0,
          0,
          0,
          0,
          0,
          0,
          1,
          0,
          0,
          0,
          0,
          0,
          0,
          0,
          0,
          0,
          0,
          0,
          1,
          0,
          0,
          0,
          0,
          0,
          0,
          0,
          0,
          0,
          0,
          0,
          0,
          0,
          0,
          0,
          0,
          0,
          0,
          0,
          0,
          1,
          0,
          0,
          0,
          0,
          1,
          0,
          0,
          1,
          0,
          1,
          0,
          0,
          0,
          0,
          0,
          0,
          0,
          0,
          0,
          0,
          0,
          0,
          1,
          0,
          0,
          0,
          0,
          0,
          0,
          0,
          0,
          0,
          0,
          0,
          0,
          0,
          1,
          0,
          0,
          0,
          0,
          1,
          0,
          1,
          0,
          0,
          0,
          0,
          0,
          0,
          0,
          1,
          0,
          0,
          0,
          0,
          0,
          0,
          0,
          0,
          0,
          0,
          0,
          1,
          0,
          0,
          0,
          1,
          0,
          0,
          0,
          0,
          0,
          0,
          0,
          0,
          0,
          1,
          0,
          0,
          0,
          0,
          1,
          0,
          0,
          0,
          0,
          0,
          0,
          0,
          0,
          1,
          0,
          0,
          0,
          0,
          0,
          0,
          0,
          0,
          0,
          0,
          0,
          0,
          0,
          0,
          1,
          1,
          0,
          0,
          0,
          0,
          0,
          1,
          0,
          0,
          0,
          0,
          0,
          0,
          0,
          0,
          1,
          0,
          0,
          0,
          0,
          0,
          0,
          0,
          1,
          0,
          0,
          0,
          0,
          0,
          0,
          0,
          0,
          0,
          0,
          0,
          1,
          0,
          0,
          0,
          0,
          0,
          1,
          0,
          1,
          1,
          0,
          0,
          0,
          0,
          0,
          0,
          0,
          0,
          0,
          0,
          0,
          1,
          0,
          1,
          1,
          0,
          0,
          0,
          0,
          0,
          0,
          0,
          0,
          0,
          0,
          0,
          0,
          0,
          0,
          0,
          0,
          0,
          1,
          0,
          0,
          1,
          0,
          0,
          0,
          0,
          0,
          0,
          0,
          1,
          0,
          0,
          0,
          0,
          0,
          0,
          0,
          1,
          0,
          0,
          0,
          0,
          0,
          1,
          0,
          0,
          0,
          0,
          0,
          0,
          0,
          0,
          0,
          0,
          0,
          0,
          0,
          0,
          0,
          0,
          0,
          0,
          0,
          0,
          0,
          0,
          0,
          1,
          0,
          0,
          0,
          0,
          0,
          0,
          0,
          0,
          0,
          0,
          0,
          0,
          0,
          0,
          0,
          0,
          0,
          0,
          0,
          1,
          0,
          1,
          0,
          0,
          1,
          0,
          0,
          0,
          0,
          0,
          0,
          0,
          0,
          0,
          0,
          1,
          0,
          0,
          0,
          0,
          0,
          0,
          0,
          0,
          0,
          0,
          0,
          1,
          0,
          1,
          0,
          1,
          0,
          0,
          0,
          1,
          0,
          1,
          1,
          0,
          0,
          0,
          0,
          0,
          0,
          0,
          0,
          1,
          0,
          0,
          0,
          0,
          0,
          0,
          0,
          0,
          0,
          0,
          1,
          0,
          0,
          0,
          0,
          0,
          0,
          0,
          0,
          1,
          0,
          0,
          0,
          0,
          0,
          0,
          0,
          1,
          0,
          1,
          1,
          0,
          0,
          0,
          0,
          0,
          0,
          0,
          0,
          0,
          0,
          0,
          0,
          0,
          0,
          0,
          0,
          0,
          0,
          0,
          0,
          0,
          0,
          0,
          0,
          0,
          0,
          0,
          0,
          0,
          0,
          1,
          0,
          1,
          0,
          1,
          0,
          0,
          1,
          0,
          0,
          0,
          0,
          0,
          0,
          1,
          0,
          0,
          0,
          0,
          0,
          0,
          0,
          0,
          1,
          0,
          0,
          1,
          1,
          1,
          0,
          0,
          0,
          0,
          0,
          0,
          0,
          1,
          0,
          0,
          0,
          0,
          0,
          0,
          0,
          0,
          0,
          0,
          0,
          0,
          0,
          0,
          1,
          0,
          0,
          0,
          0,
          0,
          1,
          0,
          0,
          0,
          0,
          0,
          0,
          0,
          0,
          0,
          1,
          0,
          0,
          0,
          0,
          1,
          1,
          0,
          0,
          0,
          0,
          0,
          0,
          1,
          0,
          0,
          0,
          0,
          1,
          0,
          0,
          0,
          0,
          0,
          0,
          1,
          0,
          0,
          0,
          0,
          1,
          1,
          0,
          0,
          1,
          0,
          0,
          0,
          1,
          0,
          0,
          0,
          0,
          0,
          0,
          0,
          0,
          0,
          0,
          0,
          0,
          0,
          0,
          0,
          0,
          1,
          1,
          0,
          1,
          0,
          0,
          1,
          0,
          0,
          0,
          0,
          1,
          0,
          0,
          0,
          0,
          0,
          0,
          0,
          0,
          0,
          0,
          0,
          0,
          1,
          0,
          0,
          0,
          0,
          0,
          0,
          0,
          0,
          0,
          1,
          0,
          0,
          0,
          1,
          0,
          0,
          0,
          0,
          0,
          0,
          0,
          0,
          0,
          0,
          0,
          0,
          0,
          0,
          0,
          1,
          0,
          1,
          0,
          0,
          0,
          0,
          0,
          0,
          0,
          0,
          1,
          1,
          0,
          0,
          0,
          0,
          0,
          1,
          0,
          0,
          1,
          0,
          0,
          0,
          0,
          0,
          0,
          0,
          0,
          0,
          0,
          0,
          0,
          1,
          1,
          0,
          0,
          0,
          1,
          0,
          0,
          0,
          0,
          0,
          1,
          0,
          0,
          0,
          0,
          0,
          0,
          0,
          0,
          1,
          0,
          1,
          0,
          0,
          1,
          0,
          0,
          0,
          1,
          0,
          1,
          0,
          0,
          0,
          0,
          0,
          0,
          0,
          0,
          0,
          0,
          1,
          0,
          1,
          0,
          0,
          0,
          0,
          0,
          0,
          0,
          0,
          1,
          0,
          0,
          0,
          0,
          0,
          0,
          0,
          0,
          0,
          0,
          1,
          0,
          1,
          0,
          0,
          0,
          0,
          0,
          0,
          0,
          0,
          0,
          1,
          1,
          0,
          1,
          0,
          0,
          0,
          1,
          0,
          0,
          0,
          0,
          0,
          0,
          1,
          1,
          0,
          0,
          0,
          0,
          0,
          1,
          0,
          0,
          1,
          0,
          0,
          0,
          0,
          0,
          0,
          0,
          0,
          0,
          0,
          0,
          0,
          0,
          1,
          0,
          1,
          0,
          0,
          0,
          0,
          0,
          0,
          0,
          0,
          0,
          0,
          0,
          0,
          0,
          0,
          0,
          0,
          0,
          0,
          0,
          0,
          0,
          0,
          0,
          1,
          0,
          0,
          0,
          0,
          0,
          0,
          0,
          1,
          0,
          0,
          0,
          0,
          0,
          0,
          0,
          0,
          0,
          0,
          0,
          1,
          0,
          0,
          0,
          0,
          0,
          0,
          0,
          0,
          0,
          0,
          0,
          1,
          0,
          1,
          0,
          0,
          0,
          1,
          0,
          0,
          0,
          0,
          0,
          0,
          0,
          0,
          1,
          0,
          0,
          0,
          0,
          0,
          0,
          1,
          0,
          0,
          0,
          0,
          0,
          1,
          0,
          1,
          0,
          0,
          0,
          0,
          0,
          0,
          0,
          0,
          0,
          0,
          0,
          0,
          0,
          0,
          0,
          0,
          0,
          0,
          0,
          0,
          0,
          0,
          0,
          0,
          1,
          0,
          0,
          1,
          0,
          0,
          0,
          1,
          0,
          0,
          1,
          0,
          0,
          0,
          0,
          0,
          0,
          0,
          1,
          1,
          0,
          0,
          0,
          0,
          1,
          0,
          0,
          0,
          0,
          0,
          0,
          0,
          0,
          1,
          0,
          1,
          0,
          1,
          0,
          0,
          0,
          0,
          1,
          0,
          0,
          0,
          0,
          1,
          0,
          0,
          0,
          0,
          1,
          0,
          0,
          0,
          0,
          0,
          0,
          0,
          0,
          0,
          0,
          0,
          0,
          0,
          0,
          0,
          0,
          0,
          0,
          0,
          0,
          1,
          0,
          0,
          0,
          0,
          0,
          1,
          0,
          1,
          0,
          0,
          0,
          0,
          1,
          0,
          0,
          0,
          0,
          0,
          0,
          0,
          1,
          1,
          0,
          0,
          0,
          0,
          0,
          0,
          0,
          0,
          0,
          1,
          0,
          0,
          0,
          0,
          0,
          1,
          0,
          0,
          0,
          1,
          1,
          0,
          1,
          0,
          1,
          0,
          1,
          0,
          1,
          0,
          0,
          0,
          0,
          0,
          0,
          0,
          0,
          0,
          0,
          1,
          0,
          0,
          0,
          0,
          0,
          1,
          0,
          0,
          0,
          0,
          0,
          0,
          0,
          0,
          0,
          0,
          1,
          0,
          0,
          0,
          0,
          0,
          0,
          0,
          0,
          0,
          1,
          1,
          0,
          0
         ],
         "xaxis": "x",
         "yaxis": "y"
        }
       ],
       "layout": {
        "barmode": "relative",
        "legend": {
         "tracegroupgap": 0
        },
        "margin": {
         "t": 60
        },
        "template": {
         "data": {
          "bar": [
           {
            "error_x": {
             "color": "#2a3f5f"
            },
            "error_y": {
             "color": "#2a3f5f"
            },
            "marker": {
             "line": {
              "color": "#E5ECF6",
              "width": 0.5
             },
             "pattern": {
              "fillmode": "overlay",
              "size": 10,
              "solidity": 0.2
             }
            },
            "type": "bar"
           }
          ],
          "barpolar": [
           {
            "marker": {
             "line": {
              "color": "#E5ECF6",
              "width": 0.5
             },
             "pattern": {
              "fillmode": "overlay",
              "size": 10,
              "solidity": 0.2
             }
            },
            "type": "barpolar"
           }
          ],
          "carpet": [
           {
            "aaxis": {
             "endlinecolor": "#2a3f5f",
             "gridcolor": "white",
             "linecolor": "white",
             "minorgridcolor": "white",
             "startlinecolor": "#2a3f5f"
            },
            "baxis": {
             "endlinecolor": "#2a3f5f",
             "gridcolor": "white",
             "linecolor": "white",
             "minorgridcolor": "white",
             "startlinecolor": "#2a3f5f"
            },
            "type": "carpet"
           }
          ],
          "choropleth": [
           {
            "colorbar": {
             "outlinewidth": 0,
             "ticks": ""
            },
            "type": "choropleth"
           }
          ],
          "contour": [
           {
            "colorbar": {
             "outlinewidth": 0,
             "ticks": ""
            },
            "colorscale": [
             [
              0,
              "#0d0887"
             ],
             [
              0.1111111111111111,
              "#46039f"
             ],
             [
              0.2222222222222222,
              "#7201a8"
             ],
             [
              0.3333333333333333,
              "#9c179e"
             ],
             [
              0.4444444444444444,
              "#bd3786"
             ],
             [
              0.5555555555555556,
              "#d8576b"
             ],
             [
              0.6666666666666666,
              "#ed7953"
             ],
             [
              0.7777777777777778,
              "#fb9f3a"
             ],
             [
              0.8888888888888888,
              "#fdca26"
             ],
             [
              1,
              "#f0f921"
             ]
            ],
            "type": "contour"
           }
          ],
          "contourcarpet": [
           {
            "colorbar": {
             "outlinewidth": 0,
             "ticks": ""
            },
            "type": "contourcarpet"
           }
          ],
          "heatmap": [
           {
            "colorbar": {
             "outlinewidth": 0,
             "ticks": ""
            },
            "colorscale": [
             [
              0,
              "#0d0887"
             ],
             [
              0.1111111111111111,
              "#46039f"
             ],
             [
              0.2222222222222222,
              "#7201a8"
             ],
             [
              0.3333333333333333,
              "#9c179e"
             ],
             [
              0.4444444444444444,
              "#bd3786"
             ],
             [
              0.5555555555555556,
              "#d8576b"
             ],
             [
              0.6666666666666666,
              "#ed7953"
             ],
             [
              0.7777777777777778,
              "#fb9f3a"
             ],
             [
              0.8888888888888888,
              "#fdca26"
             ],
             [
              1,
              "#f0f921"
             ]
            ],
            "type": "heatmap"
           }
          ],
          "heatmapgl": [
           {
            "colorbar": {
             "outlinewidth": 0,
             "ticks": ""
            },
            "colorscale": [
             [
              0,
              "#0d0887"
             ],
             [
              0.1111111111111111,
              "#46039f"
             ],
             [
              0.2222222222222222,
              "#7201a8"
             ],
             [
              0.3333333333333333,
              "#9c179e"
             ],
             [
              0.4444444444444444,
              "#bd3786"
             ],
             [
              0.5555555555555556,
              "#d8576b"
             ],
             [
              0.6666666666666666,
              "#ed7953"
             ],
             [
              0.7777777777777778,
              "#fb9f3a"
             ],
             [
              0.8888888888888888,
              "#fdca26"
             ],
             [
              1,
              "#f0f921"
             ]
            ],
            "type": "heatmapgl"
           }
          ],
          "histogram": [
           {
            "marker": {
             "pattern": {
              "fillmode": "overlay",
              "size": 10,
              "solidity": 0.2
             }
            },
            "type": "histogram"
           }
          ],
          "histogram2d": [
           {
            "colorbar": {
             "outlinewidth": 0,
             "ticks": ""
            },
            "colorscale": [
             [
              0,
              "#0d0887"
             ],
             [
              0.1111111111111111,
              "#46039f"
             ],
             [
              0.2222222222222222,
              "#7201a8"
             ],
             [
              0.3333333333333333,
              "#9c179e"
             ],
             [
              0.4444444444444444,
              "#bd3786"
             ],
             [
              0.5555555555555556,
              "#d8576b"
             ],
             [
              0.6666666666666666,
              "#ed7953"
             ],
             [
              0.7777777777777778,
              "#fb9f3a"
             ],
             [
              0.8888888888888888,
              "#fdca26"
             ],
             [
              1,
              "#f0f921"
             ]
            ],
            "type": "histogram2d"
           }
          ],
          "histogram2dcontour": [
           {
            "colorbar": {
             "outlinewidth": 0,
             "ticks": ""
            },
            "colorscale": [
             [
              0,
              "#0d0887"
             ],
             [
              0.1111111111111111,
              "#46039f"
             ],
             [
              0.2222222222222222,
              "#7201a8"
             ],
             [
              0.3333333333333333,
              "#9c179e"
             ],
             [
              0.4444444444444444,
              "#bd3786"
             ],
             [
              0.5555555555555556,
              "#d8576b"
             ],
             [
              0.6666666666666666,
              "#ed7953"
             ],
             [
              0.7777777777777778,
              "#fb9f3a"
             ],
             [
              0.8888888888888888,
              "#fdca26"
             ],
             [
              1,
              "#f0f921"
             ]
            ],
            "type": "histogram2dcontour"
           }
          ],
          "mesh3d": [
           {
            "colorbar": {
             "outlinewidth": 0,
             "ticks": ""
            },
            "type": "mesh3d"
           }
          ],
          "parcoords": [
           {
            "line": {
             "colorbar": {
              "outlinewidth": 0,
              "ticks": ""
             }
            },
            "type": "parcoords"
           }
          ],
          "pie": [
           {
            "automargin": true,
            "type": "pie"
           }
          ],
          "scatter": [
           {
            "fillpattern": {
             "fillmode": "overlay",
             "size": 10,
             "solidity": 0.2
            },
            "type": "scatter"
           }
          ],
          "scatter3d": [
           {
            "line": {
             "colorbar": {
              "outlinewidth": 0,
              "ticks": ""
             }
            },
            "marker": {
             "colorbar": {
              "outlinewidth": 0,
              "ticks": ""
             }
            },
            "type": "scatter3d"
           }
          ],
          "scattercarpet": [
           {
            "marker": {
             "colorbar": {
              "outlinewidth": 0,
              "ticks": ""
             }
            },
            "type": "scattercarpet"
           }
          ],
          "scattergeo": [
           {
            "marker": {
             "colorbar": {
              "outlinewidth": 0,
              "ticks": ""
             }
            },
            "type": "scattergeo"
           }
          ],
          "scattergl": [
           {
            "marker": {
             "colorbar": {
              "outlinewidth": 0,
              "ticks": ""
             }
            },
            "type": "scattergl"
           }
          ],
          "scattermapbox": [
           {
            "marker": {
             "colorbar": {
              "outlinewidth": 0,
              "ticks": ""
             }
            },
            "type": "scattermapbox"
           }
          ],
          "scatterpolar": [
           {
            "marker": {
             "colorbar": {
              "outlinewidth": 0,
              "ticks": ""
             }
            },
            "type": "scatterpolar"
           }
          ],
          "scatterpolargl": [
           {
            "marker": {
             "colorbar": {
              "outlinewidth": 0,
              "ticks": ""
             }
            },
            "type": "scatterpolargl"
           }
          ],
          "scatterternary": [
           {
            "marker": {
             "colorbar": {
              "outlinewidth": 0,
              "ticks": ""
             }
            },
            "type": "scatterternary"
           }
          ],
          "surface": [
           {
            "colorbar": {
             "outlinewidth": 0,
             "ticks": ""
            },
            "colorscale": [
             [
              0,
              "#0d0887"
             ],
             [
              0.1111111111111111,
              "#46039f"
             ],
             [
              0.2222222222222222,
              "#7201a8"
             ],
             [
              0.3333333333333333,
              "#9c179e"
             ],
             [
              0.4444444444444444,
              "#bd3786"
             ],
             [
              0.5555555555555556,
              "#d8576b"
             ],
             [
              0.6666666666666666,
              "#ed7953"
             ],
             [
              0.7777777777777778,
              "#fb9f3a"
             ],
             [
              0.8888888888888888,
              "#fdca26"
             ],
             [
              1,
              "#f0f921"
             ]
            ],
            "type": "surface"
           }
          ],
          "table": [
           {
            "cells": {
             "fill": {
              "color": "#EBF0F8"
             },
             "line": {
              "color": "white"
             }
            },
            "header": {
             "fill": {
              "color": "#C8D4E3"
             },
             "line": {
              "color": "white"
             }
            },
            "type": "table"
           }
          ]
         },
         "layout": {
          "annotationdefaults": {
           "arrowcolor": "#2a3f5f",
           "arrowhead": 0,
           "arrowwidth": 1
          },
          "autotypenumbers": "strict",
          "coloraxis": {
           "colorbar": {
            "outlinewidth": 0,
            "ticks": ""
           }
          },
          "colorscale": {
           "diverging": [
            [
             0,
             "#8e0152"
            ],
            [
             0.1,
             "#c51b7d"
            ],
            [
             0.2,
             "#de77ae"
            ],
            [
             0.3,
             "#f1b6da"
            ],
            [
             0.4,
             "#fde0ef"
            ],
            [
             0.5,
             "#f7f7f7"
            ],
            [
             0.6,
             "#e6f5d0"
            ],
            [
             0.7,
             "#b8e186"
            ],
            [
             0.8,
             "#7fbc41"
            ],
            [
             0.9,
             "#4d9221"
            ],
            [
             1,
             "#276419"
            ]
           ],
           "sequential": [
            [
             0,
             "#0d0887"
            ],
            [
             0.1111111111111111,
             "#46039f"
            ],
            [
             0.2222222222222222,
             "#7201a8"
            ],
            [
             0.3333333333333333,
             "#9c179e"
            ],
            [
             0.4444444444444444,
             "#bd3786"
            ],
            [
             0.5555555555555556,
             "#d8576b"
            ],
            [
             0.6666666666666666,
             "#ed7953"
            ],
            [
             0.7777777777777778,
             "#fb9f3a"
            ],
            [
             0.8888888888888888,
             "#fdca26"
            ],
            [
             1,
             "#f0f921"
            ]
           ],
           "sequentialminus": [
            [
             0,
             "#0d0887"
            ],
            [
             0.1111111111111111,
             "#46039f"
            ],
            [
             0.2222222222222222,
             "#7201a8"
            ],
            [
             0.3333333333333333,
             "#9c179e"
            ],
            [
             0.4444444444444444,
             "#bd3786"
            ],
            [
             0.5555555555555556,
             "#d8576b"
            ],
            [
             0.6666666666666666,
             "#ed7953"
            ],
            [
             0.7777777777777778,
             "#fb9f3a"
            ],
            [
             0.8888888888888888,
             "#fdca26"
            ],
            [
             1,
             "#f0f921"
            ]
           ]
          },
          "colorway": [
           "#636efa",
           "#EF553B",
           "#00cc96",
           "#ab63fa",
           "#FFA15A",
           "#19d3f3",
           "#FF6692",
           "#B6E880",
           "#FF97FF",
           "#FECB52"
          ],
          "font": {
           "color": "#2a3f5f"
          },
          "geo": {
           "bgcolor": "white",
           "lakecolor": "white",
           "landcolor": "#E5ECF6",
           "showlakes": true,
           "showland": true,
           "subunitcolor": "white"
          },
          "hoverlabel": {
           "align": "left"
          },
          "hovermode": "closest",
          "mapbox": {
           "style": "light"
          },
          "paper_bgcolor": "white",
          "plot_bgcolor": "#E5ECF6",
          "polar": {
           "angularaxis": {
            "gridcolor": "white",
            "linecolor": "white",
            "ticks": ""
           },
           "bgcolor": "#E5ECF6",
           "radialaxis": {
            "gridcolor": "white",
            "linecolor": "white",
            "ticks": ""
           }
          },
          "scene": {
           "xaxis": {
            "backgroundcolor": "#E5ECF6",
            "gridcolor": "white",
            "gridwidth": 2,
            "linecolor": "white",
            "showbackground": true,
            "ticks": "",
            "zerolinecolor": "white"
           },
           "yaxis": {
            "backgroundcolor": "#E5ECF6",
            "gridcolor": "white",
            "gridwidth": 2,
            "linecolor": "white",
            "showbackground": true,
            "ticks": "",
            "zerolinecolor": "white"
           },
           "zaxis": {
            "backgroundcolor": "#E5ECF6",
            "gridcolor": "white",
            "gridwidth": 2,
            "linecolor": "white",
            "showbackground": true,
            "ticks": "",
            "zerolinecolor": "white"
           }
          },
          "shapedefaults": {
           "line": {
            "color": "#2a3f5f"
           }
          },
          "ternary": {
           "aaxis": {
            "gridcolor": "white",
            "linecolor": "white",
            "ticks": ""
           },
           "baxis": {
            "gridcolor": "white",
            "linecolor": "white",
            "ticks": ""
           },
           "bgcolor": "#E5ECF6",
           "caxis": {
            "gridcolor": "white",
            "linecolor": "white",
            "ticks": ""
           }
          },
          "title": {
           "x": 0.05
          },
          "xaxis": {
           "automargin": true,
           "gridcolor": "white",
           "linecolor": "white",
           "ticks": "",
           "title": {
            "standoff": 15
           },
           "zerolinecolor": "white",
           "zerolinewidth": 2
          },
          "yaxis": {
           "automargin": true,
           "gridcolor": "white",
           "linecolor": "white",
           "ticks": "",
           "title": {
            "standoff": 15
           },
           "zerolinecolor": "white",
           "zerolinewidth": 2
          }
         }
        },
        "xaxis": {
         "anchor": "y",
         "domain": [
          0,
          1
         ],
         "title": {
          "text": "TouchScreen"
         }
        },
        "yaxis": {
         "anchor": "x",
         "domain": [
          0,
          1
         ],
         "title": {
          "text": "count"
         }
        }
       }
      }
     },
     "metadata": {},
     "output_type": "display_data"
    },
    {
     "data": {
      "application/vnd.plotly.v1+json": {
       "config": {
        "plotlyServerURL": "https://plot.ly"
       },
       "data": [
        {
         "alignmentgroup": "True",
         "bingroup": "x",
         "hovertemplate": "Ips=%{x}<br>count=%{y}<extra></extra>",
         "legendgroup": "",
         "marker": {
          "color": "#636efa",
          "pattern": {
           "shape": ""
          }
         },
         "name": "",
         "offsetgroup": "",
         "orientation": "v",
         "showlegend": false,
         "type": "histogram",
         "x": [
          1,
          0,
          0,
          1,
          1,
          0,
          1,
          0,
          0,
          1,
          0,
          0,
          1,
          0,
          1,
          1,
          0,
          1,
          0,
          1,
          0,
          1,
          0,
          0,
          0,
          0,
          0,
          0,
          0,
          0,
          0,
          0,
          0,
          0,
          0,
          0,
          0,
          1,
          0,
          0,
          0,
          1,
          0,
          1,
          0,
          1,
          0,
          0,
          0,
          0,
          1,
          1,
          0,
          0,
          0,
          0,
          0,
          0,
          0,
          0,
          0,
          0,
          1,
          0,
          0,
          0,
          0,
          0,
          0,
          0,
          0,
          1,
          0,
          0,
          0,
          0,
          0,
          0,
          0,
          0,
          1,
          1,
          0,
          0,
          0,
          1,
          1,
          0,
          1,
          1,
          0,
          0,
          0,
          0,
          0,
          1,
          0,
          0,
          0,
          1,
          0,
          0,
          0,
          1,
          0,
          1,
          0,
          1,
          0,
          1,
          0,
          0,
          1,
          1,
          1,
          1,
          0,
          1,
          0,
          0,
          1,
          0,
          0,
          0,
          0,
          0,
          0,
          0,
          0,
          0,
          0,
          0,
          1,
          0,
          0,
          0,
          0,
          0,
          0,
          1,
          1,
          1,
          1,
          0,
          0,
          0,
          1,
          0,
          0,
          0,
          0,
          0,
          0,
          0,
          0,
          0,
          1,
          0,
          0,
          0,
          0,
          1,
          0,
          1,
          0,
          1,
          0,
          0,
          1,
          1,
          1,
          1,
          0,
          0,
          0,
          0,
          0,
          0,
          0,
          1,
          0,
          0,
          1,
          0,
          1,
          0,
          0,
          1,
          1,
          0,
          0,
          1,
          1,
          0,
          1,
          1,
          0,
          0,
          1,
          0,
          1,
          0,
          0,
          1,
          0,
          0,
          0,
          1,
          0,
          0,
          0,
          0,
          0,
          0,
          1,
          1,
          0,
          0,
          0,
          0,
          0,
          1,
          0,
          0,
          1,
          0,
          0,
          0,
          0,
          0,
          0,
          0,
          1,
          0,
          1,
          0,
          0,
          0,
          0,
          1,
          0,
          0,
          0,
          0,
          1,
          0,
          0,
          0,
          1,
          1,
          1,
          0,
          0,
          1,
          1,
          0,
          0,
          1,
          0,
          1,
          0,
          0,
          1,
          0,
          0,
          0,
          0,
          0,
          0,
          0,
          1,
          0,
          0,
          0,
          0,
          0,
          0,
          1,
          0,
          0,
          0,
          0,
          1,
          0,
          1,
          1,
          1,
          0,
          1,
          0,
          0,
          0,
          0,
          0,
          0,
          1,
          0,
          0,
          0,
          0,
          0,
          0,
          0,
          0,
          0,
          0,
          0,
          1,
          0,
          0,
          1,
          1,
          1,
          0,
          0,
          0,
          1,
          0,
          0,
          0,
          0,
          0,
          0,
          1,
          0,
          0,
          0,
          0,
          0,
          0,
          0,
          1,
          0,
          0,
          0,
          0,
          1,
          0,
          0,
          0,
          0,
          0,
          1,
          1,
          0,
          1,
          0,
          0,
          0,
          0,
          0,
          0,
          0,
          0,
          1,
          0,
          0,
          0,
          0,
          0,
          0,
          0,
          0,
          0,
          0,
          0,
          0,
          1,
          0,
          1,
          0,
          0,
          1,
          0,
          0,
          0,
          1,
          0,
          0,
          0,
          1,
          0,
          1,
          1,
          0,
          1,
          1,
          0,
          1,
          0,
          0,
          0,
          1,
          0,
          0,
          0,
          1,
          1,
          0,
          1,
          0,
          0,
          1,
          0,
          0,
          0,
          0,
          0,
          0,
          0,
          0,
          1,
          0,
          1,
          1,
          0,
          0,
          0,
          0,
          1,
          1,
          1,
          0,
          0,
          1,
          1,
          0,
          0,
          0,
          1,
          0,
          1,
          1,
          1,
          0,
          0,
          0,
          0,
          0,
          0,
          0,
          0,
          1,
          0,
          1,
          0,
          0,
          0,
          0,
          0,
          0,
          1,
          1,
          0,
          0,
          0,
          1,
          0,
          0,
          0,
          0,
          0,
          0,
          1,
          0,
          0,
          0,
          0,
          1,
          1,
          1,
          0,
          0,
          0,
          1,
          0,
          0,
          0,
          0,
          1,
          1,
          0,
          1,
          0,
          0,
          1,
          1,
          0,
          1,
          0,
          1,
          0,
          0,
          0,
          1,
          1,
          0,
          0,
          1,
          1,
          0,
          0,
          1,
          0,
          0,
          0,
          0,
          1,
          1,
          1,
          1,
          0,
          0,
          0,
          1,
          0,
          0,
          0,
          0,
          0,
          1,
          1,
          0,
          0,
          1,
          0,
          0,
          0,
          0,
          0,
          1,
          1,
          1,
          1,
          1,
          0,
          0,
          0,
          0,
          1,
          0,
          0,
          1,
          0,
          0,
          0,
          0,
          0,
          0,
          1,
          0,
          0,
          1,
          0,
          0,
          0,
          1,
          0,
          1,
          0,
          1,
          0,
          1,
          1,
          0,
          1,
          0,
          0,
          0,
          0,
          0,
          0,
          1,
          0,
          0,
          0,
          0,
          1,
          0,
          0,
          1,
          0,
          0,
          0,
          0,
          0,
          1,
          1,
          0,
          1,
          0,
          0,
          0,
          0,
          0,
          0,
          1,
          1,
          0,
          0,
          0,
          0,
          0,
          0,
          0,
          0,
          1,
          0,
          1,
          0,
          1,
          0,
          0,
          0,
          0,
          0,
          0,
          0,
          0,
          1,
          0,
          0,
          0,
          0,
          0,
          0,
          0,
          0,
          0,
          0,
          0,
          0,
          0,
          0,
          0,
          0,
          0,
          0,
          1,
          0,
          1,
          0,
          1,
          1,
          0,
          0,
          1,
          0,
          0,
          1,
          1,
          0,
          0,
          0,
          0,
          1,
          0,
          0,
          1,
          1,
          0,
          0,
          0,
          0,
          0,
          0,
          0,
          0,
          1,
          0,
          0,
          0,
          1,
          0,
          1,
          0,
          0,
          0,
          1,
          0,
          0,
          0,
          0,
          1,
          1,
          0,
          0,
          0,
          1,
          0,
          0,
          0,
          0,
          0,
          1,
          0,
          0,
          0,
          0,
          1,
          0,
          0,
          0,
          0,
          0,
          0,
          1,
          0,
          0,
          1,
          1,
          0,
          0,
          0,
          0,
          1,
          0,
          0,
          1,
          0,
          1,
          1,
          1,
          0,
          0,
          0,
          0,
          0,
          0,
          0,
          1,
          0,
          0,
          0,
          1,
          0,
          0,
          0,
          0,
          0,
          0,
          0,
          1,
          0,
          1,
          0,
          0,
          0,
          0,
          1,
          0,
          0,
          0,
          0,
          0,
          1,
          1,
          0,
          1,
          0,
          1,
          0,
          0,
          1,
          0,
          0,
          0,
          1,
          0,
          0,
          0,
          0,
          1,
          0,
          0,
          0,
          0,
          1,
          0,
          0,
          1,
          1,
          1,
          0,
          0,
          1,
          0,
          1,
          1,
          0,
          0,
          0,
          1,
          0,
          1,
          1,
          0,
          0,
          1,
          0,
          0,
          0,
          0,
          0,
          0,
          0,
          0,
          0,
          0,
          0,
          1,
          0,
          0,
          0,
          0,
          0,
          1,
          0,
          1,
          0,
          0,
          0,
          1,
          0,
          1,
          0,
          0,
          0,
          1,
          1,
          0,
          1,
          0,
          0,
          1,
          0,
          0,
          0,
          0,
          0,
          0,
          1,
          0,
          0,
          0,
          0,
          0,
          1,
          0,
          0,
          0,
          0,
          0,
          1,
          1,
          0,
          0,
          0,
          0,
          0,
          1,
          0,
          0,
          1,
          0,
          0,
          0,
          1,
          1,
          0,
          0,
          0,
          1,
          1,
          0,
          0,
          0,
          1,
          0,
          0,
          0,
          0,
          0,
          1,
          0,
          0,
          0,
          0,
          1,
          0,
          0,
          0,
          0,
          1,
          1,
          0,
          0,
          0,
          0,
          0,
          0,
          1,
          0,
          1,
          1,
          1,
          0,
          1,
          1,
          1,
          0,
          0,
          0,
          0,
          0,
          0,
          0,
          0,
          0,
          0,
          0,
          0,
          0,
          1,
          1,
          0,
          1,
          0,
          0,
          0,
          0,
          0,
          0,
          1,
          1,
          0,
          0,
          0,
          0,
          0,
          1,
          0,
          0,
          0,
          1,
          1,
          0,
          0,
          0,
          0,
          1,
          0,
          0,
          0,
          1,
          1,
          0,
          0,
          0,
          1,
          0,
          1,
          0,
          0,
          0,
          0,
          0,
          0,
          1,
          0,
          0,
          0,
          0,
          0,
          0,
          1,
          0,
          0,
          0,
          0,
          1,
          0,
          0,
          0,
          0,
          0,
          0,
          1,
          0,
          0,
          0,
          0,
          0,
          0,
          0,
          0,
          1,
          0,
          0,
          0,
          1,
          1,
          0,
          0,
          0,
          0,
          0,
          0,
          0,
          0,
          0,
          0,
          0,
          0,
          0,
          0,
          0,
          1,
          1,
          0,
          1,
          0,
          1,
          0,
          0,
          0,
          0,
          0,
          0,
          0,
          0,
          0,
          0,
          0,
          0,
          0,
          0,
          1,
          0,
          0,
          1,
          0,
          1,
          0,
          0,
          0,
          0,
          1,
          1,
          0,
          1,
          1,
          1,
          0,
          0,
          0,
          0,
          0,
          1,
          0,
          0,
          1,
          0,
          0,
          0,
          0,
          1,
          0,
          0,
          1,
          0,
          0,
          0,
          0,
          1,
          0,
          1,
          0,
          0,
          0,
          1,
          1,
          1,
          1,
          0,
          0,
          0,
          0,
          0,
          0,
          0,
          0,
          1,
          1,
          0,
          0,
          0,
          0,
          0,
          1,
          0,
          0,
          0,
          1,
          0,
          0,
          0,
          1,
          0,
          1,
          0,
          0,
          0,
          0,
          1,
          0,
          1,
          0,
          0,
          0,
          0,
          0,
          0,
          0,
          0,
          1,
          1,
          0,
          1,
          1,
          0,
          1,
          0,
          0,
          0,
          0,
          1,
          0,
          0,
          0,
          1,
          0,
          0,
          1,
          0,
          0,
          0,
          0,
          0,
          1,
          0,
          0,
          0,
          0,
          1,
          0,
          0,
          0,
          0,
          0,
          0,
          0,
          1,
          0,
          0,
          0,
          1,
          0,
          0,
          1,
          0,
          0,
          0,
          0,
          0,
          0,
          0,
          1,
          0,
          0,
          1,
          0,
          0,
          0,
          1,
          1,
          0,
          0,
          0,
          1,
          1,
          0,
          1,
          1,
          1,
          0,
          1,
          0,
          0,
          0,
          0,
          0,
          0,
          0,
          0,
          0,
          0,
          0,
          0,
          1,
          0,
          1,
          1,
          0,
          0,
          0,
          0,
          1,
          1,
          1,
          0,
          0,
          0,
          0,
          0,
          0,
          0,
          1,
          0,
          1,
          0,
          0,
          0,
          0,
          0,
          0,
          0,
          0,
          1,
          0,
          0,
          0,
          0,
          0,
          1,
          0,
          1,
          1,
          0,
          0,
          0,
          0,
          1,
          0,
          0,
          1,
          0,
          0,
          0,
          0,
          1,
          0,
          0,
          0,
          1,
          0,
          0,
          0,
          0,
          1,
          1,
          0,
          0
         ],
         "xaxis": "x",
         "yaxis": "y"
        }
       ],
       "layout": {
        "barmode": "relative",
        "legend": {
         "tracegroupgap": 0
        },
        "margin": {
         "t": 60
        },
        "template": {
         "data": {
          "bar": [
           {
            "error_x": {
             "color": "#2a3f5f"
            },
            "error_y": {
             "color": "#2a3f5f"
            },
            "marker": {
             "line": {
              "color": "#E5ECF6",
              "width": 0.5
             },
             "pattern": {
              "fillmode": "overlay",
              "size": 10,
              "solidity": 0.2
             }
            },
            "type": "bar"
           }
          ],
          "barpolar": [
           {
            "marker": {
             "line": {
              "color": "#E5ECF6",
              "width": 0.5
             },
             "pattern": {
              "fillmode": "overlay",
              "size": 10,
              "solidity": 0.2
             }
            },
            "type": "barpolar"
           }
          ],
          "carpet": [
           {
            "aaxis": {
             "endlinecolor": "#2a3f5f",
             "gridcolor": "white",
             "linecolor": "white",
             "minorgridcolor": "white",
             "startlinecolor": "#2a3f5f"
            },
            "baxis": {
             "endlinecolor": "#2a3f5f",
             "gridcolor": "white",
             "linecolor": "white",
             "minorgridcolor": "white",
             "startlinecolor": "#2a3f5f"
            },
            "type": "carpet"
           }
          ],
          "choropleth": [
           {
            "colorbar": {
             "outlinewidth": 0,
             "ticks": ""
            },
            "type": "choropleth"
           }
          ],
          "contour": [
           {
            "colorbar": {
             "outlinewidth": 0,
             "ticks": ""
            },
            "colorscale": [
             [
              0,
              "#0d0887"
             ],
             [
              0.1111111111111111,
              "#46039f"
             ],
             [
              0.2222222222222222,
              "#7201a8"
             ],
             [
              0.3333333333333333,
              "#9c179e"
             ],
             [
              0.4444444444444444,
              "#bd3786"
             ],
             [
              0.5555555555555556,
              "#d8576b"
             ],
             [
              0.6666666666666666,
              "#ed7953"
             ],
             [
              0.7777777777777778,
              "#fb9f3a"
             ],
             [
              0.8888888888888888,
              "#fdca26"
             ],
             [
              1,
              "#f0f921"
             ]
            ],
            "type": "contour"
           }
          ],
          "contourcarpet": [
           {
            "colorbar": {
             "outlinewidth": 0,
             "ticks": ""
            },
            "type": "contourcarpet"
           }
          ],
          "heatmap": [
           {
            "colorbar": {
             "outlinewidth": 0,
             "ticks": ""
            },
            "colorscale": [
             [
              0,
              "#0d0887"
             ],
             [
              0.1111111111111111,
              "#46039f"
             ],
             [
              0.2222222222222222,
              "#7201a8"
             ],
             [
              0.3333333333333333,
              "#9c179e"
             ],
             [
              0.4444444444444444,
              "#bd3786"
             ],
             [
              0.5555555555555556,
              "#d8576b"
             ],
             [
              0.6666666666666666,
              "#ed7953"
             ],
             [
              0.7777777777777778,
              "#fb9f3a"
             ],
             [
              0.8888888888888888,
              "#fdca26"
             ],
             [
              1,
              "#f0f921"
             ]
            ],
            "type": "heatmap"
           }
          ],
          "heatmapgl": [
           {
            "colorbar": {
             "outlinewidth": 0,
             "ticks": ""
            },
            "colorscale": [
             [
              0,
              "#0d0887"
             ],
             [
              0.1111111111111111,
              "#46039f"
             ],
             [
              0.2222222222222222,
              "#7201a8"
             ],
             [
              0.3333333333333333,
              "#9c179e"
             ],
             [
              0.4444444444444444,
              "#bd3786"
             ],
             [
              0.5555555555555556,
              "#d8576b"
             ],
             [
              0.6666666666666666,
              "#ed7953"
             ],
             [
              0.7777777777777778,
              "#fb9f3a"
             ],
             [
              0.8888888888888888,
              "#fdca26"
             ],
             [
              1,
              "#f0f921"
             ]
            ],
            "type": "heatmapgl"
           }
          ],
          "histogram": [
           {
            "marker": {
             "pattern": {
              "fillmode": "overlay",
              "size": 10,
              "solidity": 0.2
             }
            },
            "type": "histogram"
           }
          ],
          "histogram2d": [
           {
            "colorbar": {
             "outlinewidth": 0,
             "ticks": ""
            },
            "colorscale": [
             [
              0,
              "#0d0887"
             ],
             [
              0.1111111111111111,
              "#46039f"
             ],
             [
              0.2222222222222222,
              "#7201a8"
             ],
             [
              0.3333333333333333,
              "#9c179e"
             ],
             [
              0.4444444444444444,
              "#bd3786"
             ],
             [
              0.5555555555555556,
              "#d8576b"
             ],
             [
              0.6666666666666666,
              "#ed7953"
             ],
             [
              0.7777777777777778,
              "#fb9f3a"
             ],
             [
              0.8888888888888888,
              "#fdca26"
             ],
             [
              1,
              "#f0f921"
             ]
            ],
            "type": "histogram2d"
           }
          ],
          "histogram2dcontour": [
           {
            "colorbar": {
             "outlinewidth": 0,
             "ticks": ""
            },
            "colorscale": [
             [
              0,
              "#0d0887"
             ],
             [
              0.1111111111111111,
              "#46039f"
             ],
             [
              0.2222222222222222,
              "#7201a8"
             ],
             [
              0.3333333333333333,
              "#9c179e"
             ],
             [
              0.4444444444444444,
              "#bd3786"
             ],
             [
              0.5555555555555556,
              "#d8576b"
             ],
             [
              0.6666666666666666,
              "#ed7953"
             ],
             [
              0.7777777777777778,
              "#fb9f3a"
             ],
             [
              0.8888888888888888,
              "#fdca26"
             ],
             [
              1,
              "#f0f921"
             ]
            ],
            "type": "histogram2dcontour"
           }
          ],
          "mesh3d": [
           {
            "colorbar": {
             "outlinewidth": 0,
             "ticks": ""
            },
            "type": "mesh3d"
           }
          ],
          "parcoords": [
           {
            "line": {
             "colorbar": {
              "outlinewidth": 0,
              "ticks": ""
             }
            },
            "type": "parcoords"
           }
          ],
          "pie": [
           {
            "automargin": true,
            "type": "pie"
           }
          ],
          "scatter": [
           {
            "fillpattern": {
             "fillmode": "overlay",
             "size": 10,
             "solidity": 0.2
            },
            "type": "scatter"
           }
          ],
          "scatter3d": [
           {
            "line": {
             "colorbar": {
              "outlinewidth": 0,
              "ticks": ""
             }
            },
            "marker": {
             "colorbar": {
              "outlinewidth": 0,
              "ticks": ""
             }
            },
            "type": "scatter3d"
           }
          ],
          "scattercarpet": [
           {
            "marker": {
             "colorbar": {
              "outlinewidth": 0,
              "ticks": ""
             }
            },
            "type": "scattercarpet"
           }
          ],
          "scattergeo": [
           {
            "marker": {
             "colorbar": {
              "outlinewidth": 0,
              "ticks": ""
             }
            },
            "type": "scattergeo"
           }
          ],
          "scattergl": [
           {
            "marker": {
             "colorbar": {
              "outlinewidth": 0,
              "ticks": ""
             }
            },
            "type": "scattergl"
           }
          ],
          "scattermapbox": [
           {
            "marker": {
             "colorbar": {
              "outlinewidth": 0,
              "ticks": ""
             }
            },
            "type": "scattermapbox"
           }
          ],
          "scatterpolar": [
           {
            "marker": {
             "colorbar": {
              "outlinewidth": 0,
              "ticks": ""
             }
            },
            "type": "scatterpolar"
           }
          ],
          "scatterpolargl": [
           {
            "marker": {
             "colorbar": {
              "outlinewidth": 0,
              "ticks": ""
             }
            },
            "type": "scatterpolargl"
           }
          ],
          "scatterternary": [
           {
            "marker": {
             "colorbar": {
              "outlinewidth": 0,
              "ticks": ""
             }
            },
            "type": "scatterternary"
           }
          ],
          "surface": [
           {
            "colorbar": {
             "outlinewidth": 0,
             "ticks": ""
            },
            "colorscale": [
             [
              0,
              "#0d0887"
             ],
             [
              0.1111111111111111,
              "#46039f"
             ],
             [
              0.2222222222222222,
              "#7201a8"
             ],
             [
              0.3333333333333333,
              "#9c179e"
             ],
             [
              0.4444444444444444,
              "#bd3786"
             ],
             [
              0.5555555555555556,
              "#d8576b"
             ],
             [
              0.6666666666666666,
              "#ed7953"
             ],
             [
              0.7777777777777778,
              "#fb9f3a"
             ],
             [
              0.8888888888888888,
              "#fdca26"
             ],
             [
              1,
              "#f0f921"
             ]
            ],
            "type": "surface"
           }
          ],
          "table": [
           {
            "cells": {
             "fill": {
              "color": "#EBF0F8"
             },
             "line": {
              "color": "white"
             }
            },
            "header": {
             "fill": {
              "color": "#C8D4E3"
             },
             "line": {
              "color": "white"
             }
            },
            "type": "table"
           }
          ]
         },
         "layout": {
          "annotationdefaults": {
           "arrowcolor": "#2a3f5f",
           "arrowhead": 0,
           "arrowwidth": 1
          },
          "autotypenumbers": "strict",
          "coloraxis": {
           "colorbar": {
            "outlinewidth": 0,
            "ticks": ""
           }
          },
          "colorscale": {
           "diverging": [
            [
             0,
             "#8e0152"
            ],
            [
             0.1,
             "#c51b7d"
            ],
            [
             0.2,
             "#de77ae"
            ],
            [
             0.3,
             "#f1b6da"
            ],
            [
             0.4,
             "#fde0ef"
            ],
            [
             0.5,
             "#f7f7f7"
            ],
            [
             0.6,
             "#e6f5d0"
            ],
            [
             0.7,
             "#b8e186"
            ],
            [
             0.8,
             "#7fbc41"
            ],
            [
             0.9,
             "#4d9221"
            ],
            [
             1,
             "#276419"
            ]
           ],
           "sequential": [
            [
             0,
             "#0d0887"
            ],
            [
             0.1111111111111111,
             "#46039f"
            ],
            [
             0.2222222222222222,
             "#7201a8"
            ],
            [
             0.3333333333333333,
             "#9c179e"
            ],
            [
             0.4444444444444444,
             "#bd3786"
            ],
            [
             0.5555555555555556,
             "#d8576b"
            ],
            [
             0.6666666666666666,
             "#ed7953"
            ],
            [
             0.7777777777777778,
             "#fb9f3a"
            ],
            [
             0.8888888888888888,
             "#fdca26"
            ],
            [
             1,
             "#f0f921"
            ]
           ],
           "sequentialminus": [
            [
             0,
             "#0d0887"
            ],
            [
             0.1111111111111111,
             "#46039f"
            ],
            [
             0.2222222222222222,
             "#7201a8"
            ],
            [
             0.3333333333333333,
             "#9c179e"
            ],
            [
             0.4444444444444444,
             "#bd3786"
            ],
            [
             0.5555555555555556,
             "#d8576b"
            ],
            [
             0.6666666666666666,
             "#ed7953"
            ],
            [
             0.7777777777777778,
             "#fb9f3a"
            ],
            [
             0.8888888888888888,
             "#fdca26"
            ],
            [
             1,
             "#f0f921"
            ]
           ]
          },
          "colorway": [
           "#636efa",
           "#EF553B",
           "#00cc96",
           "#ab63fa",
           "#FFA15A",
           "#19d3f3",
           "#FF6692",
           "#B6E880",
           "#FF97FF",
           "#FECB52"
          ],
          "font": {
           "color": "#2a3f5f"
          },
          "geo": {
           "bgcolor": "white",
           "lakecolor": "white",
           "landcolor": "#E5ECF6",
           "showlakes": true,
           "showland": true,
           "subunitcolor": "white"
          },
          "hoverlabel": {
           "align": "left"
          },
          "hovermode": "closest",
          "mapbox": {
           "style": "light"
          },
          "paper_bgcolor": "white",
          "plot_bgcolor": "#E5ECF6",
          "polar": {
           "angularaxis": {
            "gridcolor": "white",
            "linecolor": "white",
            "ticks": ""
           },
           "bgcolor": "#E5ECF6",
           "radialaxis": {
            "gridcolor": "white",
            "linecolor": "white",
            "ticks": ""
           }
          },
          "scene": {
           "xaxis": {
            "backgroundcolor": "#E5ECF6",
            "gridcolor": "white",
            "gridwidth": 2,
            "linecolor": "white",
            "showbackground": true,
            "ticks": "",
            "zerolinecolor": "white"
           },
           "yaxis": {
            "backgroundcolor": "#E5ECF6",
            "gridcolor": "white",
            "gridwidth": 2,
            "linecolor": "white",
            "showbackground": true,
            "ticks": "",
            "zerolinecolor": "white"
           },
           "zaxis": {
            "backgroundcolor": "#E5ECF6",
            "gridcolor": "white",
            "gridwidth": 2,
            "linecolor": "white",
            "showbackground": true,
            "ticks": "",
            "zerolinecolor": "white"
           }
          },
          "shapedefaults": {
           "line": {
            "color": "#2a3f5f"
           }
          },
          "ternary": {
           "aaxis": {
            "gridcolor": "white",
            "linecolor": "white",
            "ticks": ""
           },
           "baxis": {
            "gridcolor": "white",
            "linecolor": "white",
            "ticks": ""
           },
           "bgcolor": "#E5ECF6",
           "caxis": {
            "gridcolor": "white",
            "linecolor": "white",
            "ticks": ""
           }
          },
          "title": {
           "x": 0.05
          },
          "xaxis": {
           "automargin": true,
           "gridcolor": "white",
           "linecolor": "white",
           "ticks": "",
           "title": {
            "standoff": 15
           },
           "zerolinecolor": "white",
           "zerolinewidth": 2
          },
          "yaxis": {
           "automargin": true,
           "gridcolor": "white",
           "linecolor": "white",
           "ticks": "",
           "title": {
            "standoff": 15
           },
           "zerolinecolor": "white",
           "zerolinewidth": 2
          }
         }
        },
        "xaxis": {
         "anchor": "y",
         "domain": [
          0,
          1
         ],
         "title": {
          "text": "Ips"
         }
        },
        "yaxis": {
         "anchor": "x",
         "domain": [
          0,
          1
         ],
         "title": {
          "text": "count"
         }
        }
       }
      }
     },
     "metadata": {},
     "output_type": "display_data"
    },
    {
     "data": {
      "application/vnd.plotly.v1+json": {
       "config": {
        "plotlyServerURL": "https://plot.ly"
       },
       "data": [
        {
         "alignmentgroup": "True",
         "bingroup": "x",
         "hovertemplate": "Ppi=%{x}<br>count=%{y}<extra></extra>",
         "legendgroup": "",
         "marker": {
          "color": "#636efa",
          "pattern": {
           "shape": ""
          }
         },
         "name": "",
         "offsetgroup": "",
         "orientation": "v",
         "showlegend": false,
         "type": "histogram",
         "x": [
          226.98300468106115,
          127.67794013309688,
          141.21199808219862,
          220.53462386625827,
          226.98300468106115,
          100.45466986113652,
          220.53462386625827,
          127.67794013309688,
          157.3505121487356,
          157.3505121487356,
          100.45466986113652,
          141.21199808219862,
          220.53462386625827,
          141.21199808219862,
          226.4155471693585,
          226.98300468106115,
          141.21199808219862,
          220.53462386625827,
          141.21199808219862,
          165.6321180513006,
          135.0942111925629,
          141.21199808219862,
          100.45466986113652,
          165.6321180513006,
          141.21199808219862,
          100.45466986113652,
          127.67794013309688,
          141.21199808219862,
          141.21199808219862,
          127.33567457123112,
          141.21199808219862,
          111.93520355955212,
          127.33567457123112,
          276.053530085501,
          127.67794013309688,
          111.93520355955212,
          100.45466986113652,
          127.33567457123112,
          100.45466986113652,
          141.21199808219862,
          141.21199808219862,
          141.21199808219862,
          100.45466986113652,
          141.21199808219862,
          127.33567457123112,
          226.98300468106115,
          100.45466986113652,
          127.33567457123112,
          141.21199808219862,
          90.58340172449304,
          224.1738090785728,
          141.21199808219862,
          141.21199808219862,
          165.6321180513006,
          100.45466986113652,
          141.21199808219862,
          141.21199808219862,
          100.45466986113652,
          127.33567457123112,
          141.21199808219862,
          127.33567457123112,
          157.3505121487356,
          157.3505121487356,
          157.3505121487356,
          141.21199808219862,
          141.21199808219862,
          100.45466986113652,
          111.93520355955212,
          141.21199808219862,
          127.33567457123112,
          200.84255993695703,
          165.6321180513006,
          141.21199808219862,
          127.33567457123112,
          111.93520355955212,
          141.21199808219862,
          141.21199808219862,
          141.21199808219862,
          141.21199808219862,
          127.33567457123112,
          141.21199808219862,
          226.4155471693585,
          157.3505121487356,
          141.21199808219862,
          100.45466986113652,
          141.21199808219862,
          141.21199808219862,
          141.21199808219862,
          141.21199808219862,
          165.6321180513006,
          141.21199808219862,
          141.21199808219862,
          165.6321180513006,
          141.21199808219862,
          157.3505121487356,
          165.6321180513006,
          141.21199808219862,
          141.21199808219862,
          141.21199808219862,
          141.21199808219862,
          141.21199808219862,
          141.21199808219862,
          141.21199808219862,
          165.6321180513006,
          200.84255993695703,
          157.3505121487356,
          141.21199808219862,
          157.3505121487356,
          141.21199808219862,
          157.3505121487356,
          141.21199808219862,
          276.053530085501,
          165.6321180513006,
          111.93520355955212,
          165.6321180513006,
          165.6321180513006,
          157.3505121487356,
          141.21199808219862,
          127.33567457123112,
          141.21199808219862,
          141.21199808219862,
          141.21199808219862,
          141.21199808219862,
          127.33567457123112,
          100.45466986113652,
          100.45466986113652,
          157.3505121487356,
          111.93520355955212,
          127.33567457123112,
          127.33567457123112,
          100.45466986113652,
          141.21199808219862,
          157.3505121487356,
          141.21199808219862,
          100.45466986113652,
          157.3505121487356,
          100.45466986113652,
          127.33567457123112,
          141.21199808219862,
          165.6321180513006,
          127.33567457123112,
          157.3505121487356,
          141.21199808219862,
          100.45466986113652,
          100.45466986113652,
          157.3505121487356,
          352.4651472131677,
          141.21199808219862,
          127.33567457123112,
          100.45466986113652,
          141.21199808219862,
          141.21199808219862,
          100.45466986113652,
          127.33567457123112,
          157.3505121487356,
          141.21199808219862,
          157.3505121487356,
          165.6321180513006,
          141.21199808219862,
          100.45466986113652,
          100.45466986113652,
          127.33567457123112,
          141.21199808219862,
          141.21199808219862,
          100.45466986113652,
          141.21199808219862,
          100.45466986113652,
          141.21199808219862,
          127.33567457123112,
          165.6321180513006,
          199.69207064108247,
          127.33567457123112,
          100.45466986113652,
          100.45466986113652,
          127.33567457123112,
          100.45466986113652,
          100.45466986113652,
          119.7232157653423,
          141.21199808219862,
          331.2642361026012,
          141.21199808219862,
          165.6321180513006,
          316.96506044349616,
          100.45466986113652,
          141.21199808219862,
          127.33567457123112,
          282.42399616439724,
          141.21199808219862,
          165.6321180513006,
          127.33567457123112,
          209.8006828649808,
          157.3505121487356,
          165.6321180513006,
          106.11306214269258,
          165.6321180513006,
          127.33567457123112,
          254.67134914246225,
          165.6321180513006,
          127.33567457123112,
          127.33567457123112,
          282.42399616439724,
          100.45466986113652,
          141.21199808219862,
          141.21199808219862,
          282.42399616439724,
          141.21199808219862,
          100.45466986113652,
          331.2642361026012,
          165.6321180513006,
          100.45466986113652,
          141.21199808219862,
          127.33567457123112,
          141.21199808219862,
          141.21199808219862,
          199.69207064108247,
          165.6321180513006,
          106.11306214269258,
          157.3505121487356,
          157.3505121487356,
          165.6321180513006,
          141.21199808219862,
          157.3505121487356,
          165.6321180513006,
          141.21199808219862,
          127.33567457123112,
          141.21199808219862,
          141.21199808219862,
          141.21199808219862,
          127.33567457123112,
          141.21199808219862,
          100.45466986113652,
          100.45466986113652,
          141.21199808219862,
          157.3505121487356,
          165.6321180513006,
          141.21199808219862,
          100.45466986113652,
          141.21199808219862,
          127.33567457123112,
          141.21199808219862,
          100.45466986113652,
          127.33567457123112,
          127.33567457123112,
          141.21199808219862,
          158.48253022174808,
          141.21199808219862,
          100.45466986113652,
          127.33567457123112,
          165.6321180513006,
          226.98300468106115,
          141.21199808219862,
          127.33567457123112,
          100.45466986113652,
          158.48253022174808,
          127.33567457123112,
          165.6321180513006,
          100.45466986113652,
          127.33567457123112,
          127.33567457123112,
          141.21199808219862,
          127.33567457123112,
          141.21199808219862,
          141.21199808219862,
          141.21199808219862,
          141.21199808219862,
          141.21199808219862,
          165.6321180513006,
          141.21199808219862,
          127.33567457123112,
          141.21199808219862,
          226.98300468106115,
          127.33567457123112,
          141.21199808219862,
          209.8006828649808,
          100.45466986113652,
          100.45466986113652,
          127.33567457123112,
          141.21199808219862,
          106.11306214269258,
          127.33567457123112,
          106.11306214269258,
          141.21199808219862,
          141.21199808219862,
          141.21199808219862,
          141.21199808219862,
          141.21199808219862,
          141.21199808219862,
          141.21199808219862,
          141.21199808219862,
          141.21199808219862,
          100.45466986113652,
          127.33567457123112,
          106.11306214269258,
          141.21199808219862,
          141.21199808219862,
          141.21199808219862,
          141.21199808219862,
          127.33567457123112,
          141.21199808219862,
          141.21199808219862,
          111.93520355955212,
          127.33567457123112,
          106.11306214269258,
          100.45466986113652,
          141.21199808219862,
          100.45466986113652,
          165.6321180513006,
          141.21199808219862,
          141.21199808219862,
          141.21199808219862,
          165.6321180513006,
          331.2642361026012,
          141.21199808219862,
          141.21199808219862,
          135.0942111925629,
          141.21199808219862,
          331.2642361026012,
          117.82653006268644,
          157.3505121487356,
          135.0942111925629,
          157.3505121487356,
          106.11306214269258,
          157.3505121487356,
          100.45466986113652,
          100.45466986113652,
          111.93520355955212,
          100.45466986113652,
          141.21199808219862,
          176.23257360658386,
          282.42399616439724,
          127.33567457123112,
          141.21199808219862,
          157.3505121487356,
          141.21199808219862,
          141.21199808219862,
          157.3505121487356,
          141.21199808219862,
          141.21199808219862,
          100.45466986113652,
          141.21199808219862,
          100.45466986113652,
          141.21199808219862,
          141.21199808219862,
          316.96506044349616,
          165.6321180513006,
          141.21199808219862,
          111.93520355955212,
          141.21199808219862,
          135.0942111925629,
          141.21199808219862,
          282.42399616439724,
          141.21199808219862,
          127.33567457123112,
          141.21199808219862,
          141.21199808219862,
          141.21199808219862,
          100.45466986113652,
          141.21199808219862,
          100.45466986113652,
          157.3505121487356,
          100.45466986113652,
          157.3505121487356,
          106.11306214269258,
          141.21199808219862,
          100.45466986113652,
          100.45466986113652,
          127.33567457123112,
          141.21199808219862,
          141.21199808219862,
          157.3505121487356,
          141.21199808219862,
          100.45466986113652,
          127.33567457123112,
          106.11306214269258,
          165.6321180513006,
          141.21199808219862,
          135.0942111925629,
          100.45466986113652,
          111.93520355955212,
          141.21199808219862,
          127.33567457123112,
          141.21199808219862,
          141.21199808219862,
          157.3505121487356,
          165.6321180513006,
          209.8006828649808,
          165.6321180513006,
          141.21199808219862,
          141.21199808219862,
          209.8006828649808,
          127.33567457123112,
          127.33567457123112,
          100.45466986113652,
          127.33567457123112,
          141.21199808219862,
          141.21199808219862,
          141.21199808219862,
          157.3505121487356,
          282.42399616439724,
          209.8006828649808,
          100.45466986113652,
          127.33567457123112,
          141.21199808219862,
          141.21199808219862,
          127.33567457123112,
          157.3505121487356,
          165.6321180513006,
          157.3505121487356,
          141.21199808219862,
          135.0942111925629,
          141.21199808219862,
          209.8006828649808,
          141.21199808219862,
          165.6321180513006,
          165.6321180513006,
          141.21199808219862,
          117.82653006268644,
          157.3505121487356,
          100.45466986113652,
          157.3505121487356,
          282.42399616439724,
          267.3384360344031,
          141.21199808219862,
          141.21199808219862,
          169.78089942830815,
          141.21199808219862,
          141.21199808219862,
          157.3505121487356,
          127.33567457123112,
          189.90579052433608,
          135.0942111925629,
          165.6321180513006,
          157.3505121487356,
          282.42399616439724,
          141.21199808219862,
          127.33567457123112,
          100.45466986113652,
          234.50740003017813,
          209.8006828649808,
          141.21199808219862,
          106.11306214269258,
          141.21199808219862,
          176.23257360658386,
          141.21199808219862,
          141.21199808219862,
          157.3505121487356,
          100.45466986113652,
          141.21199808219862,
          141.21199808219862,
          200.84255993695703,
          100.45466986113652,
          141.21199808219862,
          141.21199808219862,
          157.3505121487356,
          141.21199808219862,
          135.0942111925629,
          127.33567457123112,
          200.84255993695703,
          200.84255993695703,
          106.11306214269258,
          141.21199808219862,
          135.0942111925629,
          141.21199808219862,
          157.3505121487356,
          141.21199808219862,
          100.45466986113652,
          100.45466986113652,
          141.21199808219862,
          127.33567457123112,
          209.8006828649808,
          331.2642361026012,
          141.21199808219862,
          234.50740003017813,
          165.6321180513006,
          282.42399616439724,
          111.93520355955212,
          141.21199808219862,
          157.3505121487356,
          141.21199808219862,
          165.6321180513006,
          141.21199808219862,
          100.45466986113652,
          165.6321180513006,
          141.21199808219862,
          100.45466986113652,
          157.3505121487356,
          141.21199808219862,
          141.21199808219862,
          176.23257360658386,
          176.23257360658386,
          141.21199808219862,
          165.6321180513006,
          141.21199808219862,
          100.45466986113652,
          127.33567457123112,
          125.36742798669836,
          141.21199808219862,
          157.3505121487356,
          165.6321180513006,
          141.21199808219862,
          135.0942111925629,
          100.45466986113652,
          158.48253022174808,
          111.93520355955212,
          135.0942111925629,
          165.6321180513006,
          141.21199808219862,
          141.21199808219862,
          165.6321180513006,
          141.21199808219862,
          165.6321180513006,
          141.21199808219862,
          141.21199808219862,
          141.21199808219862,
          141.21199808219862,
          135.0942111925629,
          100.45466986113652,
          141.21199808219862,
          141.21199808219862,
          127.33567457123112,
          141.21199808219862,
          165.6321180513006,
          157.3505121487356,
          100.45466986113652,
          127.33567457123112,
          157.3505121487356,
          141.21199808219862,
          100.45466986113652,
          141.21199808219862,
          141.21199808219862,
          127.33567457123112,
          141.21199808219862,
          282.42399616439724,
          165.6321180513006,
          141.21199808219862,
          141.21199808219862,
          141.21199808219862,
          141.21199808219862,
          127.33567457123112,
          157.3505121487356,
          276.053530085501,
          157.3505121487356,
          276.053530085501,
          141.21199808219862,
          100.45466986113652,
          141.21199808219862,
          157.3505121487356,
          141.21199808219862,
          141.21199808219862,
          141.21199808219862,
          141.21199808219862,
          141.21199808219862,
          127.33567457123112,
          106.11306214269258,
          127.33567457123112,
          100.45466986113652,
          165.6321180513006,
          106.11306214269258,
          141.21199808219862,
          100.45466986113652,
          189.90579052433608,
          141.21199808219862,
          276.053530085501,
          127.33567457123112,
          141.21199808219862,
          331.2642361026012,
          100.45466986113652,
          100.45466986113652,
          141.21199808219862,
          111.93520355955212,
          106.11306214269258,
          111.93520355955212,
          141.21199808219862,
          141.21199808219862,
          141.21199808219862,
          157.3505121487356,
          157.3505121487356,
          127.33567457123112,
          127.33567457123112,
          141.21199808219862,
          157.3505121487356,
          100.45466986113652,
          165.6321180513006,
          141.21199808219862,
          135.0942111925629,
          127.33567457123112,
          127.33567457123112,
          157.3505121487356,
          100.45466986113652,
          127.33567457123112,
          100.45466986113652,
          141.21199808219862,
          135.0942111925629,
          141.21199808219862,
          127.33567457123112,
          100.45466986113652,
          165.6321180513006,
          157.3505121487356,
          176.23257360658386,
          141.21199808219862,
          141.21199808219862,
          100.45466986113652,
          157.3505121487356,
          127.33567457123112,
          100.45466986113652,
          282.42399616439724,
          141.21199808219862,
          141.21199808219862,
          141.21199808219862,
          111.93520355955212,
          282.42399616439724,
          141.21199808219862,
          100.45466986113652,
          100.45466986113652,
          100.45466986113652,
          127.33567457123112,
          141.21199808219862,
          141.21199808219862,
          141.21199808219862,
          135.0942111925629,
          111.93520355955212,
          157.3505121487356,
          141.21199808219862,
          100.45466986113652,
          100.45466986113652,
          141.21199808219862,
          157.3505121487356,
          141.21199808219862,
          165.6321180513006,
          141.21199808219862,
          157.3505121487356,
          141.21199808219862,
          141.21199808219862,
          141.21199808219862,
          100.45466986113652,
          141.21199808219862,
          276.053530085501,
          111.93520355955212,
          165.6321180513006,
          282.42399616439724,
          141.21199808219862,
          107.98564559226952,
          157.3505121487356,
          141.21199808219862,
          100.45466986113652,
          111.93520355955212,
          157.3505121487356,
          157.3505121487356,
          165.6321180513006,
          176.23257360658386,
          127.33567457123112,
          141.21199808219862,
          165.6321180513006,
          141.21199808219862,
          100.45466986113652,
          141.21199808219862,
          141.21199808219862,
          141.21199808219862,
          141.21199808219862,
          254.67134914246225,
          157.3505121487356,
          100.45466986113652,
          141.21199808219862,
          141.21199808219862,
          127.33567457123112,
          100.45466986113652,
          141.21199808219862,
          141.21199808219862,
          141.21199808219862,
          100.45466986113652,
          200.84255993695703,
          141.21199808219862,
          165.6321180513006,
          100.45466986113652,
          157.3505121487356,
          141.21199808219862,
          157.3505121487356,
          135.0942111925629,
          141.21199808219862,
          141.21199808219862,
          141.21199808219862,
          100.45466986113652,
          141.21199808219862,
          127.33567457123112,
          165.6321180513006,
          141.21199808219862,
          100.45466986113652,
          100.45466986113652,
          127.33567457123112,
          100.45466986113652,
          111.93520355955212,
          157.3505121487356,
          127.33567457123112,
          209.8006828649808,
          165.6321180513006,
          135.0942111925629,
          157.3505121487356,
          176.23257360658386,
          165.6321180513006,
          141.21199808219862,
          141.21199808219862,
          141.21199808219862,
          100.45466986113652,
          141.21199808219862,
          100.45466986113652,
          141.21199808219862,
          165.6321180513006,
          141.21199808219862,
          157.3505121487356,
          127.33567457123112,
          141.21199808219862,
          157.3505121487356,
          141.21199808219862,
          157.3505121487356,
          141.21199808219862,
          157.3505121487356,
          141.21199808219862,
          100.45466986113652,
          161.72539083525606,
          127.33567457123112,
          209.8006828649808,
          117.82653006268644,
          157.3505121487356,
          254.67134914246225,
          127.33567457123112,
          100.45466986113652,
          141.21199808219862,
          165.6321180513006,
          100.45466986113652,
          141.21199808219862,
          127.33567457123112,
          100.45466986113652,
          141.21199808219862,
          100.45466986113652,
          165.6321180513006,
          141.21199808219862,
          141.21199808219862,
          165.6321180513006,
          141.21199808219862,
          100.45466986113652,
          141.21199808219862,
          100.45466986113652,
          157.3505121487356,
          157.3505121487356,
          282.42399616439724,
          111.93520355955212,
          165.6321180513006,
          141.21199808219862,
          111.93520355955212,
          127.33567457123112,
          135.0942111925629,
          141.21199808219862,
          100.45466986113652,
          157.3505121487356,
          100.45466986113652,
          276.053530085501,
          141.21199808219862,
          141.21199808219862,
          282.42399616439724,
          100.45466986113652,
          141.21199808219862,
          176.23257360658386,
          234.50740003017813,
          276.053530085501,
          117.82653006268644,
          117.82653006268644,
          90.58340172449304,
          282.42399616439724,
          165.6321180513006,
          100.45466986113652,
          141.21199808219862,
          146.86047800548656,
          111.93520355955212,
          141.21199808219862,
          125.36742798669836,
          141.21199808219862,
          282.42399616439724,
          157.3505121487356,
          157.3505121487356,
          141.21199808219862,
          127.33567457123112,
          127.33567457123112,
          157.3505121487356,
          100.45466986113652,
          157.3505121487356,
          157.3505121487356,
          141.21199808219862,
          141.21199808219862,
          127.33567457123112,
          141.21199808219862,
          141.21199808219862,
          157.3505121487356,
          165.6321180513006,
          141.21199808219862,
          226.4155471693585,
          209.8006828649808,
          111.93520355955212,
          100.45466986113652,
          158.48253022174808,
          141.21199808219862,
          141.21199808219862,
          141.21199808219862,
          165.6321180513006,
          282.42399616439724,
          135.0942111925629,
          125.36742798669836,
          100.45466986113652,
          100.45466986113652,
          282.42399616439724,
          141.21199808219862,
          127.33567457123112,
          127.33567457123112,
          165.6321180513006,
          141.21199808219862,
          141.21199808219862,
          157.3505121487356,
          352.4651472131677,
          135.0942111925629,
          127.33567457123112,
          111.93520355955212,
          100.45466986113652,
          111.93520355955212,
          157.3505121487356,
          141.21199808219862,
          157.3505121487356,
          111.93520355955212,
          165.6321180513006,
          111.93520355955212,
          135.0942111925629,
          157.3505121487356,
          254.67134914246225,
          209.8006828649808,
          141.21199808219862,
          157.3505121487356,
          157.3505121487356,
          141.21199808219862,
          127.33567457123112,
          100.45466986113652,
          111.93520355955212,
          141.21199808219862,
          127.33567457123112,
          127.33567457123112,
          106.11306214269258,
          100.45466986113652,
          157.3505121487356,
          141.21199808219862,
          135.0942111925629,
          165.6321180513006,
          165.6321180513006,
          157.3505121487356,
          100.45466986113652,
          141.21199808219862,
          127.33567457123112,
          157.3505121487356,
          141.21199808219862,
          141.21199808219862,
          100.45466986113652,
          165.6321180513006,
          165.6321180513006,
          141.21199808219862,
          141.21199808219862,
          141.21199808219862,
          165.6321180513006,
          141.21199808219862,
          276.053530085501,
          141.21199808219862,
          117.82653006268644,
          165.6321180513006,
          157.3505121487356,
          141.21199808219862,
          100.45466986113652,
          141.21199808219862,
          141.21199808219862,
          165.6321180513006,
          146.86047800548656,
          176.23257360658386,
          100.45466986113652,
          165.6321180513006,
          141.21199808219862,
          141.21199808219862,
          165.6321180513006,
          100.45466986113652,
          111.1413368676404,
          141.21199808219862,
          100.45466986113652,
          165.6321180513006,
          100.45466986113652,
          127.33567457123112,
          135.0942111925629,
          106.11306214269258,
          157.3505121487356,
          276.053530085501,
          146.86047800548656,
          157.3505121487356,
          254.67134914246225,
          165.6321180513006,
          141.21199808219862,
          141.21199808219862,
          100.45466986113652,
          141.21199808219862,
          276.053530085501,
          127.33567457123112,
          165.6321180513006,
          157.3505121487356,
          141.21199808219862,
          141.21199808219862,
          176.23257360658386,
          141.21199808219862,
          141.21199808219862,
          157.3505121487356,
          157.3505121487356,
          352.4651472131677,
          141.21199808219862,
          141.21199808219862,
          141.21199808219862,
          165.6321180513006,
          165.6321180513006,
          127.33567457123112,
          141.21199808219862,
          141.21199808219862,
          100.45466986113652,
          141.21199808219862,
          276.053530085501,
          141.21199808219862,
          165.6321180513006,
          100.45466986113652,
          176.23257360658386,
          141.21199808219862,
          100.45466986113652,
          111.93520355955212,
          100.45466986113652,
          176.23257360658386,
          100.45466986113652,
          276.053530085501,
          157.3505121487356,
          176.23257360658386,
          100.45466986113652,
          141.21199808219862,
          157.3505121487356,
          169.78089942830815,
          127.33567457123112,
          106.11306214269258,
          100.45466986113652,
          100.45466986113652,
          194.94753717542463,
          141.21199808219862,
          176.23257360658386,
          141.21199808219862,
          106.11306214269258,
          111.93520355955212,
          141.21199808219862,
          157.3505121487356,
          165.6321180513006,
          176.23257360658386,
          157.3505121487356,
          254.67134914246225,
          165.6321180513006,
          135.0942111925629,
          276.053530085501,
          135.0942111925629,
          165.6321180513006,
          176.23257360658386,
          141.21199808219862,
          176.23257360658386,
          100.45466986113652,
          100.45466986113652,
          100.45466986113652,
          141.21199808219862,
          127.33567457123112,
          141.21199808219862,
          276.053530085501,
          209.8006828649808,
          127.33567457123112,
          157.3505121487356,
          127.33567457123112,
          141.21199808219862,
          111.93520355955212,
          282.42399616439724,
          100.45466986113652,
          127.33567457123112,
          141.21199808219862,
          165.6321180513006,
          141.21199808219862,
          100.45466986113652,
          111.93520355955212,
          100.45466986113652,
          141.21199808219862,
          141.21199808219862,
          100.45466986113652,
          157.3505121487356,
          176.23257360658386,
          141.21199808219862,
          100.45466986113652,
          141.21199808219862,
          165.6321180513006,
          276.053530085501,
          165.6321180513006,
          100.45466986113652,
          141.21199808219862,
          157.3505121487356,
          141.21199808219862,
          165.6321180513006,
          100.45466986113652,
          111.93520355955212,
          165.6321180513006,
          111.93520355955212,
          157.3505121487356,
          157.3505121487356,
          157.3505121487356,
          111.93520355955212,
          141.21199808219862,
          176.23257360658386,
          157.3505121487356,
          157.3505121487356,
          117.82653006268644,
          117.82653006268644,
          100.45466986113652,
          254.67134914246225,
          157.3505121487356,
          157.3505121487356,
          141.21199808219862,
          165.6321180513006,
          165.6321180513006,
          157.3505121487356,
          141.21199808219862,
          125.36742798669836,
          111.93520355955212,
          111.93520355955212,
          276.053530085501,
          127.33567457123112,
          111.93520355955212,
          100.45466986113652,
          127.33567457123112,
          157.3505121487356,
          141.21199808219862,
          176.23257360658386,
          100.45466986113652,
          157.3505121487356,
          141.21199808219862,
          157.3505121487356,
          141.21199808219862,
          111.93520355955212,
          141.21199808219862,
          141.21199808219862,
          157.3505121487356,
          141.21199808219862,
          157.3505121487356,
          127.33567457123112,
          127.33567457123112,
          135.0942111925629,
          209.8006828649808,
          141.21199808219862,
          141.21199808219862,
          100.45466986113652,
          276.053530085501,
          100.45466986113652,
          100.45466986113652,
          100.45466986113652,
          165.6321180513006,
          141.21199808219862,
          141.21199808219862,
          127.33567457123112,
          141.21199808219862,
          141.21199808219862,
          141.21199808219862,
          165.6321180513006,
          127.33567457123112,
          165.6321180513006,
          282.42399616439724,
          226.4155471693585,
          100.45466986113652,
          100.45466986113652,
          176.23257360658386,
          165.6321180513006,
          176.23257360658386,
          106.11306214269258,
          141.21199808219862,
          127.33567457123112,
          100.45466986113652,
          141.21199808219862,
          234.9767648087785,
          127.33567457123112,
          224.1738090785728,
          331.2642361026012,
          141.21199808219862,
          157.3505121487356,
          141.21199808219862,
          157.3505121487356,
          276.053530085501,
          100.45466986113652,
          100.45466986113652,
          100.45466986113652,
          127.33567457123112,
          165.6321180513006,
          125.36742798669836,
          141.21199808219862,
          141.21199808219862,
          127.33567457123112,
          100.45466986113652,
          127.33567457123112,
          125.36742798669836,
          125.36742798669836,
          100.45466986113652,
          127.33567457123112,
          141.21199808219862,
          125.36742798669836,
          127.33567457123112,
          141.21199808219862,
          141.21199808219862,
          141.21199808219862,
          276.053530085501,
          100.45466986113652,
          100.45466986113652,
          165.6321180513006,
          224.1738090785728,
          165.6321180513006,
          127.33567457123112,
          352.4651472131677,
          165.6321180513006,
          127.33567457123112,
          165.6321180513006,
          165.6321180513006,
          157.3505121487356,
          100.45466986113652,
          100.45466986113652,
          157.3505121487356,
          224.1738090785728,
          125.36742798669836,
          141.21199808219862,
          127.33567457123112,
          100.45466986113652,
          157.3505121487356,
          111.93520355955212,
          141.21199808219862,
          141.21199808219862,
          141.21199808219862,
          127.33567457123112,
          100.45466986113652,
          127.33567457123112,
          141.21199808219862,
          209.8006828649808,
          141.21199808219862,
          165.6321180513006,
          141.21199808219862,
          220.84282406840083,
          141.21199808219862,
          176.23257360658386,
          141.21199808219862,
          141.21199808219862,
          209.8006828649808,
          100.45466986113652,
          100.45466986113652,
          141.21199808219862,
          141.21199808219862,
          282.42399616439724,
          141.21199808219862,
          127.33567457123112,
          157.3505121487356,
          141.21199808219862,
          220.84282406840083,
          157.3505121487356,
          157.3505121487356,
          141.21199808219862,
          100.45466986113652,
          100.45466986113652,
          282.42399616439724,
          141.21199808219862,
          141.21199808219862,
          111.93520355955212,
          141.21199808219862,
          141.21199808219862,
          141.21199808219862,
          100.45466986113652,
          100.45466986113652,
          141.21199808219862,
          157.3505121487356,
          141.21199808219862,
          141.21199808219862,
          141.21199808219862,
          100.45466986113652,
          209.8006828649808,
          141.21199808219862,
          141.21199808219862,
          100.45466986113652,
          141.21199808219862,
          141.21199808219862,
          141.21199808219862,
          141.21199808219862,
          276.053530085501,
          127.33567457123112,
          141.21199808219862,
          100.45466986113652,
          226.4155471693585,
          165.6321180513006,
          141.21199808219862,
          100.45466986113652,
          127.33567457123112,
          100.45466986113652,
          127.33567457123112,
          100.45466986113652,
          100.45466986113652,
          141.21199808219862,
          276.053530085501,
          141.21199808219862,
          141.21199808219862,
          100.45466986113652,
          100.45466986113652,
          106.11306214269258,
          141.21199808219862,
          226.4155471693585,
          141.21199808219862,
          127.33567457123112,
          141.21199808219862,
          127.33567457123112,
          135.0942111925629,
          106.11306214269258,
          106.11306214269258,
          141.21199808219862,
          157.3505121487356,
          141.21199808219862,
          141.21199808219862,
          141.21199808219862,
          176.23257360658386,
          146.86047800548656,
          100.45466986113652,
          276.053530085501,
          100.45466986113652,
          141.21199808219862,
          141.21199808219862,
          176.23257360658386,
          157.3505121487356,
          100.45466986113652,
          127.33567457123112,
          135.0942111925629,
          141.21199808219862,
          209.8006828649808,
          100.45466986113652,
          141.21199808219862,
          165.6321180513006,
          141.21199808219862,
          165.6321180513006,
          100.45466986113652,
          127.33567457123112,
          157.3505121487356,
          141.21199808219862,
          111.93520355955212,
          141.21199808219862,
          141.21199808219862,
          276.053530085501,
          100.45466986113652,
          100.45466986113652,
          141.21199808219862,
          157.3505121487356,
          100.45466986113652,
          100.45466986113652,
          127.33567457123112,
          100.45466986113652,
          141.21199808219862,
          141.21199808219862,
          157.3505121487356,
          165.6321180513006,
          100.45466986113652,
          100.45466986113652,
          100.45466986113652,
          141.21199808219862,
          141.21199808219862,
          100.45466986113652,
          135.0942111925629,
          100.45466986113652,
          157.3505121487356,
          276.053530085501,
          111.93520355955212,
          100.45466986113652
         ],
         "xaxis": "x",
         "yaxis": "y"
        }
       ],
       "layout": {
        "barmode": "relative",
        "legend": {
         "tracegroupgap": 0
        },
        "margin": {
         "t": 60
        },
        "template": {
         "data": {
          "bar": [
           {
            "error_x": {
             "color": "#2a3f5f"
            },
            "error_y": {
             "color": "#2a3f5f"
            },
            "marker": {
             "line": {
              "color": "#E5ECF6",
              "width": 0.5
             },
             "pattern": {
              "fillmode": "overlay",
              "size": 10,
              "solidity": 0.2
             }
            },
            "type": "bar"
           }
          ],
          "barpolar": [
           {
            "marker": {
             "line": {
              "color": "#E5ECF6",
              "width": 0.5
             },
             "pattern": {
              "fillmode": "overlay",
              "size": 10,
              "solidity": 0.2
             }
            },
            "type": "barpolar"
           }
          ],
          "carpet": [
           {
            "aaxis": {
             "endlinecolor": "#2a3f5f",
             "gridcolor": "white",
             "linecolor": "white",
             "minorgridcolor": "white",
             "startlinecolor": "#2a3f5f"
            },
            "baxis": {
             "endlinecolor": "#2a3f5f",
             "gridcolor": "white",
             "linecolor": "white",
             "minorgridcolor": "white",
             "startlinecolor": "#2a3f5f"
            },
            "type": "carpet"
           }
          ],
          "choropleth": [
           {
            "colorbar": {
             "outlinewidth": 0,
             "ticks": ""
            },
            "type": "choropleth"
           }
          ],
          "contour": [
           {
            "colorbar": {
             "outlinewidth": 0,
             "ticks": ""
            },
            "colorscale": [
             [
              0,
              "#0d0887"
             ],
             [
              0.1111111111111111,
              "#46039f"
             ],
             [
              0.2222222222222222,
              "#7201a8"
             ],
             [
              0.3333333333333333,
              "#9c179e"
             ],
             [
              0.4444444444444444,
              "#bd3786"
             ],
             [
              0.5555555555555556,
              "#d8576b"
             ],
             [
              0.6666666666666666,
              "#ed7953"
             ],
             [
              0.7777777777777778,
              "#fb9f3a"
             ],
             [
              0.8888888888888888,
              "#fdca26"
             ],
             [
              1,
              "#f0f921"
             ]
            ],
            "type": "contour"
           }
          ],
          "contourcarpet": [
           {
            "colorbar": {
             "outlinewidth": 0,
             "ticks": ""
            },
            "type": "contourcarpet"
           }
          ],
          "heatmap": [
           {
            "colorbar": {
             "outlinewidth": 0,
             "ticks": ""
            },
            "colorscale": [
             [
              0,
              "#0d0887"
             ],
             [
              0.1111111111111111,
              "#46039f"
             ],
             [
              0.2222222222222222,
              "#7201a8"
             ],
             [
              0.3333333333333333,
              "#9c179e"
             ],
             [
              0.4444444444444444,
              "#bd3786"
             ],
             [
              0.5555555555555556,
              "#d8576b"
             ],
             [
              0.6666666666666666,
              "#ed7953"
             ],
             [
              0.7777777777777778,
              "#fb9f3a"
             ],
             [
              0.8888888888888888,
              "#fdca26"
             ],
             [
              1,
              "#f0f921"
             ]
            ],
            "type": "heatmap"
           }
          ],
          "heatmapgl": [
           {
            "colorbar": {
             "outlinewidth": 0,
             "ticks": ""
            },
            "colorscale": [
             [
              0,
              "#0d0887"
             ],
             [
              0.1111111111111111,
              "#46039f"
             ],
             [
              0.2222222222222222,
              "#7201a8"
             ],
             [
              0.3333333333333333,
              "#9c179e"
             ],
             [
              0.4444444444444444,
              "#bd3786"
             ],
             [
              0.5555555555555556,
              "#d8576b"
             ],
             [
              0.6666666666666666,
              "#ed7953"
             ],
             [
              0.7777777777777778,
              "#fb9f3a"
             ],
             [
              0.8888888888888888,
              "#fdca26"
             ],
             [
              1,
              "#f0f921"
             ]
            ],
            "type": "heatmapgl"
           }
          ],
          "histogram": [
           {
            "marker": {
             "pattern": {
              "fillmode": "overlay",
              "size": 10,
              "solidity": 0.2
             }
            },
            "type": "histogram"
           }
          ],
          "histogram2d": [
           {
            "colorbar": {
             "outlinewidth": 0,
             "ticks": ""
            },
            "colorscale": [
             [
              0,
              "#0d0887"
             ],
             [
              0.1111111111111111,
              "#46039f"
             ],
             [
              0.2222222222222222,
              "#7201a8"
             ],
             [
              0.3333333333333333,
              "#9c179e"
             ],
             [
              0.4444444444444444,
              "#bd3786"
             ],
             [
              0.5555555555555556,
              "#d8576b"
             ],
             [
              0.6666666666666666,
              "#ed7953"
             ],
             [
              0.7777777777777778,
              "#fb9f3a"
             ],
             [
              0.8888888888888888,
              "#fdca26"
             ],
             [
              1,
              "#f0f921"
             ]
            ],
            "type": "histogram2d"
           }
          ],
          "histogram2dcontour": [
           {
            "colorbar": {
             "outlinewidth": 0,
             "ticks": ""
            },
            "colorscale": [
             [
              0,
              "#0d0887"
             ],
             [
              0.1111111111111111,
              "#46039f"
             ],
             [
              0.2222222222222222,
              "#7201a8"
             ],
             [
              0.3333333333333333,
              "#9c179e"
             ],
             [
              0.4444444444444444,
              "#bd3786"
             ],
             [
              0.5555555555555556,
              "#d8576b"
             ],
             [
              0.6666666666666666,
              "#ed7953"
             ],
             [
              0.7777777777777778,
              "#fb9f3a"
             ],
             [
              0.8888888888888888,
              "#fdca26"
             ],
             [
              1,
              "#f0f921"
             ]
            ],
            "type": "histogram2dcontour"
           }
          ],
          "mesh3d": [
           {
            "colorbar": {
             "outlinewidth": 0,
             "ticks": ""
            },
            "type": "mesh3d"
           }
          ],
          "parcoords": [
           {
            "line": {
             "colorbar": {
              "outlinewidth": 0,
              "ticks": ""
             }
            },
            "type": "parcoords"
           }
          ],
          "pie": [
           {
            "automargin": true,
            "type": "pie"
           }
          ],
          "scatter": [
           {
            "fillpattern": {
             "fillmode": "overlay",
             "size": 10,
             "solidity": 0.2
            },
            "type": "scatter"
           }
          ],
          "scatter3d": [
           {
            "line": {
             "colorbar": {
              "outlinewidth": 0,
              "ticks": ""
             }
            },
            "marker": {
             "colorbar": {
              "outlinewidth": 0,
              "ticks": ""
             }
            },
            "type": "scatter3d"
           }
          ],
          "scattercarpet": [
           {
            "marker": {
             "colorbar": {
              "outlinewidth": 0,
              "ticks": ""
             }
            },
            "type": "scattercarpet"
           }
          ],
          "scattergeo": [
           {
            "marker": {
             "colorbar": {
              "outlinewidth": 0,
              "ticks": ""
             }
            },
            "type": "scattergeo"
           }
          ],
          "scattergl": [
           {
            "marker": {
             "colorbar": {
              "outlinewidth": 0,
              "ticks": ""
             }
            },
            "type": "scattergl"
           }
          ],
          "scattermapbox": [
           {
            "marker": {
             "colorbar": {
              "outlinewidth": 0,
              "ticks": ""
             }
            },
            "type": "scattermapbox"
           }
          ],
          "scatterpolar": [
           {
            "marker": {
             "colorbar": {
              "outlinewidth": 0,
              "ticks": ""
             }
            },
            "type": "scatterpolar"
           }
          ],
          "scatterpolargl": [
           {
            "marker": {
             "colorbar": {
              "outlinewidth": 0,
              "ticks": ""
             }
            },
            "type": "scatterpolargl"
           }
          ],
          "scatterternary": [
           {
            "marker": {
             "colorbar": {
              "outlinewidth": 0,
              "ticks": ""
             }
            },
            "type": "scatterternary"
           }
          ],
          "surface": [
           {
            "colorbar": {
             "outlinewidth": 0,
             "ticks": ""
            },
            "colorscale": [
             [
              0,
              "#0d0887"
             ],
             [
              0.1111111111111111,
              "#46039f"
             ],
             [
              0.2222222222222222,
              "#7201a8"
             ],
             [
              0.3333333333333333,
              "#9c179e"
             ],
             [
              0.4444444444444444,
              "#bd3786"
             ],
             [
              0.5555555555555556,
              "#d8576b"
             ],
             [
              0.6666666666666666,
              "#ed7953"
             ],
             [
              0.7777777777777778,
              "#fb9f3a"
             ],
             [
              0.8888888888888888,
              "#fdca26"
             ],
             [
              1,
              "#f0f921"
             ]
            ],
            "type": "surface"
           }
          ],
          "table": [
           {
            "cells": {
             "fill": {
              "color": "#EBF0F8"
             },
             "line": {
              "color": "white"
             }
            },
            "header": {
             "fill": {
              "color": "#C8D4E3"
             },
             "line": {
              "color": "white"
             }
            },
            "type": "table"
           }
          ]
         },
         "layout": {
          "annotationdefaults": {
           "arrowcolor": "#2a3f5f",
           "arrowhead": 0,
           "arrowwidth": 1
          },
          "autotypenumbers": "strict",
          "coloraxis": {
           "colorbar": {
            "outlinewidth": 0,
            "ticks": ""
           }
          },
          "colorscale": {
           "diverging": [
            [
             0,
             "#8e0152"
            ],
            [
             0.1,
             "#c51b7d"
            ],
            [
             0.2,
             "#de77ae"
            ],
            [
             0.3,
             "#f1b6da"
            ],
            [
             0.4,
             "#fde0ef"
            ],
            [
             0.5,
             "#f7f7f7"
            ],
            [
             0.6,
             "#e6f5d0"
            ],
            [
             0.7,
             "#b8e186"
            ],
            [
             0.8,
             "#7fbc41"
            ],
            [
             0.9,
             "#4d9221"
            ],
            [
             1,
             "#276419"
            ]
           ],
           "sequential": [
            [
             0,
             "#0d0887"
            ],
            [
             0.1111111111111111,
             "#46039f"
            ],
            [
             0.2222222222222222,
             "#7201a8"
            ],
            [
             0.3333333333333333,
             "#9c179e"
            ],
            [
             0.4444444444444444,
             "#bd3786"
            ],
            [
             0.5555555555555556,
             "#d8576b"
            ],
            [
             0.6666666666666666,
             "#ed7953"
            ],
            [
             0.7777777777777778,
             "#fb9f3a"
            ],
            [
             0.8888888888888888,
             "#fdca26"
            ],
            [
             1,
             "#f0f921"
            ]
           ],
           "sequentialminus": [
            [
             0,
             "#0d0887"
            ],
            [
             0.1111111111111111,
             "#46039f"
            ],
            [
             0.2222222222222222,
             "#7201a8"
            ],
            [
             0.3333333333333333,
             "#9c179e"
            ],
            [
             0.4444444444444444,
             "#bd3786"
            ],
            [
             0.5555555555555556,
             "#d8576b"
            ],
            [
             0.6666666666666666,
             "#ed7953"
            ],
            [
             0.7777777777777778,
             "#fb9f3a"
            ],
            [
             0.8888888888888888,
             "#fdca26"
            ],
            [
             1,
             "#f0f921"
            ]
           ]
          },
          "colorway": [
           "#636efa",
           "#EF553B",
           "#00cc96",
           "#ab63fa",
           "#FFA15A",
           "#19d3f3",
           "#FF6692",
           "#B6E880",
           "#FF97FF",
           "#FECB52"
          ],
          "font": {
           "color": "#2a3f5f"
          },
          "geo": {
           "bgcolor": "white",
           "lakecolor": "white",
           "landcolor": "#E5ECF6",
           "showlakes": true,
           "showland": true,
           "subunitcolor": "white"
          },
          "hoverlabel": {
           "align": "left"
          },
          "hovermode": "closest",
          "mapbox": {
           "style": "light"
          },
          "paper_bgcolor": "white",
          "plot_bgcolor": "#E5ECF6",
          "polar": {
           "angularaxis": {
            "gridcolor": "white",
            "linecolor": "white",
            "ticks": ""
           },
           "bgcolor": "#E5ECF6",
           "radialaxis": {
            "gridcolor": "white",
            "linecolor": "white",
            "ticks": ""
           }
          },
          "scene": {
           "xaxis": {
            "backgroundcolor": "#E5ECF6",
            "gridcolor": "white",
            "gridwidth": 2,
            "linecolor": "white",
            "showbackground": true,
            "ticks": "",
            "zerolinecolor": "white"
           },
           "yaxis": {
            "backgroundcolor": "#E5ECF6",
            "gridcolor": "white",
            "gridwidth": 2,
            "linecolor": "white",
            "showbackground": true,
            "ticks": "",
            "zerolinecolor": "white"
           },
           "zaxis": {
            "backgroundcolor": "#E5ECF6",
            "gridcolor": "white",
            "gridwidth": 2,
            "linecolor": "white",
            "showbackground": true,
            "ticks": "",
            "zerolinecolor": "white"
           }
          },
          "shapedefaults": {
           "line": {
            "color": "#2a3f5f"
           }
          },
          "ternary": {
           "aaxis": {
            "gridcolor": "white",
            "linecolor": "white",
            "ticks": ""
           },
           "baxis": {
            "gridcolor": "white",
            "linecolor": "white",
            "ticks": ""
           },
           "bgcolor": "#E5ECF6",
           "caxis": {
            "gridcolor": "white",
            "linecolor": "white",
            "ticks": ""
           }
          },
          "title": {
           "x": 0.05
          },
          "xaxis": {
           "automargin": true,
           "gridcolor": "white",
           "linecolor": "white",
           "ticks": "",
           "title": {
            "standoff": 15
           },
           "zerolinecolor": "white",
           "zerolinewidth": 2
          },
          "yaxis": {
           "automargin": true,
           "gridcolor": "white",
           "linecolor": "white",
           "ticks": "",
           "title": {
            "standoff": 15
           },
           "zerolinecolor": "white",
           "zerolinewidth": 2
          }
         }
        },
        "xaxis": {
         "anchor": "y",
         "domain": [
          0,
          1
         ],
         "title": {
          "text": "Ppi"
         }
        },
        "yaxis": {
         "anchor": "x",
         "domain": [
          0,
          1
         ],
         "title": {
          "text": "count"
         }
        }
       }
      }
     },
     "metadata": {},
     "output_type": "display_data"
    },
    {
     "data": {
      "application/vnd.plotly.v1+json": {
       "config": {
        "plotlyServerURL": "https://plot.ly"
       },
       "data": [
        {
         "alignmentgroup": "True",
         "bingroup": "x",
         "hovertemplate": "HDD=%{x}<br>count=%{y}<extra></extra>",
         "legendgroup": "",
         "marker": {
          "color": "#636efa",
          "pattern": {
           "shape": ""
          }
         },
         "name": "",
         "offsetgroup": "",
         "orientation": "v",
         "showlegend": false,
         "type": "histogram",
         "x": [
          0,
          0,
          0,
          0,
          0,
          500,
          0,
          0,
          0,
          0,
          500,
          500,
          0,
          0,
          0,
          0,
          0,
          0,
          1000,
          0,
          0,
          1000,
          500,
          0,
          0,
          1000,
          0,
          0,
          0,
          1000,
          0,
          0,
          500,
          0,
          0,
          0,
          1000,
          1000,
          1000,
          0,
          1000,
          1000,
          1000,
          0,
          1000,
          0,
          0,
          1000,
          0,
          1000,
          0,
          0,
          0,
          0,
          1000,
          0,
          0,
          0,
          2000,
          0,
          2000,
          0,
          0,
          0,
          0,
          0,
          500,
          0,
          1000,
          1000,
          0,
          0,
          0,
          1000,
          1000,
          1000,
          2000,
          1000,
          1000,
          1000,
          0,
          0,
          0,
          0,
          1000,
          1000,
          0,
          0,
          1000,
          0,
          1000,
          1000,
          0,
          0,
          0,
          0,
          1000,
          0,
          0,
          1000,
          0,
          500,
          1000,
          0,
          0,
          0,
          1000,
          0,
          1000,
          0,
          1000,
          0,
          0,
          500,
          0,
          0,
          0,
          1000,
          1000,
          0,
          1000,
          2000,
          0,
          0,
          0,
          500,
          1000,
          0,
          2000,
          0,
          1000,
          1000,
          0,
          0,
          1000,
          0,
          1000,
          1000,
          1000,
          0,
          1000,
          0,
          0,
          500,
          0,
          0,
          0,
          1000,
          1000,
          1000,
          0,
          0,
          0,
          1000,
          0,
          0,
          0,
          0,
          0,
          500,
          1000,
          0,
          0,
          0,
          1000,
          1000,
          1000,
          1000,
          0,
          500,
          0,
          2000,
          500,
          500,
          0,
          1000,
          0,
          1000,
          1000,
          0,
          2000,
          0,
          0,
          0,
          0,
          0,
          0,
          0,
          0,
          1000,
          0,
          0,
          0,
          0,
          1000,
          1000,
          0,
          0,
          1000,
          0,
          1000,
          0,
          1000,
          1000,
          1000,
          0,
          1000,
          0,
          0,
          0,
          1000,
          1000,
          500,
          0,
          0,
          0,
          1000,
          0,
          0,
          0,
          0,
          0,
          0,
          1000,
          1000,
          0,
          1000,
          0,
          500,
          1000,
          1000,
          500,
          1000,
          0,
          0,
          0,
          1000,
          1000,
          1000,
          0,
          0,
          1000,
          1000,
          0,
          0,
          2000,
          1000,
          0,
          500,
          0,
          1000,
          1000,
          1000,
          0,
          0,
          0,
          0,
          1000,
          1000,
          0,
          1000,
          0,
          500,
          1000,
          1000,
          0,
          0,
          1000,
          1000,
          0,
          0,
          1000,
          0,
          0,
          500,
          1000,
          1000,
          1000,
          1000,
          2000,
          1000,
          1000,
          0,
          0,
          0,
          1000,
          0,
          0,
          1000,
          1000,
          0,
          1000,
          1000,
          0,
          0,
          1000,
          0,
          0,
          1000,
          0,
          0,
          1000,
          1000,
          2000,
          1000,
          1000,
          0,
          0,
          1000,
          1000,
          0,
          0,
          1000,
          0,
          0,
          1000,
          0,
          0,
          0,
          0,
          0,
          1000,
          0,
          1000,
          0,
          0,
          1000,
          0,
          0,
          0,
          1000,
          0,
          1000,
          1000,
          0,
          0,
          1000,
          0,
          1000,
          0,
          500,
          2000,
          1000,
          0,
          0,
          2000,
          0,
          0,
          0,
          1000,
          0,
          0,
          1000,
          0,
          0,
          2000,
          1000,
          1000,
          2000,
          0,
          500,
          0,
          1000,
          1000,
          0,
          2000,
          1000,
          1000,
          0,
          0,
          2000,
          0,
          1000,
          0,
          0,
          0,
          0,
          500,
          0,
          1000,
          1000,
          0,
          1000,
          0,
          0,
          0,
          0,
          500,
          0,
          0,
          1000,
          1000,
          1000,
          0,
          0,
          0,
          0,
          0,
          0,
          0,
          1000,
          1000,
          1000,
          0,
          1000,
          0,
          0,
          0,
          500,
          0,
          0,
          0,
          1000,
          0,
          0,
          0,
          0,
          0,
          1000,
          0,
          0,
          0,
          0,
          1000,
          1000,
          1000,
          2000,
          0,
          1000,
          0,
          0,
          0,
          0,
          0,
          0,
          1000,
          500,
          0,
          0,
          0,
          1000,
          0,
          0,
          0,
          1000,
          0,
          500,
          1000,
          0,
          0,
          0,
          0,
          0,
          0,
          1000,
          500,
          1000,
          0,
          0,
          0,
          1000,
          0,
          1000,
          0,
          0,
          500,
          500,
          2000,
          1000,
          0,
          0,
          500,
          0,
          0,
          1000,
          0,
          0,
          0,
          1000,
          0,
          0,
          1000,
          0,
          0,
          0,
          0,
          0,
          0,
          0,
          0,
          0,
          0,
          1000,
          1000,
          1000,
          0,
          0,
          0,
          0,
          0,
          0,
          0,
          0,
          500,
          0,
          0,
          1000,
          1000,
          0,
          1000,
          0,
          500,
          1000,
          2000,
          0,
          0,
          1000,
          0,
          0,
          1000,
          1000,
          0,
          0,
          0,
          1000,
          0,
          1000,
          2000,
          500,
          0,
          1000,
          500,
          1000,
          0,
          1000,
          0,
          0,
          0,
          1000,
          0,
          0,
          0,
          0,
          1000,
          500,
          0,
          500,
          1000,
          500,
          0,
          0,
          0,
          1000,
          1000,
          1000,
          500,
          0,
          1000,
          0,
          1000,
          0,
          0,
          0,
          0,
          1000,
          0,
          500,
          1000,
          500,
          500,
          500,
          2000,
          0,
          0,
          500,
          0,
          0,
          1000,
          1000,
          0,
          0,
          500,
          0,
          0,
          0,
          1000,
          1000,
          0,
          1000,
          1000,
          1000,
          0,
          0,
          1000,
          500,
          1000,
          0,
          0,
          0,
          0,
          0,
          500,
          0,
          1000,
          1000,
          2000,
          0,
          1000,
          0,
          0,
          0,
          1000,
          1000,
          1000,
          500,
          1000,
          0,
          0,
          1000,
          0,
          0,
          0,
          1000,
          0,
          500,
          1000,
          0,
          0,
          1000,
          0,
          0,
          1000,
          0,
          1000,
          1000,
          1000,
          0,
          0,
          0,
          0,
          1000,
          1000,
          0,
          1000,
          500,
          0,
          0,
          0,
          0,
          0,
          0,
          1000,
          0,
          1000,
          500,
          500,
          0,
          2000,
          1000,
          1000,
          0,
          500,
          500,
          1000,
          1000,
          0,
          1000,
          1000,
          0,
          0,
          0,
          1000,
          0,
          0,
          0,
          1000,
          0,
          0,
          0,
          0,
          0,
          0,
          1000,
          0,
          0,
          1000,
          500,
          1000,
          2000,
          500,
          0,
          0,
          500,
          0,
          0,
          0,
          0,
          0,
          0,
          500,
          1000,
          0,
          1000,
          2000,
          500,
          0,
          0,
          0,
          0,
          2000,
          1000,
          0,
          1000,
          0,
          0,
          0,
          0,
          500,
          32,
          0,
          0,
          0,
          0,
          1000,
          1000,
          1000,
          1000,
          1000,
          1000,
          1000,
          1000,
          1000,
          1000,
          500,
          0,
          1000,
          0,
          1000,
          1000,
          500,
          1000,
          0,
          0,
          0,
          0,
          0,
          0,
          0,
          0,
          0,
          0,
          0,
          1000,
          0,
          0,
          0,
          1000,
          0,
          1000,
          0,
          1000,
          0,
          0,
          0,
          500,
          0,
          1000,
          1000,
          0,
          1000,
          0,
          0,
          0,
          1000,
          0,
          2000,
          0,
          0,
          0,
          0,
          1000,
          1000,
          0,
          1000,
          0,
          1000,
          1000,
          1000,
          1000,
          0,
          1000,
          0,
          0,
          0,
          0,
          0,
          0,
          0,
          0,
          0,
          0,
          0,
          0,
          0,
          0,
          0,
          500,
          2000,
          0,
          1000,
          1000,
          1000,
          0,
          1000,
          0,
          0,
          0,
          0,
          1000,
          500,
          500,
          0,
          0,
          0,
          0,
          0,
          0,
          500,
          0,
          0,
          0,
          0,
          1000,
          0,
          0,
          1000,
          1000,
          500,
          0,
          128,
          1000,
          1000,
          1000,
          0,
          0,
          0,
          0,
          0,
          0,
          0,
          0,
          1000,
          1000,
          0,
          0,
          0,
          1000,
          0,
          1000,
          1000,
          1000,
          0,
          0,
          1000,
          0,
          500,
          0,
          0,
          0,
          1000,
          500,
          1000,
          0,
          0,
          0,
          0,
          1000,
          0,
          1000,
          0,
          0,
          500,
          0,
          1000,
          500,
          0,
          1000,
          1000,
          0,
          500,
          0,
          0,
          0,
          0,
          2000,
          0,
          1000,
          1000,
          1000,
          500,
          0,
          0,
          0,
          0,
          0,
          0,
          0,
          0,
          1000,
          0,
          0,
          0,
          0,
          0,
          1000,
          0,
          0,
          1000,
          1000,
          1000,
          1000,
          0,
          0,
          0,
          0,
          500,
          0,
          0,
          1000,
          500,
          1000,
          500,
          1000,
          0,
          0,
          0,
          1000,
          1000,
          0,
          1000,
          1000,
          1000,
          500,
          0,
          0,
          1000,
          0,
          1000,
          1000,
          0,
          0,
          0,
          0,
          0,
          0,
          1000,
          0,
          0,
          0,
          0,
          0,
          0,
          1000,
          0,
          1000,
          1000,
          500,
          500,
          1000,
          0,
          0,
          0,
          1000,
          0,
          1000,
          1000,
          0,
          2000,
          1000,
          1000,
          0,
          0,
          0,
          0,
          500,
          500,
          1000,
          1000,
          1000,
          0,
          0,
          1000,
          0,
          0,
          0,
          0,
          0,
          500,
          1000,
          0,
          1000,
          0,
          0,
          500,
          0,
          0,
          0,
          0,
          0,
          500,
          0,
          500,
          0,
          0,
          500,
          0,
          0,
          0,
          0,
          0,
          1000,
          0,
          0,
          0,
          500,
          0,
          500,
          500,
          0,
          0,
          0,
          1000,
          1000,
          0,
          0,
          0,
          500,
          0,
          0,
          0,
          0,
          0,
          0,
          0,
          500,
          500,
          0,
          1000,
          1000,
          0,
          0,
          1000,
          0,
          0,
          0,
          500,
          500,
          1000,
          0,
          1000,
          0,
          1000,
          1000,
          2000,
          1000,
          0,
          0,
          0,
          1000,
          0,
          500,
          500,
          0,
          0,
          0,
          1000,
          1000,
          1000,
          500,
          500,
          0,
          0,
          0,
          0,
          0,
          500,
          0,
          0,
          0,
          500,
          500,
          1000,
          1000,
          0,
          0,
          1000,
          1000,
          0,
          1000,
          1000,
          500,
          0,
          0,
          1000,
          0,
          0,
          1000,
          0,
          1000,
          1000,
          0,
          500,
          0,
          0,
          0,
          0,
          0,
          0,
          0,
          1000,
          0,
          0,
          0,
          500,
          1000,
          0,
          0,
          0,
          1000,
          1000,
          2000,
          0,
          0,
          0,
          1000,
          0,
          0,
          1000,
          1000,
          0,
          0,
          1000,
          0,
          0,
          0,
          0,
          0,
          0,
          0,
          0,
          1000,
          500,
          1000,
          1000,
          0,
          0,
          1000,
          0,
          0,
          0,
          0,
          1000,
          1000,
          1000,
          500,
          1000,
          0,
          1000,
          0,
          1000,
          0,
          0,
          500,
          500,
          1000,
          0,
          0,
          0,
          1000,
          500,
          0,
          0,
          0,
          500,
          1000,
          1000,
          0,
          0,
          0,
          1000,
          1000,
          500,
          0,
          0,
          1000,
          1000,
          1000,
          1000,
          1000,
          0,
          500,
          0,
          0,
          1000,
          0,
          0,
          500,
          1000,
          1000,
          0,
          1000,
          1000,
          0,
          1000,
          0,
          1000,
          1000,
          1000,
          0,
          0,
          1000,
          1000,
          0,
          500,
          1000,
          0,
          1000,
          1000,
          1000,
          0,
          0,
          1000,
          1000,
          0,
          1000,
          0,
          500,
          1000,
          0,
          0,
          0,
          500,
          0,
          0,
          1000,
          500,
          1000,
          0,
          0,
          500,
          500,
          0,
          0,
          500,
          1000,
          1000,
          500,
          0,
          1000,
          0,
          0,
          1000,
          500,
          500,
          1000,
          0,
          1000,
          0,
          500,
          0,
          0,
          0,
          1000
         ],
         "xaxis": "x",
         "yaxis": "y"
        }
       ],
       "layout": {
        "barmode": "relative",
        "legend": {
         "tracegroupgap": 0
        },
        "margin": {
         "t": 60
        },
        "template": {
         "data": {
          "bar": [
           {
            "error_x": {
             "color": "#2a3f5f"
            },
            "error_y": {
             "color": "#2a3f5f"
            },
            "marker": {
             "line": {
              "color": "#E5ECF6",
              "width": 0.5
             },
             "pattern": {
              "fillmode": "overlay",
              "size": 10,
              "solidity": 0.2
             }
            },
            "type": "bar"
           }
          ],
          "barpolar": [
           {
            "marker": {
             "line": {
              "color": "#E5ECF6",
              "width": 0.5
             },
             "pattern": {
              "fillmode": "overlay",
              "size": 10,
              "solidity": 0.2
             }
            },
            "type": "barpolar"
           }
          ],
          "carpet": [
           {
            "aaxis": {
             "endlinecolor": "#2a3f5f",
             "gridcolor": "white",
             "linecolor": "white",
             "minorgridcolor": "white",
             "startlinecolor": "#2a3f5f"
            },
            "baxis": {
             "endlinecolor": "#2a3f5f",
             "gridcolor": "white",
             "linecolor": "white",
             "minorgridcolor": "white",
             "startlinecolor": "#2a3f5f"
            },
            "type": "carpet"
           }
          ],
          "choropleth": [
           {
            "colorbar": {
             "outlinewidth": 0,
             "ticks": ""
            },
            "type": "choropleth"
           }
          ],
          "contour": [
           {
            "colorbar": {
             "outlinewidth": 0,
             "ticks": ""
            },
            "colorscale": [
             [
              0,
              "#0d0887"
             ],
             [
              0.1111111111111111,
              "#46039f"
             ],
             [
              0.2222222222222222,
              "#7201a8"
             ],
             [
              0.3333333333333333,
              "#9c179e"
             ],
             [
              0.4444444444444444,
              "#bd3786"
             ],
             [
              0.5555555555555556,
              "#d8576b"
             ],
             [
              0.6666666666666666,
              "#ed7953"
             ],
             [
              0.7777777777777778,
              "#fb9f3a"
             ],
             [
              0.8888888888888888,
              "#fdca26"
             ],
             [
              1,
              "#f0f921"
             ]
            ],
            "type": "contour"
           }
          ],
          "contourcarpet": [
           {
            "colorbar": {
             "outlinewidth": 0,
             "ticks": ""
            },
            "type": "contourcarpet"
           }
          ],
          "heatmap": [
           {
            "colorbar": {
             "outlinewidth": 0,
             "ticks": ""
            },
            "colorscale": [
             [
              0,
              "#0d0887"
             ],
             [
              0.1111111111111111,
              "#46039f"
             ],
             [
              0.2222222222222222,
              "#7201a8"
             ],
             [
              0.3333333333333333,
              "#9c179e"
             ],
             [
              0.4444444444444444,
              "#bd3786"
             ],
             [
              0.5555555555555556,
              "#d8576b"
             ],
             [
              0.6666666666666666,
              "#ed7953"
             ],
             [
              0.7777777777777778,
              "#fb9f3a"
             ],
             [
              0.8888888888888888,
              "#fdca26"
             ],
             [
              1,
              "#f0f921"
             ]
            ],
            "type": "heatmap"
           }
          ],
          "heatmapgl": [
           {
            "colorbar": {
             "outlinewidth": 0,
             "ticks": ""
            },
            "colorscale": [
             [
              0,
              "#0d0887"
             ],
             [
              0.1111111111111111,
              "#46039f"
             ],
             [
              0.2222222222222222,
              "#7201a8"
             ],
             [
              0.3333333333333333,
              "#9c179e"
             ],
             [
              0.4444444444444444,
              "#bd3786"
             ],
             [
              0.5555555555555556,
              "#d8576b"
             ],
             [
              0.6666666666666666,
              "#ed7953"
             ],
             [
              0.7777777777777778,
              "#fb9f3a"
             ],
             [
              0.8888888888888888,
              "#fdca26"
             ],
             [
              1,
              "#f0f921"
             ]
            ],
            "type": "heatmapgl"
           }
          ],
          "histogram": [
           {
            "marker": {
             "pattern": {
              "fillmode": "overlay",
              "size": 10,
              "solidity": 0.2
             }
            },
            "type": "histogram"
           }
          ],
          "histogram2d": [
           {
            "colorbar": {
             "outlinewidth": 0,
             "ticks": ""
            },
            "colorscale": [
             [
              0,
              "#0d0887"
             ],
             [
              0.1111111111111111,
              "#46039f"
             ],
             [
              0.2222222222222222,
              "#7201a8"
             ],
             [
              0.3333333333333333,
              "#9c179e"
             ],
             [
              0.4444444444444444,
              "#bd3786"
             ],
             [
              0.5555555555555556,
              "#d8576b"
             ],
             [
              0.6666666666666666,
              "#ed7953"
             ],
             [
              0.7777777777777778,
              "#fb9f3a"
             ],
             [
              0.8888888888888888,
              "#fdca26"
             ],
             [
              1,
              "#f0f921"
             ]
            ],
            "type": "histogram2d"
           }
          ],
          "histogram2dcontour": [
           {
            "colorbar": {
             "outlinewidth": 0,
             "ticks": ""
            },
            "colorscale": [
             [
              0,
              "#0d0887"
             ],
             [
              0.1111111111111111,
              "#46039f"
             ],
             [
              0.2222222222222222,
              "#7201a8"
             ],
             [
              0.3333333333333333,
              "#9c179e"
             ],
             [
              0.4444444444444444,
              "#bd3786"
             ],
             [
              0.5555555555555556,
              "#d8576b"
             ],
             [
              0.6666666666666666,
              "#ed7953"
             ],
             [
              0.7777777777777778,
              "#fb9f3a"
             ],
             [
              0.8888888888888888,
              "#fdca26"
             ],
             [
              1,
              "#f0f921"
             ]
            ],
            "type": "histogram2dcontour"
           }
          ],
          "mesh3d": [
           {
            "colorbar": {
             "outlinewidth": 0,
             "ticks": ""
            },
            "type": "mesh3d"
           }
          ],
          "parcoords": [
           {
            "line": {
             "colorbar": {
              "outlinewidth": 0,
              "ticks": ""
             }
            },
            "type": "parcoords"
           }
          ],
          "pie": [
           {
            "automargin": true,
            "type": "pie"
           }
          ],
          "scatter": [
           {
            "fillpattern": {
             "fillmode": "overlay",
             "size": 10,
             "solidity": 0.2
            },
            "type": "scatter"
           }
          ],
          "scatter3d": [
           {
            "line": {
             "colorbar": {
              "outlinewidth": 0,
              "ticks": ""
             }
            },
            "marker": {
             "colorbar": {
              "outlinewidth": 0,
              "ticks": ""
             }
            },
            "type": "scatter3d"
           }
          ],
          "scattercarpet": [
           {
            "marker": {
             "colorbar": {
              "outlinewidth": 0,
              "ticks": ""
             }
            },
            "type": "scattercarpet"
           }
          ],
          "scattergeo": [
           {
            "marker": {
             "colorbar": {
              "outlinewidth": 0,
              "ticks": ""
             }
            },
            "type": "scattergeo"
           }
          ],
          "scattergl": [
           {
            "marker": {
             "colorbar": {
              "outlinewidth": 0,
              "ticks": ""
             }
            },
            "type": "scattergl"
           }
          ],
          "scattermapbox": [
           {
            "marker": {
             "colorbar": {
              "outlinewidth": 0,
              "ticks": ""
             }
            },
            "type": "scattermapbox"
           }
          ],
          "scatterpolar": [
           {
            "marker": {
             "colorbar": {
              "outlinewidth": 0,
              "ticks": ""
             }
            },
            "type": "scatterpolar"
           }
          ],
          "scatterpolargl": [
           {
            "marker": {
             "colorbar": {
              "outlinewidth": 0,
              "ticks": ""
             }
            },
            "type": "scatterpolargl"
           }
          ],
          "scatterternary": [
           {
            "marker": {
             "colorbar": {
              "outlinewidth": 0,
              "ticks": ""
             }
            },
            "type": "scatterternary"
           }
          ],
          "surface": [
           {
            "colorbar": {
             "outlinewidth": 0,
             "ticks": ""
            },
            "colorscale": [
             [
              0,
              "#0d0887"
             ],
             [
              0.1111111111111111,
              "#46039f"
             ],
             [
              0.2222222222222222,
              "#7201a8"
             ],
             [
              0.3333333333333333,
              "#9c179e"
             ],
             [
              0.4444444444444444,
              "#bd3786"
             ],
             [
              0.5555555555555556,
              "#d8576b"
             ],
             [
              0.6666666666666666,
              "#ed7953"
             ],
             [
              0.7777777777777778,
              "#fb9f3a"
             ],
             [
              0.8888888888888888,
              "#fdca26"
             ],
             [
              1,
              "#f0f921"
             ]
            ],
            "type": "surface"
           }
          ],
          "table": [
           {
            "cells": {
             "fill": {
              "color": "#EBF0F8"
             },
             "line": {
              "color": "white"
             }
            },
            "header": {
             "fill": {
              "color": "#C8D4E3"
             },
             "line": {
              "color": "white"
             }
            },
            "type": "table"
           }
          ]
         },
         "layout": {
          "annotationdefaults": {
           "arrowcolor": "#2a3f5f",
           "arrowhead": 0,
           "arrowwidth": 1
          },
          "autotypenumbers": "strict",
          "coloraxis": {
           "colorbar": {
            "outlinewidth": 0,
            "ticks": ""
           }
          },
          "colorscale": {
           "diverging": [
            [
             0,
             "#8e0152"
            ],
            [
             0.1,
             "#c51b7d"
            ],
            [
             0.2,
             "#de77ae"
            ],
            [
             0.3,
             "#f1b6da"
            ],
            [
             0.4,
             "#fde0ef"
            ],
            [
             0.5,
             "#f7f7f7"
            ],
            [
             0.6,
             "#e6f5d0"
            ],
            [
             0.7,
             "#b8e186"
            ],
            [
             0.8,
             "#7fbc41"
            ],
            [
             0.9,
             "#4d9221"
            ],
            [
             1,
             "#276419"
            ]
           ],
           "sequential": [
            [
             0,
             "#0d0887"
            ],
            [
             0.1111111111111111,
             "#46039f"
            ],
            [
             0.2222222222222222,
             "#7201a8"
            ],
            [
             0.3333333333333333,
             "#9c179e"
            ],
            [
             0.4444444444444444,
             "#bd3786"
            ],
            [
             0.5555555555555556,
             "#d8576b"
            ],
            [
             0.6666666666666666,
             "#ed7953"
            ],
            [
             0.7777777777777778,
             "#fb9f3a"
            ],
            [
             0.8888888888888888,
             "#fdca26"
            ],
            [
             1,
             "#f0f921"
            ]
           ],
           "sequentialminus": [
            [
             0,
             "#0d0887"
            ],
            [
             0.1111111111111111,
             "#46039f"
            ],
            [
             0.2222222222222222,
             "#7201a8"
            ],
            [
             0.3333333333333333,
             "#9c179e"
            ],
            [
             0.4444444444444444,
             "#bd3786"
            ],
            [
             0.5555555555555556,
             "#d8576b"
            ],
            [
             0.6666666666666666,
             "#ed7953"
            ],
            [
             0.7777777777777778,
             "#fb9f3a"
            ],
            [
             0.8888888888888888,
             "#fdca26"
            ],
            [
             1,
             "#f0f921"
            ]
           ]
          },
          "colorway": [
           "#636efa",
           "#EF553B",
           "#00cc96",
           "#ab63fa",
           "#FFA15A",
           "#19d3f3",
           "#FF6692",
           "#B6E880",
           "#FF97FF",
           "#FECB52"
          ],
          "font": {
           "color": "#2a3f5f"
          },
          "geo": {
           "bgcolor": "white",
           "lakecolor": "white",
           "landcolor": "#E5ECF6",
           "showlakes": true,
           "showland": true,
           "subunitcolor": "white"
          },
          "hoverlabel": {
           "align": "left"
          },
          "hovermode": "closest",
          "mapbox": {
           "style": "light"
          },
          "paper_bgcolor": "white",
          "plot_bgcolor": "#E5ECF6",
          "polar": {
           "angularaxis": {
            "gridcolor": "white",
            "linecolor": "white",
            "ticks": ""
           },
           "bgcolor": "#E5ECF6",
           "radialaxis": {
            "gridcolor": "white",
            "linecolor": "white",
            "ticks": ""
           }
          },
          "scene": {
           "xaxis": {
            "backgroundcolor": "#E5ECF6",
            "gridcolor": "white",
            "gridwidth": 2,
            "linecolor": "white",
            "showbackground": true,
            "ticks": "",
            "zerolinecolor": "white"
           },
           "yaxis": {
            "backgroundcolor": "#E5ECF6",
            "gridcolor": "white",
            "gridwidth": 2,
            "linecolor": "white",
            "showbackground": true,
            "ticks": "",
            "zerolinecolor": "white"
           },
           "zaxis": {
            "backgroundcolor": "#E5ECF6",
            "gridcolor": "white",
            "gridwidth": 2,
            "linecolor": "white",
            "showbackground": true,
            "ticks": "",
            "zerolinecolor": "white"
           }
          },
          "shapedefaults": {
           "line": {
            "color": "#2a3f5f"
           }
          },
          "ternary": {
           "aaxis": {
            "gridcolor": "white",
            "linecolor": "white",
            "ticks": ""
           },
           "baxis": {
            "gridcolor": "white",
            "linecolor": "white",
            "ticks": ""
           },
           "bgcolor": "#E5ECF6",
           "caxis": {
            "gridcolor": "white",
            "linecolor": "white",
            "ticks": ""
           }
          },
          "title": {
           "x": 0.05
          },
          "xaxis": {
           "automargin": true,
           "gridcolor": "white",
           "linecolor": "white",
           "ticks": "",
           "title": {
            "standoff": 15
           },
           "zerolinecolor": "white",
           "zerolinewidth": 2
          },
          "yaxis": {
           "automargin": true,
           "gridcolor": "white",
           "linecolor": "white",
           "ticks": "",
           "title": {
            "standoff": 15
           },
           "zerolinecolor": "white",
           "zerolinewidth": 2
          }
         }
        },
        "xaxis": {
         "anchor": "y",
         "domain": [
          0,
          1
         ],
         "title": {
          "text": "HDD"
         }
        },
        "yaxis": {
         "anchor": "x",
         "domain": [
          0,
          1
         ],
         "title": {
          "text": "count"
         }
        }
       }
      }
     },
     "metadata": {},
     "output_type": "display_data"
    },
    {
     "data": {
      "application/vnd.plotly.v1+json": {
       "config": {
        "plotlyServerURL": "https://plot.ly"
       },
       "data": [
        {
         "alignmentgroup": "True",
         "bingroup": "x",
         "hovertemplate": "SSD=%{x}<br>count=%{y}<extra></extra>",
         "legendgroup": "",
         "marker": {
          "color": "#636efa",
          "pattern": {
           "shape": ""
          }
         },
         "name": "",
         "offsetgroup": "",
         "orientation": "v",
         "showlegend": false,
         "type": "histogram",
         "x": [
          128,
          0,
          256,
          512,
          256,
          0,
          0,
          0,
          512,
          256,
          0,
          0,
          256,
          256,
          256,
          256,
          256,
          512,
          0,
          128,
          0,
          128,
          0,
          256,
          256,
          0,
          0,
          256,
          512,
          0,
          0,
          0,
          0,
          512,
          0,
          0,
          0,
          128,
          0,
          256,
          0,
          256,
          0,
          256,
          0,
          256,
          128,
          256,
          256,
          0,
          0,
          256,
          256,
          512,
          0,
          256,
          128,
          256,
          256,
          256,
          256,
          256,
          256,
          256,
          256,
          512,
          0,
          32,
          0,
          0,
          128,
          256,
          256,
          128,
          0,
          0,
          0,
          128,
          0,
          128,
          256,
          512,
          256,
          128,
          0,
          128,
          256,
          256,
          128,
          256,
          0,
          0,
          512,
          256,
          256,
          256,
          0,
          256,
          256,
          128,
          256,
          0,
          0,
          256,
          256,
          256,
          0,
          256,
          256,
          256,
          256,
          256,
          256,
          0,
          256,
          256,
          512,
          256,
          0,
          256,
          0,
          256,
          256,
          512,
          256,
          0,
          0,
          64,
          256,
          256,
          0,
          0,
          256,
          256,
          0,
          256,
          0,
          128,
          0,
          256,
          0,
          256,
          256,
          0,
          256,
          256,
          512,
          0,
          256,
          0,
          512,
          0,
          128,
          256,
          256,
          256,
          256,
          256,
          256,
          0,
          0,
          256,
          256,
          256,
          0,
          256,
          0,
          128,
          256,
          0,
          256,
          0,
          0,
          0,
          256,
          0,
          128,
          512,
          128,
          256,
          256,
          256,
          512,
          128,
          256,
          512,
          512,
          256,
          256,
          128,
          1000,
          0,
          256,
          256,
          0,
          0,
          1000,
          512,
          256,
          256,
          512,
          128,
          0,
          512,
          256,
          512,
          0,
          256,
          256,
          256,
          0,
          256,
          0,
          256,
          512,
          256,
          0,
          256,
          256,
          512,
          256,
          256,
          256,
          0,
          256,
          256,
          0,
          256,
          256,
          0,
          0,
          0,
          256,
          256,
          256,
          256,
          0,
          128,
          512,
          256,
          128,
          128,
          128,
          256,
          256,
          128,
          0,
          256,
          0,
          512,
          0,
          256,
          0,
          512,
          256,
          256,
          128,
          0,
          512,
          512,
          128,
          256,
          0,
          0,
          0,
          256,
          1024,
          0,
          0,
          256,
          512,
          256,
          256,
          512,
          0,
          0,
          128,
          0,
          0,
          0,
          128,
          0,
          256,
          256,
          256,
          0,
          256,
          256,
          256,
          0,
          16,
          0,
          0,
          256,
          256,
          0,
          256,
          256,
          0,
          512,
          128,
          256,
          0,
          0,
          128,
          0,
          256,
          256,
          128,
          0,
          256,
          1000,
          256,
          256,
          0,
          128,
          1000,
          0,
          256,
          0,
          256,
          0,
          256,
          0,
          256,
          0,
          0,
          256,
          256,
          1000,
          256,
          256,
          256,
          0,
          256,
          256,
          128,
          256,
          0,
          256,
          0,
          0,
          0,
          512,
          256,
          256,
          0,
          768,
          0,
          0,
          512,
          256,
          128,
          256,
          512,
          128,
          0,
          0,
          0,
          256,
          0,
          256,
          128,
          0,
          256,
          0,
          128,
          128,
          256,
          256,
          512,
          128,
          256,
          128,
          256,
          256,
          128,
          0,
          0,
          0,
          128,
          128,
          128,
          256,
          512,
          512,
          128,
          0,
          256,
          512,
          0,
          256,
          0,
          256,
          256,
          256,
          256,
          256,
          256,
          1000,
          0,
          256,
          256,
          256,
          256,
          512,
          512,
          512,
          0,
          0,
          512,
          512,
          0,
          256,
          256,
          256,
          128,
          256,
          0,
          256,
          512,
          0,
          256,
          0,
          256,
          128,
          256,
          256,
          256,
          32,
          0,
          256,
          128,
          512,
          512,
          256,
          0,
          512,
          512,
          256,
          0,
          256,
          256,
          128,
          128,
          256,
          0,
          0,
          256,
          512,
          128,
          256,
          512,
          256,
          128,
          0,
          0,
          128,
          256,
          256,
          0,
          128,
          0,
          512,
          256,
          0,
          0,
          0,
          0,
          256,
          512,
          0,
          128,
          256,
          128,
          128,
          256,
          180,
          0,
          256,
          512,
          0,
          128,
          0,
          128,
          256,
          512,
          512,
          512,
          512,
          256,
          512,
          128,
          0,
          256,
          180,
          256,
          1000,
          256,
          256,
          0,
          256,
          256,
          0,
          16,
          256,
          256,
          0,
          512,
          256,
          128,
          0,
          0,
          256,
          256,
          0,
          0,
          512,
          256,
          256,
          256,
          256,
          256,
          128,
          128,
          256,
          0,
          0,
          0,
          256,
          128,
          0,
          256,
          32,
          128,
          256,
          256,
          256,
          0,
          256,
          256,
          128,
          256,
          0,
          0,
          128,
          0,
          0,
          0,
          512,
          128,
          256,
          256,
          0,
          0,
          0,
          0,
          128,
          128,
          0,
          0,
          128,
          512,
          256,
          128,
          128,
          0,
          0,
          0,
          0,
          0,
          0,
          256,
          256,
          0,
          32,
          512,
          256,
          512,
          256,
          32,
          0,
          128,
          256,
          0,
          128,
          256,
          256,
          0,
          128,
          0,
          512,
          128,
          128,
          0,
          0,
          512,
          256,
          256,
          256,
          256,
          0,
          0,
          128,
          0,
          256,
          256,
          0,
          256,
          0,
          1000,
          0,
          0,
          0,
          0,
          128,
          128,
          512,
          256,
          0,
          256,
          256,
          0,
          256,
          0,
          0,
          0,
          128,
          0,
          256,
          512,
          256,
          256,
          0,
          0,
          0,
          256,
          0,
          256,
          1000,
          128,
          0,
          512,
          0,
          0,
          0,
          256,
          256,
          256,
          256,
          512,
          0,
          256,
          128,
          0,
          0,
          256,
          256,
          128,
          512,
          256,
          0,
          0,
          0,
          128,
          128,
          0,
          0,
          256,
          128,
          256,
          128,
          256,
          128,
          128,
          256,
          256,
          0,
          512,
          256,
          256,
          128,
          128,
          256,
          512,
          256,
          0,
          0,
          0,
          0,
          0,
          256,
          0,
          256,
          256,
          0,
          512,
          0,
          512,
          0,
          0,
          256,
          0,
          0,
          0,
          256,
          256,
          512,
          256,
          0,
          128,
          256,
          0,
          0,
          512,
          256,
          256,
          0,
          0,
          256,
          512,
          256,
          256,
          1000,
          128,
          0,
          128,
          0,
          0,
          0,
          128,
          0,
          128,
          0,
          256,
          0,
          256,
          0,
          256,
          0,
          128,
          256,
          256,
          256,
          1000,
          0,
          256,
          256,
          256,
          256,
          128,
          256,
          0,
          180,
          256,
          256,
          128,
          256,
          256,
          256,
          128,
          256,
          256,
          256,
          0,
          128,
          0,
          128,
          256,
          0,
          256,
          256,
          128,
          0,
          256,
          0,
          512,
          128,
          512,
          128,
          1000,
          256,
          512,
          0,
          512,
          256,
          128,
          0,
          256,
          256,
          128,
          0,
          512,
          256,
          0,
          256,
          0,
          128,
          256,
          256,
          256,
          256,
          256,
          256,
          128,
          256,
          0,
          0,
          512,
          0,
          0,
          512,
          256,
          0,
          256,
          256,
          512,
          0,
          128,
          0,
          0,
          128,
          512,
          256,
          0,
          128,
          256,
          0,
          0,
          128,
          512,
          512,
          0,
          256,
          256,
          256,
          256,
          0,
          0,
          0,
          512,
          512,
          0,
          128,
          512,
          256,
          0,
          512,
          256,
          512,
          128,
          128,
          0,
          256,
          256,
          128,
          0,
          256,
          0,
          0,
          0,
          256,
          128,
          0,
          512,
          0,
          256,
          256,
          256,
          0,
          0,
          0,
          256,
          180,
          256,
          256,
          0,
          256,
          128,
          256,
          256,
          0,
          0,
          0,
          0,
          256,
          0,
          128,
          0,
          0,
          128,
          256,
          256,
          256,
          512,
          256,
          0,
          0,
          0,
          0,
          512,
          512,
          256,
          0,
          512,
          512,
          512,
          0,
          128,
          512,
          256,
          240,
          256,
          256,
          0,
          128,
          256,
          256,
          128,
          128,
          0,
          256,
          256,
          256,
          512,
          0,
          256,
          256,
          0,
          0,
          0,
          0,
          0,
          1000,
          128,
          256,
          0,
          128,
          256,
          512,
          128,
          0,
          0,
          256,
          256,
          512,
          256,
          0,
          0,
          0,
          8,
          256,
          256,
          0,
          256,
          512,
          256,
          256,
          256,
          0,
          256,
          256,
          128,
          512,
          0,
          0,
          0,
          0,
          256,
          256,
          512,
          256,
          256,
          256,
          256,
          128,
          0,
          512,
          0,
          256,
          512,
          128,
          256,
          256,
          0,
          0,
          0,
          128,
          0,
          128,
          512,
          128,
          128,
          256,
          256,
          256,
          256,
          0,
          256,
          512,
          128,
          256,
          128,
          0,
          128,
          256,
          256,
          256,
          256,
          0,
          0,
          0,
          256,
          256,
          0,
          256,
          256,
          512,
          256,
          256,
          0,
          256,
          256,
          256,
          0,
          256,
          0,
          0,
          256,
          256,
          256,
          0,
          128,
          256,
          256,
          256,
          0,
          256,
          256,
          256,
          256,
          0,
          256,
          256,
          0,
          256,
          256,
          256,
          128,
          0,
          256,
          0,
          256,
          256,
          1000,
          0,
          0,
          0,
          256,
          256,
          256,
          0,
          0,
          0,
          256,
          256,
          1000,
          256,
          256,
          0,
          0,
          0,
          256,
          256,
          256,
          0,
          0,
          256,
          0,
          0,
          512,
          512,
          0,
          512,
          256,
          0,
          256,
          180,
          0,
          0,
          0,
          0,
          256,
          256,
          128,
          256,
          0,
          256,
          0,
          128,
          0,
          128,
          16,
          0,
          512,
          256,
          128,
          256,
          0,
          128,
          256,
          0,
          128,
          512,
          0,
          256,
          256,
          256,
          512,
          128,
          0,
          256,
          256,
          0,
          0,
          256,
          0,
          256,
          128,
          128,
          0,
          512,
          0,
          256,
          0,
          0,
          256,
          0,
          256,
          256,
          512,
          128,
          256,
          256,
          256,
          256,
          256,
          256,
          256,
          256,
          0,
          0,
          0,
          0,
          256,
          256,
          256,
          512,
          0,
          512,
          256,
          256,
          0,
          0,
          0,
          128,
          256,
          0,
          0,
          0,
          256,
          512,
          0,
          0,
          0,
          256,
          0,
          512,
          128,
          0,
          256,
          256,
          256,
          0,
          0,
          256,
          512,
          256,
          256,
          256,
          0,
          0,
          0,
          256,
          128,
          0,
          512,
          0,
          256,
          128,
          0,
          512,
          512,
          0,
          256,
          256,
          0,
          0,
          256,
          0,
          128,
          256,
          256,
          256,
          32,
          0,
          0,
          128,
          256,
          256,
          128,
          0,
          256,
          0,
          0,
          256,
          0,
          128,
          128,
          512,
          1000,
          0,
          256,
          0,
          0,
          256,
          0,
          128,
          512,
          256,
          256,
          0,
          512,
          256,
          256,
          0,
          256,
          256,
          256,
          0,
          0,
          128,
          256,
          0,
          0,
          128,
          0,
          0,
          128,
          128,
          512,
          0,
          0,
          0,
          0,
          0,
          0,
          0,
          0,
          128,
          512,
          0,
          0
         ],
         "xaxis": "x",
         "yaxis": "y"
        }
       ],
       "layout": {
        "barmode": "relative",
        "legend": {
         "tracegroupgap": 0
        },
        "margin": {
         "t": 60
        },
        "template": {
         "data": {
          "bar": [
           {
            "error_x": {
             "color": "#2a3f5f"
            },
            "error_y": {
             "color": "#2a3f5f"
            },
            "marker": {
             "line": {
              "color": "#E5ECF6",
              "width": 0.5
             },
             "pattern": {
              "fillmode": "overlay",
              "size": 10,
              "solidity": 0.2
             }
            },
            "type": "bar"
           }
          ],
          "barpolar": [
           {
            "marker": {
             "line": {
              "color": "#E5ECF6",
              "width": 0.5
             },
             "pattern": {
              "fillmode": "overlay",
              "size": 10,
              "solidity": 0.2
             }
            },
            "type": "barpolar"
           }
          ],
          "carpet": [
           {
            "aaxis": {
             "endlinecolor": "#2a3f5f",
             "gridcolor": "white",
             "linecolor": "white",
             "minorgridcolor": "white",
             "startlinecolor": "#2a3f5f"
            },
            "baxis": {
             "endlinecolor": "#2a3f5f",
             "gridcolor": "white",
             "linecolor": "white",
             "minorgridcolor": "white",
             "startlinecolor": "#2a3f5f"
            },
            "type": "carpet"
           }
          ],
          "choropleth": [
           {
            "colorbar": {
             "outlinewidth": 0,
             "ticks": ""
            },
            "type": "choropleth"
           }
          ],
          "contour": [
           {
            "colorbar": {
             "outlinewidth": 0,
             "ticks": ""
            },
            "colorscale": [
             [
              0,
              "#0d0887"
             ],
             [
              0.1111111111111111,
              "#46039f"
             ],
             [
              0.2222222222222222,
              "#7201a8"
             ],
             [
              0.3333333333333333,
              "#9c179e"
             ],
             [
              0.4444444444444444,
              "#bd3786"
             ],
             [
              0.5555555555555556,
              "#d8576b"
             ],
             [
              0.6666666666666666,
              "#ed7953"
             ],
             [
              0.7777777777777778,
              "#fb9f3a"
             ],
             [
              0.8888888888888888,
              "#fdca26"
             ],
             [
              1,
              "#f0f921"
             ]
            ],
            "type": "contour"
           }
          ],
          "contourcarpet": [
           {
            "colorbar": {
             "outlinewidth": 0,
             "ticks": ""
            },
            "type": "contourcarpet"
           }
          ],
          "heatmap": [
           {
            "colorbar": {
             "outlinewidth": 0,
             "ticks": ""
            },
            "colorscale": [
             [
              0,
              "#0d0887"
             ],
             [
              0.1111111111111111,
              "#46039f"
             ],
             [
              0.2222222222222222,
              "#7201a8"
             ],
             [
              0.3333333333333333,
              "#9c179e"
             ],
             [
              0.4444444444444444,
              "#bd3786"
             ],
             [
              0.5555555555555556,
              "#d8576b"
             ],
             [
              0.6666666666666666,
              "#ed7953"
             ],
             [
              0.7777777777777778,
              "#fb9f3a"
             ],
             [
              0.8888888888888888,
              "#fdca26"
             ],
             [
              1,
              "#f0f921"
             ]
            ],
            "type": "heatmap"
           }
          ],
          "heatmapgl": [
           {
            "colorbar": {
             "outlinewidth": 0,
             "ticks": ""
            },
            "colorscale": [
             [
              0,
              "#0d0887"
             ],
             [
              0.1111111111111111,
              "#46039f"
             ],
             [
              0.2222222222222222,
              "#7201a8"
             ],
             [
              0.3333333333333333,
              "#9c179e"
             ],
             [
              0.4444444444444444,
              "#bd3786"
             ],
             [
              0.5555555555555556,
              "#d8576b"
             ],
             [
              0.6666666666666666,
              "#ed7953"
             ],
             [
              0.7777777777777778,
              "#fb9f3a"
             ],
             [
              0.8888888888888888,
              "#fdca26"
             ],
             [
              1,
              "#f0f921"
             ]
            ],
            "type": "heatmapgl"
           }
          ],
          "histogram": [
           {
            "marker": {
             "pattern": {
              "fillmode": "overlay",
              "size": 10,
              "solidity": 0.2
             }
            },
            "type": "histogram"
           }
          ],
          "histogram2d": [
           {
            "colorbar": {
             "outlinewidth": 0,
             "ticks": ""
            },
            "colorscale": [
             [
              0,
              "#0d0887"
             ],
             [
              0.1111111111111111,
              "#46039f"
             ],
             [
              0.2222222222222222,
              "#7201a8"
             ],
             [
              0.3333333333333333,
              "#9c179e"
             ],
             [
              0.4444444444444444,
              "#bd3786"
             ],
             [
              0.5555555555555556,
              "#d8576b"
             ],
             [
              0.6666666666666666,
              "#ed7953"
             ],
             [
              0.7777777777777778,
              "#fb9f3a"
             ],
             [
              0.8888888888888888,
              "#fdca26"
             ],
             [
              1,
              "#f0f921"
             ]
            ],
            "type": "histogram2d"
           }
          ],
          "histogram2dcontour": [
           {
            "colorbar": {
             "outlinewidth": 0,
             "ticks": ""
            },
            "colorscale": [
             [
              0,
              "#0d0887"
             ],
             [
              0.1111111111111111,
              "#46039f"
             ],
             [
              0.2222222222222222,
              "#7201a8"
             ],
             [
              0.3333333333333333,
              "#9c179e"
             ],
             [
              0.4444444444444444,
              "#bd3786"
             ],
             [
              0.5555555555555556,
              "#d8576b"
             ],
             [
              0.6666666666666666,
              "#ed7953"
             ],
             [
              0.7777777777777778,
              "#fb9f3a"
             ],
             [
              0.8888888888888888,
              "#fdca26"
             ],
             [
              1,
              "#f0f921"
             ]
            ],
            "type": "histogram2dcontour"
           }
          ],
          "mesh3d": [
           {
            "colorbar": {
             "outlinewidth": 0,
             "ticks": ""
            },
            "type": "mesh3d"
           }
          ],
          "parcoords": [
           {
            "line": {
             "colorbar": {
              "outlinewidth": 0,
              "ticks": ""
             }
            },
            "type": "parcoords"
           }
          ],
          "pie": [
           {
            "automargin": true,
            "type": "pie"
           }
          ],
          "scatter": [
           {
            "fillpattern": {
             "fillmode": "overlay",
             "size": 10,
             "solidity": 0.2
            },
            "type": "scatter"
           }
          ],
          "scatter3d": [
           {
            "line": {
             "colorbar": {
              "outlinewidth": 0,
              "ticks": ""
             }
            },
            "marker": {
             "colorbar": {
              "outlinewidth": 0,
              "ticks": ""
             }
            },
            "type": "scatter3d"
           }
          ],
          "scattercarpet": [
           {
            "marker": {
             "colorbar": {
              "outlinewidth": 0,
              "ticks": ""
             }
            },
            "type": "scattercarpet"
           }
          ],
          "scattergeo": [
           {
            "marker": {
             "colorbar": {
              "outlinewidth": 0,
              "ticks": ""
             }
            },
            "type": "scattergeo"
           }
          ],
          "scattergl": [
           {
            "marker": {
             "colorbar": {
              "outlinewidth": 0,
              "ticks": ""
             }
            },
            "type": "scattergl"
           }
          ],
          "scattermapbox": [
           {
            "marker": {
             "colorbar": {
              "outlinewidth": 0,
              "ticks": ""
             }
            },
            "type": "scattermapbox"
           }
          ],
          "scatterpolar": [
           {
            "marker": {
             "colorbar": {
              "outlinewidth": 0,
              "ticks": ""
             }
            },
            "type": "scatterpolar"
           }
          ],
          "scatterpolargl": [
           {
            "marker": {
             "colorbar": {
              "outlinewidth": 0,
              "ticks": ""
             }
            },
            "type": "scatterpolargl"
           }
          ],
          "scatterternary": [
           {
            "marker": {
             "colorbar": {
              "outlinewidth": 0,
              "ticks": ""
             }
            },
            "type": "scatterternary"
           }
          ],
          "surface": [
           {
            "colorbar": {
             "outlinewidth": 0,
             "ticks": ""
            },
            "colorscale": [
             [
              0,
              "#0d0887"
             ],
             [
              0.1111111111111111,
              "#46039f"
             ],
             [
              0.2222222222222222,
              "#7201a8"
             ],
             [
              0.3333333333333333,
              "#9c179e"
             ],
             [
              0.4444444444444444,
              "#bd3786"
             ],
             [
              0.5555555555555556,
              "#d8576b"
             ],
             [
              0.6666666666666666,
              "#ed7953"
             ],
             [
              0.7777777777777778,
              "#fb9f3a"
             ],
             [
              0.8888888888888888,
              "#fdca26"
             ],
             [
              1,
              "#f0f921"
             ]
            ],
            "type": "surface"
           }
          ],
          "table": [
           {
            "cells": {
             "fill": {
              "color": "#EBF0F8"
             },
             "line": {
              "color": "white"
             }
            },
            "header": {
             "fill": {
              "color": "#C8D4E3"
             },
             "line": {
              "color": "white"
             }
            },
            "type": "table"
           }
          ]
         },
         "layout": {
          "annotationdefaults": {
           "arrowcolor": "#2a3f5f",
           "arrowhead": 0,
           "arrowwidth": 1
          },
          "autotypenumbers": "strict",
          "coloraxis": {
           "colorbar": {
            "outlinewidth": 0,
            "ticks": ""
           }
          },
          "colorscale": {
           "diverging": [
            [
             0,
             "#8e0152"
            ],
            [
             0.1,
             "#c51b7d"
            ],
            [
             0.2,
             "#de77ae"
            ],
            [
             0.3,
             "#f1b6da"
            ],
            [
             0.4,
             "#fde0ef"
            ],
            [
             0.5,
             "#f7f7f7"
            ],
            [
             0.6,
             "#e6f5d0"
            ],
            [
             0.7,
             "#b8e186"
            ],
            [
             0.8,
             "#7fbc41"
            ],
            [
             0.9,
             "#4d9221"
            ],
            [
             1,
             "#276419"
            ]
           ],
           "sequential": [
            [
             0,
             "#0d0887"
            ],
            [
             0.1111111111111111,
             "#46039f"
            ],
            [
             0.2222222222222222,
             "#7201a8"
            ],
            [
             0.3333333333333333,
             "#9c179e"
            ],
            [
             0.4444444444444444,
             "#bd3786"
            ],
            [
             0.5555555555555556,
             "#d8576b"
            ],
            [
             0.6666666666666666,
             "#ed7953"
            ],
            [
             0.7777777777777778,
             "#fb9f3a"
            ],
            [
             0.8888888888888888,
             "#fdca26"
            ],
            [
             1,
             "#f0f921"
            ]
           ],
           "sequentialminus": [
            [
             0,
             "#0d0887"
            ],
            [
             0.1111111111111111,
             "#46039f"
            ],
            [
             0.2222222222222222,
             "#7201a8"
            ],
            [
             0.3333333333333333,
             "#9c179e"
            ],
            [
             0.4444444444444444,
             "#bd3786"
            ],
            [
             0.5555555555555556,
             "#d8576b"
            ],
            [
             0.6666666666666666,
             "#ed7953"
            ],
            [
             0.7777777777777778,
             "#fb9f3a"
            ],
            [
             0.8888888888888888,
             "#fdca26"
            ],
            [
             1,
             "#f0f921"
            ]
           ]
          },
          "colorway": [
           "#636efa",
           "#EF553B",
           "#00cc96",
           "#ab63fa",
           "#FFA15A",
           "#19d3f3",
           "#FF6692",
           "#B6E880",
           "#FF97FF",
           "#FECB52"
          ],
          "font": {
           "color": "#2a3f5f"
          },
          "geo": {
           "bgcolor": "white",
           "lakecolor": "white",
           "landcolor": "#E5ECF6",
           "showlakes": true,
           "showland": true,
           "subunitcolor": "white"
          },
          "hoverlabel": {
           "align": "left"
          },
          "hovermode": "closest",
          "mapbox": {
           "style": "light"
          },
          "paper_bgcolor": "white",
          "plot_bgcolor": "#E5ECF6",
          "polar": {
           "angularaxis": {
            "gridcolor": "white",
            "linecolor": "white",
            "ticks": ""
           },
           "bgcolor": "#E5ECF6",
           "radialaxis": {
            "gridcolor": "white",
            "linecolor": "white",
            "ticks": ""
           }
          },
          "scene": {
           "xaxis": {
            "backgroundcolor": "#E5ECF6",
            "gridcolor": "white",
            "gridwidth": 2,
            "linecolor": "white",
            "showbackground": true,
            "ticks": "",
            "zerolinecolor": "white"
           },
           "yaxis": {
            "backgroundcolor": "#E5ECF6",
            "gridcolor": "white",
            "gridwidth": 2,
            "linecolor": "white",
            "showbackground": true,
            "ticks": "",
            "zerolinecolor": "white"
           },
           "zaxis": {
            "backgroundcolor": "#E5ECF6",
            "gridcolor": "white",
            "gridwidth": 2,
            "linecolor": "white",
            "showbackground": true,
            "ticks": "",
            "zerolinecolor": "white"
           }
          },
          "shapedefaults": {
           "line": {
            "color": "#2a3f5f"
           }
          },
          "ternary": {
           "aaxis": {
            "gridcolor": "white",
            "linecolor": "white",
            "ticks": ""
           },
           "baxis": {
            "gridcolor": "white",
            "linecolor": "white",
            "ticks": ""
           },
           "bgcolor": "#E5ECF6",
           "caxis": {
            "gridcolor": "white",
            "linecolor": "white",
            "ticks": ""
           }
          },
          "title": {
           "x": 0.05
          },
          "xaxis": {
           "automargin": true,
           "gridcolor": "white",
           "linecolor": "white",
           "ticks": "",
           "title": {
            "standoff": 15
           },
           "zerolinecolor": "white",
           "zerolinewidth": 2
          },
          "yaxis": {
           "automargin": true,
           "gridcolor": "white",
           "linecolor": "white",
           "ticks": "",
           "title": {
            "standoff": 15
           },
           "zerolinecolor": "white",
           "zerolinewidth": 2
          }
         }
        },
        "xaxis": {
         "anchor": "y",
         "domain": [
          0,
          1
         ],
         "title": {
          "text": "SSD"
         }
        },
        "yaxis": {
         "anchor": "x",
         "domain": [
          0,
          1
         ],
         "title": {
          "text": "count"
         }
        }
       }
      }
     },
     "metadata": {},
     "output_type": "display_data"
    }
   ],
   "source": [
    "for i in number.columns:\n",
    "    fig = pt.histogram(data,x=data[i])\n",
    "    fig.show() "
   ]
  },
  {
   "cell_type": "code",
   "execution_count": 15,
   "metadata": {},
   "outputs": [
    {
     "data": {
      "text/plain": [
       "'\\nChecking for outliers\\n'"
      ]
     },
     "execution_count": 15,
     "metadata": {},
     "output_type": "execute_result"
    }
   ],
   "source": [
    "'''\n",
    "Checking for outliers\n",
    "'''"
   ]
  },
  {
   "cell_type": "code",
   "execution_count": 16,
   "metadata": {},
   "outputs": [
    {
     "data": {
      "application/vnd.plotly.v1+json": {
       "config": {
        "plotlyServerURL": "https://plot.ly"
       },
       "data": [
        {
         "alignmentgroup": "True",
         "hovertemplate": "Ram=%{x}<extra></extra>",
         "legendgroup": "",
         "marker": {
          "color": "#636efa"
         },
         "name": "",
         "notched": false,
         "offsetgroup": "",
         "orientation": "h",
         "showlegend": false,
         "type": "box",
         "x": [
          8,
          8,
          8,
          16,
          8,
          4,
          16,
          8,
          16,
          8,
          4,
          4,
          16,
          4,
          8,
          8,
          8,
          16,
          8,
          8,
          2,
          8,
          4,
          8,
          8,
          4,
          8,
          8,
          8,
          8,
          4,
          2,
          4,
          16,
          8,
          4,
          4,
          8,
          4,
          8,
          4,
          16,
          8,
          4,
          12,
          8,
          4,
          8,
          4,
          4,
          4,
          8,
          4,
          8,
          4,
          8,
          4,
          4,
          16,
          4,
          16,
          8,
          8,
          8,
          8,
          16,
          4,
          4,
          4,
          12,
          4,
          8,
          8,
          8,
          8,
          8,
          8,
          8,
          4,
          8,
          8,
          8,
          8,
          4,
          4,
          16,
          8,
          8,
          16,
          8,
          8,
          8,
          16,
          8,
          8,
          8,
          8,
          4,
          6,
          12,
          8,
          4,
          8,
          8,
          8,
          6,
          4,
          8,
          16,
          8,
          16,
          8,
          8,
          4,
          8,
          8,
          8,
          8,
          4,
          8,
          6,
          16,
          8,
          16,
          4,
          4,
          8,
          4,
          16,
          8,
          8,
          4,
          8,
          4,
          8,
          8,
          4,
          8,
          4,
          4,
          4,
          8,
          8,
          4,
          4,
          8,
          8,
          4,
          16,
          4,
          16,
          8,
          4,
          16,
          4,
          6,
          4,
          8,
          8,
          4,
          4,
          4,
          8,
          16,
          4,
          16,
          4,
          8,
          8,
          4,
          8,
          6,
          4,
          4,
          8,
          8,
          4,
          32,
          8,
          8,
          16,
          8,
          16,
          8,
          8,
          16,
          16,
          8,
          8,
          8,
          16,
          4,
          8,
          8,
          8,
          8,
          32,
          8,
          16,
          8,
          16,
          4,
          8,
          16,
          16,
          16,
          6,
          8,
          8,
          8,
          8,
          16,
          4,
          8,
          8,
          8,
          8,
          8,
          8,
          16,
          8,
          8,
          8,
          8,
          16,
          8,
          16,
          8,
          8,
          8,
          4,
          4,
          16,
          8,
          8,
          16,
          4,
          4,
          32,
          8,
          8,
          8,
          8,
          8,
          8,
          8,
          8,
          16,
          4,
          8,
          8,
          16,
          4,
          8,
          4,
          8,
          8,
          16,
          16,
          8,
          8,
          4,
          4,
          4,
          8,
          8,
          8,
          4,
          8,
          8,
          8,
          16,
          8,
          16,
          8,
          12,
          8,
          8,
          4,
          8,
          6,
          4,
          8,
          6,
          8,
          12,
          8,
          8,
          16,
          8,
          2,
          8,
          8,
          8,
          8,
          8,
          8,
          16,
          6,
          16,
          4,
          16,
          6,
          8,
          8,
          4,
          16,
          8,
          8,
          4,
          8,
          16,
          16,
          8,
          2,
          8,
          16,
          4,
          8,
          4,
          8,
          4,
          8,
          8,
          8,
          4,
          6,
          8,
          8,
          32,
          8,
          8,
          8,
          4,
          8,
          8,
          8,
          8,
          4,
          8,
          4,
          12,
          8,
          16,
          8,
          16,
          2,
          16,
          4,
          8,
          16,
          8,
          8,
          8,
          16,
          8,
          4,
          8,
          8,
          8,
          4,
          8,
          6,
          8,
          8,
          8,
          8,
          8,
          8,
          8,
          12,
          4,
          16,
          4,
          8,
          4,
          4,
          4,
          4,
          8,
          8,
          4,
          8,
          8,
          16,
          8,
          4,
          8,
          8,
          16,
          8,
          16,
          12,
          8,
          8,
          4,
          8,
          8,
          8,
          16,
          4,
          16,
          8,
          8,
          16,
          8,
          16,
          8,
          4,
          2,
          8,
          8,
          4,
          8,
          8,
          4,
          4,
          8,
          8,
          8,
          16,
          6,
          8,
          8,
          16,
          8,
          8,
          8,
          12,
          4,
          4,
          8,
          4,
          16,
          16,
          8,
          4,
          16,
          24,
          4,
          8,
          4,
          8,
          4,
          8,
          8,
          4,
          8,
          8,
          16,
          8,
          16,
          8,
          8,
          8,
          4,
          8,
          4,
          8,
          8,
          4,
          4,
          8,
          8,
          8,
          4,
          4,
          8,
          12,
          12,
          8,
          8,
          8,
          8,
          12,
          8,
          8,
          8,
          8,
          8,
          8,
          4,
          4,
          4,
          4,
          8,
          16,
          16,
          16,
          16,
          8,
          32,
          8,
          8,
          24,
          8,
          8,
          8,
          8,
          8,
          4,
          8,
          8,
          4,
          4,
          8,
          8,
          4,
          8,
          8,
          8,
          4,
          8,
          16,
          16,
          2,
          4,
          24,
          8,
          16,
          8,
          8,
          8,
          4,
          8,
          8,
          4,
          8,
          4,
          8,
          16,
          8,
          8,
          4,
          8,
          8,
          8,
          4,
          12,
          8,
          8,
          4,
          8,
          8,
          4,
          4,
          4,
          4,
          4,
          8,
          4,
          8,
          16,
          8,
          8,
          4,
          4,
          6,
          6,
          4,
          4,
          4,
          16,
          8,
          8,
          8,
          4,
          8,
          4,
          4,
          8,
          8,
          6,
          8,
          4,
          4,
          16,
          32,
          16,
          8,
          4,
          8,
          4,
          16,
          4,
          16,
          16,
          12,
          12,
          8,
          8,
          12,
          4,
          16,
          4,
          8,
          8,
          8,
          8,
          8,
          8,
          4,
          4,
          16,
          4,
          16,
          8,
          6,
          8,
          4,
          32,
          16,
          4,
          4,
          4,
          8,
          4,
          8,
          16,
          4,
          8,
          8,
          4,
          8,
          4,
          8,
          2,
          4,
          6,
          8,
          16,
          16,
          4,
          4,
          8,
          8,
          8,
          2,
          8,
          16,
          8,
          8,
          16,
          8,
          4,
          4,
          8,
          16,
          8,
          8,
          32,
          8,
          8,
          8,
          4,
          8,
          8,
          16,
          8,
          32,
          8,
          4,
          4,
          6,
          8,
          4,
          8,
          8,
          8,
          4,
          8,
          8,
          8,
          4,
          4,
          16,
          8,
          8,
          8,
          16,
          8,
          4,
          16,
          4,
          8,
          16,
          4,
          4,
          6,
          4,
          4,
          4,
          8,
          8,
          8,
          4,
          16,
          4,
          16,
          4,
          8,
          4,
          8,
          4,
          4,
          8,
          8,
          16,
          8,
          6,
          8,
          8,
          8,
          4,
          16,
          8,
          8,
          4,
          4,
          8,
          8,
          8,
          8,
          32,
          8,
          4,
          8,
          4,
          8,
          4,
          16,
          12,
          6,
          4,
          8,
          4,
          16,
          8,
          16,
          4,
          8,
          8,
          8,
          8,
          16,
          2,
          16,
          8,
          8,
          16,
          4,
          8,
          4,
          4,
          4,
          8,
          8,
          8,
          16,
          4,
          8,
          16,
          8,
          8,
          4,
          4,
          4,
          16,
          8,
          4,
          16,
          16,
          4,
          8,
          4,
          12,
          16,
          4,
          16,
          8,
          32,
          16,
          16,
          8,
          16,
          16,
          8,
          4,
          16,
          8,
          8,
          4,
          8,
          8,
          8,
          8,
          4,
          8,
          8,
          8,
          8,
          8,
          8,
          8,
          4,
          8,
          4,
          8,
          16,
          4,
          12,
          16,
          8,
          8,
          8,
          8,
          16,
          4,
          16,
          4,
          4,
          4,
          8,
          8,
          8,
          4,
          8,
          4,
          4,
          8,
          32,
          16,
          4,
          8,
          8,
          16,
          16,
          4,
          4,
          8,
          16,
          32,
          8,
          8,
          8,
          4,
          4,
          8,
          8,
          8,
          4,
          16,
          8,
          8,
          8,
          8,
          4,
          8,
          8,
          4,
          8,
          8,
          4,
          8,
          16,
          4,
          8,
          8,
          8,
          8,
          4,
          4,
          8,
          4,
          16,
          8,
          4,
          8,
          4,
          4,
          4,
          4,
          4,
          8,
          4,
          4,
          4,
          12,
          4,
          4,
          4,
          16,
          8,
          8,
          16,
          8,
          8,
          8,
          4,
          8,
          8,
          32,
          16,
          8,
          8,
          16,
          8,
          4,
          8,
          8,
          8,
          8,
          6,
          8,
          4,
          4,
          8,
          16,
          16,
          8,
          4,
          8,
          8,
          16,
          8,
          4,
          8,
          8,
          4,
          4,
          4,
          4,
          4,
          16,
          4,
          8,
          4,
          8,
          8,
          16,
          8,
          4,
          4,
          8,
          8,
          16,
          8,
          8,
          4,
          4,
          8,
          8,
          8,
          8,
          8,
          16,
          8,
          4,
          8,
          4,
          8,
          8,
          12,
          8,
          8,
          4,
          4,
          4,
          32,
          6,
          16,
          8,
          32,
          8,
          16,
          8,
          4,
          16,
          6,
          16,
          12,
          4,
          6,
          4,
          4,
          4,
          8,
          8,
          8,
          8,
          8,
          4,
          4,
          8,
          8,
          8,
          8,
          4,
          16,
          8,
          8,
          8,
          4,
          4,
          4,
          4,
          4,
          8,
          8,
          4,
          8,
          4,
          4,
          8,
          4,
          8,
          4,
          16,
          8,
          8,
          4,
          8,
          8,
          8,
          8,
          4,
          4,
          4,
          8,
          8,
          4,
          6,
          8,
          8,
          8,
          8,
          4,
          8,
          8,
          8,
          4,
          2,
          16,
          8,
          4,
          8,
          8,
          16,
          16,
          4,
          16,
          8,
          8,
          4,
          16,
          4,
          4,
          8,
          12,
          16,
          8,
          16,
          4,
          16,
          16,
          8,
          64,
          8,
          16,
          8,
          4,
          4,
          8,
          8,
          8,
          8,
          4,
          16,
          4,
          4,
          8,
          32,
          4,
          16,
          8,
          4,
          8,
          8,
          4,
          4,
          4,
          4,
          8,
          4,
          4,
          8,
          8,
          8,
          4,
          16,
          4,
          4,
          4,
          8,
          16,
          8,
          8,
          4,
          4,
          16,
          8,
          4,
          4,
          8,
          4,
          8,
          16,
          8,
          16,
          8,
          4,
          8,
          8,
          4,
          4,
          8,
          4,
          8,
          8,
          8,
          8,
          8,
          4,
          8,
          4,
          16,
          8,
          8,
          16,
          8,
          16,
          8,
          8,
          8,
          8,
          8,
          8,
          8,
          8,
          8,
          4,
          4,
          8,
          8,
          8,
          4,
          16,
          12,
          8,
          8,
          8,
          16,
          8,
          8,
          4,
          8,
          8,
          4,
          2,
          8,
          8,
          16,
          4,
          4,
          8,
          4,
          4,
          16,
          16,
          4,
          8,
          6,
          8,
          4,
          6,
          8,
          16,
          4,
          8,
          16,
          8,
          4,
          8,
          8,
          12,
          4,
          16,
          4,
          16,
          4,
          8,
          16,
          16,
          8,
          8,
          8,
          4,
          8,
          16,
          8,
          16,
          16,
          8,
          16,
          2,
          4,
          8,
          8,
          8,
          8,
          8,
          6,
          8,
          4,
          4,
          8,
          4,
          16,
          8,
          16,
          16,
          8,
          16,
          4,
          4,
          8,
          4,
          8,
          16,
          6,
          8,
          4,
          16,
          4,
          16,
          4,
          16,
          8,
          8,
          4,
          4,
          6,
          8,
          4,
          4,
          16,
          4,
          8,
          8,
          4,
          8,
          6,
          4,
          2,
          8,
          6,
          8,
          2,
          4,
          4,
          16,
          2,
          6
         ],
         "x0": " ",
         "xaxis": "x",
         "y0": " ",
         "yaxis": "y"
        }
       ],
       "layout": {
        "boxmode": "group",
        "legend": {
         "tracegroupgap": 0
        },
        "margin": {
         "t": 60
        },
        "template": {
         "data": {
          "bar": [
           {
            "error_x": {
             "color": "#2a3f5f"
            },
            "error_y": {
             "color": "#2a3f5f"
            },
            "marker": {
             "line": {
              "color": "#E5ECF6",
              "width": 0.5
             },
             "pattern": {
              "fillmode": "overlay",
              "size": 10,
              "solidity": 0.2
             }
            },
            "type": "bar"
           }
          ],
          "barpolar": [
           {
            "marker": {
             "line": {
              "color": "#E5ECF6",
              "width": 0.5
             },
             "pattern": {
              "fillmode": "overlay",
              "size": 10,
              "solidity": 0.2
             }
            },
            "type": "barpolar"
           }
          ],
          "carpet": [
           {
            "aaxis": {
             "endlinecolor": "#2a3f5f",
             "gridcolor": "white",
             "linecolor": "white",
             "minorgridcolor": "white",
             "startlinecolor": "#2a3f5f"
            },
            "baxis": {
             "endlinecolor": "#2a3f5f",
             "gridcolor": "white",
             "linecolor": "white",
             "minorgridcolor": "white",
             "startlinecolor": "#2a3f5f"
            },
            "type": "carpet"
           }
          ],
          "choropleth": [
           {
            "colorbar": {
             "outlinewidth": 0,
             "ticks": ""
            },
            "type": "choropleth"
           }
          ],
          "contour": [
           {
            "colorbar": {
             "outlinewidth": 0,
             "ticks": ""
            },
            "colorscale": [
             [
              0,
              "#0d0887"
             ],
             [
              0.1111111111111111,
              "#46039f"
             ],
             [
              0.2222222222222222,
              "#7201a8"
             ],
             [
              0.3333333333333333,
              "#9c179e"
             ],
             [
              0.4444444444444444,
              "#bd3786"
             ],
             [
              0.5555555555555556,
              "#d8576b"
             ],
             [
              0.6666666666666666,
              "#ed7953"
             ],
             [
              0.7777777777777778,
              "#fb9f3a"
             ],
             [
              0.8888888888888888,
              "#fdca26"
             ],
             [
              1,
              "#f0f921"
             ]
            ],
            "type": "contour"
           }
          ],
          "contourcarpet": [
           {
            "colorbar": {
             "outlinewidth": 0,
             "ticks": ""
            },
            "type": "contourcarpet"
           }
          ],
          "heatmap": [
           {
            "colorbar": {
             "outlinewidth": 0,
             "ticks": ""
            },
            "colorscale": [
             [
              0,
              "#0d0887"
             ],
             [
              0.1111111111111111,
              "#46039f"
             ],
             [
              0.2222222222222222,
              "#7201a8"
             ],
             [
              0.3333333333333333,
              "#9c179e"
             ],
             [
              0.4444444444444444,
              "#bd3786"
             ],
             [
              0.5555555555555556,
              "#d8576b"
             ],
             [
              0.6666666666666666,
              "#ed7953"
             ],
             [
              0.7777777777777778,
              "#fb9f3a"
             ],
             [
              0.8888888888888888,
              "#fdca26"
             ],
             [
              1,
              "#f0f921"
             ]
            ],
            "type": "heatmap"
           }
          ],
          "heatmapgl": [
           {
            "colorbar": {
             "outlinewidth": 0,
             "ticks": ""
            },
            "colorscale": [
             [
              0,
              "#0d0887"
             ],
             [
              0.1111111111111111,
              "#46039f"
             ],
             [
              0.2222222222222222,
              "#7201a8"
             ],
             [
              0.3333333333333333,
              "#9c179e"
             ],
             [
              0.4444444444444444,
              "#bd3786"
             ],
             [
              0.5555555555555556,
              "#d8576b"
             ],
             [
              0.6666666666666666,
              "#ed7953"
             ],
             [
              0.7777777777777778,
              "#fb9f3a"
             ],
             [
              0.8888888888888888,
              "#fdca26"
             ],
             [
              1,
              "#f0f921"
             ]
            ],
            "type": "heatmapgl"
           }
          ],
          "histogram": [
           {
            "marker": {
             "pattern": {
              "fillmode": "overlay",
              "size": 10,
              "solidity": 0.2
             }
            },
            "type": "histogram"
           }
          ],
          "histogram2d": [
           {
            "colorbar": {
             "outlinewidth": 0,
             "ticks": ""
            },
            "colorscale": [
             [
              0,
              "#0d0887"
             ],
             [
              0.1111111111111111,
              "#46039f"
             ],
             [
              0.2222222222222222,
              "#7201a8"
             ],
             [
              0.3333333333333333,
              "#9c179e"
             ],
             [
              0.4444444444444444,
              "#bd3786"
             ],
             [
              0.5555555555555556,
              "#d8576b"
             ],
             [
              0.6666666666666666,
              "#ed7953"
             ],
             [
              0.7777777777777778,
              "#fb9f3a"
             ],
             [
              0.8888888888888888,
              "#fdca26"
             ],
             [
              1,
              "#f0f921"
             ]
            ],
            "type": "histogram2d"
           }
          ],
          "histogram2dcontour": [
           {
            "colorbar": {
             "outlinewidth": 0,
             "ticks": ""
            },
            "colorscale": [
             [
              0,
              "#0d0887"
             ],
             [
              0.1111111111111111,
              "#46039f"
             ],
             [
              0.2222222222222222,
              "#7201a8"
             ],
             [
              0.3333333333333333,
              "#9c179e"
             ],
             [
              0.4444444444444444,
              "#bd3786"
             ],
             [
              0.5555555555555556,
              "#d8576b"
             ],
             [
              0.6666666666666666,
              "#ed7953"
             ],
             [
              0.7777777777777778,
              "#fb9f3a"
             ],
             [
              0.8888888888888888,
              "#fdca26"
             ],
             [
              1,
              "#f0f921"
             ]
            ],
            "type": "histogram2dcontour"
           }
          ],
          "mesh3d": [
           {
            "colorbar": {
             "outlinewidth": 0,
             "ticks": ""
            },
            "type": "mesh3d"
           }
          ],
          "parcoords": [
           {
            "line": {
             "colorbar": {
              "outlinewidth": 0,
              "ticks": ""
             }
            },
            "type": "parcoords"
           }
          ],
          "pie": [
           {
            "automargin": true,
            "type": "pie"
           }
          ],
          "scatter": [
           {
            "fillpattern": {
             "fillmode": "overlay",
             "size": 10,
             "solidity": 0.2
            },
            "type": "scatter"
           }
          ],
          "scatter3d": [
           {
            "line": {
             "colorbar": {
              "outlinewidth": 0,
              "ticks": ""
             }
            },
            "marker": {
             "colorbar": {
              "outlinewidth": 0,
              "ticks": ""
             }
            },
            "type": "scatter3d"
           }
          ],
          "scattercarpet": [
           {
            "marker": {
             "colorbar": {
              "outlinewidth": 0,
              "ticks": ""
             }
            },
            "type": "scattercarpet"
           }
          ],
          "scattergeo": [
           {
            "marker": {
             "colorbar": {
              "outlinewidth": 0,
              "ticks": ""
             }
            },
            "type": "scattergeo"
           }
          ],
          "scattergl": [
           {
            "marker": {
             "colorbar": {
              "outlinewidth": 0,
              "ticks": ""
             }
            },
            "type": "scattergl"
           }
          ],
          "scattermapbox": [
           {
            "marker": {
             "colorbar": {
              "outlinewidth": 0,
              "ticks": ""
             }
            },
            "type": "scattermapbox"
           }
          ],
          "scatterpolar": [
           {
            "marker": {
             "colorbar": {
              "outlinewidth": 0,
              "ticks": ""
             }
            },
            "type": "scatterpolar"
           }
          ],
          "scatterpolargl": [
           {
            "marker": {
             "colorbar": {
              "outlinewidth": 0,
              "ticks": ""
             }
            },
            "type": "scatterpolargl"
           }
          ],
          "scatterternary": [
           {
            "marker": {
             "colorbar": {
              "outlinewidth": 0,
              "ticks": ""
             }
            },
            "type": "scatterternary"
           }
          ],
          "surface": [
           {
            "colorbar": {
             "outlinewidth": 0,
             "ticks": ""
            },
            "colorscale": [
             [
              0,
              "#0d0887"
             ],
             [
              0.1111111111111111,
              "#46039f"
             ],
             [
              0.2222222222222222,
              "#7201a8"
             ],
             [
              0.3333333333333333,
              "#9c179e"
             ],
             [
              0.4444444444444444,
              "#bd3786"
             ],
             [
              0.5555555555555556,
              "#d8576b"
             ],
             [
              0.6666666666666666,
              "#ed7953"
             ],
             [
              0.7777777777777778,
              "#fb9f3a"
             ],
             [
              0.8888888888888888,
              "#fdca26"
             ],
             [
              1,
              "#f0f921"
             ]
            ],
            "type": "surface"
           }
          ],
          "table": [
           {
            "cells": {
             "fill": {
              "color": "#EBF0F8"
             },
             "line": {
              "color": "white"
             }
            },
            "header": {
             "fill": {
              "color": "#C8D4E3"
             },
             "line": {
              "color": "white"
             }
            },
            "type": "table"
           }
          ]
         },
         "layout": {
          "annotationdefaults": {
           "arrowcolor": "#2a3f5f",
           "arrowhead": 0,
           "arrowwidth": 1
          },
          "autotypenumbers": "strict",
          "coloraxis": {
           "colorbar": {
            "outlinewidth": 0,
            "ticks": ""
           }
          },
          "colorscale": {
           "diverging": [
            [
             0,
             "#8e0152"
            ],
            [
             0.1,
             "#c51b7d"
            ],
            [
             0.2,
             "#de77ae"
            ],
            [
             0.3,
             "#f1b6da"
            ],
            [
             0.4,
             "#fde0ef"
            ],
            [
             0.5,
             "#f7f7f7"
            ],
            [
             0.6,
             "#e6f5d0"
            ],
            [
             0.7,
             "#b8e186"
            ],
            [
             0.8,
             "#7fbc41"
            ],
            [
             0.9,
             "#4d9221"
            ],
            [
             1,
             "#276419"
            ]
           ],
           "sequential": [
            [
             0,
             "#0d0887"
            ],
            [
             0.1111111111111111,
             "#46039f"
            ],
            [
             0.2222222222222222,
             "#7201a8"
            ],
            [
             0.3333333333333333,
             "#9c179e"
            ],
            [
             0.4444444444444444,
             "#bd3786"
            ],
            [
             0.5555555555555556,
             "#d8576b"
            ],
            [
             0.6666666666666666,
             "#ed7953"
            ],
            [
             0.7777777777777778,
             "#fb9f3a"
            ],
            [
             0.8888888888888888,
             "#fdca26"
            ],
            [
             1,
             "#f0f921"
            ]
           ],
           "sequentialminus": [
            [
             0,
             "#0d0887"
            ],
            [
             0.1111111111111111,
             "#46039f"
            ],
            [
             0.2222222222222222,
             "#7201a8"
            ],
            [
             0.3333333333333333,
             "#9c179e"
            ],
            [
             0.4444444444444444,
             "#bd3786"
            ],
            [
             0.5555555555555556,
             "#d8576b"
            ],
            [
             0.6666666666666666,
             "#ed7953"
            ],
            [
             0.7777777777777778,
             "#fb9f3a"
            ],
            [
             0.8888888888888888,
             "#fdca26"
            ],
            [
             1,
             "#f0f921"
            ]
           ]
          },
          "colorway": [
           "#636efa",
           "#EF553B",
           "#00cc96",
           "#ab63fa",
           "#FFA15A",
           "#19d3f3",
           "#FF6692",
           "#B6E880",
           "#FF97FF",
           "#FECB52"
          ],
          "font": {
           "color": "#2a3f5f"
          },
          "geo": {
           "bgcolor": "white",
           "lakecolor": "white",
           "landcolor": "#E5ECF6",
           "showlakes": true,
           "showland": true,
           "subunitcolor": "white"
          },
          "hoverlabel": {
           "align": "left"
          },
          "hovermode": "closest",
          "mapbox": {
           "style": "light"
          },
          "paper_bgcolor": "white",
          "plot_bgcolor": "#E5ECF6",
          "polar": {
           "angularaxis": {
            "gridcolor": "white",
            "linecolor": "white",
            "ticks": ""
           },
           "bgcolor": "#E5ECF6",
           "radialaxis": {
            "gridcolor": "white",
            "linecolor": "white",
            "ticks": ""
           }
          },
          "scene": {
           "xaxis": {
            "backgroundcolor": "#E5ECF6",
            "gridcolor": "white",
            "gridwidth": 2,
            "linecolor": "white",
            "showbackground": true,
            "ticks": "",
            "zerolinecolor": "white"
           },
           "yaxis": {
            "backgroundcolor": "#E5ECF6",
            "gridcolor": "white",
            "gridwidth": 2,
            "linecolor": "white",
            "showbackground": true,
            "ticks": "",
            "zerolinecolor": "white"
           },
           "zaxis": {
            "backgroundcolor": "#E5ECF6",
            "gridcolor": "white",
            "gridwidth": 2,
            "linecolor": "white",
            "showbackground": true,
            "ticks": "",
            "zerolinecolor": "white"
           }
          },
          "shapedefaults": {
           "line": {
            "color": "#2a3f5f"
           }
          },
          "ternary": {
           "aaxis": {
            "gridcolor": "white",
            "linecolor": "white",
            "ticks": ""
           },
           "baxis": {
            "gridcolor": "white",
            "linecolor": "white",
            "ticks": ""
           },
           "bgcolor": "#E5ECF6",
           "caxis": {
            "gridcolor": "white",
            "linecolor": "white",
            "ticks": ""
           }
          },
          "title": {
           "x": 0.05
          },
          "xaxis": {
           "automargin": true,
           "gridcolor": "white",
           "linecolor": "white",
           "ticks": "",
           "title": {
            "standoff": 15
           },
           "zerolinecolor": "white",
           "zerolinewidth": 2
          },
          "yaxis": {
           "automargin": true,
           "gridcolor": "white",
           "linecolor": "white",
           "ticks": "",
           "title": {
            "standoff": 15
           },
           "zerolinecolor": "white",
           "zerolinewidth": 2
          }
         }
        },
        "xaxis": {
         "anchor": "y",
         "domain": [
          0,
          1
         ],
         "title": {
          "text": "Ram"
         }
        },
        "yaxis": {
         "anchor": "x",
         "domain": [
          0,
          1
         ]
        }
       }
      }
     },
     "metadata": {},
     "output_type": "display_data"
    },
    {
     "data": {
      "application/vnd.plotly.v1+json": {
       "config": {
        "plotlyServerURL": "https://plot.ly"
       },
       "data": [
        {
         "alignmentgroup": "True",
         "hovertemplate": "Weight=%{x}<extra></extra>",
         "legendgroup": "",
         "marker": {
          "color": "#636efa"
         },
         "name": "",
         "notched": false,
         "offsetgroup": "",
         "orientation": "h",
         "showlegend": false,
         "type": "box",
         "x": [
          1.37,
          1.34,
          1.86,
          1.83,
          1.37,
          2.1,
          2.04,
          1.34,
          1.3,
          1.6,
          1.86,
          1.86,
          1.83,
          2.2,
          0.92,
          1.37,
          2.2,
          1.83,
          2.2,
          1.22,
          0.98,
          2.5,
          1.86,
          1.62,
          1.91,
          2.3,
          1.35,
          2.2,
          1.88,
          2.5,
          1.89,
          1.65,
          2.71,
          1.2,
          1.35,
          1.44,
          2.1,
          2.8,
          1.86,
          2.1,
          2,
          2.65,
          2.3,
          2.2,
          2.77,
          1.37,
          2.2,
          3.2,
          2.3,
          2.8,
          0.69,
          2.2,
          1.86,
          1.49,
          2.4,
          2.13,
          1.91,
          2,
          2.43,
          2,
          2.8,
          1.7,
          1.7,
          1.4,
          1.86,
          1.8,
          1.86,
          1.44,
          1.9,
          3,
          1.252,
          1.4,
          2.2,
          2.7,
          2.1,
          2.2,
          2.2,
          2.02,
          2.2,
          2.5,
          1.88,
          0.92,
          1.63,
          2.2,
          2.1,
          2.65,
          1.83,
          1.96,
          2.2,
          1.21,
          2.45,
          2.2,
          1.49,
          2.65,
          1.25,
          1.5,
          2.2,
          2.2,
          2,
          2.62,
          1.91,
          2.1,
          2.2,
          1.38,
          1.252,
          1.58,
          1.85,
          1.3,
          2.2,
          1.58,
          1.5,
          1.23,
          1.37,
          1.63,
          1.21,
          1.26,
          1.63,
          2.16,
          2,
          1.7,
          2.1,
          1.8,
          2.2,
          2.5,
          2.1,
          1.86,
          1.63,
          1.65,
          2.8,
          2.5,
          2.36,
          2.2,
          1.6,
          2.2,
          2.05,
          1.63,
          1.9,
          3,
          2.2,
          1.32,
          3,
          1.75,
          2.4,
          2.1,
          1.86,
          1.25,
          0.97,
          2,
          2.9,
          2.1,
          2.56,
          2.62,
          1.9,
          2.8,
          1.48,
          1.91,
          1.74,
          1.1,
          1.56,
          2.1,
          2.03,
          3,
          2.13,
          2.5,
          2.1,
          2.4,
          2.1,
          2.56,
          3,
          1.49,
          1.05,
          2.71,
          2.2,
          2,
          2.5,
          2.3,
          2.1,
          4.4,
          1.9,
          1.29,
          2.02,
          1.23,
          1.4,
          2,
          1.95,
          2.77,
          2.06,
          2.4,
          1.12,
          2.8,
          1.42,
          1.3,
          1.3,
          2.8,
          1.62,
          2.5,
          3.49,
          1.49,
          3.35,
          2.5,
          2.65,
          2.1,
          2.23,
          3.2,
          2.8,
          2.4,
          2.3,
          1.21,
          1.2,
          2.2,
          2.4,
          2.9,
          2.1,
          2.2,
          1.05,
          1.4,
          2.8,
          1.63,
          1.6,
          1.62,
          2.2,
          1.74,
          1.2,
          2.1,
          4.42,
          2.2,
          2.3,
          2,
          2.69,
          1.9,
          2.37,
          2.1,
          3.2,
          1.6,
          1.6,
          2.36,
          2.1,
          2.2,
          4.7,
          2.5,
          2.2,
          2.1,
          2.69,
          2.56,
          1.38,
          2.2,
          2.04,
          3.6,
          1.49,
          1.37,
          2.08,
          4.3,
          1.68,
          1.37,
          3,
          1.41,
          1.91,
          2.9,
          4.14,
          2,
          2.8,
          2.2,
          2.1,
          2.18,
          2.24,
          2.67,
          1.1,
          2.2,
          2.5,
          2.05,
          1.37,
          3.2,
          2.14,
          1.36,
          2.2,
          2.3,
          2.8,
          2.2,
          2.8,
          2.8,
          2.8,
          2.25,
          2.5,
          2.2,
          3,
          2.15,
          1.95,
          1.7,
          2.5,
          2.2,
          2.19,
          3,
          2.54,
          2,
          2.05,
          3.2,
          2.5,
          3.42,
          2.4,
          1.63,
          1.3,
          2.9,
          2.8,
          2.2,
          2.5,
          2.2,
          1.28,
          2.2,
          2.3,
          1.86,
          1.1,
          1.21,
          2.8,
          2.23,
          1.1,
          2.33,
          1.29,
          1.45,
          1.95,
          1.4,
          1.48,
          2.79,
          2,
          2.1,
          2.2,
          1.44,
          2.23,
          1.7,
          1.26,
          2.06,
          2.7,
          2,
          2,
          1.85,
          2.5,
          1.48,
          1.9,
          1.84,
          2,
          2,
          2.2,
          2.2,
          2.1,
          1.4,
          1.2,
          2.4,
          1.44,
          1.88,
          1.5,
          1.9,
          2.06,
          1.84,
          2.7,
          2.6,
          2.4,
          2.02,
          2.2,
          2.65,
          2.36,
          1.36,
          1.86,
          2,
          2.8,
          1.86,
          2.2,
          2.04,
          2.8,
          2.4,
          2.33,
          1.36,
          2.26,
          2.1,
          3.25,
          2.6,
          1.62,
          1.91,
          1.59,
          1.8,
          1.5,
          2.4,
          3.35,
          1.85,
          2.3,
          1.5,
          1.1,
          1.13,
          1.5,
          2.23,
          2,
          1.42,
          3,
          3,
          2.2,
          2.7,
          2.33,
          1.91,
          2.1,
          1.9,
          1.78,
          1.13,
          2.2,
          2.9,
          2.1,
          2.5,
          2.8,
          1.1,
          1.2,
          1.36,
          2.2,
          1.15,
          2.67,
          1.7,
          2.1,
          1.6,
          1.27,
          2.3,
          1.65,
          1.43,
          2.14,
          1.75,
          2,
          1.4,
          2.31,
          2.3,
          4.42,
          2.62,
          2.02,
          1.6,
          3.35,
          1.16,
          1.15,
          1.4,
          1.7,
          2.3,
          2.5,
          3.2,
          2.1,
          1.1,
          1.32,
          2,
          2.8,
          2.2,
          1.36,
          2.2,
          2.2,
          1.64,
          2.4,
          2.23,
          2.2,
          1.25,
          1.91,
          2.17,
          2.31,
          1.65,
          2.36,
          1.47,
          4.42,
          1.252,
          1.25,
          2.5,
          2.23,
          1.4,
          2.37,
          1.5,
          2.67,
          2,
          2.2,
          2.02,
          3.78,
          1.4,
          1.29,
          1.9,
          1.1,
          1.42,
          2.06,
          1.79,
          1.78,
          1.7,
          2.2,
          1.05,
          2.16,
          2.18,
          1.49,
          1.89,
          2.3,
          1.75,
          2.17,
          2.06,
          1.36,
          0.91,
          2.3,
          1.05,
          1.99,
          2.2,
          4.33,
          1.3,
          2.17,
          1.48,
          1.4,
          2.3,
          1.2,
          1.91,
          1.4,
          2.1,
          1.25,
          1.44,
          2,
          2.2,
          1.34,
          2.4,
          1.29,
          2.2,
          2.18,
          2.2,
          1.95,
          1.1,
          2.04,
          2.24,
          2.04,
          3,
          3.2,
          1.32,
          1.64,
          1.63,
          2.8,
          2.02,
          2.2,
          2.2,
          2.3,
          1.9,
          4.42,
          2,
          2,
          1.2,
          2.3,
          1.93,
          2.2,
          1.86,
          2.62,
          1.87,
          1.2,
          1.6,
          1.34,
          2.4,
          2,
          2.1,
          1.87,
          2.15,
          1.86,
          1.99,
          2.2,
          1.9,
          4.42,
          2.65,
          2.63,
          2,
          1.35,
          2.8,
          1.91,
          2.18,
          1.25,
          2.05,
          1.16,
          3.4,
          2.5,
          1.21,
          1.93,
          2.2,
          2.2,
          2.02,
          3.14,
          1.94,
          1.95,
          2.3,
          2.05,
          1.4,
          1.24,
          4.6,
          4.14,
          2.2,
          1.45,
          1.9,
          1.49,
          1.93,
          1.26,
          4.5,
          3.78,
          1.4,
          2.2,
          2.73,
          2.2,
          2.2,
          1.39,
          2.5,
          2.8,
          2.29,
          1.37,
          1.7,
          1.34,
          2.06,
          1.84,
          2.1,
          1.6,
          4.14,
          2.18,
          1.8,
          2.2,
          2.4,
          2,
          1.6,
          2.5,
          2.59,
          2.18,
          2.25,
          1.93,
          3,
          2.18,
          1.84,
          2.94,
          1.25,
          2.31,
          1.65,
          2.2,
          2.2,
          1.88,
          2.2,
          1.4,
          2.2,
          1.5,
          2,
          1.1,
          2.62,
          1.8,
          2.2,
          2,
          1.99,
          1.23,
          1.42,
          1.37,
          2.06,
          2.5,
          2.6,
          1.14,
          2.5,
          2.4,
          1.43,
          1.8,
          1.95,
          1.2,
          1.36,
          3.8,
          2.4,
          1.2,
          2.2,
          1.86,
          2,
          2.2,
          2.2,
          3.31,
          4.42,
          1.56,
          2.2,
          2.2,
          2.04,
          2.7,
          2.1,
          2.06,
          2.1,
          2,
          2.1,
          1.252,
          1.9,
          1.3,
          2.2,
          1.63,
          2.4,
          1.1,
          1.4,
          1.09,
          2.5,
          2.2,
          1.86,
          3.21,
          2.5,
          1.19,
          3.49,
          1.86,
          2.2,
          2.65,
          2.1,
          1.45,
          1.7,
          3.14,
          1.42,
          1.5,
          1.4,
          1.38,
          1.2,
          1.36,
          2.1,
          2.56,
          2.2,
          2.2,
          2.1,
          1.9,
          2.18,
          1.6,
          2.18,
          1.8,
          2.71,
          2.5,
          1.64,
          1.98,
          1.5,
          1.93,
          1.87,
          1.9,
          2.19,
          1.4,
          2.63,
          1.17,
          1.58,
          1.32,
          4.36,
          2.7,
          1.9,
          2.2,
          1.71,
          2.32,
          2.1,
          4.2,
          2.25,
          2.1,
          2.4,
          1.44,
          1.85,
          2.6,
          1.55,
          1.8,
          2.4,
          2,
          2,
          1.25,
          1.7,
          2.5,
          1.68,
          0.81,
          1.86,
          1.6,
          3,
          1.4,
          1.84,
          2.45,
          1.7,
          2.37,
          1.3,
          2.2,
          2.59,
          4.42,
          2.1,
          2.5,
          1.18,
          1.1,
          1.2,
          1.65,
          1.6,
          2.8,
          2.72,
          1.31,
          2.1,
          2.3,
          1.71,
          1.75,
          2.62,
          1.26,
          2.3,
          2.5,
          1.8,
          1.95,
          2,
          4.42,
          4.3,
          1.47,
          2.2,
          1.7,
          1.6,
          2.2,
          2.4,
          4.2,
          2.62,
          2.24,
          1.22,
          1.37,
          2.08,
          0.92,
          1.42,
          1.63,
          1.95,
          1.38,
          2,
          3.14,
          2.37,
          1.29,
          2.06,
          1.63,
          1.26,
          2.1,
          2.04,
          2.62,
          2.4,
          3.74,
          2.9,
          0.81,
          1.98,
          2.18,
          1.32,
          1.29,
          1.23,
          4.36,
          1.76,
          2.1,
          1.25,
          1.13,
          2.4,
          1.13,
          1.75,
          1.1,
          1.76,
          1.35,
          1.5,
          3.49,
          1.1,
          2.1,
          1.7,
          1.32,
          3.21,
          2.9,
          2,
          1.5,
          2.3,
          2.73,
          4.42,
          2.63,
          2.18,
          1.54,
          2.18,
          1.4,
          1.45,
          1.28,
          1.54,
          1.86,
          2.1,
          2.83,
          1.96,
          2.3,
          1.9,
          2,
          1.28,
          1.62,
          2.2,
          2.3,
          1.84,
          1.05,
          2.5,
          1.29,
          2.07,
          1.2,
          1.37,
          1.56,
          2.23,
          2.38,
          2.2,
          2,
          1.44,
          1.23,
          1.6,
          2,
          1.28,
          2.18,
          2.04,
          1.28,
          2.3,
          1.65,
          2.2,
          2.2,
          1.28,
          2.18,
          2.2,
          1.25,
          2.8,
          1.95,
          1.42,
          1.17,
          1.32,
          2.43,
          1.05,
          2.62,
          2.04,
          2.18,
          1.9,
          1.24,
          3.58,
          1.22,
          1.13,
          1.95,
          1.08,
          1.26,
          2.2,
          2.6,
          0.98,
          1.6,
          1.09,
          2.2,
          2.04,
          2.4,
          1.44,
          1.49,
          2.7,
          2.6,
          2.2,
          2.18,
          1.84,
          1.39,
          2.4,
          1.37,
          1.95,
          1.36,
          2.31,
          2.18,
          1.95,
          2.2,
          1.26,
          1.86,
          1.3,
          1.47,
          1.26,
          2.18,
          2.2,
          1.36,
          4.36,
          2.75,
          2.8,
          2.23,
          2.2,
          1.1,
          2.5,
          1.36,
          2.2,
          2.36,
          1.68,
          2,
          1.36,
          1.2,
          1.2,
          1.7,
          4.36,
          1.24,
          1.45,
          1.3,
          1.25,
          1.2,
          1.36,
          2.4,
          1.1,
          2.04,
          2.25,
          1.9,
          2.04,
          4.42,
          2.4,
          1.22,
          1.5,
          4.42,
          1.95,
          2.73,
          2.04,
          1.7,
          2.3,
          2.04,
          2.99,
          2.19,
          1.2,
          2.2,
          2.3,
          1.75,
          2.25,
          2.04,
          2.5,
          2.36,
          1.6,
          0.97,
          2.1,
          1.9,
          2.3,
          1.68,
          1.4,
          1.11,
          2.4,
          2.5,
          1.48,
          2.7,
          1.34,
          2.18,
          1.64,
          1.2,
          1.48,
          1.95,
          1.43,
          1.64,
          1.64,
          2.65,
          1.26,
          1.48,
          1.54,
          1.49,
          1.5,
          2.04,
          2.4,
          1.47,
          1.43,
          2.08,
          1.2,
          1.11,
          1.64,
          2.09,
          1.26,
          2.31,
          1.95,
          1.29,
          2.63,
          1.64,
          2.1,
          2.7,
          1.95,
          1.84,
          1.26,
          2.04,
          1.47,
          2.09,
          1.64,
          1.8,
          1.45,
          2.4,
          2.3,
          1.54,
          1.84,
          1.43,
          3.78,
          4.6,
          1.2,
          1.1,
          1.91,
          2.3,
          2.04,
          1.2,
          2.31,
          1.96,
          2.4,
          1.6,
          2.94,
          2.04,
          4,
          2.25,
          2.32,
          1.8,
          1.29,
          3.58,
          1.62,
          3.21,
          0.92,
          2.06,
          2.31,
          1.26,
          1.49,
          1.3,
          3,
          2.3,
          3.78,
          2.1,
          2.31,
          0.99,
          4.6,
          0.69,
          1.3,
          2.18,
          1.54,
          1.9,
          1.7,
          1.29,
          2.4,
          2.2,
          1.86,
          2.7,
          1.4,
          2.4,
          2.4,
          2.36,
          2.6,
          1.96,
          4.3,
          1.5,
          1.5,
          2.2,
          3,
          2.4,
          1.5,
          2.9,
          2.1,
          2.1,
          2.59,
          1.16,
          2.24,
          2.1,
          1.16,
          0.69,
          1.23,
          4.6,
          1.25,
          1.05,
          3.52,
          1.35,
          1.16,
          1.43,
          2.09,
          2,
          1.8,
          0.69,
          1.26,
          2.4,
          3.35,
          2.04,
          1.8,
          1.5,
          1.84,
          2.23,
          2.5,
          3,
          2.5,
          3.78,
          1.88,
          2.8,
          2.4,
          1.48,
          2.59,
          1.48,
          2,
          1.26,
          2.18,
          1.88,
          1.27,
          1.9,
          1.86,
          2.32,
          2.62,
          2.04,
          1.91,
          2.7,
          1.4,
          2.5,
          1.48,
          1.7,
          1.7,
          2.62,
          2.2,
          2.1,
          2.62,
          1.95,
          2.2,
          1.44,
          2.2,
          1.96,
          2.1,
          2.2,
          2.1,
          2.2,
          2,
          2.32,
          3.31,
          1.91,
          2.07,
          1.36,
          1.54,
          1.98,
          2.1,
          2.18,
          2.591,
          2.09,
          2.23,
          1.23,
          4.2,
          2.4,
          1.86,
          0.92,
          1.6,
          2.21,
          1.9,
          4.3,
          2.1,
          2.43,
          2.3,
          2.2,
          2,
          1.2,
          2.2,
          2.36,
          1.91,
          2.2,
          3.3,
          2.2,
          0.92,
          2.2,
          2.43,
          2.191,
          2.9,
          1.3,
          3.3,
          2.8,
          2.6,
          1.2,
          2.3,
          2.2,
          2.1,
          1.26,
          2.08,
          2.65,
          1.29,
          2.18,
          2.6,
          2.2,
          1.3,
          1.95,
          2.3,
          2.7,
          1.08,
          2.1,
          1.54,
          2.24,
          2.3,
          1.4,
          2.2,
          1.45,
          2.4,
          2.77,
          1.54,
          2.5,
          1.6,
          2.34,
          2.3,
          1.24,
          2.2,
          1.86,
          2.4,
          1.9,
          2.2,
          2,
          4,
          2.29,
          2.32,
          2.4,
          1.8,
          1.2,
          2.3,
          2.4,
          2.2,
          2.6,
          2.04,
          2.3,
          1.17,
          2.2,
          1.8,
          1.3,
          1.5,
          2.19
         ],
         "x0": " ",
         "xaxis": "x",
         "y0": " ",
         "yaxis": "y"
        }
       ],
       "layout": {
        "boxmode": "group",
        "legend": {
         "tracegroupgap": 0
        },
        "margin": {
         "t": 60
        },
        "template": {
         "data": {
          "bar": [
           {
            "error_x": {
             "color": "#2a3f5f"
            },
            "error_y": {
             "color": "#2a3f5f"
            },
            "marker": {
             "line": {
              "color": "#E5ECF6",
              "width": 0.5
             },
             "pattern": {
              "fillmode": "overlay",
              "size": 10,
              "solidity": 0.2
             }
            },
            "type": "bar"
           }
          ],
          "barpolar": [
           {
            "marker": {
             "line": {
              "color": "#E5ECF6",
              "width": 0.5
             },
             "pattern": {
              "fillmode": "overlay",
              "size": 10,
              "solidity": 0.2
             }
            },
            "type": "barpolar"
           }
          ],
          "carpet": [
           {
            "aaxis": {
             "endlinecolor": "#2a3f5f",
             "gridcolor": "white",
             "linecolor": "white",
             "minorgridcolor": "white",
             "startlinecolor": "#2a3f5f"
            },
            "baxis": {
             "endlinecolor": "#2a3f5f",
             "gridcolor": "white",
             "linecolor": "white",
             "minorgridcolor": "white",
             "startlinecolor": "#2a3f5f"
            },
            "type": "carpet"
           }
          ],
          "choropleth": [
           {
            "colorbar": {
             "outlinewidth": 0,
             "ticks": ""
            },
            "type": "choropleth"
           }
          ],
          "contour": [
           {
            "colorbar": {
             "outlinewidth": 0,
             "ticks": ""
            },
            "colorscale": [
             [
              0,
              "#0d0887"
             ],
             [
              0.1111111111111111,
              "#46039f"
             ],
             [
              0.2222222222222222,
              "#7201a8"
             ],
             [
              0.3333333333333333,
              "#9c179e"
             ],
             [
              0.4444444444444444,
              "#bd3786"
             ],
             [
              0.5555555555555556,
              "#d8576b"
             ],
             [
              0.6666666666666666,
              "#ed7953"
             ],
             [
              0.7777777777777778,
              "#fb9f3a"
             ],
             [
              0.8888888888888888,
              "#fdca26"
             ],
             [
              1,
              "#f0f921"
             ]
            ],
            "type": "contour"
           }
          ],
          "contourcarpet": [
           {
            "colorbar": {
             "outlinewidth": 0,
             "ticks": ""
            },
            "type": "contourcarpet"
           }
          ],
          "heatmap": [
           {
            "colorbar": {
             "outlinewidth": 0,
             "ticks": ""
            },
            "colorscale": [
             [
              0,
              "#0d0887"
             ],
             [
              0.1111111111111111,
              "#46039f"
             ],
             [
              0.2222222222222222,
              "#7201a8"
             ],
             [
              0.3333333333333333,
              "#9c179e"
             ],
             [
              0.4444444444444444,
              "#bd3786"
             ],
             [
              0.5555555555555556,
              "#d8576b"
             ],
             [
              0.6666666666666666,
              "#ed7953"
             ],
             [
              0.7777777777777778,
              "#fb9f3a"
             ],
             [
              0.8888888888888888,
              "#fdca26"
             ],
             [
              1,
              "#f0f921"
             ]
            ],
            "type": "heatmap"
           }
          ],
          "heatmapgl": [
           {
            "colorbar": {
             "outlinewidth": 0,
             "ticks": ""
            },
            "colorscale": [
             [
              0,
              "#0d0887"
             ],
             [
              0.1111111111111111,
              "#46039f"
             ],
             [
              0.2222222222222222,
              "#7201a8"
             ],
             [
              0.3333333333333333,
              "#9c179e"
             ],
             [
              0.4444444444444444,
              "#bd3786"
             ],
             [
              0.5555555555555556,
              "#d8576b"
             ],
             [
              0.6666666666666666,
              "#ed7953"
             ],
             [
              0.7777777777777778,
              "#fb9f3a"
             ],
             [
              0.8888888888888888,
              "#fdca26"
             ],
             [
              1,
              "#f0f921"
             ]
            ],
            "type": "heatmapgl"
           }
          ],
          "histogram": [
           {
            "marker": {
             "pattern": {
              "fillmode": "overlay",
              "size": 10,
              "solidity": 0.2
             }
            },
            "type": "histogram"
           }
          ],
          "histogram2d": [
           {
            "colorbar": {
             "outlinewidth": 0,
             "ticks": ""
            },
            "colorscale": [
             [
              0,
              "#0d0887"
             ],
             [
              0.1111111111111111,
              "#46039f"
             ],
             [
              0.2222222222222222,
              "#7201a8"
             ],
             [
              0.3333333333333333,
              "#9c179e"
             ],
             [
              0.4444444444444444,
              "#bd3786"
             ],
             [
              0.5555555555555556,
              "#d8576b"
             ],
             [
              0.6666666666666666,
              "#ed7953"
             ],
             [
              0.7777777777777778,
              "#fb9f3a"
             ],
             [
              0.8888888888888888,
              "#fdca26"
             ],
             [
              1,
              "#f0f921"
             ]
            ],
            "type": "histogram2d"
           }
          ],
          "histogram2dcontour": [
           {
            "colorbar": {
             "outlinewidth": 0,
             "ticks": ""
            },
            "colorscale": [
             [
              0,
              "#0d0887"
             ],
             [
              0.1111111111111111,
              "#46039f"
             ],
             [
              0.2222222222222222,
              "#7201a8"
             ],
             [
              0.3333333333333333,
              "#9c179e"
             ],
             [
              0.4444444444444444,
              "#bd3786"
             ],
             [
              0.5555555555555556,
              "#d8576b"
             ],
             [
              0.6666666666666666,
              "#ed7953"
             ],
             [
              0.7777777777777778,
              "#fb9f3a"
             ],
             [
              0.8888888888888888,
              "#fdca26"
             ],
             [
              1,
              "#f0f921"
             ]
            ],
            "type": "histogram2dcontour"
           }
          ],
          "mesh3d": [
           {
            "colorbar": {
             "outlinewidth": 0,
             "ticks": ""
            },
            "type": "mesh3d"
           }
          ],
          "parcoords": [
           {
            "line": {
             "colorbar": {
              "outlinewidth": 0,
              "ticks": ""
             }
            },
            "type": "parcoords"
           }
          ],
          "pie": [
           {
            "automargin": true,
            "type": "pie"
           }
          ],
          "scatter": [
           {
            "fillpattern": {
             "fillmode": "overlay",
             "size": 10,
             "solidity": 0.2
            },
            "type": "scatter"
           }
          ],
          "scatter3d": [
           {
            "line": {
             "colorbar": {
              "outlinewidth": 0,
              "ticks": ""
             }
            },
            "marker": {
             "colorbar": {
              "outlinewidth": 0,
              "ticks": ""
             }
            },
            "type": "scatter3d"
           }
          ],
          "scattercarpet": [
           {
            "marker": {
             "colorbar": {
              "outlinewidth": 0,
              "ticks": ""
             }
            },
            "type": "scattercarpet"
           }
          ],
          "scattergeo": [
           {
            "marker": {
             "colorbar": {
              "outlinewidth": 0,
              "ticks": ""
             }
            },
            "type": "scattergeo"
           }
          ],
          "scattergl": [
           {
            "marker": {
             "colorbar": {
              "outlinewidth": 0,
              "ticks": ""
             }
            },
            "type": "scattergl"
           }
          ],
          "scattermapbox": [
           {
            "marker": {
             "colorbar": {
              "outlinewidth": 0,
              "ticks": ""
             }
            },
            "type": "scattermapbox"
           }
          ],
          "scatterpolar": [
           {
            "marker": {
             "colorbar": {
              "outlinewidth": 0,
              "ticks": ""
             }
            },
            "type": "scatterpolar"
           }
          ],
          "scatterpolargl": [
           {
            "marker": {
             "colorbar": {
              "outlinewidth": 0,
              "ticks": ""
             }
            },
            "type": "scatterpolargl"
           }
          ],
          "scatterternary": [
           {
            "marker": {
             "colorbar": {
              "outlinewidth": 0,
              "ticks": ""
             }
            },
            "type": "scatterternary"
           }
          ],
          "surface": [
           {
            "colorbar": {
             "outlinewidth": 0,
             "ticks": ""
            },
            "colorscale": [
             [
              0,
              "#0d0887"
             ],
             [
              0.1111111111111111,
              "#46039f"
             ],
             [
              0.2222222222222222,
              "#7201a8"
             ],
             [
              0.3333333333333333,
              "#9c179e"
             ],
             [
              0.4444444444444444,
              "#bd3786"
             ],
             [
              0.5555555555555556,
              "#d8576b"
             ],
             [
              0.6666666666666666,
              "#ed7953"
             ],
             [
              0.7777777777777778,
              "#fb9f3a"
             ],
             [
              0.8888888888888888,
              "#fdca26"
             ],
             [
              1,
              "#f0f921"
             ]
            ],
            "type": "surface"
           }
          ],
          "table": [
           {
            "cells": {
             "fill": {
              "color": "#EBF0F8"
             },
             "line": {
              "color": "white"
             }
            },
            "header": {
             "fill": {
              "color": "#C8D4E3"
             },
             "line": {
              "color": "white"
             }
            },
            "type": "table"
           }
          ]
         },
         "layout": {
          "annotationdefaults": {
           "arrowcolor": "#2a3f5f",
           "arrowhead": 0,
           "arrowwidth": 1
          },
          "autotypenumbers": "strict",
          "coloraxis": {
           "colorbar": {
            "outlinewidth": 0,
            "ticks": ""
           }
          },
          "colorscale": {
           "diverging": [
            [
             0,
             "#8e0152"
            ],
            [
             0.1,
             "#c51b7d"
            ],
            [
             0.2,
             "#de77ae"
            ],
            [
             0.3,
             "#f1b6da"
            ],
            [
             0.4,
             "#fde0ef"
            ],
            [
             0.5,
             "#f7f7f7"
            ],
            [
             0.6,
             "#e6f5d0"
            ],
            [
             0.7,
             "#b8e186"
            ],
            [
             0.8,
             "#7fbc41"
            ],
            [
             0.9,
             "#4d9221"
            ],
            [
             1,
             "#276419"
            ]
           ],
           "sequential": [
            [
             0,
             "#0d0887"
            ],
            [
             0.1111111111111111,
             "#46039f"
            ],
            [
             0.2222222222222222,
             "#7201a8"
            ],
            [
             0.3333333333333333,
             "#9c179e"
            ],
            [
             0.4444444444444444,
             "#bd3786"
            ],
            [
             0.5555555555555556,
             "#d8576b"
            ],
            [
             0.6666666666666666,
             "#ed7953"
            ],
            [
             0.7777777777777778,
             "#fb9f3a"
            ],
            [
             0.8888888888888888,
             "#fdca26"
            ],
            [
             1,
             "#f0f921"
            ]
           ],
           "sequentialminus": [
            [
             0,
             "#0d0887"
            ],
            [
             0.1111111111111111,
             "#46039f"
            ],
            [
             0.2222222222222222,
             "#7201a8"
            ],
            [
             0.3333333333333333,
             "#9c179e"
            ],
            [
             0.4444444444444444,
             "#bd3786"
            ],
            [
             0.5555555555555556,
             "#d8576b"
            ],
            [
             0.6666666666666666,
             "#ed7953"
            ],
            [
             0.7777777777777778,
             "#fb9f3a"
            ],
            [
             0.8888888888888888,
             "#fdca26"
            ],
            [
             1,
             "#f0f921"
            ]
           ]
          },
          "colorway": [
           "#636efa",
           "#EF553B",
           "#00cc96",
           "#ab63fa",
           "#FFA15A",
           "#19d3f3",
           "#FF6692",
           "#B6E880",
           "#FF97FF",
           "#FECB52"
          ],
          "font": {
           "color": "#2a3f5f"
          },
          "geo": {
           "bgcolor": "white",
           "lakecolor": "white",
           "landcolor": "#E5ECF6",
           "showlakes": true,
           "showland": true,
           "subunitcolor": "white"
          },
          "hoverlabel": {
           "align": "left"
          },
          "hovermode": "closest",
          "mapbox": {
           "style": "light"
          },
          "paper_bgcolor": "white",
          "plot_bgcolor": "#E5ECF6",
          "polar": {
           "angularaxis": {
            "gridcolor": "white",
            "linecolor": "white",
            "ticks": ""
           },
           "bgcolor": "#E5ECF6",
           "radialaxis": {
            "gridcolor": "white",
            "linecolor": "white",
            "ticks": ""
           }
          },
          "scene": {
           "xaxis": {
            "backgroundcolor": "#E5ECF6",
            "gridcolor": "white",
            "gridwidth": 2,
            "linecolor": "white",
            "showbackground": true,
            "ticks": "",
            "zerolinecolor": "white"
           },
           "yaxis": {
            "backgroundcolor": "#E5ECF6",
            "gridcolor": "white",
            "gridwidth": 2,
            "linecolor": "white",
            "showbackground": true,
            "ticks": "",
            "zerolinecolor": "white"
           },
           "zaxis": {
            "backgroundcolor": "#E5ECF6",
            "gridcolor": "white",
            "gridwidth": 2,
            "linecolor": "white",
            "showbackground": true,
            "ticks": "",
            "zerolinecolor": "white"
           }
          },
          "shapedefaults": {
           "line": {
            "color": "#2a3f5f"
           }
          },
          "ternary": {
           "aaxis": {
            "gridcolor": "white",
            "linecolor": "white",
            "ticks": ""
           },
           "baxis": {
            "gridcolor": "white",
            "linecolor": "white",
            "ticks": ""
           },
           "bgcolor": "#E5ECF6",
           "caxis": {
            "gridcolor": "white",
            "linecolor": "white",
            "ticks": ""
           }
          },
          "title": {
           "x": 0.05
          },
          "xaxis": {
           "automargin": true,
           "gridcolor": "white",
           "linecolor": "white",
           "ticks": "",
           "title": {
            "standoff": 15
           },
           "zerolinecolor": "white",
           "zerolinewidth": 2
          },
          "yaxis": {
           "automargin": true,
           "gridcolor": "white",
           "linecolor": "white",
           "ticks": "",
           "title": {
            "standoff": 15
           },
           "zerolinecolor": "white",
           "zerolinewidth": 2
          }
         }
        },
        "xaxis": {
         "anchor": "y",
         "domain": [
          0,
          1
         ],
         "title": {
          "text": "Weight"
         }
        },
        "yaxis": {
         "anchor": "x",
         "domain": [
          0,
          1
         ]
        }
       }
      }
     },
     "metadata": {},
     "output_type": "display_data"
    },
    {
     "data": {
      "application/vnd.plotly.v1+json": {
       "config": {
        "plotlyServerURL": "https://plot.ly"
       },
       "data": [
        {
         "alignmentgroup": "True",
         "hovertemplate": "Price=%{x}<extra></extra>",
         "legendgroup": "",
         "marker": {
          "color": "#636efa"
         },
         "name": "",
         "notched": false,
         "offsetgroup": "",
         "orientation": "h",
         "showlegend": false,
         "type": "box",
         "x": [
          11.175754549129524,
          10.77677731765335,
          10.329931067029484,
          11.814475944954545,
          11.473100972779063,
          9.967025573340116,
          11.64410811545818,
          11.03061499223515,
          11.28544251205692,
          10.621951541079865,
          9.951658096208996,
          9.81907645733616,
          11.775302049361828,
          10.187966701099125,
          11.116330976323743,
          11.301072237406668,
          10.588945244611692,
          11.933438384721946,
          10.188167121983652,
          10.862092668762644,
          9.232535429245788,
          10.882315804880689,
          9.528520611153752,
          10.683645110085203,
          10.46628456073464,
          10.012572388296086,
          10.977716980635757,
          10.660172753900062,
          11.144140923496169,
          10.773501439207063,
          9.476778419617322,
          9.268865850956626,
          10.060060439307303,
          11.508719833687696,
          10.881314302543595,
          9.49301392269684,
          9.880922874286703,
          10.862092668762644,
          10.167289367847482,
          10.754345923917311,
          9.93914036985058,
          11.288114524334732,
          10.235123369655367,
          10.500590684075595,
          10.882315804880689,
          11.233268703392175,
          9.88635767027266,
          11.144911042902732,
          10.435465480609668,
          10.11974666035778,
          9.74075212901698,
          10.71015268620508,
          9.963243430044656,
          10.981350045485636,
          9.92620357881986,
          10.619090308798832,
          10.060060439307303,
          10.349204995339194,
          11.7789960831843,
          10.003839546462832,
          11.144911042902732,
          10.754345923917311,
          10.370822624347584,
          10.822504165817511,
          10.51225262382344,
          11.56792715475193,
          10.059354039524033,
          9.409283029786373,
          10.283659467741664,
          10.83096982484206,
          10.968576149165091,
          10.837272366712863,
          10.744054237880762,
          10.974070668482735,
          9.93914036985058,
          10.83096982484206,
          10.227464909398025,
          10.726662495168894,
          10.2484380327783,
          10.860047678274915,
          10.975129468486722,
          11.295425956041104,
          10.732493415479688,
          9.964522443121997,
          9.954446791133256,
          11.18267988243989,
          10.525211768465944,
          10.370805929717411,
          11.254189968552817,
          11.383485348791732,
          10.525211768465944,
          10.510802297245792,
          11.063134731790107,
          11.061462490597744,
          10.931153634628432,
          10.717261720884188,
          10.37232400089118,
          10.159709917169616,
          10.333403292740233,
          11.105659536357711,
          10.55342238395318,
          9.83063294843456,
          10.447907320733034,
          10.99575173454406,
          11.17598591917709,
          10.46628456073464,
          10.003598553570956,
          11.05978744833005,
          11.144911042902732,
          11.275358392990295,
          11.116014069333293,
          11.204674904025437,
          11.219074000897615,
          10.55758616512496,
          11.37128263483418,
          11.219066852909238,
          10.963974208231726,
          11.005825930702713,
          10.310615277730191,
          10.994857679947176,
          10.147261623643049,
          11.690461589827628,
          10.419692282932576,
          11.123120297421588,
          10.087028365734811,
          9.532389087931673,
          10.675061366393813,
          9.603146168052769,
          11.216927309554451,
          10.808592759018332,
          10.435449831034946,
          10.082583913974387,
          10.760018088869778,
          10.324700017611931,
          10.369151780182763,
          10.87124372398,
          9.506417665734745,
          10.81931097523836,
          10.188167121983652,
          10.525211768465944,
          10.460196261867386,
          10.99308509015976,
          10.742904151497523,
          10.375818471540954,
          9.88635767027266,
          10.977716980635757,
          11.583439099510642,
          9.816202683605532,
          11.590859366057948,
          10.078119620845705,
          11.105867681227291,
          10.776844060703754,
          10.186161103256786,
          11.51989313428582,
          10.96212748563856,
          10.403666298916727,
          10.419692282932576,
          11.157152970844,
          10.931153634628432,
          10.078119620845705,
          9.974497588178815,
          10.666403303650696,
          10.56586207442882,
          10.959350991490268,
          9.827763506006608,
          11.470547260182666,
          9.871367833143674,
          10.942047370678033,
          10.725492220020705,
          10.60095339424009,
          11.18267988243989,
          10.525211768465944,
          9.70890230312988,
          10.167923515707006,
          10.803190260734986,
          10.104611236292678,
          10.082583913974387,
          11.912578515747589,
          10.676292135779944,
          11.288114524334732,
          10.931153634628432,
          11.219074000897615,
          11.49796125761926,
          10.651384247866982,
          11.064804181259648,
          11.320925866649002,
          11.757534260666516,
          10.633572072102885,
          10.872255357854844,
          10.964896292206694,
          11.921470624845266,
          9.536242657247662,
          10.883216300213936,
          10.523780128994506,
          10.70777173269934,
          10.793391597686284,
          12.69144112852859,
          10.841452101115571,
          11.204674904025437,
          10.927333190631044,
          11.495795582706762,
          10.176070200274824,
          10.584910269399517,
          11.442360501250736,
          12.000095897837827,
          11.21835894902589,
          10.060060439307303,
          11.550632725739694,
          11.254189968552817,
          10.367478139624737,
          10.633572072102885,
          11.224776083346525,
          9.83063294843456,
          10.283659467741664,
          11.288114524334732,
          10.812765077263236,
          10.35398720988372,
          10.913845510249091,
          11.02220830408089,
          11.129394827810977,
          10.49374915225888,
          10.776844060703754,
          11.193004457928666,
          10.65264448747927,
          11.781988742399806,
          10.699393467053342,
          10.731341589592168,
          10.620651995737775,
          10.767905453702944,
          11.12154549394652,
          9.964497380151284,
          9.77465368069266,
          11.288114524334732,
          10.73132994821639,
          10.510802297245792,
          10.776844060703754,
          9.941707765355826,
          10.329931067029484,
          12.241725462844624,
          10.716080385838357,
          10.35398720988372,
          11.018720942220474,
          10.765658261746038,
          10.754345923917311,
          10.959350991490268,
          10.868202667404224,
          10.301710499387234,
          11.981595204981144,
          10.490273717104664,
          11.596266113070396,
          10.683645110085203,
          11.470547260182666,
          10.126163794678414,
          11.49796125761926,
          10.529494430257945,
          10.83096982484206,
          10.075655737865564,
          10.94064137183354,
          11.799206957067089,
          11.413356147904066,
          11.016097416448089,
          10.07138558866436,
          10.55758616512496,
          10.463245044716745,
          10.312386757378574,
          10.658921971998408,
          11.288114524334732,
          10.121890283901031,
          10.901156223342602,
          10.755482933704386,
          11.555699396421488,
          11.320925866649002,
          10.57552675900535,
          11.799206957067089,
          10.675061366393813,
          10.545140618545505,
          10.977716980635757,
          10.588945244611692,
          10.167923515707006,
          10.71962021254348,
          10.73132994821639,
          10.034684221813931,
          10.695781181367428,
          10.336863503805128,
          10.833075088777523,
          10.46628456073464,
          10.975895486507364,
          10.860047678274915,
          11.047982926769505,
          10.466299735126338,
          9.268865850956626,
          11.0547454208418,
          10.167923515707006,
          11.487085674623,
          10.580858947180335,
          11.144911042902732,
          10.862092668762644,
          11.942792677133784,
          10.188167121983652,
          11.267217235406594,
          10.208009042782656,
          11.635675345406062,
          10.450993742936223,
          10.283659467741664,
          11.118388427393754,
          9.861637279518702,
          11.563884703567355,
          10.925417481232904,
          10.683645110085203,
          10.126163794678414,
          10.882315804880689,
          11.799206957067089,
          11.624777346052769,
          10.126163794678414,
          9.592332123898704,
          10.71371352082809,
          11.7789960831843,
          10.106570100778011,
          10.863113597896753,
          10.159709917169616,
          11.13950771057468,
          10.35398720988372,
          10.97315700921406,
          10.780175546294757,
          10.46628456073464,
          9.652314828500415,
          10.283659467741664,
          10.93201122675303,
          11.172247597066484,
          11.853716362735458,
          11.064804181259648,
          10.82462730886559,
          11.171498252707703,
          10.082583913974387,
          10.882315804880689,
          11.120757161229305,
          10.931153634628432,
          11.017847198171877,
          9.592295759601168,
          11.016753943443987,
          9.591968421403331,
          10.776844060703754,
          10.54924119319278,
          11.624777346052769,
          11.340108040487776,
          11.004648590381796,
          9.6067728080535,
          11.358282600039752,
          9.902487052202543,
          10.472336016417996,
          11.590080353983309,
          11.148752768718731,
          11.226196538130814,
          11.436206670969892,
          11.221929106334594,
          10.853784502608232,
          9.750081515393676,
          10.882315804880689,
          10.298790318518323,
          11.23889064370897,
          10.060060439307303,
          10.826745953725876,
          10.55342238395318,
          10.435465480609668,
          10.188167121983652,
          9.93914036985058,
          10.964896292206694,
          10.671359943290623,
          10.776844060703754,
          11.442932093149691,
          10.977716980635757,
          10.030000372501505,
          11.671319016786894,
          10.167923515707006,
          10.742915658911176,
          10.167903065600154,
          10.290919027754468,
          9.70890230312988,
          9.631552837051986,
          10.716080385838357,
          11.058109595587434,
          9.975737513942136,
          11.387117314043296,
          10.977716980635757,
          11.44230332408728,
          11.708368556654154,
          10.283659467741664,
          11.197396851520583,
          11.64178295189486,
          11.803200572598556,
          10.921575017331362,
          11.34767905456992,
          10.518018577413224,
          11.18267988243989,
          10.633405177560588,
          10.188167121983652,
          11.08997268702302,
          10.81931097523836,
          11.88100267529242,
          11.84839720125786,
          9.699146128184514,
          11.307930232161196,
          11.018284165624754,
          10.754345923917311,
          11.69380197819145,
          11.510857728676225,
          11.44121633636619,
          11.402110098629436,
          9.989276182274937,
          9.694067896286716,
          11.53824227295402,
          11.547549475609571,
          10.126163794678414,
          10.64634002126892,
          10.808592759018332,
          10.37065566550255,
          10.510802297245792,
          11.288781413322436,
          10.267037568910904,
          11.078373090310093,
          11.52464373704442,
          10.082583913974387,
          11.23889064370897,
          10.367478139624737,
          11.912578515747589,
          11.030873869571886,
          11.016447617817454,
          10.977716980635757,
          11.575963360732532,
          9.67600459962282,
          9.570272405833974,
          10.89326663606744,
          10.370822624347584,
          11.777361428141106,
          11.7789960831843,
          11.410999046046683,
          9.824885806178992,
          11.671319016786894,
          11.75125677614738,
          10.301710499387234,
          10.227464909398025,
          10.594300009749354,
          11.240291204162,
          9.83063294843456,
          10.977716980635757,
          11.047982926769505,
          10.066418317218153,
          11.572957346444928,
          10.910678521970082,
          11.83458800598367,
          10.35398720988372,
          11.563884703567355,
          11.311195008159336,
          11.179710318268071,
          10.862092668762644,
          10.147261623643049,
          11.599202972743706,
          10.872255357854844,
          11.470547260182666,
          10.436872940377548,
          10.274510273088076,
          10.050907057320815,
          10.594300009749354,
          10.658921971998408,
          11.62048037119099,
          9.692588727638356,
          10.126163794678414,
          10.607562803627763,
          11.413356147904066,
          11.502816945605918,
          11.575963360732532,
          11.026550473300178,
          11.12626248382466,
          11.494086806506765,
          11.144911042902732,
          10.58221121243035,
          11.762112832660844,
          11.19373786463554,
          10.490273717104664,
          11.39733681987678,
          11.116014069333293,
          10.349904182775484,
          10.56311104105693,
          9.49261223560568,
          10.312386757378574,
          10.931153634628432,
          11.732612168264149,
          11.52464373704442,
          11.4699912412637,
          11.551145677789926,
          10.895234994607796,
          11.912578515747589,
          11.18342089766461,
          10.336863503805128,
          11.12154549394652,
          10.977716980635757,
          10.776732819811487,
          11.442360501250736,
          10.83096982484206,
          10.790103923492092,
          9.80450664384234,
          10.403650143697382,
          11.352694739066088,
          9.67600459962282,
          9.555290852218356,
          10.83096982484206,
          11.085440489304403,
          10.393925962168344,
          11.16321819034709,
          11.02220830408089,
          10.776844060703754,
          10.435465480609668,
          10.704189639316835,
          11.081544019025282,
          11.219752826912,
          9.47681923677686,
          10.232212772652003,
          11.971204630519404,
          10.765658261746038,
          11.291444530741918,
          11.219074000897615,
          11.219074000897615,
          11.129965423395353,
          10.510802297245792,
          10.765658261746038,
          11.17598591917709,
          10.658921971998408,
          10.104611236292678,
          10.34717287346399,
          11.203223524960787,
          11.98617622657084,
          10.732493415479688,
          11.144911042902732,
          9.88635767027266,
          11.383485348791732,
          11.197396851520583,
          10.656930001858216,
          9.964497380151284,
          11.470547260182666,
          10.73132994821639,
          11.219074000897615,
          10.576614498925236,
          11.018720942220474,
          10.657669623681942,
          9.83063294843456,
          10.534467797525002,
          10.641244744014545,
          10.11188320625578,
          9.959497306919324,
          11.430859511915424,
          10.188167121983652,
          10.993953872709785,
          11.876197639250138,
          10.274785970374204,
          11.130176383145796,
          9.387207078087174,
          9.51682457139056,
          10.83096982484206,
          10.319265697988737,
          10.401887658299067,
          9.83063294843456,
          10.421280845617712,
          11.558808550535495,
          11.981595204981144,
          10.70777173269934,
          11.352694739066088,
          10.841452101115571,
          10.580858947180335,
          9.816202683605532,
          10.87326596936077,
          11.504424909404817,
          9.93914036985058,
          10.450993742936223,
          10.696986727022775,
          10.50497986449436,
          9.49301392269684,
          11.50657735831005,
          11.862769612046066,
          11.887251546940472,
          10.594313360795072,
          9.93914036985058,
          10.89180021486258,
          10.55342238395318,
          11.313402478637911,
          9.662536382571954,
          11.737306010891048,
          11.2874471903093,
          11.397934727218958,
          10.38737929394203,
          11.454295851800008,
          10.580858947180335,
          10.83096982484206,
          10.37747822295932,
          11.413356147904066,
          10.246549458090431,
          10.104611236292678,
          11.588886005772771,
          11.271296098981416,
          11.396139931642937,
          11.450333208630004,
          11.081347155713406,
          10.480567504600335,
          9.771618776997505,
          11.671319016786894,
          10.11759843181949,
          11.715790550995315,
          11.219074000897615,
          10.310615277730191,
          11.144911042902732,
          9.83063294843456,
          12.472347407870709,
          10.754357300416876,
          10.071160338072124,
          9.858883414720411,
          10.742904151497523,
          11.038609189620306,
          10.319441460358464,
          11.211900368986475,
          11.702152960779438,
          9.91309723131456,
          11.00021005668577,
          11.265171547683302,
          10.629713546415353,
          10.658921971998408,
          10.812893840917726,
          10.776844060703754,
          9.452024578163645,
          10.12402932214978,
          10.435481129939486,
          11.482152806302976,
          11.525170191386666,
          11.274682488942933,
          10.695781181367428,
          10.336863503805128,
          9.964522443121997,
          10.785284424941176,
          11.508719833687696,
          9.49301392269684,
          11.44716312967751,
          11.758368289071829,
          10.9867750135825,
          10.23111911098328,
          11.779404329770909,
          11.039464987704202,
          10.084808608996498,
          9.588689132620203,
          10.79884714858782,
          11.838443060873624,
          11.076412935176185,
          11.343269598606504,
          11.912578515747589,
          10.53941655276426,
          11.254810893751282,
          11.058781074545012,
          9.875184369674535,
          10.945351696133724,
          10.79884714858782,
          11.009948956147635,
          11.06229896074271,
          12.029883488676532,
          11.089517135798168,
          10.013431946154272,
          10.25782777312814,
          10.265276597141131,
          11.27992228688911,
          10.186161103256786,
          10.837272366712863,
          10.588945244611692,
          11.11283946349252,
          9.99658437558166,
          11.508104342010856,
          10.682362236272311,
          10.916751081300507,
          9.83063294843456,
          10.525211768465944,
          11.14105450129298,
          11.009948956147635,
          10.180118788800824,
          11.715790550995315,
          11.144911042902732,
          10.8812140971224,
          10.013431946154272,
          11.601643784304514,
          10.525211768465944,
          11.288114524334732,
          11.917834418453076,
          10.393289544363068,
          10.277575423651992,
          10.319441460358464,
          9.73761240901231,
          9.902487052202543,
          10.525211768465944,
          11.529366637136484,
          11.834974180925718,
          10.85594510841814,
          9.570272405833974,
          11.442360501250736,
          10.481345086360362,
          11.512991062818642,
          10.510802297245792,
          10.683645110085203,
          9.964522443121997,
          10.03701794516015,
          10.407616483423654,
          10.084808608996498,
          10.653903140886465,
          10.882315804880689,
          11.50120100127367,
          11.058109595587434,
          10.460211528926417,
          11.105659536357711,
          10.968576149165091,
          10.56311104105693,
          9.672654512737536,
          11.238652353231751,
          10.729080621774308,
          11.047982926769505,
          9.672654512737536,
          9.555290852218356,
          11.065637862008224,
          11.406054689443872,
          10.704907085240231,
          11.288114524334732,
          12.1806155047626,
          11.182294337407903,
          10.169762314876662,
          10.55342238395318,
          10.450993742936223,
          10.354869672690878,
          10.167923515707006,
          11.543423631696015,
          10.450993742936223,
          10.452533389121816,
          10.301710499387234,
          10.842494310694017,
          10.633572072102885,
          11.76667053684216,
          10.46628456073464,
          11.6226216177553,
          9.993667504286536,
          11.071454247329664,
          10.475348066887989,
          11.311846686253432,
          10.882315804880689,
          12.076935697460716,
          9.77465368069266,
          11.383485348791732,
          10.265276597141131,
          11.002618186839925,
          12.362417715920367,
          10.138875830266777,
          11.525170191386666,
          10.336863503805128,
          10.974983493740094,
          10.720679721736714,
          11.064804181259648,
          10.977716980635757,
          11.328642946747566,
          11.937276356672394,
          10.370822624347584,
          10.93019989111312,
          11.503355013953575,
          11.32736089528991,
          11.004648590381796,
          10.71962021254348,
          10.460196261867386,
          10.12901686366082,
          10.977716980635757,
          11.352694739066088,
          9.672654512737536,
          11.049906436113686,
          11.470547260182666,
          10.90311893251045,
          10.977716980635757,
          11.101648299531258,
          10.70777173269934,
          11.74620626036131,
          10.430759589572256,
          11.947682155153789,
          10.34185963789476,
          12.161134189998078,
          11.737731633370338,
          11.45090026279887,
          9.771618776997505,
          11.715790550995315,
          11.520422094890591,
          10.968576149165091,
          10.882315804880689,
          11.715790550995315,
          10.868202667404224,
          11.175239371923306,
          9.288274273063903,
          11.561349847964168,
          10.841452101115571,
          11.036037392231934,
          11.72918457279188,
          9.67600459962282,
          10.67259527389862,
          11.18267988243989,
          10.580858947180335,
          11.608398104304564,
          10.977716980635757,
          11.288114524334732,
          11.442360501250736,
          10.587602061065226,
          11.211900368986475,
          10.634854945915771,
          10.419692282932576,
          11.401514683309674,
          10.38737929394203,
          11.442360501250736,
          11.765015592318807,
          11.288114524334732,
          10.843535435202426,
          10.647353436437802,
          11.503355013953575,
          11.470547260182666,
          9.928804360519916,
          11.801613023751164,
          10.602278775481158,
          10.169762314876662,
          10.969494001455322,
          11.799206957067089,
          11.064804181259648,
          11.511924964636645,
          10.188167121983652,
          11.189329334350775,
          10.34717287346399,
          9.84767881570755,
          10.403666298916727,
          12.587882562739948,
          11.624777346052769,
          10.227464909398025,
          11.053902605789805,
          11.38409159312676,
          11.903833710189655,
          11.76667053684216,
          10.481345086360362,
          9.759386208561873,
          10.3556835631319,
          11.470547260182666,
          12.0059347920825,
          10.78900562574303,
          10.546429982871398,
          11.509254736080766,
          10.580858947180335,
          10.397183294038651,
          10.908984051962848,
          11.706175092295874,
          11.267217235406594,
          9.67600459962282,
          11.52464373704442,
          10.738290533164012,
          11.526747893528285,
          10.643789274649537,
          10.826745953725876,
          10.082583913974387,
          11.822932862391925,
          10.450993742936223,
          10.126163794678414,
          10.7215735450074,
          11.18267988243989,
          11.134075023561454,
          10.900173422280696,
          11.68979217108122,
          10.78900562574303,
          10.974070668482735,
          11.551145677789926,
          10.780175546294757,
          11.458805442305984,
          10.9368570721423,
          10.147261623643049,
          11.211180167298885,
          10.575431525444971,
          11.49796125761926,
          11.408044834149251,
          9.964497380151284,
          10.81610755552082,
          10.79174911168878,
          10.70777173269934,
          11.41394455627644,
          10.504687851059666,
          9.827763506006608,
          10.481345086360362,
          9.88635767027266,
          11.470547260182666,
          10.09739572450197,
          11.198054049689478,
          9.669293165034832,
          9.91309723131456,
          11.118388427393754,
          11.219074000897615,
          11.413356147904066,
          11.470547260182666,
          11.857498515504204,
          11.271974295006054,
          10.809669765045973,
          10.777955789556444,
          10.395555954379276,
          10.81610755552082,
          11.582992127736915,
          11.129394827810977,
          11.383485348791732,
          11.600668174471034,
          11.557785126252114,
          11.624777346052769,
          11.277383368370064,
          9.858883414720411,
          10.646327347078008,
          11.52464373704442,
          11.06979587215689,
          12.01471841670537,
          10.646327347078008,
          10.902128245864017,
          10.188167121983652,
          10.756618652168314,
          10.842494310694017,
          11.352694739066088,
          11.18267988243989,
          10.996564630149608,
          10.504965265847654,
          11.143362500418624,
          11.02220830408089,
          11.563884703567355,
          11.484896292248726,
          10.56846856468972,
          11.38409159312676,
          11.036037392231934,
          10.538089862097848,
          11.02220830408089,
          9.70890230312988,
          11.340108040487776,
          9.641641633704324,
          11.470547260182666,
          10.983161640183988,
          11.395540949893968,
          10.30099467974321,
          11.064804181259648,
          11.377402604975964,
          11.89782208458538,
          11.219074000897615,
          10.2484380327783,
          10.403666298916727,
          10.99575173454406,
          11.144911042902732,
          10.882315804880689,
          11.27007418585674,
          10.50497986449436,
          10.46628456073464,
          9.83063294843456,
          11.69380197819145,
          11.45711672814165,
          11.261752740934517,
          11.030873869571886,
          11.281414342976868,
          12.031987793755118,
          11.52464373704442,
          10.62842405558548,
          11.120757161229305,
          9.93914036985058,
          11.311846686253432,
          11.448630114264333,
          10.892276046585742,
          11.465531925066934,
          10.716671227805325,
          10.118930877053268,
          10.690944412566814,
          10.50497986449436,
          12.030401247333158,
          10.519472871796928,
          11.52464373704442,
          11.55778003196968,
          11.91293572239543,
          11.048830743691845,
          11.601107316686976,
          10.862092668762644,
          10.885314307876945,
          11.470547260182666,
          10.336863503805128,
          11.442360501250736,
          11.144911042902732,
          11.061462490597744,
          10.283659467741664,
          10.450993742936223,
          10.794485091507656,
          10.370822624347584,
          10.667644768738764,
          11.056428922922915,
          10.594300009749354,
          10.99575173454406,
          11.529371878240363,
          10.188167121983652,
          9.576276649067632,
          11.18267988243989,
          10.765658261746038,
          11.02307824758943,
          11.18267988243989,
          9.915732278952564,
          11.470547260182666,
          11.6200017877887,
          11.114428026177658,
          11.056428922922915,
          10.280009828654116,
          10.633572072102885,
          11.061462490597744,
          10.978617394068182,
          11.06979587215689,
          11.254189968552817,
          10.931401459017524,
          10.503518943854685,
          10.83096982484206,
          11.314449160071012,
          11.34705032144641,
          11.518415853167008,
          10.660172753900062,
          11.07393666482292,
          10.621938553982543,
          11.971204630519404,
          11.28209242517164,
          11.684869359618002,
          10.655147649183531,
          11.34705032144641,
          11.02220830408089,
          11.053421883178572,
          10.928710232504155,
          11.32736089528991,
          11.056428922922915,
          10.941585213338248,
          11.368208546953756,
          10.9602773463504,
          10.85594510841814,
          9.989276182274937,
          11.058781074545012,
          11.061462490597744,
          11.089508999068563,
          11.18267988243989,
          10.584910269399517,
          11.428543355697592,
          10.944364366779205,
          10.893771459117888,
          10.717261720884188,
          9.326470842899342,
          11.237488118934884,
          10.93172544442196,
          10.88331630521427,
          11.626842862666368,
          11.26789820240601,
          11.318754369272693,
          11.711863755958657,
          9.638174223850264,
          11.846490622987275,
          10.862092668762644,
          10.97315700921406,
          10.862092668762644,
          11.696022720831856,
          10.533971572370383,
          10.188167121983652,
          10.082583913974387,
          11.144911042902732,
          11.481603204750256,
          10.950974953688084,
          10.881314302543595,
          10.301710499387234,
          10.873255868299651,
          11.540318039137862,
          11.260381938800736,
          12.263341053320566,
          10.657682154931749,
          11.167743084945378,
          11.145680569681762,
          10.15346364564591,
          11.064804181259648,
          11.064804181259648,
          10.969494001455322,
          11.421848531521595,
          10.46628456073464,
          10.860047678274915,
          11.799206957067089,
          10.267130165790451,
          10.821440901496183,
          11.219074000897615,
          12.05888963501851,
          10.446778399351528,
          11.600668174471034,
          10.59563423276249,
          10.913835810881007,
          11.28544251205692,
          11.064804181259648,
          10.397183294038651,
          9.933985719261916,
          9.950616680806068,
          9.82197089913809,
          11.352694739066088,
          10.682851144184026,
          11.352694739066088,
          10.658921971998408,
          10.435152442572992,
          11.352694739066088,
          10.190169124654323,
          11.715790550995315,
          11.010081106005767,
          11.037726951247386,
          9.317895278196945,
          11.947682155153789,
          11.064804181259648,
          11.229102177820836,
          11.296213725139731,
          10.740600003012675,
          9.962013031516571,
          11.175239371923306,
          11.413356147904066,
          10.620847035233894,
          10.03701794516015,
          11.56084210487126,
          10.283659467741664,
          11.204674904025437,
          11.894913580522502,
          10.911903762066183,
          11.683522558067624,
          11.155242401621267,
          9.253675685462651,
          11.408044834149251,
          11.29741074002049,
          10.236346354272076,
          10.050907057320815,
          11.395540949893968,
          10.147261623643049,
          11.52253514374866,
          10.872255357854844,
          11.004648590381796,
          10.419692282932576,
          11.601341447040118,
          9.60318213992277,
          10.598297350181973,
          10.398807989765654,
          10.977716980635757,
          12.256879973855344,
          10.639970046582542,
          11.758368289071829,
          11.658835785532077,
          11.775314344519382,
          11.016797696588752,
          11.37128263483418,
          11.684869359618002,
          11.470547260182666,
          11.52464373704442,
          11.71489846116146,
          10.893167621264643,
          11.340108040487776,
          11.733039792816312,
          9.801561133612584,
          9.669293165034832,
          10.370822624347584,
          11.064804181259648,
          11.694548697992886,
          10.147031952176633,
          11.283969856325212,
          11.715790550995315,
          10.645680750246626,
          11.596756189041978,
          11.288114524334732,
          11.45373072039192,
          10.776844060703754,
          10.104611236292678,
          10.143056552540132,
          11.2874471903093,
          11.212620052356872,
          10.12402932214978,
          9.49301392269684,
          10.70777173269934,
          10.49618215379083,
          11.030873869571886,
          9.88635767027266,
          9.962013031516571,
          10.53941655276426,
          10.620651995737775,
          10.690944412566814,
          11.149519345988928,
          11.650350362059475,
          10.452533389121816,
          11.37618160360327,
          10.698190821087582,
          10.772395917628929,
          9.783703516212578,
          10.658921971998408,
          10.787906120409612,
          11.047982926769505,
          10.513700849999804,
          10.977716980635757,
          11.838443060873624,
          10.683645110085203,
          10.159709917169616,
          11.034319178750795,
          11.064804181259648,
          11.166237060564342,
          9.883643964401063,
          11.648784147353842,
          9.58136309252813,
          11.600619368985289,
          10.188167121983652,
          10.419692282932576,
          11.134075023561454,
          11.869133099737036,
          11.039464987704202,
          10.765658261746038,
          10.336863503805128,
          9.67600459962282,
          10.419692282932576,
          11.7789960831843,
          11.129394827810977,
          11.442360501250736,
          11.550627594890203,
          10.882315804880689,
          11.550632725739694,
          9.134616325446665,
          10.369151780182763,
          10.265276597141131,
          11.1239067701322,
          11.02220830408089,
          11.307930232161196,
          11.272726554360904,
          10.246549458090431,
          11.421778496562451,
          10.208009042782656,
          9.70890230312988,
          11.273329308763511,
          10.23296037890921,
          10.911903762066183,
          11.02220830408089,
          11.38409159312676,
          12.135793518599822,
          10.126185116412724,
          11.352069152558354,
          10.841452101115571,
          10.14517175872359,
          11.670950599679989,
          10.578148918421473,
          11.039464987704202,
          11.288114524334732,
          10.368432457987426,
          11.130176383145796,
          9.866652599193328,
          11.470547260182666,
          10.978617394068182,
          11.353319934460009,
          10.749784912589748,
          11.727036344253593,
          10.326446742946873,
          11.478299236986985,
          9.756304542024465,
          9.964522443121997,
          10.319441460358464,
          10.952842367862882,
          10.0713630658882,
          9.801561133612584,
          11.525170191386666,
          10.169966417336806,
          10.772384744506988,
          11.089517135798168,
          10.70060667312884,
          10.567234758240792,
          10.104611236292678,
          9.641987714344566,
          9.91309723131456,
          10.776844060703754,
          10.285461122475176,
          10.667632361713904,
          9.317895278196945,
          10.5552565839505,
          10.433899309576924,
          11.288114524334732,
          9.409283029786373,
          10.614128815398654
         ],
         "x0": " ",
         "xaxis": "x",
         "y0": " ",
         "yaxis": "y"
        }
       ],
       "layout": {
        "boxmode": "group",
        "legend": {
         "tracegroupgap": 0
        },
        "margin": {
         "t": 60
        },
        "template": {
         "data": {
          "bar": [
           {
            "error_x": {
             "color": "#2a3f5f"
            },
            "error_y": {
             "color": "#2a3f5f"
            },
            "marker": {
             "line": {
              "color": "#E5ECF6",
              "width": 0.5
             },
             "pattern": {
              "fillmode": "overlay",
              "size": 10,
              "solidity": 0.2
             }
            },
            "type": "bar"
           }
          ],
          "barpolar": [
           {
            "marker": {
             "line": {
              "color": "#E5ECF6",
              "width": 0.5
             },
             "pattern": {
              "fillmode": "overlay",
              "size": 10,
              "solidity": 0.2
             }
            },
            "type": "barpolar"
           }
          ],
          "carpet": [
           {
            "aaxis": {
             "endlinecolor": "#2a3f5f",
             "gridcolor": "white",
             "linecolor": "white",
             "minorgridcolor": "white",
             "startlinecolor": "#2a3f5f"
            },
            "baxis": {
             "endlinecolor": "#2a3f5f",
             "gridcolor": "white",
             "linecolor": "white",
             "minorgridcolor": "white",
             "startlinecolor": "#2a3f5f"
            },
            "type": "carpet"
           }
          ],
          "choropleth": [
           {
            "colorbar": {
             "outlinewidth": 0,
             "ticks": ""
            },
            "type": "choropleth"
           }
          ],
          "contour": [
           {
            "colorbar": {
             "outlinewidth": 0,
             "ticks": ""
            },
            "colorscale": [
             [
              0,
              "#0d0887"
             ],
             [
              0.1111111111111111,
              "#46039f"
             ],
             [
              0.2222222222222222,
              "#7201a8"
             ],
             [
              0.3333333333333333,
              "#9c179e"
             ],
             [
              0.4444444444444444,
              "#bd3786"
             ],
             [
              0.5555555555555556,
              "#d8576b"
             ],
             [
              0.6666666666666666,
              "#ed7953"
             ],
             [
              0.7777777777777778,
              "#fb9f3a"
             ],
             [
              0.8888888888888888,
              "#fdca26"
             ],
             [
              1,
              "#f0f921"
             ]
            ],
            "type": "contour"
           }
          ],
          "contourcarpet": [
           {
            "colorbar": {
             "outlinewidth": 0,
             "ticks": ""
            },
            "type": "contourcarpet"
           }
          ],
          "heatmap": [
           {
            "colorbar": {
             "outlinewidth": 0,
             "ticks": ""
            },
            "colorscale": [
             [
              0,
              "#0d0887"
             ],
             [
              0.1111111111111111,
              "#46039f"
             ],
             [
              0.2222222222222222,
              "#7201a8"
             ],
             [
              0.3333333333333333,
              "#9c179e"
             ],
             [
              0.4444444444444444,
              "#bd3786"
             ],
             [
              0.5555555555555556,
              "#d8576b"
             ],
             [
              0.6666666666666666,
              "#ed7953"
             ],
             [
              0.7777777777777778,
              "#fb9f3a"
             ],
             [
              0.8888888888888888,
              "#fdca26"
             ],
             [
              1,
              "#f0f921"
             ]
            ],
            "type": "heatmap"
           }
          ],
          "heatmapgl": [
           {
            "colorbar": {
             "outlinewidth": 0,
             "ticks": ""
            },
            "colorscale": [
             [
              0,
              "#0d0887"
             ],
             [
              0.1111111111111111,
              "#46039f"
             ],
             [
              0.2222222222222222,
              "#7201a8"
             ],
             [
              0.3333333333333333,
              "#9c179e"
             ],
             [
              0.4444444444444444,
              "#bd3786"
             ],
             [
              0.5555555555555556,
              "#d8576b"
             ],
             [
              0.6666666666666666,
              "#ed7953"
             ],
             [
              0.7777777777777778,
              "#fb9f3a"
             ],
             [
              0.8888888888888888,
              "#fdca26"
             ],
             [
              1,
              "#f0f921"
             ]
            ],
            "type": "heatmapgl"
           }
          ],
          "histogram": [
           {
            "marker": {
             "pattern": {
              "fillmode": "overlay",
              "size": 10,
              "solidity": 0.2
             }
            },
            "type": "histogram"
           }
          ],
          "histogram2d": [
           {
            "colorbar": {
             "outlinewidth": 0,
             "ticks": ""
            },
            "colorscale": [
             [
              0,
              "#0d0887"
             ],
             [
              0.1111111111111111,
              "#46039f"
             ],
             [
              0.2222222222222222,
              "#7201a8"
             ],
             [
              0.3333333333333333,
              "#9c179e"
             ],
             [
              0.4444444444444444,
              "#bd3786"
             ],
             [
              0.5555555555555556,
              "#d8576b"
             ],
             [
              0.6666666666666666,
              "#ed7953"
             ],
             [
              0.7777777777777778,
              "#fb9f3a"
             ],
             [
              0.8888888888888888,
              "#fdca26"
             ],
             [
              1,
              "#f0f921"
             ]
            ],
            "type": "histogram2d"
           }
          ],
          "histogram2dcontour": [
           {
            "colorbar": {
             "outlinewidth": 0,
             "ticks": ""
            },
            "colorscale": [
             [
              0,
              "#0d0887"
             ],
             [
              0.1111111111111111,
              "#46039f"
             ],
             [
              0.2222222222222222,
              "#7201a8"
             ],
             [
              0.3333333333333333,
              "#9c179e"
             ],
             [
              0.4444444444444444,
              "#bd3786"
             ],
             [
              0.5555555555555556,
              "#d8576b"
             ],
             [
              0.6666666666666666,
              "#ed7953"
             ],
             [
              0.7777777777777778,
              "#fb9f3a"
             ],
             [
              0.8888888888888888,
              "#fdca26"
             ],
             [
              1,
              "#f0f921"
             ]
            ],
            "type": "histogram2dcontour"
           }
          ],
          "mesh3d": [
           {
            "colorbar": {
             "outlinewidth": 0,
             "ticks": ""
            },
            "type": "mesh3d"
           }
          ],
          "parcoords": [
           {
            "line": {
             "colorbar": {
              "outlinewidth": 0,
              "ticks": ""
             }
            },
            "type": "parcoords"
           }
          ],
          "pie": [
           {
            "automargin": true,
            "type": "pie"
           }
          ],
          "scatter": [
           {
            "fillpattern": {
             "fillmode": "overlay",
             "size": 10,
             "solidity": 0.2
            },
            "type": "scatter"
           }
          ],
          "scatter3d": [
           {
            "line": {
             "colorbar": {
              "outlinewidth": 0,
              "ticks": ""
             }
            },
            "marker": {
             "colorbar": {
              "outlinewidth": 0,
              "ticks": ""
             }
            },
            "type": "scatter3d"
           }
          ],
          "scattercarpet": [
           {
            "marker": {
             "colorbar": {
              "outlinewidth": 0,
              "ticks": ""
             }
            },
            "type": "scattercarpet"
           }
          ],
          "scattergeo": [
           {
            "marker": {
             "colorbar": {
              "outlinewidth": 0,
              "ticks": ""
             }
            },
            "type": "scattergeo"
           }
          ],
          "scattergl": [
           {
            "marker": {
             "colorbar": {
              "outlinewidth": 0,
              "ticks": ""
             }
            },
            "type": "scattergl"
           }
          ],
          "scattermapbox": [
           {
            "marker": {
             "colorbar": {
              "outlinewidth": 0,
              "ticks": ""
             }
            },
            "type": "scattermapbox"
           }
          ],
          "scatterpolar": [
           {
            "marker": {
             "colorbar": {
              "outlinewidth": 0,
              "ticks": ""
             }
            },
            "type": "scatterpolar"
           }
          ],
          "scatterpolargl": [
           {
            "marker": {
             "colorbar": {
              "outlinewidth": 0,
              "ticks": ""
             }
            },
            "type": "scatterpolargl"
           }
          ],
          "scatterternary": [
           {
            "marker": {
             "colorbar": {
              "outlinewidth": 0,
              "ticks": ""
             }
            },
            "type": "scatterternary"
           }
          ],
          "surface": [
           {
            "colorbar": {
             "outlinewidth": 0,
             "ticks": ""
            },
            "colorscale": [
             [
              0,
              "#0d0887"
             ],
             [
              0.1111111111111111,
              "#46039f"
             ],
             [
              0.2222222222222222,
              "#7201a8"
             ],
             [
              0.3333333333333333,
              "#9c179e"
             ],
             [
              0.4444444444444444,
              "#bd3786"
             ],
             [
              0.5555555555555556,
              "#d8576b"
             ],
             [
              0.6666666666666666,
              "#ed7953"
             ],
             [
              0.7777777777777778,
              "#fb9f3a"
             ],
             [
              0.8888888888888888,
              "#fdca26"
             ],
             [
              1,
              "#f0f921"
             ]
            ],
            "type": "surface"
           }
          ],
          "table": [
           {
            "cells": {
             "fill": {
              "color": "#EBF0F8"
             },
             "line": {
              "color": "white"
             }
            },
            "header": {
             "fill": {
              "color": "#C8D4E3"
             },
             "line": {
              "color": "white"
             }
            },
            "type": "table"
           }
          ]
         },
         "layout": {
          "annotationdefaults": {
           "arrowcolor": "#2a3f5f",
           "arrowhead": 0,
           "arrowwidth": 1
          },
          "autotypenumbers": "strict",
          "coloraxis": {
           "colorbar": {
            "outlinewidth": 0,
            "ticks": ""
           }
          },
          "colorscale": {
           "diverging": [
            [
             0,
             "#8e0152"
            ],
            [
             0.1,
             "#c51b7d"
            ],
            [
             0.2,
             "#de77ae"
            ],
            [
             0.3,
             "#f1b6da"
            ],
            [
             0.4,
             "#fde0ef"
            ],
            [
             0.5,
             "#f7f7f7"
            ],
            [
             0.6,
             "#e6f5d0"
            ],
            [
             0.7,
             "#b8e186"
            ],
            [
             0.8,
             "#7fbc41"
            ],
            [
             0.9,
             "#4d9221"
            ],
            [
             1,
             "#276419"
            ]
           ],
           "sequential": [
            [
             0,
             "#0d0887"
            ],
            [
             0.1111111111111111,
             "#46039f"
            ],
            [
             0.2222222222222222,
             "#7201a8"
            ],
            [
             0.3333333333333333,
             "#9c179e"
            ],
            [
             0.4444444444444444,
             "#bd3786"
            ],
            [
             0.5555555555555556,
             "#d8576b"
            ],
            [
             0.6666666666666666,
             "#ed7953"
            ],
            [
             0.7777777777777778,
             "#fb9f3a"
            ],
            [
             0.8888888888888888,
             "#fdca26"
            ],
            [
             1,
             "#f0f921"
            ]
           ],
           "sequentialminus": [
            [
             0,
             "#0d0887"
            ],
            [
             0.1111111111111111,
             "#46039f"
            ],
            [
             0.2222222222222222,
             "#7201a8"
            ],
            [
             0.3333333333333333,
             "#9c179e"
            ],
            [
             0.4444444444444444,
             "#bd3786"
            ],
            [
             0.5555555555555556,
             "#d8576b"
            ],
            [
             0.6666666666666666,
             "#ed7953"
            ],
            [
             0.7777777777777778,
             "#fb9f3a"
            ],
            [
             0.8888888888888888,
             "#fdca26"
            ],
            [
             1,
             "#f0f921"
            ]
           ]
          },
          "colorway": [
           "#636efa",
           "#EF553B",
           "#00cc96",
           "#ab63fa",
           "#FFA15A",
           "#19d3f3",
           "#FF6692",
           "#B6E880",
           "#FF97FF",
           "#FECB52"
          ],
          "font": {
           "color": "#2a3f5f"
          },
          "geo": {
           "bgcolor": "white",
           "lakecolor": "white",
           "landcolor": "#E5ECF6",
           "showlakes": true,
           "showland": true,
           "subunitcolor": "white"
          },
          "hoverlabel": {
           "align": "left"
          },
          "hovermode": "closest",
          "mapbox": {
           "style": "light"
          },
          "paper_bgcolor": "white",
          "plot_bgcolor": "#E5ECF6",
          "polar": {
           "angularaxis": {
            "gridcolor": "white",
            "linecolor": "white",
            "ticks": ""
           },
           "bgcolor": "#E5ECF6",
           "radialaxis": {
            "gridcolor": "white",
            "linecolor": "white",
            "ticks": ""
           }
          },
          "scene": {
           "xaxis": {
            "backgroundcolor": "#E5ECF6",
            "gridcolor": "white",
            "gridwidth": 2,
            "linecolor": "white",
            "showbackground": true,
            "ticks": "",
            "zerolinecolor": "white"
           },
           "yaxis": {
            "backgroundcolor": "#E5ECF6",
            "gridcolor": "white",
            "gridwidth": 2,
            "linecolor": "white",
            "showbackground": true,
            "ticks": "",
            "zerolinecolor": "white"
           },
           "zaxis": {
            "backgroundcolor": "#E5ECF6",
            "gridcolor": "white",
            "gridwidth": 2,
            "linecolor": "white",
            "showbackground": true,
            "ticks": "",
            "zerolinecolor": "white"
           }
          },
          "shapedefaults": {
           "line": {
            "color": "#2a3f5f"
           }
          },
          "ternary": {
           "aaxis": {
            "gridcolor": "white",
            "linecolor": "white",
            "ticks": ""
           },
           "baxis": {
            "gridcolor": "white",
            "linecolor": "white",
            "ticks": ""
           },
           "bgcolor": "#E5ECF6",
           "caxis": {
            "gridcolor": "white",
            "linecolor": "white",
            "ticks": ""
           }
          },
          "title": {
           "x": 0.05
          },
          "xaxis": {
           "automargin": true,
           "gridcolor": "white",
           "linecolor": "white",
           "ticks": "",
           "title": {
            "standoff": 15
           },
           "zerolinecolor": "white",
           "zerolinewidth": 2
          },
          "yaxis": {
           "automargin": true,
           "gridcolor": "white",
           "linecolor": "white",
           "ticks": "",
           "title": {
            "standoff": 15
           },
           "zerolinecolor": "white",
           "zerolinewidth": 2
          }
         }
        },
        "xaxis": {
         "anchor": "y",
         "domain": [
          0,
          1
         ],
         "title": {
          "text": "Price"
         }
        },
        "yaxis": {
         "anchor": "x",
         "domain": [
          0,
          1
         ]
        }
       }
      }
     },
     "metadata": {},
     "output_type": "display_data"
    },
    {
     "data": {
      "application/vnd.plotly.v1+json": {
       "config": {
        "plotlyServerURL": "https://plot.ly"
       },
       "data": [
        {
         "alignmentgroup": "True",
         "hovertemplate": "TouchScreen=%{x}<extra></extra>",
         "legendgroup": "",
         "marker": {
          "color": "#636efa"
         },
         "name": "",
         "notched": false,
         "offsetgroup": "",
         "orientation": "h",
         "showlegend": false,
         "type": "box",
         "x": [
          0,
          0,
          0,
          0,
          0,
          0,
          0,
          0,
          0,
          0,
          0,
          0,
          0,
          0,
          0,
          0,
          0,
          0,
          0,
          1,
          0,
          0,
          0,
          1,
          0,
          0,
          0,
          0,
          0,
          0,
          0,
          0,
          0,
          1,
          0,
          0,
          0,
          0,
          0,
          0,
          0,
          0,
          0,
          0,
          1,
          0,
          0,
          0,
          0,
          0,
          1,
          0,
          0,
          0,
          0,
          0,
          0,
          0,
          0,
          0,
          0,
          0,
          0,
          0,
          0,
          0,
          0,
          0,
          0,
          0,
          1,
          0,
          0,
          0,
          0,
          0,
          0,
          0,
          0,
          0,
          0,
          0,
          0,
          0,
          0,
          0,
          0,
          0,
          0,
          0,
          0,
          0,
          0,
          0,
          0,
          1,
          0,
          0,
          0,
          0,
          0,
          0,
          0,
          0,
          1,
          0,
          0,
          0,
          0,
          0,
          0,
          1,
          1,
          0,
          0,
          1,
          0,
          0,
          0,
          0,
          1,
          0,
          0,
          0,
          0,
          0,
          0,
          0,
          0,
          0,
          0,
          0,
          0,
          0,
          0,
          0,
          0,
          0,
          0,
          0,
          0,
          0,
          0,
          0,
          0,
          0,
          1,
          0,
          0,
          0,
          0,
          0,
          0,
          0,
          0,
          0,
          1,
          1,
          1,
          0,
          0,
          0,
          0,
          0,
          0,
          0,
          0,
          0,
          0,
          0,
          0,
          0,
          0,
          0,
          0,
          0,
          0,
          0,
          0,
          1,
          0,
          0,
          1,
          0,
          0,
          1,
          1,
          0,
          0,
          0,
          1,
          0,
          0,
          0,
          1,
          0,
          1,
          0,
          0,
          0,
          0,
          0,
          0,
          0,
          0,
          0,
          1,
          1,
          0,
          0,
          0,
          0,
          0,
          0,
          0,
          0,
          0,
          0,
          0,
          1,
          0,
          0,
          0,
          0,
          0,
          0,
          1,
          0,
          0,
          0,
          0,
          0,
          0,
          0,
          1,
          0,
          0,
          0,
          0,
          0,
          0,
          0,
          0,
          0,
          1,
          0,
          1,
          0,
          0,
          0,
          1,
          0,
          0,
          1,
          0,
          0,
          0,
          0,
          0,
          1,
          0,
          0,
          0,
          0,
          0,
          1,
          1,
          0,
          0,
          0,
          0,
          0,
          0,
          1,
          0,
          0,
          0,
          0,
          0,
          0,
          0,
          0,
          0,
          0,
          0,
          1,
          0,
          0,
          0,
          0,
          0,
          0,
          0,
          0,
          0,
          0,
          0,
          0,
          0,
          0,
          0,
          0,
          0,
          0,
          0,
          0,
          1,
          0,
          0,
          0,
          0,
          1,
          0,
          0,
          1,
          0,
          1,
          0,
          0,
          0,
          0,
          0,
          0,
          0,
          0,
          0,
          0,
          0,
          0,
          1,
          0,
          0,
          0,
          0,
          0,
          0,
          0,
          0,
          0,
          0,
          0,
          0,
          0,
          1,
          0,
          0,
          0,
          0,
          1,
          0,
          1,
          0,
          0,
          0,
          0,
          0,
          0,
          0,
          1,
          0,
          0,
          0,
          0,
          0,
          0,
          0,
          0,
          0,
          0,
          0,
          1,
          0,
          0,
          0,
          1,
          0,
          0,
          0,
          0,
          0,
          0,
          0,
          0,
          0,
          1,
          0,
          0,
          0,
          0,
          1,
          0,
          0,
          0,
          0,
          0,
          0,
          0,
          0,
          1,
          0,
          0,
          0,
          0,
          0,
          0,
          0,
          0,
          0,
          0,
          0,
          0,
          0,
          0,
          1,
          1,
          0,
          0,
          0,
          0,
          0,
          1,
          0,
          0,
          0,
          0,
          0,
          0,
          0,
          0,
          1,
          0,
          0,
          0,
          0,
          0,
          0,
          0,
          1,
          0,
          0,
          0,
          0,
          0,
          0,
          0,
          0,
          0,
          0,
          0,
          1,
          0,
          0,
          0,
          0,
          0,
          1,
          0,
          1,
          1,
          0,
          0,
          0,
          0,
          0,
          0,
          0,
          0,
          0,
          0,
          0,
          1,
          0,
          1,
          1,
          0,
          0,
          0,
          0,
          0,
          0,
          0,
          0,
          0,
          0,
          0,
          0,
          0,
          0,
          0,
          0,
          0,
          1,
          0,
          0,
          1,
          0,
          0,
          0,
          0,
          0,
          0,
          0,
          1,
          0,
          0,
          0,
          0,
          0,
          0,
          0,
          1,
          0,
          0,
          0,
          0,
          0,
          1,
          0,
          0,
          0,
          0,
          0,
          0,
          0,
          0,
          0,
          0,
          0,
          0,
          0,
          0,
          0,
          0,
          0,
          0,
          0,
          0,
          0,
          0,
          0,
          1,
          0,
          0,
          0,
          0,
          0,
          0,
          0,
          0,
          0,
          0,
          0,
          0,
          0,
          0,
          0,
          0,
          0,
          0,
          0,
          1,
          0,
          1,
          0,
          0,
          1,
          0,
          0,
          0,
          0,
          0,
          0,
          0,
          0,
          0,
          0,
          1,
          0,
          0,
          0,
          0,
          0,
          0,
          0,
          0,
          0,
          0,
          0,
          1,
          0,
          1,
          0,
          1,
          0,
          0,
          0,
          1,
          0,
          1,
          1,
          0,
          0,
          0,
          0,
          0,
          0,
          0,
          0,
          1,
          0,
          0,
          0,
          0,
          0,
          0,
          0,
          0,
          0,
          0,
          1,
          0,
          0,
          0,
          0,
          0,
          0,
          0,
          0,
          1,
          0,
          0,
          0,
          0,
          0,
          0,
          0,
          1,
          0,
          1,
          1,
          0,
          0,
          0,
          0,
          0,
          0,
          0,
          0,
          0,
          0,
          0,
          0,
          0,
          0,
          0,
          0,
          0,
          0,
          0,
          0,
          0,
          0,
          0,
          0,
          0,
          0,
          0,
          0,
          0,
          0,
          1,
          0,
          1,
          0,
          1,
          0,
          0,
          1,
          0,
          0,
          0,
          0,
          0,
          0,
          1,
          0,
          0,
          0,
          0,
          0,
          0,
          0,
          0,
          1,
          0,
          0,
          1,
          1,
          1,
          0,
          0,
          0,
          0,
          0,
          0,
          0,
          1,
          0,
          0,
          0,
          0,
          0,
          0,
          0,
          0,
          0,
          0,
          0,
          0,
          0,
          0,
          1,
          0,
          0,
          0,
          0,
          0,
          1,
          0,
          0,
          0,
          0,
          0,
          0,
          0,
          0,
          0,
          1,
          0,
          0,
          0,
          0,
          1,
          1,
          0,
          0,
          0,
          0,
          0,
          0,
          1,
          0,
          0,
          0,
          0,
          1,
          0,
          0,
          0,
          0,
          0,
          0,
          1,
          0,
          0,
          0,
          0,
          1,
          1,
          0,
          0,
          1,
          0,
          0,
          0,
          1,
          0,
          0,
          0,
          0,
          0,
          0,
          0,
          0,
          0,
          0,
          0,
          0,
          0,
          0,
          0,
          0,
          1,
          1,
          0,
          1,
          0,
          0,
          1,
          0,
          0,
          0,
          0,
          1,
          0,
          0,
          0,
          0,
          0,
          0,
          0,
          0,
          0,
          0,
          0,
          0,
          1,
          0,
          0,
          0,
          0,
          0,
          0,
          0,
          0,
          0,
          1,
          0,
          0,
          0,
          1,
          0,
          0,
          0,
          0,
          0,
          0,
          0,
          0,
          0,
          0,
          0,
          0,
          0,
          0,
          0,
          1,
          0,
          1,
          0,
          0,
          0,
          0,
          0,
          0,
          0,
          0,
          1,
          1,
          0,
          0,
          0,
          0,
          0,
          1,
          0,
          0,
          1,
          0,
          0,
          0,
          0,
          0,
          0,
          0,
          0,
          0,
          0,
          0,
          0,
          1,
          1,
          0,
          0,
          0,
          1,
          0,
          0,
          0,
          0,
          0,
          1,
          0,
          0,
          0,
          0,
          0,
          0,
          0,
          0,
          1,
          0,
          1,
          0,
          0,
          1,
          0,
          0,
          0,
          1,
          0,
          1,
          0,
          0,
          0,
          0,
          0,
          0,
          0,
          0,
          0,
          0,
          1,
          0,
          1,
          0,
          0,
          0,
          0,
          0,
          0,
          0,
          0,
          1,
          0,
          0,
          0,
          0,
          0,
          0,
          0,
          0,
          0,
          0,
          1,
          0,
          1,
          0,
          0,
          0,
          0,
          0,
          0,
          0,
          0,
          0,
          1,
          1,
          0,
          1,
          0,
          0,
          0,
          1,
          0,
          0,
          0,
          0,
          0,
          0,
          1,
          1,
          0,
          0,
          0,
          0,
          0,
          1,
          0,
          0,
          1,
          0,
          0,
          0,
          0,
          0,
          0,
          0,
          0,
          0,
          0,
          0,
          0,
          0,
          1,
          0,
          1,
          0,
          0,
          0,
          0,
          0,
          0,
          0,
          0,
          0,
          0,
          0,
          0,
          0,
          0,
          0,
          0,
          0,
          0,
          0,
          0,
          0,
          0,
          0,
          1,
          0,
          0,
          0,
          0,
          0,
          0,
          0,
          1,
          0,
          0,
          0,
          0,
          0,
          0,
          0,
          0,
          0,
          0,
          0,
          1,
          0,
          0,
          0,
          0,
          0,
          0,
          0,
          0,
          0,
          0,
          0,
          1,
          0,
          1,
          0,
          0,
          0,
          1,
          0,
          0,
          0,
          0,
          0,
          0,
          0,
          0,
          1,
          0,
          0,
          0,
          0,
          0,
          0,
          1,
          0,
          0,
          0,
          0,
          0,
          1,
          0,
          1,
          0,
          0,
          0,
          0,
          0,
          0,
          0,
          0,
          0,
          0,
          0,
          0,
          0,
          0,
          0,
          0,
          0,
          0,
          0,
          0,
          0,
          0,
          0,
          0,
          1,
          0,
          0,
          1,
          0,
          0,
          0,
          1,
          0,
          0,
          1,
          0,
          0,
          0,
          0,
          0,
          0,
          0,
          1,
          1,
          0,
          0,
          0,
          0,
          1,
          0,
          0,
          0,
          0,
          0,
          0,
          0,
          0,
          1,
          0,
          1,
          0,
          1,
          0,
          0,
          0,
          0,
          1,
          0,
          0,
          0,
          0,
          1,
          0,
          0,
          0,
          0,
          1,
          0,
          0,
          0,
          0,
          0,
          0,
          0,
          0,
          0,
          0,
          0,
          0,
          0,
          0,
          0,
          0,
          0,
          0,
          0,
          0,
          1,
          0,
          0,
          0,
          0,
          0,
          1,
          0,
          1,
          0,
          0,
          0,
          0,
          1,
          0,
          0,
          0,
          0,
          0,
          0,
          0,
          1,
          1,
          0,
          0,
          0,
          0,
          0,
          0,
          0,
          0,
          0,
          1,
          0,
          0,
          0,
          0,
          0,
          1,
          0,
          0,
          0,
          1,
          1,
          0,
          1,
          0,
          1,
          0,
          1,
          0,
          1,
          0,
          0,
          0,
          0,
          0,
          0,
          0,
          0,
          0,
          0,
          1,
          0,
          0,
          0,
          0,
          0,
          1,
          0,
          0,
          0,
          0,
          0,
          0,
          0,
          0,
          0,
          0,
          1,
          0,
          0,
          0,
          0,
          0,
          0,
          0,
          0,
          0,
          1,
          1,
          0,
          0
         ],
         "x0": " ",
         "xaxis": "x",
         "y0": " ",
         "yaxis": "y"
        }
       ],
       "layout": {
        "boxmode": "group",
        "legend": {
         "tracegroupgap": 0
        },
        "margin": {
         "t": 60
        },
        "template": {
         "data": {
          "bar": [
           {
            "error_x": {
             "color": "#2a3f5f"
            },
            "error_y": {
             "color": "#2a3f5f"
            },
            "marker": {
             "line": {
              "color": "#E5ECF6",
              "width": 0.5
             },
             "pattern": {
              "fillmode": "overlay",
              "size": 10,
              "solidity": 0.2
             }
            },
            "type": "bar"
           }
          ],
          "barpolar": [
           {
            "marker": {
             "line": {
              "color": "#E5ECF6",
              "width": 0.5
             },
             "pattern": {
              "fillmode": "overlay",
              "size": 10,
              "solidity": 0.2
             }
            },
            "type": "barpolar"
           }
          ],
          "carpet": [
           {
            "aaxis": {
             "endlinecolor": "#2a3f5f",
             "gridcolor": "white",
             "linecolor": "white",
             "minorgridcolor": "white",
             "startlinecolor": "#2a3f5f"
            },
            "baxis": {
             "endlinecolor": "#2a3f5f",
             "gridcolor": "white",
             "linecolor": "white",
             "minorgridcolor": "white",
             "startlinecolor": "#2a3f5f"
            },
            "type": "carpet"
           }
          ],
          "choropleth": [
           {
            "colorbar": {
             "outlinewidth": 0,
             "ticks": ""
            },
            "type": "choropleth"
           }
          ],
          "contour": [
           {
            "colorbar": {
             "outlinewidth": 0,
             "ticks": ""
            },
            "colorscale": [
             [
              0,
              "#0d0887"
             ],
             [
              0.1111111111111111,
              "#46039f"
             ],
             [
              0.2222222222222222,
              "#7201a8"
             ],
             [
              0.3333333333333333,
              "#9c179e"
             ],
             [
              0.4444444444444444,
              "#bd3786"
             ],
             [
              0.5555555555555556,
              "#d8576b"
             ],
             [
              0.6666666666666666,
              "#ed7953"
             ],
             [
              0.7777777777777778,
              "#fb9f3a"
             ],
             [
              0.8888888888888888,
              "#fdca26"
             ],
             [
              1,
              "#f0f921"
             ]
            ],
            "type": "contour"
           }
          ],
          "contourcarpet": [
           {
            "colorbar": {
             "outlinewidth": 0,
             "ticks": ""
            },
            "type": "contourcarpet"
           }
          ],
          "heatmap": [
           {
            "colorbar": {
             "outlinewidth": 0,
             "ticks": ""
            },
            "colorscale": [
             [
              0,
              "#0d0887"
             ],
             [
              0.1111111111111111,
              "#46039f"
             ],
             [
              0.2222222222222222,
              "#7201a8"
             ],
             [
              0.3333333333333333,
              "#9c179e"
             ],
             [
              0.4444444444444444,
              "#bd3786"
             ],
             [
              0.5555555555555556,
              "#d8576b"
             ],
             [
              0.6666666666666666,
              "#ed7953"
             ],
             [
              0.7777777777777778,
              "#fb9f3a"
             ],
             [
              0.8888888888888888,
              "#fdca26"
             ],
             [
              1,
              "#f0f921"
             ]
            ],
            "type": "heatmap"
           }
          ],
          "heatmapgl": [
           {
            "colorbar": {
             "outlinewidth": 0,
             "ticks": ""
            },
            "colorscale": [
             [
              0,
              "#0d0887"
             ],
             [
              0.1111111111111111,
              "#46039f"
             ],
             [
              0.2222222222222222,
              "#7201a8"
             ],
             [
              0.3333333333333333,
              "#9c179e"
             ],
             [
              0.4444444444444444,
              "#bd3786"
             ],
             [
              0.5555555555555556,
              "#d8576b"
             ],
             [
              0.6666666666666666,
              "#ed7953"
             ],
             [
              0.7777777777777778,
              "#fb9f3a"
             ],
             [
              0.8888888888888888,
              "#fdca26"
             ],
             [
              1,
              "#f0f921"
             ]
            ],
            "type": "heatmapgl"
           }
          ],
          "histogram": [
           {
            "marker": {
             "pattern": {
              "fillmode": "overlay",
              "size": 10,
              "solidity": 0.2
             }
            },
            "type": "histogram"
           }
          ],
          "histogram2d": [
           {
            "colorbar": {
             "outlinewidth": 0,
             "ticks": ""
            },
            "colorscale": [
             [
              0,
              "#0d0887"
             ],
             [
              0.1111111111111111,
              "#46039f"
             ],
             [
              0.2222222222222222,
              "#7201a8"
             ],
             [
              0.3333333333333333,
              "#9c179e"
             ],
             [
              0.4444444444444444,
              "#bd3786"
             ],
             [
              0.5555555555555556,
              "#d8576b"
             ],
             [
              0.6666666666666666,
              "#ed7953"
             ],
             [
              0.7777777777777778,
              "#fb9f3a"
             ],
             [
              0.8888888888888888,
              "#fdca26"
             ],
             [
              1,
              "#f0f921"
             ]
            ],
            "type": "histogram2d"
           }
          ],
          "histogram2dcontour": [
           {
            "colorbar": {
             "outlinewidth": 0,
             "ticks": ""
            },
            "colorscale": [
             [
              0,
              "#0d0887"
             ],
             [
              0.1111111111111111,
              "#46039f"
             ],
             [
              0.2222222222222222,
              "#7201a8"
             ],
             [
              0.3333333333333333,
              "#9c179e"
             ],
             [
              0.4444444444444444,
              "#bd3786"
             ],
             [
              0.5555555555555556,
              "#d8576b"
             ],
             [
              0.6666666666666666,
              "#ed7953"
             ],
             [
              0.7777777777777778,
              "#fb9f3a"
             ],
             [
              0.8888888888888888,
              "#fdca26"
             ],
             [
              1,
              "#f0f921"
             ]
            ],
            "type": "histogram2dcontour"
           }
          ],
          "mesh3d": [
           {
            "colorbar": {
             "outlinewidth": 0,
             "ticks": ""
            },
            "type": "mesh3d"
           }
          ],
          "parcoords": [
           {
            "line": {
             "colorbar": {
              "outlinewidth": 0,
              "ticks": ""
             }
            },
            "type": "parcoords"
           }
          ],
          "pie": [
           {
            "automargin": true,
            "type": "pie"
           }
          ],
          "scatter": [
           {
            "fillpattern": {
             "fillmode": "overlay",
             "size": 10,
             "solidity": 0.2
            },
            "type": "scatter"
           }
          ],
          "scatter3d": [
           {
            "line": {
             "colorbar": {
              "outlinewidth": 0,
              "ticks": ""
             }
            },
            "marker": {
             "colorbar": {
              "outlinewidth": 0,
              "ticks": ""
             }
            },
            "type": "scatter3d"
           }
          ],
          "scattercarpet": [
           {
            "marker": {
             "colorbar": {
              "outlinewidth": 0,
              "ticks": ""
             }
            },
            "type": "scattercarpet"
           }
          ],
          "scattergeo": [
           {
            "marker": {
             "colorbar": {
              "outlinewidth": 0,
              "ticks": ""
             }
            },
            "type": "scattergeo"
           }
          ],
          "scattergl": [
           {
            "marker": {
             "colorbar": {
              "outlinewidth": 0,
              "ticks": ""
             }
            },
            "type": "scattergl"
           }
          ],
          "scattermapbox": [
           {
            "marker": {
             "colorbar": {
              "outlinewidth": 0,
              "ticks": ""
             }
            },
            "type": "scattermapbox"
           }
          ],
          "scatterpolar": [
           {
            "marker": {
             "colorbar": {
              "outlinewidth": 0,
              "ticks": ""
             }
            },
            "type": "scatterpolar"
           }
          ],
          "scatterpolargl": [
           {
            "marker": {
             "colorbar": {
              "outlinewidth": 0,
              "ticks": ""
             }
            },
            "type": "scatterpolargl"
           }
          ],
          "scatterternary": [
           {
            "marker": {
             "colorbar": {
              "outlinewidth": 0,
              "ticks": ""
             }
            },
            "type": "scatterternary"
           }
          ],
          "surface": [
           {
            "colorbar": {
             "outlinewidth": 0,
             "ticks": ""
            },
            "colorscale": [
             [
              0,
              "#0d0887"
             ],
             [
              0.1111111111111111,
              "#46039f"
             ],
             [
              0.2222222222222222,
              "#7201a8"
             ],
             [
              0.3333333333333333,
              "#9c179e"
             ],
             [
              0.4444444444444444,
              "#bd3786"
             ],
             [
              0.5555555555555556,
              "#d8576b"
             ],
             [
              0.6666666666666666,
              "#ed7953"
             ],
             [
              0.7777777777777778,
              "#fb9f3a"
             ],
             [
              0.8888888888888888,
              "#fdca26"
             ],
             [
              1,
              "#f0f921"
             ]
            ],
            "type": "surface"
           }
          ],
          "table": [
           {
            "cells": {
             "fill": {
              "color": "#EBF0F8"
             },
             "line": {
              "color": "white"
             }
            },
            "header": {
             "fill": {
              "color": "#C8D4E3"
             },
             "line": {
              "color": "white"
             }
            },
            "type": "table"
           }
          ]
         },
         "layout": {
          "annotationdefaults": {
           "arrowcolor": "#2a3f5f",
           "arrowhead": 0,
           "arrowwidth": 1
          },
          "autotypenumbers": "strict",
          "coloraxis": {
           "colorbar": {
            "outlinewidth": 0,
            "ticks": ""
           }
          },
          "colorscale": {
           "diverging": [
            [
             0,
             "#8e0152"
            ],
            [
             0.1,
             "#c51b7d"
            ],
            [
             0.2,
             "#de77ae"
            ],
            [
             0.3,
             "#f1b6da"
            ],
            [
             0.4,
             "#fde0ef"
            ],
            [
             0.5,
             "#f7f7f7"
            ],
            [
             0.6,
             "#e6f5d0"
            ],
            [
             0.7,
             "#b8e186"
            ],
            [
             0.8,
             "#7fbc41"
            ],
            [
             0.9,
             "#4d9221"
            ],
            [
             1,
             "#276419"
            ]
           ],
           "sequential": [
            [
             0,
             "#0d0887"
            ],
            [
             0.1111111111111111,
             "#46039f"
            ],
            [
             0.2222222222222222,
             "#7201a8"
            ],
            [
             0.3333333333333333,
             "#9c179e"
            ],
            [
             0.4444444444444444,
             "#bd3786"
            ],
            [
             0.5555555555555556,
             "#d8576b"
            ],
            [
             0.6666666666666666,
             "#ed7953"
            ],
            [
             0.7777777777777778,
             "#fb9f3a"
            ],
            [
             0.8888888888888888,
             "#fdca26"
            ],
            [
             1,
             "#f0f921"
            ]
           ],
           "sequentialminus": [
            [
             0,
             "#0d0887"
            ],
            [
             0.1111111111111111,
             "#46039f"
            ],
            [
             0.2222222222222222,
             "#7201a8"
            ],
            [
             0.3333333333333333,
             "#9c179e"
            ],
            [
             0.4444444444444444,
             "#bd3786"
            ],
            [
             0.5555555555555556,
             "#d8576b"
            ],
            [
             0.6666666666666666,
             "#ed7953"
            ],
            [
             0.7777777777777778,
             "#fb9f3a"
            ],
            [
             0.8888888888888888,
             "#fdca26"
            ],
            [
             1,
             "#f0f921"
            ]
           ]
          },
          "colorway": [
           "#636efa",
           "#EF553B",
           "#00cc96",
           "#ab63fa",
           "#FFA15A",
           "#19d3f3",
           "#FF6692",
           "#B6E880",
           "#FF97FF",
           "#FECB52"
          ],
          "font": {
           "color": "#2a3f5f"
          },
          "geo": {
           "bgcolor": "white",
           "lakecolor": "white",
           "landcolor": "#E5ECF6",
           "showlakes": true,
           "showland": true,
           "subunitcolor": "white"
          },
          "hoverlabel": {
           "align": "left"
          },
          "hovermode": "closest",
          "mapbox": {
           "style": "light"
          },
          "paper_bgcolor": "white",
          "plot_bgcolor": "#E5ECF6",
          "polar": {
           "angularaxis": {
            "gridcolor": "white",
            "linecolor": "white",
            "ticks": ""
           },
           "bgcolor": "#E5ECF6",
           "radialaxis": {
            "gridcolor": "white",
            "linecolor": "white",
            "ticks": ""
           }
          },
          "scene": {
           "xaxis": {
            "backgroundcolor": "#E5ECF6",
            "gridcolor": "white",
            "gridwidth": 2,
            "linecolor": "white",
            "showbackground": true,
            "ticks": "",
            "zerolinecolor": "white"
           },
           "yaxis": {
            "backgroundcolor": "#E5ECF6",
            "gridcolor": "white",
            "gridwidth": 2,
            "linecolor": "white",
            "showbackground": true,
            "ticks": "",
            "zerolinecolor": "white"
           },
           "zaxis": {
            "backgroundcolor": "#E5ECF6",
            "gridcolor": "white",
            "gridwidth": 2,
            "linecolor": "white",
            "showbackground": true,
            "ticks": "",
            "zerolinecolor": "white"
           }
          },
          "shapedefaults": {
           "line": {
            "color": "#2a3f5f"
           }
          },
          "ternary": {
           "aaxis": {
            "gridcolor": "white",
            "linecolor": "white",
            "ticks": ""
           },
           "baxis": {
            "gridcolor": "white",
            "linecolor": "white",
            "ticks": ""
           },
           "bgcolor": "#E5ECF6",
           "caxis": {
            "gridcolor": "white",
            "linecolor": "white",
            "ticks": ""
           }
          },
          "title": {
           "x": 0.05
          },
          "xaxis": {
           "automargin": true,
           "gridcolor": "white",
           "linecolor": "white",
           "ticks": "",
           "title": {
            "standoff": 15
           },
           "zerolinecolor": "white",
           "zerolinewidth": 2
          },
          "yaxis": {
           "automargin": true,
           "gridcolor": "white",
           "linecolor": "white",
           "ticks": "",
           "title": {
            "standoff": 15
           },
           "zerolinecolor": "white",
           "zerolinewidth": 2
          }
         }
        },
        "xaxis": {
         "anchor": "y",
         "domain": [
          0,
          1
         ],
         "title": {
          "text": "TouchScreen"
         }
        },
        "yaxis": {
         "anchor": "x",
         "domain": [
          0,
          1
         ]
        }
       }
      }
     },
     "metadata": {},
     "output_type": "display_data"
    },
    {
     "data": {
      "application/vnd.plotly.v1+json": {
       "config": {
        "plotlyServerURL": "https://plot.ly"
       },
       "data": [
        {
         "alignmentgroup": "True",
         "hovertemplate": "Ips=%{x}<extra></extra>",
         "legendgroup": "",
         "marker": {
          "color": "#636efa"
         },
         "name": "",
         "notched": false,
         "offsetgroup": "",
         "orientation": "h",
         "showlegend": false,
         "type": "box",
         "x": [
          1,
          0,
          0,
          1,
          1,
          0,
          1,
          0,
          0,
          1,
          0,
          0,
          1,
          0,
          1,
          1,
          0,
          1,
          0,
          1,
          0,
          1,
          0,
          0,
          0,
          0,
          0,
          0,
          0,
          0,
          0,
          0,
          0,
          0,
          0,
          0,
          0,
          1,
          0,
          0,
          0,
          1,
          0,
          1,
          0,
          1,
          0,
          0,
          0,
          0,
          1,
          1,
          0,
          0,
          0,
          0,
          0,
          0,
          0,
          0,
          0,
          0,
          1,
          0,
          0,
          0,
          0,
          0,
          0,
          0,
          0,
          1,
          0,
          0,
          0,
          0,
          0,
          0,
          0,
          0,
          1,
          1,
          0,
          0,
          0,
          1,
          1,
          0,
          1,
          1,
          0,
          0,
          0,
          0,
          0,
          1,
          0,
          0,
          0,
          1,
          0,
          0,
          0,
          1,
          0,
          1,
          0,
          1,
          0,
          1,
          0,
          0,
          1,
          1,
          1,
          1,
          0,
          1,
          0,
          0,
          1,
          0,
          0,
          0,
          0,
          0,
          0,
          0,
          0,
          0,
          0,
          0,
          1,
          0,
          0,
          0,
          0,
          0,
          0,
          1,
          1,
          1,
          1,
          0,
          0,
          0,
          1,
          0,
          0,
          0,
          0,
          0,
          0,
          0,
          0,
          0,
          1,
          0,
          0,
          0,
          0,
          1,
          0,
          1,
          0,
          1,
          0,
          0,
          1,
          1,
          1,
          1,
          0,
          0,
          0,
          0,
          0,
          0,
          0,
          1,
          0,
          0,
          1,
          0,
          1,
          0,
          0,
          1,
          1,
          0,
          0,
          1,
          1,
          0,
          1,
          1,
          0,
          0,
          1,
          0,
          1,
          0,
          0,
          1,
          0,
          0,
          0,
          1,
          0,
          0,
          0,
          0,
          0,
          0,
          1,
          1,
          0,
          0,
          0,
          0,
          0,
          1,
          0,
          0,
          1,
          0,
          0,
          0,
          0,
          0,
          0,
          0,
          1,
          0,
          1,
          0,
          0,
          0,
          0,
          1,
          0,
          0,
          0,
          0,
          1,
          0,
          0,
          0,
          1,
          1,
          1,
          0,
          0,
          1,
          1,
          0,
          0,
          1,
          0,
          1,
          0,
          0,
          1,
          0,
          0,
          0,
          0,
          0,
          0,
          0,
          1,
          0,
          0,
          0,
          0,
          0,
          0,
          1,
          0,
          0,
          0,
          0,
          1,
          0,
          1,
          1,
          1,
          0,
          1,
          0,
          0,
          0,
          0,
          0,
          0,
          1,
          0,
          0,
          0,
          0,
          0,
          0,
          0,
          0,
          0,
          0,
          0,
          1,
          0,
          0,
          1,
          1,
          1,
          0,
          0,
          0,
          1,
          0,
          0,
          0,
          0,
          0,
          0,
          1,
          0,
          0,
          0,
          0,
          0,
          0,
          0,
          1,
          0,
          0,
          0,
          0,
          1,
          0,
          0,
          0,
          0,
          0,
          1,
          1,
          0,
          1,
          0,
          0,
          0,
          0,
          0,
          0,
          0,
          0,
          1,
          0,
          0,
          0,
          0,
          0,
          0,
          0,
          0,
          0,
          0,
          0,
          0,
          1,
          0,
          1,
          0,
          0,
          1,
          0,
          0,
          0,
          1,
          0,
          0,
          0,
          1,
          0,
          1,
          1,
          0,
          1,
          1,
          0,
          1,
          0,
          0,
          0,
          1,
          0,
          0,
          0,
          1,
          1,
          0,
          1,
          0,
          0,
          1,
          0,
          0,
          0,
          0,
          0,
          0,
          0,
          0,
          1,
          0,
          1,
          1,
          0,
          0,
          0,
          0,
          1,
          1,
          1,
          0,
          0,
          1,
          1,
          0,
          0,
          0,
          1,
          0,
          1,
          1,
          1,
          0,
          0,
          0,
          0,
          0,
          0,
          0,
          0,
          1,
          0,
          1,
          0,
          0,
          0,
          0,
          0,
          0,
          1,
          1,
          0,
          0,
          0,
          1,
          0,
          0,
          0,
          0,
          0,
          0,
          1,
          0,
          0,
          0,
          0,
          1,
          1,
          1,
          0,
          0,
          0,
          1,
          0,
          0,
          0,
          0,
          1,
          1,
          0,
          1,
          0,
          0,
          1,
          1,
          0,
          1,
          0,
          1,
          0,
          0,
          0,
          1,
          1,
          0,
          0,
          1,
          1,
          0,
          0,
          1,
          0,
          0,
          0,
          0,
          1,
          1,
          1,
          1,
          0,
          0,
          0,
          1,
          0,
          0,
          0,
          0,
          0,
          1,
          1,
          0,
          0,
          1,
          0,
          0,
          0,
          0,
          0,
          1,
          1,
          1,
          1,
          1,
          0,
          0,
          0,
          0,
          1,
          0,
          0,
          1,
          0,
          0,
          0,
          0,
          0,
          0,
          1,
          0,
          0,
          1,
          0,
          0,
          0,
          1,
          0,
          1,
          0,
          1,
          0,
          1,
          1,
          0,
          1,
          0,
          0,
          0,
          0,
          0,
          0,
          1,
          0,
          0,
          0,
          0,
          1,
          0,
          0,
          1,
          0,
          0,
          0,
          0,
          0,
          1,
          1,
          0,
          1,
          0,
          0,
          0,
          0,
          0,
          0,
          1,
          1,
          0,
          0,
          0,
          0,
          0,
          0,
          0,
          0,
          1,
          0,
          1,
          0,
          1,
          0,
          0,
          0,
          0,
          0,
          0,
          0,
          0,
          1,
          0,
          0,
          0,
          0,
          0,
          0,
          0,
          0,
          0,
          0,
          0,
          0,
          0,
          0,
          0,
          0,
          0,
          0,
          1,
          0,
          1,
          0,
          1,
          1,
          0,
          0,
          1,
          0,
          0,
          1,
          1,
          0,
          0,
          0,
          0,
          1,
          0,
          0,
          1,
          1,
          0,
          0,
          0,
          0,
          0,
          0,
          0,
          0,
          1,
          0,
          0,
          0,
          1,
          0,
          1,
          0,
          0,
          0,
          1,
          0,
          0,
          0,
          0,
          1,
          1,
          0,
          0,
          0,
          1,
          0,
          0,
          0,
          0,
          0,
          1,
          0,
          0,
          0,
          0,
          1,
          0,
          0,
          0,
          0,
          0,
          0,
          1,
          0,
          0,
          1,
          1,
          0,
          0,
          0,
          0,
          1,
          0,
          0,
          1,
          0,
          1,
          1,
          1,
          0,
          0,
          0,
          0,
          0,
          0,
          0,
          1,
          0,
          0,
          0,
          1,
          0,
          0,
          0,
          0,
          0,
          0,
          0,
          1,
          0,
          1,
          0,
          0,
          0,
          0,
          1,
          0,
          0,
          0,
          0,
          0,
          1,
          1,
          0,
          1,
          0,
          1,
          0,
          0,
          1,
          0,
          0,
          0,
          1,
          0,
          0,
          0,
          0,
          1,
          0,
          0,
          0,
          0,
          1,
          0,
          0,
          1,
          1,
          1,
          0,
          0,
          1,
          0,
          1,
          1,
          0,
          0,
          0,
          1,
          0,
          1,
          1,
          0,
          0,
          1,
          0,
          0,
          0,
          0,
          0,
          0,
          0,
          0,
          0,
          0,
          0,
          1,
          0,
          0,
          0,
          0,
          0,
          1,
          0,
          1,
          0,
          0,
          0,
          1,
          0,
          1,
          0,
          0,
          0,
          1,
          1,
          0,
          1,
          0,
          0,
          1,
          0,
          0,
          0,
          0,
          0,
          0,
          1,
          0,
          0,
          0,
          0,
          0,
          1,
          0,
          0,
          0,
          0,
          0,
          1,
          1,
          0,
          0,
          0,
          0,
          0,
          1,
          0,
          0,
          1,
          0,
          0,
          0,
          1,
          1,
          0,
          0,
          0,
          1,
          1,
          0,
          0,
          0,
          1,
          0,
          0,
          0,
          0,
          0,
          1,
          0,
          0,
          0,
          0,
          1,
          0,
          0,
          0,
          0,
          1,
          1,
          0,
          0,
          0,
          0,
          0,
          0,
          1,
          0,
          1,
          1,
          1,
          0,
          1,
          1,
          1,
          0,
          0,
          0,
          0,
          0,
          0,
          0,
          0,
          0,
          0,
          0,
          0,
          0,
          1,
          1,
          0,
          1,
          0,
          0,
          0,
          0,
          0,
          0,
          1,
          1,
          0,
          0,
          0,
          0,
          0,
          1,
          0,
          0,
          0,
          1,
          1,
          0,
          0,
          0,
          0,
          1,
          0,
          0,
          0,
          1,
          1,
          0,
          0,
          0,
          1,
          0,
          1,
          0,
          0,
          0,
          0,
          0,
          0,
          1,
          0,
          0,
          0,
          0,
          0,
          0,
          1,
          0,
          0,
          0,
          0,
          1,
          0,
          0,
          0,
          0,
          0,
          0,
          1,
          0,
          0,
          0,
          0,
          0,
          0,
          0,
          0,
          1,
          0,
          0,
          0,
          1,
          1,
          0,
          0,
          0,
          0,
          0,
          0,
          0,
          0,
          0,
          0,
          0,
          0,
          0,
          0,
          0,
          1,
          1,
          0,
          1,
          0,
          1,
          0,
          0,
          0,
          0,
          0,
          0,
          0,
          0,
          0,
          0,
          0,
          0,
          0,
          0,
          1,
          0,
          0,
          1,
          0,
          1,
          0,
          0,
          0,
          0,
          1,
          1,
          0,
          1,
          1,
          1,
          0,
          0,
          0,
          0,
          0,
          1,
          0,
          0,
          1,
          0,
          0,
          0,
          0,
          1,
          0,
          0,
          1,
          0,
          0,
          0,
          0,
          1,
          0,
          1,
          0,
          0,
          0,
          1,
          1,
          1,
          1,
          0,
          0,
          0,
          0,
          0,
          0,
          0,
          0,
          1,
          1,
          0,
          0,
          0,
          0,
          0,
          1,
          0,
          0,
          0,
          1,
          0,
          0,
          0,
          1,
          0,
          1,
          0,
          0,
          0,
          0,
          1,
          0,
          1,
          0,
          0,
          0,
          0,
          0,
          0,
          0,
          0,
          1,
          1,
          0,
          1,
          1,
          0,
          1,
          0,
          0,
          0,
          0,
          1,
          0,
          0,
          0,
          1,
          0,
          0,
          1,
          0,
          0,
          0,
          0,
          0,
          1,
          0,
          0,
          0,
          0,
          1,
          0,
          0,
          0,
          0,
          0,
          0,
          0,
          1,
          0,
          0,
          0,
          1,
          0,
          0,
          1,
          0,
          0,
          0,
          0,
          0,
          0,
          0,
          1,
          0,
          0,
          1,
          0,
          0,
          0,
          1,
          1,
          0,
          0,
          0,
          1,
          1,
          0,
          1,
          1,
          1,
          0,
          1,
          0,
          0,
          0,
          0,
          0,
          0,
          0,
          0,
          0,
          0,
          0,
          0,
          1,
          0,
          1,
          1,
          0,
          0,
          0,
          0,
          1,
          1,
          1,
          0,
          0,
          0,
          0,
          0,
          0,
          0,
          1,
          0,
          1,
          0,
          0,
          0,
          0,
          0,
          0,
          0,
          0,
          1,
          0,
          0,
          0,
          0,
          0,
          1,
          0,
          1,
          1,
          0,
          0,
          0,
          0,
          1,
          0,
          0,
          1,
          0,
          0,
          0,
          0,
          1,
          0,
          0,
          0,
          1,
          0,
          0,
          0,
          0,
          1,
          1,
          0,
          0
         ],
         "x0": " ",
         "xaxis": "x",
         "y0": " ",
         "yaxis": "y"
        }
       ],
       "layout": {
        "boxmode": "group",
        "legend": {
         "tracegroupgap": 0
        },
        "margin": {
         "t": 60
        },
        "template": {
         "data": {
          "bar": [
           {
            "error_x": {
             "color": "#2a3f5f"
            },
            "error_y": {
             "color": "#2a3f5f"
            },
            "marker": {
             "line": {
              "color": "#E5ECF6",
              "width": 0.5
             },
             "pattern": {
              "fillmode": "overlay",
              "size": 10,
              "solidity": 0.2
             }
            },
            "type": "bar"
           }
          ],
          "barpolar": [
           {
            "marker": {
             "line": {
              "color": "#E5ECF6",
              "width": 0.5
             },
             "pattern": {
              "fillmode": "overlay",
              "size": 10,
              "solidity": 0.2
             }
            },
            "type": "barpolar"
           }
          ],
          "carpet": [
           {
            "aaxis": {
             "endlinecolor": "#2a3f5f",
             "gridcolor": "white",
             "linecolor": "white",
             "minorgridcolor": "white",
             "startlinecolor": "#2a3f5f"
            },
            "baxis": {
             "endlinecolor": "#2a3f5f",
             "gridcolor": "white",
             "linecolor": "white",
             "minorgridcolor": "white",
             "startlinecolor": "#2a3f5f"
            },
            "type": "carpet"
           }
          ],
          "choropleth": [
           {
            "colorbar": {
             "outlinewidth": 0,
             "ticks": ""
            },
            "type": "choropleth"
           }
          ],
          "contour": [
           {
            "colorbar": {
             "outlinewidth": 0,
             "ticks": ""
            },
            "colorscale": [
             [
              0,
              "#0d0887"
             ],
             [
              0.1111111111111111,
              "#46039f"
             ],
             [
              0.2222222222222222,
              "#7201a8"
             ],
             [
              0.3333333333333333,
              "#9c179e"
             ],
             [
              0.4444444444444444,
              "#bd3786"
             ],
             [
              0.5555555555555556,
              "#d8576b"
             ],
             [
              0.6666666666666666,
              "#ed7953"
             ],
             [
              0.7777777777777778,
              "#fb9f3a"
             ],
             [
              0.8888888888888888,
              "#fdca26"
             ],
             [
              1,
              "#f0f921"
             ]
            ],
            "type": "contour"
           }
          ],
          "contourcarpet": [
           {
            "colorbar": {
             "outlinewidth": 0,
             "ticks": ""
            },
            "type": "contourcarpet"
           }
          ],
          "heatmap": [
           {
            "colorbar": {
             "outlinewidth": 0,
             "ticks": ""
            },
            "colorscale": [
             [
              0,
              "#0d0887"
             ],
             [
              0.1111111111111111,
              "#46039f"
             ],
             [
              0.2222222222222222,
              "#7201a8"
             ],
             [
              0.3333333333333333,
              "#9c179e"
             ],
             [
              0.4444444444444444,
              "#bd3786"
             ],
             [
              0.5555555555555556,
              "#d8576b"
             ],
             [
              0.6666666666666666,
              "#ed7953"
             ],
             [
              0.7777777777777778,
              "#fb9f3a"
             ],
             [
              0.8888888888888888,
              "#fdca26"
             ],
             [
              1,
              "#f0f921"
             ]
            ],
            "type": "heatmap"
           }
          ],
          "heatmapgl": [
           {
            "colorbar": {
             "outlinewidth": 0,
             "ticks": ""
            },
            "colorscale": [
             [
              0,
              "#0d0887"
             ],
             [
              0.1111111111111111,
              "#46039f"
             ],
             [
              0.2222222222222222,
              "#7201a8"
             ],
             [
              0.3333333333333333,
              "#9c179e"
             ],
             [
              0.4444444444444444,
              "#bd3786"
             ],
             [
              0.5555555555555556,
              "#d8576b"
             ],
             [
              0.6666666666666666,
              "#ed7953"
             ],
             [
              0.7777777777777778,
              "#fb9f3a"
             ],
             [
              0.8888888888888888,
              "#fdca26"
             ],
             [
              1,
              "#f0f921"
             ]
            ],
            "type": "heatmapgl"
           }
          ],
          "histogram": [
           {
            "marker": {
             "pattern": {
              "fillmode": "overlay",
              "size": 10,
              "solidity": 0.2
             }
            },
            "type": "histogram"
           }
          ],
          "histogram2d": [
           {
            "colorbar": {
             "outlinewidth": 0,
             "ticks": ""
            },
            "colorscale": [
             [
              0,
              "#0d0887"
             ],
             [
              0.1111111111111111,
              "#46039f"
             ],
             [
              0.2222222222222222,
              "#7201a8"
             ],
             [
              0.3333333333333333,
              "#9c179e"
             ],
             [
              0.4444444444444444,
              "#bd3786"
             ],
             [
              0.5555555555555556,
              "#d8576b"
             ],
             [
              0.6666666666666666,
              "#ed7953"
             ],
             [
              0.7777777777777778,
              "#fb9f3a"
             ],
             [
              0.8888888888888888,
              "#fdca26"
             ],
             [
              1,
              "#f0f921"
             ]
            ],
            "type": "histogram2d"
           }
          ],
          "histogram2dcontour": [
           {
            "colorbar": {
             "outlinewidth": 0,
             "ticks": ""
            },
            "colorscale": [
             [
              0,
              "#0d0887"
             ],
             [
              0.1111111111111111,
              "#46039f"
             ],
             [
              0.2222222222222222,
              "#7201a8"
             ],
             [
              0.3333333333333333,
              "#9c179e"
             ],
             [
              0.4444444444444444,
              "#bd3786"
             ],
             [
              0.5555555555555556,
              "#d8576b"
             ],
             [
              0.6666666666666666,
              "#ed7953"
             ],
             [
              0.7777777777777778,
              "#fb9f3a"
             ],
             [
              0.8888888888888888,
              "#fdca26"
             ],
             [
              1,
              "#f0f921"
             ]
            ],
            "type": "histogram2dcontour"
           }
          ],
          "mesh3d": [
           {
            "colorbar": {
             "outlinewidth": 0,
             "ticks": ""
            },
            "type": "mesh3d"
           }
          ],
          "parcoords": [
           {
            "line": {
             "colorbar": {
              "outlinewidth": 0,
              "ticks": ""
             }
            },
            "type": "parcoords"
           }
          ],
          "pie": [
           {
            "automargin": true,
            "type": "pie"
           }
          ],
          "scatter": [
           {
            "fillpattern": {
             "fillmode": "overlay",
             "size": 10,
             "solidity": 0.2
            },
            "type": "scatter"
           }
          ],
          "scatter3d": [
           {
            "line": {
             "colorbar": {
              "outlinewidth": 0,
              "ticks": ""
             }
            },
            "marker": {
             "colorbar": {
              "outlinewidth": 0,
              "ticks": ""
             }
            },
            "type": "scatter3d"
           }
          ],
          "scattercarpet": [
           {
            "marker": {
             "colorbar": {
              "outlinewidth": 0,
              "ticks": ""
             }
            },
            "type": "scattercarpet"
           }
          ],
          "scattergeo": [
           {
            "marker": {
             "colorbar": {
              "outlinewidth": 0,
              "ticks": ""
             }
            },
            "type": "scattergeo"
           }
          ],
          "scattergl": [
           {
            "marker": {
             "colorbar": {
              "outlinewidth": 0,
              "ticks": ""
             }
            },
            "type": "scattergl"
           }
          ],
          "scattermapbox": [
           {
            "marker": {
             "colorbar": {
              "outlinewidth": 0,
              "ticks": ""
             }
            },
            "type": "scattermapbox"
           }
          ],
          "scatterpolar": [
           {
            "marker": {
             "colorbar": {
              "outlinewidth": 0,
              "ticks": ""
             }
            },
            "type": "scatterpolar"
           }
          ],
          "scatterpolargl": [
           {
            "marker": {
             "colorbar": {
              "outlinewidth": 0,
              "ticks": ""
             }
            },
            "type": "scatterpolargl"
           }
          ],
          "scatterternary": [
           {
            "marker": {
             "colorbar": {
              "outlinewidth": 0,
              "ticks": ""
             }
            },
            "type": "scatterternary"
           }
          ],
          "surface": [
           {
            "colorbar": {
             "outlinewidth": 0,
             "ticks": ""
            },
            "colorscale": [
             [
              0,
              "#0d0887"
             ],
             [
              0.1111111111111111,
              "#46039f"
             ],
             [
              0.2222222222222222,
              "#7201a8"
             ],
             [
              0.3333333333333333,
              "#9c179e"
             ],
             [
              0.4444444444444444,
              "#bd3786"
             ],
             [
              0.5555555555555556,
              "#d8576b"
             ],
             [
              0.6666666666666666,
              "#ed7953"
             ],
             [
              0.7777777777777778,
              "#fb9f3a"
             ],
             [
              0.8888888888888888,
              "#fdca26"
             ],
             [
              1,
              "#f0f921"
             ]
            ],
            "type": "surface"
           }
          ],
          "table": [
           {
            "cells": {
             "fill": {
              "color": "#EBF0F8"
             },
             "line": {
              "color": "white"
             }
            },
            "header": {
             "fill": {
              "color": "#C8D4E3"
             },
             "line": {
              "color": "white"
             }
            },
            "type": "table"
           }
          ]
         },
         "layout": {
          "annotationdefaults": {
           "arrowcolor": "#2a3f5f",
           "arrowhead": 0,
           "arrowwidth": 1
          },
          "autotypenumbers": "strict",
          "coloraxis": {
           "colorbar": {
            "outlinewidth": 0,
            "ticks": ""
           }
          },
          "colorscale": {
           "diverging": [
            [
             0,
             "#8e0152"
            ],
            [
             0.1,
             "#c51b7d"
            ],
            [
             0.2,
             "#de77ae"
            ],
            [
             0.3,
             "#f1b6da"
            ],
            [
             0.4,
             "#fde0ef"
            ],
            [
             0.5,
             "#f7f7f7"
            ],
            [
             0.6,
             "#e6f5d0"
            ],
            [
             0.7,
             "#b8e186"
            ],
            [
             0.8,
             "#7fbc41"
            ],
            [
             0.9,
             "#4d9221"
            ],
            [
             1,
             "#276419"
            ]
           ],
           "sequential": [
            [
             0,
             "#0d0887"
            ],
            [
             0.1111111111111111,
             "#46039f"
            ],
            [
             0.2222222222222222,
             "#7201a8"
            ],
            [
             0.3333333333333333,
             "#9c179e"
            ],
            [
             0.4444444444444444,
             "#bd3786"
            ],
            [
             0.5555555555555556,
             "#d8576b"
            ],
            [
             0.6666666666666666,
             "#ed7953"
            ],
            [
             0.7777777777777778,
             "#fb9f3a"
            ],
            [
             0.8888888888888888,
             "#fdca26"
            ],
            [
             1,
             "#f0f921"
            ]
           ],
           "sequentialminus": [
            [
             0,
             "#0d0887"
            ],
            [
             0.1111111111111111,
             "#46039f"
            ],
            [
             0.2222222222222222,
             "#7201a8"
            ],
            [
             0.3333333333333333,
             "#9c179e"
            ],
            [
             0.4444444444444444,
             "#bd3786"
            ],
            [
             0.5555555555555556,
             "#d8576b"
            ],
            [
             0.6666666666666666,
             "#ed7953"
            ],
            [
             0.7777777777777778,
             "#fb9f3a"
            ],
            [
             0.8888888888888888,
             "#fdca26"
            ],
            [
             1,
             "#f0f921"
            ]
           ]
          },
          "colorway": [
           "#636efa",
           "#EF553B",
           "#00cc96",
           "#ab63fa",
           "#FFA15A",
           "#19d3f3",
           "#FF6692",
           "#B6E880",
           "#FF97FF",
           "#FECB52"
          ],
          "font": {
           "color": "#2a3f5f"
          },
          "geo": {
           "bgcolor": "white",
           "lakecolor": "white",
           "landcolor": "#E5ECF6",
           "showlakes": true,
           "showland": true,
           "subunitcolor": "white"
          },
          "hoverlabel": {
           "align": "left"
          },
          "hovermode": "closest",
          "mapbox": {
           "style": "light"
          },
          "paper_bgcolor": "white",
          "plot_bgcolor": "#E5ECF6",
          "polar": {
           "angularaxis": {
            "gridcolor": "white",
            "linecolor": "white",
            "ticks": ""
           },
           "bgcolor": "#E5ECF6",
           "radialaxis": {
            "gridcolor": "white",
            "linecolor": "white",
            "ticks": ""
           }
          },
          "scene": {
           "xaxis": {
            "backgroundcolor": "#E5ECF6",
            "gridcolor": "white",
            "gridwidth": 2,
            "linecolor": "white",
            "showbackground": true,
            "ticks": "",
            "zerolinecolor": "white"
           },
           "yaxis": {
            "backgroundcolor": "#E5ECF6",
            "gridcolor": "white",
            "gridwidth": 2,
            "linecolor": "white",
            "showbackground": true,
            "ticks": "",
            "zerolinecolor": "white"
           },
           "zaxis": {
            "backgroundcolor": "#E5ECF6",
            "gridcolor": "white",
            "gridwidth": 2,
            "linecolor": "white",
            "showbackground": true,
            "ticks": "",
            "zerolinecolor": "white"
           }
          },
          "shapedefaults": {
           "line": {
            "color": "#2a3f5f"
           }
          },
          "ternary": {
           "aaxis": {
            "gridcolor": "white",
            "linecolor": "white",
            "ticks": ""
           },
           "baxis": {
            "gridcolor": "white",
            "linecolor": "white",
            "ticks": ""
           },
           "bgcolor": "#E5ECF6",
           "caxis": {
            "gridcolor": "white",
            "linecolor": "white",
            "ticks": ""
           }
          },
          "title": {
           "x": 0.05
          },
          "xaxis": {
           "automargin": true,
           "gridcolor": "white",
           "linecolor": "white",
           "ticks": "",
           "title": {
            "standoff": 15
           },
           "zerolinecolor": "white",
           "zerolinewidth": 2
          },
          "yaxis": {
           "automargin": true,
           "gridcolor": "white",
           "linecolor": "white",
           "ticks": "",
           "title": {
            "standoff": 15
           },
           "zerolinecolor": "white",
           "zerolinewidth": 2
          }
         }
        },
        "xaxis": {
         "anchor": "y",
         "domain": [
          0,
          1
         ],
         "title": {
          "text": "Ips"
         }
        },
        "yaxis": {
         "anchor": "x",
         "domain": [
          0,
          1
         ]
        }
       }
      }
     },
     "metadata": {},
     "output_type": "display_data"
    },
    {
     "data": {
      "application/vnd.plotly.v1+json": {
       "config": {
        "plotlyServerURL": "https://plot.ly"
       },
       "data": [
        {
         "alignmentgroup": "True",
         "hovertemplate": "Ppi=%{x}<extra></extra>",
         "legendgroup": "",
         "marker": {
          "color": "#636efa"
         },
         "name": "",
         "notched": false,
         "offsetgroup": "",
         "orientation": "h",
         "showlegend": false,
         "type": "box",
         "x": [
          226.98300468106115,
          127.67794013309688,
          141.21199808219862,
          220.53462386625827,
          226.98300468106115,
          100.45466986113652,
          220.53462386625827,
          127.67794013309688,
          157.3505121487356,
          157.3505121487356,
          100.45466986113652,
          141.21199808219862,
          220.53462386625827,
          141.21199808219862,
          226.4155471693585,
          226.98300468106115,
          141.21199808219862,
          220.53462386625827,
          141.21199808219862,
          165.6321180513006,
          135.0942111925629,
          141.21199808219862,
          100.45466986113652,
          165.6321180513006,
          141.21199808219862,
          100.45466986113652,
          127.67794013309688,
          141.21199808219862,
          141.21199808219862,
          127.33567457123112,
          141.21199808219862,
          111.93520355955212,
          127.33567457123112,
          276.053530085501,
          127.67794013309688,
          111.93520355955212,
          100.45466986113652,
          127.33567457123112,
          100.45466986113652,
          141.21199808219862,
          141.21199808219862,
          141.21199808219862,
          100.45466986113652,
          141.21199808219862,
          127.33567457123112,
          226.98300468106115,
          100.45466986113652,
          127.33567457123112,
          141.21199808219862,
          90.58340172449304,
          224.1738090785728,
          141.21199808219862,
          141.21199808219862,
          165.6321180513006,
          100.45466986113652,
          141.21199808219862,
          141.21199808219862,
          100.45466986113652,
          127.33567457123112,
          141.21199808219862,
          127.33567457123112,
          157.3505121487356,
          157.3505121487356,
          157.3505121487356,
          141.21199808219862,
          141.21199808219862,
          100.45466986113652,
          111.93520355955212,
          141.21199808219862,
          127.33567457123112,
          200.84255993695703,
          165.6321180513006,
          141.21199808219862,
          127.33567457123112,
          111.93520355955212,
          141.21199808219862,
          141.21199808219862,
          141.21199808219862,
          141.21199808219862,
          127.33567457123112,
          141.21199808219862,
          226.4155471693585,
          157.3505121487356,
          141.21199808219862,
          100.45466986113652,
          141.21199808219862,
          141.21199808219862,
          141.21199808219862,
          141.21199808219862,
          165.6321180513006,
          141.21199808219862,
          141.21199808219862,
          165.6321180513006,
          141.21199808219862,
          157.3505121487356,
          165.6321180513006,
          141.21199808219862,
          141.21199808219862,
          141.21199808219862,
          141.21199808219862,
          141.21199808219862,
          141.21199808219862,
          141.21199808219862,
          165.6321180513006,
          200.84255993695703,
          157.3505121487356,
          141.21199808219862,
          157.3505121487356,
          141.21199808219862,
          157.3505121487356,
          141.21199808219862,
          276.053530085501,
          165.6321180513006,
          111.93520355955212,
          165.6321180513006,
          165.6321180513006,
          157.3505121487356,
          141.21199808219862,
          127.33567457123112,
          141.21199808219862,
          141.21199808219862,
          141.21199808219862,
          141.21199808219862,
          127.33567457123112,
          100.45466986113652,
          100.45466986113652,
          157.3505121487356,
          111.93520355955212,
          127.33567457123112,
          127.33567457123112,
          100.45466986113652,
          141.21199808219862,
          157.3505121487356,
          141.21199808219862,
          100.45466986113652,
          157.3505121487356,
          100.45466986113652,
          127.33567457123112,
          141.21199808219862,
          165.6321180513006,
          127.33567457123112,
          157.3505121487356,
          141.21199808219862,
          100.45466986113652,
          100.45466986113652,
          157.3505121487356,
          352.4651472131677,
          141.21199808219862,
          127.33567457123112,
          100.45466986113652,
          141.21199808219862,
          141.21199808219862,
          100.45466986113652,
          127.33567457123112,
          157.3505121487356,
          141.21199808219862,
          157.3505121487356,
          165.6321180513006,
          141.21199808219862,
          100.45466986113652,
          100.45466986113652,
          127.33567457123112,
          141.21199808219862,
          141.21199808219862,
          100.45466986113652,
          141.21199808219862,
          100.45466986113652,
          141.21199808219862,
          127.33567457123112,
          165.6321180513006,
          199.69207064108247,
          127.33567457123112,
          100.45466986113652,
          100.45466986113652,
          127.33567457123112,
          100.45466986113652,
          100.45466986113652,
          119.7232157653423,
          141.21199808219862,
          331.2642361026012,
          141.21199808219862,
          165.6321180513006,
          316.96506044349616,
          100.45466986113652,
          141.21199808219862,
          127.33567457123112,
          282.42399616439724,
          141.21199808219862,
          165.6321180513006,
          127.33567457123112,
          209.8006828649808,
          157.3505121487356,
          165.6321180513006,
          106.11306214269258,
          165.6321180513006,
          127.33567457123112,
          254.67134914246225,
          165.6321180513006,
          127.33567457123112,
          127.33567457123112,
          282.42399616439724,
          100.45466986113652,
          141.21199808219862,
          141.21199808219862,
          282.42399616439724,
          141.21199808219862,
          100.45466986113652,
          331.2642361026012,
          165.6321180513006,
          100.45466986113652,
          141.21199808219862,
          127.33567457123112,
          141.21199808219862,
          141.21199808219862,
          199.69207064108247,
          165.6321180513006,
          106.11306214269258,
          157.3505121487356,
          157.3505121487356,
          165.6321180513006,
          141.21199808219862,
          157.3505121487356,
          165.6321180513006,
          141.21199808219862,
          127.33567457123112,
          141.21199808219862,
          141.21199808219862,
          141.21199808219862,
          127.33567457123112,
          141.21199808219862,
          100.45466986113652,
          100.45466986113652,
          141.21199808219862,
          157.3505121487356,
          165.6321180513006,
          141.21199808219862,
          100.45466986113652,
          141.21199808219862,
          127.33567457123112,
          141.21199808219862,
          100.45466986113652,
          127.33567457123112,
          127.33567457123112,
          141.21199808219862,
          158.48253022174808,
          141.21199808219862,
          100.45466986113652,
          127.33567457123112,
          165.6321180513006,
          226.98300468106115,
          141.21199808219862,
          127.33567457123112,
          100.45466986113652,
          158.48253022174808,
          127.33567457123112,
          165.6321180513006,
          100.45466986113652,
          127.33567457123112,
          127.33567457123112,
          141.21199808219862,
          127.33567457123112,
          141.21199808219862,
          141.21199808219862,
          141.21199808219862,
          141.21199808219862,
          141.21199808219862,
          165.6321180513006,
          141.21199808219862,
          127.33567457123112,
          141.21199808219862,
          226.98300468106115,
          127.33567457123112,
          141.21199808219862,
          209.8006828649808,
          100.45466986113652,
          100.45466986113652,
          127.33567457123112,
          141.21199808219862,
          106.11306214269258,
          127.33567457123112,
          106.11306214269258,
          141.21199808219862,
          141.21199808219862,
          141.21199808219862,
          141.21199808219862,
          141.21199808219862,
          141.21199808219862,
          141.21199808219862,
          141.21199808219862,
          141.21199808219862,
          100.45466986113652,
          127.33567457123112,
          106.11306214269258,
          141.21199808219862,
          141.21199808219862,
          141.21199808219862,
          141.21199808219862,
          127.33567457123112,
          141.21199808219862,
          141.21199808219862,
          111.93520355955212,
          127.33567457123112,
          106.11306214269258,
          100.45466986113652,
          141.21199808219862,
          100.45466986113652,
          165.6321180513006,
          141.21199808219862,
          141.21199808219862,
          141.21199808219862,
          165.6321180513006,
          331.2642361026012,
          141.21199808219862,
          141.21199808219862,
          135.0942111925629,
          141.21199808219862,
          331.2642361026012,
          117.82653006268644,
          157.3505121487356,
          135.0942111925629,
          157.3505121487356,
          106.11306214269258,
          157.3505121487356,
          100.45466986113652,
          100.45466986113652,
          111.93520355955212,
          100.45466986113652,
          141.21199808219862,
          176.23257360658386,
          282.42399616439724,
          127.33567457123112,
          141.21199808219862,
          157.3505121487356,
          141.21199808219862,
          141.21199808219862,
          157.3505121487356,
          141.21199808219862,
          141.21199808219862,
          100.45466986113652,
          141.21199808219862,
          100.45466986113652,
          141.21199808219862,
          141.21199808219862,
          316.96506044349616,
          165.6321180513006,
          141.21199808219862,
          111.93520355955212,
          141.21199808219862,
          135.0942111925629,
          141.21199808219862,
          282.42399616439724,
          141.21199808219862,
          127.33567457123112,
          141.21199808219862,
          141.21199808219862,
          141.21199808219862,
          100.45466986113652,
          141.21199808219862,
          100.45466986113652,
          157.3505121487356,
          100.45466986113652,
          157.3505121487356,
          106.11306214269258,
          141.21199808219862,
          100.45466986113652,
          100.45466986113652,
          127.33567457123112,
          141.21199808219862,
          141.21199808219862,
          157.3505121487356,
          141.21199808219862,
          100.45466986113652,
          127.33567457123112,
          106.11306214269258,
          165.6321180513006,
          141.21199808219862,
          135.0942111925629,
          100.45466986113652,
          111.93520355955212,
          141.21199808219862,
          127.33567457123112,
          141.21199808219862,
          141.21199808219862,
          157.3505121487356,
          165.6321180513006,
          209.8006828649808,
          165.6321180513006,
          141.21199808219862,
          141.21199808219862,
          209.8006828649808,
          127.33567457123112,
          127.33567457123112,
          100.45466986113652,
          127.33567457123112,
          141.21199808219862,
          141.21199808219862,
          141.21199808219862,
          157.3505121487356,
          282.42399616439724,
          209.8006828649808,
          100.45466986113652,
          127.33567457123112,
          141.21199808219862,
          141.21199808219862,
          127.33567457123112,
          157.3505121487356,
          165.6321180513006,
          157.3505121487356,
          141.21199808219862,
          135.0942111925629,
          141.21199808219862,
          209.8006828649808,
          141.21199808219862,
          165.6321180513006,
          165.6321180513006,
          141.21199808219862,
          117.82653006268644,
          157.3505121487356,
          100.45466986113652,
          157.3505121487356,
          282.42399616439724,
          267.3384360344031,
          141.21199808219862,
          141.21199808219862,
          169.78089942830815,
          141.21199808219862,
          141.21199808219862,
          157.3505121487356,
          127.33567457123112,
          189.90579052433608,
          135.0942111925629,
          165.6321180513006,
          157.3505121487356,
          282.42399616439724,
          141.21199808219862,
          127.33567457123112,
          100.45466986113652,
          234.50740003017813,
          209.8006828649808,
          141.21199808219862,
          106.11306214269258,
          141.21199808219862,
          176.23257360658386,
          141.21199808219862,
          141.21199808219862,
          157.3505121487356,
          100.45466986113652,
          141.21199808219862,
          141.21199808219862,
          200.84255993695703,
          100.45466986113652,
          141.21199808219862,
          141.21199808219862,
          157.3505121487356,
          141.21199808219862,
          135.0942111925629,
          127.33567457123112,
          200.84255993695703,
          200.84255993695703,
          106.11306214269258,
          141.21199808219862,
          135.0942111925629,
          141.21199808219862,
          157.3505121487356,
          141.21199808219862,
          100.45466986113652,
          100.45466986113652,
          141.21199808219862,
          127.33567457123112,
          209.8006828649808,
          331.2642361026012,
          141.21199808219862,
          234.50740003017813,
          165.6321180513006,
          282.42399616439724,
          111.93520355955212,
          141.21199808219862,
          157.3505121487356,
          141.21199808219862,
          165.6321180513006,
          141.21199808219862,
          100.45466986113652,
          165.6321180513006,
          141.21199808219862,
          100.45466986113652,
          157.3505121487356,
          141.21199808219862,
          141.21199808219862,
          176.23257360658386,
          176.23257360658386,
          141.21199808219862,
          165.6321180513006,
          141.21199808219862,
          100.45466986113652,
          127.33567457123112,
          125.36742798669836,
          141.21199808219862,
          157.3505121487356,
          165.6321180513006,
          141.21199808219862,
          135.0942111925629,
          100.45466986113652,
          158.48253022174808,
          111.93520355955212,
          135.0942111925629,
          165.6321180513006,
          141.21199808219862,
          141.21199808219862,
          165.6321180513006,
          141.21199808219862,
          165.6321180513006,
          141.21199808219862,
          141.21199808219862,
          141.21199808219862,
          141.21199808219862,
          135.0942111925629,
          100.45466986113652,
          141.21199808219862,
          141.21199808219862,
          127.33567457123112,
          141.21199808219862,
          165.6321180513006,
          157.3505121487356,
          100.45466986113652,
          127.33567457123112,
          157.3505121487356,
          141.21199808219862,
          100.45466986113652,
          141.21199808219862,
          141.21199808219862,
          127.33567457123112,
          141.21199808219862,
          282.42399616439724,
          165.6321180513006,
          141.21199808219862,
          141.21199808219862,
          141.21199808219862,
          141.21199808219862,
          127.33567457123112,
          157.3505121487356,
          276.053530085501,
          157.3505121487356,
          276.053530085501,
          141.21199808219862,
          100.45466986113652,
          141.21199808219862,
          157.3505121487356,
          141.21199808219862,
          141.21199808219862,
          141.21199808219862,
          141.21199808219862,
          141.21199808219862,
          127.33567457123112,
          106.11306214269258,
          127.33567457123112,
          100.45466986113652,
          165.6321180513006,
          106.11306214269258,
          141.21199808219862,
          100.45466986113652,
          189.90579052433608,
          141.21199808219862,
          276.053530085501,
          127.33567457123112,
          141.21199808219862,
          331.2642361026012,
          100.45466986113652,
          100.45466986113652,
          141.21199808219862,
          111.93520355955212,
          106.11306214269258,
          111.93520355955212,
          141.21199808219862,
          141.21199808219862,
          141.21199808219862,
          157.3505121487356,
          157.3505121487356,
          127.33567457123112,
          127.33567457123112,
          141.21199808219862,
          157.3505121487356,
          100.45466986113652,
          165.6321180513006,
          141.21199808219862,
          135.0942111925629,
          127.33567457123112,
          127.33567457123112,
          157.3505121487356,
          100.45466986113652,
          127.33567457123112,
          100.45466986113652,
          141.21199808219862,
          135.0942111925629,
          141.21199808219862,
          127.33567457123112,
          100.45466986113652,
          165.6321180513006,
          157.3505121487356,
          176.23257360658386,
          141.21199808219862,
          141.21199808219862,
          100.45466986113652,
          157.3505121487356,
          127.33567457123112,
          100.45466986113652,
          282.42399616439724,
          141.21199808219862,
          141.21199808219862,
          141.21199808219862,
          111.93520355955212,
          282.42399616439724,
          141.21199808219862,
          100.45466986113652,
          100.45466986113652,
          100.45466986113652,
          127.33567457123112,
          141.21199808219862,
          141.21199808219862,
          141.21199808219862,
          135.0942111925629,
          111.93520355955212,
          157.3505121487356,
          141.21199808219862,
          100.45466986113652,
          100.45466986113652,
          141.21199808219862,
          157.3505121487356,
          141.21199808219862,
          165.6321180513006,
          141.21199808219862,
          157.3505121487356,
          141.21199808219862,
          141.21199808219862,
          141.21199808219862,
          100.45466986113652,
          141.21199808219862,
          276.053530085501,
          111.93520355955212,
          165.6321180513006,
          282.42399616439724,
          141.21199808219862,
          107.98564559226952,
          157.3505121487356,
          141.21199808219862,
          100.45466986113652,
          111.93520355955212,
          157.3505121487356,
          157.3505121487356,
          165.6321180513006,
          176.23257360658386,
          127.33567457123112,
          141.21199808219862,
          165.6321180513006,
          141.21199808219862,
          100.45466986113652,
          141.21199808219862,
          141.21199808219862,
          141.21199808219862,
          141.21199808219862,
          254.67134914246225,
          157.3505121487356,
          100.45466986113652,
          141.21199808219862,
          141.21199808219862,
          127.33567457123112,
          100.45466986113652,
          141.21199808219862,
          141.21199808219862,
          141.21199808219862,
          100.45466986113652,
          200.84255993695703,
          141.21199808219862,
          165.6321180513006,
          100.45466986113652,
          157.3505121487356,
          141.21199808219862,
          157.3505121487356,
          135.0942111925629,
          141.21199808219862,
          141.21199808219862,
          141.21199808219862,
          100.45466986113652,
          141.21199808219862,
          127.33567457123112,
          165.6321180513006,
          141.21199808219862,
          100.45466986113652,
          100.45466986113652,
          127.33567457123112,
          100.45466986113652,
          111.93520355955212,
          157.3505121487356,
          127.33567457123112,
          209.8006828649808,
          165.6321180513006,
          135.0942111925629,
          157.3505121487356,
          176.23257360658386,
          165.6321180513006,
          141.21199808219862,
          141.21199808219862,
          141.21199808219862,
          100.45466986113652,
          141.21199808219862,
          100.45466986113652,
          141.21199808219862,
          165.6321180513006,
          141.21199808219862,
          157.3505121487356,
          127.33567457123112,
          141.21199808219862,
          157.3505121487356,
          141.21199808219862,
          157.3505121487356,
          141.21199808219862,
          157.3505121487356,
          141.21199808219862,
          100.45466986113652,
          161.72539083525606,
          127.33567457123112,
          209.8006828649808,
          117.82653006268644,
          157.3505121487356,
          254.67134914246225,
          127.33567457123112,
          100.45466986113652,
          141.21199808219862,
          165.6321180513006,
          100.45466986113652,
          141.21199808219862,
          127.33567457123112,
          100.45466986113652,
          141.21199808219862,
          100.45466986113652,
          165.6321180513006,
          141.21199808219862,
          141.21199808219862,
          165.6321180513006,
          141.21199808219862,
          100.45466986113652,
          141.21199808219862,
          100.45466986113652,
          157.3505121487356,
          157.3505121487356,
          282.42399616439724,
          111.93520355955212,
          165.6321180513006,
          141.21199808219862,
          111.93520355955212,
          127.33567457123112,
          135.0942111925629,
          141.21199808219862,
          100.45466986113652,
          157.3505121487356,
          100.45466986113652,
          276.053530085501,
          141.21199808219862,
          141.21199808219862,
          282.42399616439724,
          100.45466986113652,
          141.21199808219862,
          176.23257360658386,
          234.50740003017813,
          276.053530085501,
          117.82653006268644,
          117.82653006268644,
          90.58340172449304,
          282.42399616439724,
          165.6321180513006,
          100.45466986113652,
          141.21199808219862,
          146.86047800548656,
          111.93520355955212,
          141.21199808219862,
          125.36742798669836,
          141.21199808219862,
          282.42399616439724,
          157.3505121487356,
          157.3505121487356,
          141.21199808219862,
          127.33567457123112,
          127.33567457123112,
          157.3505121487356,
          100.45466986113652,
          157.3505121487356,
          157.3505121487356,
          141.21199808219862,
          141.21199808219862,
          127.33567457123112,
          141.21199808219862,
          141.21199808219862,
          157.3505121487356,
          165.6321180513006,
          141.21199808219862,
          226.4155471693585,
          209.8006828649808,
          111.93520355955212,
          100.45466986113652,
          158.48253022174808,
          141.21199808219862,
          141.21199808219862,
          141.21199808219862,
          165.6321180513006,
          282.42399616439724,
          135.0942111925629,
          125.36742798669836,
          100.45466986113652,
          100.45466986113652,
          282.42399616439724,
          141.21199808219862,
          127.33567457123112,
          127.33567457123112,
          165.6321180513006,
          141.21199808219862,
          141.21199808219862,
          157.3505121487356,
          352.4651472131677,
          135.0942111925629,
          127.33567457123112,
          111.93520355955212,
          100.45466986113652,
          111.93520355955212,
          157.3505121487356,
          141.21199808219862,
          157.3505121487356,
          111.93520355955212,
          165.6321180513006,
          111.93520355955212,
          135.0942111925629,
          157.3505121487356,
          254.67134914246225,
          209.8006828649808,
          141.21199808219862,
          157.3505121487356,
          157.3505121487356,
          141.21199808219862,
          127.33567457123112,
          100.45466986113652,
          111.93520355955212,
          141.21199808219862,
          127.33567457123112,
          127.33567457123112,
          106.11306214269258,
          100.45466986113652,
          157.3505121487356,
          141.21199808219862,
          135.0942111925629,
          165.6321180513006,
          165.6321180513006,
          157.3505121487356,
          100.45466986113652,
          141.21199808219862,
          127.33567457123112,
          157.3505121487356,
          141.21199808219862,
          141.21199808219862,
          100.45466986113652,
          165.6321180513006,
          165.6321180513006,
          141.21199808219862,
          141.21199808219862,
          141.21199808219862,
          165.6321180513006,
          141.21199808219862,
          276.053530085501,
          141.21199808219862,
          117.82653006268644,
          165.6321180513006,
          157.3505121487356,
          141.21199808219862,
          100.45466986113652,
          141.21199808219862,
          141.21199808219862,
          165.6321180513006,
          146.86047800548656,
          176.23257360658386,
          100.45466986113652,
          165.6321180513006,
          141.21199808219862,
          141.21199808219862,
          165.6321180513006,
          100.45466986113652,
          111.1413368676404,
          141.21199808219862,
          100.45466986113652,
          165.6321180513006,
          100.45466986113652,
          127.33567457123112,
          135.0942111925629,
          106.11306214269258,
          157.3505121487356,
          276.053530085501,
          146.86047800548656,
          157.3505121487356,
          254.67134914246225,
          165.6321180513006,
          141.21199808219862,
          141.21199808219862,
          100.45466986113652,
          141.21199808219862,
          276.053530085501,
          127.33567457123112,
          165.6321180513006,
          157.3505121487356,
          141.21199808219862,
          141.21199808219862,
          176.23257360658386,
          141.21199808219862,
          141.21199808219862,
          157.3505121487356,
          157.3505121487356,
          352.4651472131677,
          141.21199808219862,
          141.21199808219862,
          141.21199808219862,
          165.6321180513006,
          165.6321180513006,
          127.33567457123112,
          141.21199808219862,
          141.21199808219862,
          100.45466986113652,
          141.21199808219862,
          276.053530085501,
          141.21199808219862,
          165.6321180513006,
          100.45466986113652,
          176.23257360658386,
          141.21199808219862,
          100.45466986113652,
          111.93520355955212,
          100.45466986113652,
          176.23257360658386,
          100.45466986113652,
          276.053530085501,
          157.3505121487356,
          176.23257360658386,
          100.45466986113652,
          141.21199808219862,
          157.3505121487356,
          169.78089942830815,
          127.33567457123112,
          106.11306214269258,
          100.45466986113652,
          100.45466986113652,
          194.94753717542463,
          141.21199808219862,
          176.23257360658386,
          141.21199808219862,
          106.11306214269258,
          111.93520355955212,
          141.21199808219862,
          157.3505121487356,
          165.6321180513006,
          176.23257360658386,
          157.3505121487356,
          254.67134914246225,
          165.6321180513006,
          135.0942111925629,
          276.053530085501,
          135.0942111925629,
          165.6321180513006,
          176.23257360658386,
          141.21199808219862,
          176.23257360658386,
          100.45466986113652,
          100.45466986113652,
          100.45466986113652,
          141.21199808219862,
          127.33567457123112,
          141.21199808219862,
          276.053530085501,
          209.8006828649808,
          127.33567457123112,
          157.3505121487356,
          127.33567457123112,
          141.21199808219862,
          111.93520355955212,
          282.42399616439724,
          100.45466986113652,
          127.33567457123112,
          141.21199808219862,
          165.6321180513006,
          141.21199808219862,
          100.45466986113652,
          111.93520355955212,
          100.45466986113652,
          141.21199808219862,
          141.21199808219862,
          100.45466986113652,
          157.3505121487356,
          176.23257360658386,
          141.21199808219862,
          100.45466986113652,
          141.21199808219862,
          165.6321180513006,
          276.053530085501,
          165.6321180513006,
          100.45466986113652,
          141.21199808219862,
          157.3505121487356,
          141.21199808219862,
          165.6321180513006,
          100.45466986113652,
          111.93520355955212,
          165.6321180513006,
          111.93520355955212,
          157.3505121487356,
          157.3505121487356,
          157.3505121487356,
          111.93520355955212,
          141.21199808219862,
          176.23257360658386,
          157.3505121487356,
          157.3505121487356,
          117.82653006268644,
          117.82653006268644,
          100.45466986113652,
          254.67134914246225,
          157.3505121487356,
          157.3505121487356,
          141.21199808219862,
          165.6321180513006,
          165.6321180513006,
          157.3505121487356,
          141.21199808219862,
          125.36742798669836,
          111.93520355955212,
          111.93520355955212,
          276.053530085501,
          127.33567457123112,
          111.93520355955212,
          100.45466986113652,
          127.33567457123112,
          157.3505121487356,
          141.21199808219862,
          176.23257360658386,
          100.45466986113652,
          157.3505121487356,
          141.21199808219862,
          157.3505121487356,
          141.21199808219862,
          111.93520355955212,
          141.21199808219862,
          141.21199808219862,
          157.3505121487356,
          141.21199808219862,
          157.3505121487356,
          127.33567457123112,
          127.33567457123112,
          135.0942111925629,
          209.8006828649808,
          141.21199808219862,
          141.21199808219862,
          100.45466986113652,
          276.053530085501,
          100.45466986113652,
          100.45466986113652,
          100.45466986113652,
          165.6321180513006,
          141.21199808219862,
          141.21199808219862,
          127.33567457123112,
          141.21199808219862,
          141.21199808219862,
          141.21199808219862,
          165.6321180513006,
          127.33567457123112,
          165.6321180513006,
          282.42399616439724,
          226.4155471693585,
          100.45466986113652,
          100.45466986113652,
          176.23257360658386,
          165.6321180513006,
          176.23257360658386,
          106.11306214269258,
          141.21199808219862,
          127.33567457123112,
          100.45466986113652,
          141.21199808219862,
          234.9767648087785,
          127.33567457123112,
          224.1738090785728,
          331.2642361026012,
          141.21199808219862,
          157.3505121487356,
          141.21199808219862,
          157.3505121487356,
          276.053530085501,
          100.45466986113652,
          100.45466986113652,
          100.45466986113652,
          127.33567457123112,
          165.6321180513006,
          125.36742798669836,
          141.21199808219862,
          141.21199808219862,
          127.33567457123112,
          100.45466986113652,
          127.33567457123112,
          125.36742798669836,
          125.36742798669836,
          100.45466986113652,
          127.33567457123112,
          141.21199808219862,
          125.36742798669836,
          127.33567457123112,
          141.21199808219862,
          141.21199808219862,
          141.21199808219862,
          276.053530085501,
          100.45466986113652,
          100.45466986113652,
          165.6321180513006,
          224.1738090785728,
          165.6321180513006,
          127.33567457123112,
          352.4651472131677,
          165.6321180513006,
          127.33567457123112,
          165.6321180513006,
          165.6321180513006,
          157.3505121487356,
          100.45466986113652,
          100.45466986113652,
          157.3505121487356,
          224.1738090785728,
          125.36742798669836,
          141.21199808219862,
          127.33567457123112,
          100.45466986113652,
          157.3505121487356,
          111.93520355955212,
          141.21199808219862,
          141.21199808219862,
          141.21199808219862,
          127.33567457123112,
          100.45466986113652,
          127.33567457123112,
          141.21199808219862,
          209.8006828649808,
          141.21199808219862,
          165.6321180513006,
          141.21199808219862,
          220.84282406840083,
          141.21199808219862,
          176.23257360658386,
          141.21199808219862,
          141.21199808219862,
          209.8006828649808,
          100.45466986113652,
          100.45466986113652,
          141.21199808219862,
          141.21199808219862,
          282.42399616439724,
          141.21199808219862,
          127.33567457123112,
          157.3505121487356,
          141.21199808219862,
          220.84282406840083,
          157.3505121487356,
          157.3505121487356,
          141.21199808219862,
          100.45466986113652,
          100.45466986113652,
          282.42399616439724,
          141.21199808219862,
          141.21199808219862,
          111.93520355955212,
          141.21199808219862,
          141.21199808219862,
          141.21199808219862,
          100.45466986113652,
          100.45466986113652,
          141.21199808219862,
          157.3505121487356,
          141.21199808219862,
          141.21199808219862,
          141.21199808219862,
          100.45466986113652,
          209.8006828649808,
          141.21199808219862,
          141.21199808219862,
          100.45466986113652,
          141.21199808219862,
          141.21199808219862,
          141.21199808219862,
          141.21199808219862,
          276.053530085501,
          127.33567457123112,
          141.21199808219862,
          100.45466986113652,
          226.4155471693585,
          165.6321180513006,
          141.21199808219862,
          100.45466986113652,
          127.33567457123112,
          100.45466986113652,
          127.33567457123112,
          100.45466986113652,
          100.45466986113652,
          141.21199808219862,
          276.053530085501,
          141.21199808219862,
          141.21199808219862,
          100.45466986113652,
          100.45466986113652,
          106.11306214269258,
          141.21199808219862,
          226.4155471693585,
          141.21199808219862,
          127.33567457123112,
          141.21199808219862,
          127.33567457123112,
          135.0942111925629,
          106.11306214269258,
          106.11306214269258,
          141.21199808219862,
          157.3505121487356,
          141.21199808219862,
          141.21199808219862,
          141.21199808219862,
          176.23257360658386,
          146.86047800548656,
          100.45466986113652,
          276.053530085501,
          100.45466986113652,
          141.21199808219862,
          141.21199808219862,
          176.23257360658386,
          157.3505121487356,
          100.45466986113652,
          127.33567457123112,
          135.0942111925629,
          141.21199808219862,
          209.8006828649808,
          100.45466986113652,
          141.21199808219862,
          165.6321180513006,
          141.21199808219862,
          165.6321180513006,
          100.45466986113652,
          127.33567457123112,
          157.3505121487356,
          141.21199808219862,
          111.93520355955212,
          141.21199808219862,
          141.21199808219862,
          276.053530085501,
          100.45466986113652,
          100.45466986113652,
          141.21199808219862,
          157.3505121487356,
          100.45466986113652,
          100.45466986113652,
          127.33567457123112,
          100.45466986113652,
          141.21199808219862,
          141.21199808219862,
          157.3505121487356,
          165.6321180513006,
          100.45466986113652,
          100.45466986113652,
          100.45466986113652,
          141.21199808219862,
          141.21199808219862,
          100.45466986113652,
          135.0942111925629,
          100.45466986113652,
          157.3505121487356,
          276.053530085501,
          111.93520355955212,
          100.45466986113652
         ],
         "x0": " ",
         "xaxis": "x",
         "y0": " ",
         "yaxis": "y"
        }
       ],
       "layout": {
        "boxmode": "group",
        "legend": {
         "tracegroupgap": 0
        },
        "margin": {
         "t": 60
        },
        "template": {
         "data": {
          "bar": [
           {
            "error_x": {
             "color": "#2a3f5f"
            },
            "error_y": {
             "color": "#2a3f5f"
            },
            "marker": {
             "line": {
              "color": "#E5ECF6",
              "width": 0.5
             },
             "pattern": {
              "fillmode": "overlay",
              "size": 10,
              "solidity": 0.2
             }
            },
            "type": "bar"
           }
          ],
          "barpolar": [
           {
            "marker": {
             "line": {
              "color": "#E5ECF6",
              "width": 0.5
             },
             "pattern": {
              "fillmode": "overlay",
              "size": 10,
              "solidity": 0.2
             }
            },
            "type": "barpolar"
           }
          ],
          "carpet": [
           {
            "aaxis": {
             "endlinecolor": "#2a3f5f",
             "gridcolor": "white",
             "linecolor": "white",
             "minorgridcolor": "white",
             "startlinecolor": "#2a3f5f"
            },
            "baxis": {
             "endlinecolor": "#2a3f5f",
             "gridcolor": "white",
             "linecolor": "white",
             "minorgridcolor": "white",
             "startlinecolor": "#2a3f5f"
            },
            "type": "carpet"
           }
          ],
          "choropleth": [
           {
            "colorbar": {
             "outlinewidth": 0,
             "ticks": ""
            },
            "type": "choropleth"
           }
          ],
          "contour": [
           {
            "colorbar": {
             "outlinewidth": 0,
             "ticks": ""
            },
            "colorscale": [
             [
              0,
              "#0d0887"
             ],
             [
              0.1111111111111111,
              "#46039f"
             ],
             [
              0.2222222222222222,
              "#7201a8"
             ],
             [
              0.3333333333333333,
              "#9c179e"
             ],
             [
              0.4444444444444444,
              "#bd3786"
             ],
             [
              0.5555555555555556,
              "#d8576b"
             ],
             [
              0.6666666666666666,
              "#ed7953"
             ],
             [
              0.7777777777777778,
              "#fb9f3a"
             ],
             [
              0.8888888888888888,
              "#fdca26"
             ],
             [
              1,
              "#f0f921"
             ]
            ],
            "type": "contour"
           }
          ],
          "contourcarpet": [
           {
            "colorbar": {
             "outlinewidth": 0,
             "ticks": ""
            },
            "type": "contourcarpet"
           }
          ],
          "heatmap": [
           {
            "colorbar": {
             "outlinewidth": 0,
             "ticks": ""
            },
            "colorscale": [
             [
              0,
              "#0d0887"
             ],
             [
              0.1111111111111111,
              "#46039f"
             ],
             [
              0.2222222222222222,
              "#7201a8"
             ],
             [
              0.3333333333333333,
              "#9c179e"
             ],
             [
              0.4444444444444444,
              "#bd3786"
             ],
             [
              0.5555555555555556,
              "#d8576b"
             ],
             [
              0.6666666666666666,
              "#ed7953"
             ],
             [
              0.7777777777777778,
              "#fb9f3a"
             ],
             [
              0.8888888888888888,
              "#fdca26"
             ],
             [
              1,
              "#f0f921"
             ]
            ],
            "type": "heatmap"
           }
          ],
          "heatmapgl": [
           {
            "colorbar": {
             "outlinewidth": 0,
             "ticks": ""
            },
            "colorscale": [
             [
              0,
              "#0d0887"
             ],
             [
              0.1111111111111111,
              "#46039f"
             ],
             [
              0.2222222222222222,
              "#7201a8"
             ],
             [
              0.3333333333333333,
              "#9c179e"
             ],
             [
              0.4444444444444444,
              "#bd3786"
             ],
             [
              0.5555555555555556,
              "#d8576b"
             ],
             [
              0.6666666666666666,
              "#ed7953"
             ],
             [
              0.7777777777777778,
              "#fb9f3a"
             ],
             [
              0.8888888888888888,
              "#fdca26"
             ],
             [
              1,
              "#f0f921"
             ]
            ],
            "type": "heatmapgl"
           }
          ],
          "histogram": [
           {
            "marker": {
             "pattern": {
              "fillmode": "overlay",
              "size": 10,
              "solidity": 0.2
             }
            },
            "type": "histogram"
           }
          ],
          "histogram2d": [
           {
            "colorbar": {
             "outlinewidth": 0,
             "ticks": ""
            },
            "colorscale": [
             [
              0,
              "#0d0887"
             ],
             [
              0.1111111111111111,
              "#46039f"
             ],
             [
              0.2222222222222222,
              "#7201a8"
             ],
             [
              0.3333333333333333,
              "#9c179e"
             ],
             [
              0.4444444444444444,
              "#bd3786"
             ],
             [
              0.5555555555555556,
              "#d8576b"
             ],
             [
              0.6666666666666666,
              "#ed7953"
             ],
             [
              0.7777777777777778,
              "#fb9f3a"
             ],
             [
              0.8888888888888888,
              "#fdca26"
             ],
             [
              1,
              "#f0f921"
             ]
            ],
            "type": "histogram2d"
           }
          ],
          "histogram2dcontour": [
           {
            "colorbar": {
             "outlinewidth": 0,
             "ticks": ""
            },
            "colorscale": [
             [
              0,
              "#0d0887"
             ],
             [
              0.1111111111111111,
              "#46039f"
             ],
             [
              0.2222222222222222,
              "#7201a8"
             ],
             [
              0.3333333333333333,
              "#9c179e"
             ],
             [
              0.4444444444444444,
              "#bd3786"
             ],
             [
              0.5555555555555556,
              "#d8576b"
             ],
             [
              0.6666666666666666,
              "#ed7953"
             ],
             [
              0.7777777777777778,
              "#fb9f3a"
             ],
             [
              0.8888888888888888,
              "#fdca26"
             ],
             [
              1,
              "#f0f921"
             ]
            ],
            "type": "histogram2dcontour"
           }
          ],
          "mesh3d": [
           {
            "colorbar": {
             "outlinewidth": 0,
             "ticks": ""
            },
            "type": "mesh3d"
           }
          ],
          "parcoords": [
           {
            "line": {
             "colorbar": {
              "outlinewidth": 0,
              "ticks": ""
             }
            },
            "type": "parcoords"
           }
          ],
          "pie": [
           {
            "automargin": true,
            "type": "pie"
           }
          ],
          "scatter": [
           {
            "fillpattern": {
             "fillmode": "overlay",
             "size": 10,
             "solidity": 0.2
            },
            "type": "scatter"
           }
          ],
          "scatter3d": [
           {
            "line": {
             "colorbar": {
              "outlinewidth": 0,
              "ticks": ""
             }
            },
            "marker": {
             "colorbar": {
              "outlinewidth": 0,
              "ticks": ""
             }
            },
            "type": "scatter3d"
           }
          ],
          "scattercarpet": [
           {
            "marker": {
             "colorbar": {
              "outlinewidth": 0,
              "ticks": ""
             }
            },
            "type": "scattercarpet"
           }
          ],
          "scattergeo": [
           {
            "marker": {
             "colorbar": {
              "outlinewidth": 0,
              "ticks": ""
             }
            },
            "type": "scattergeo"
           }
          ],
          "scattergl": [
           {
            "marker": {
             "colorbar": {
              "outlinewidth": 0,
              "ticks": ""
             }
            },
            "type": "scattergl"
           }
          ],
          "scattermapbox": [
           {
            "marker": {
             "colorbar": {
              "outlinewidth": 0,
              "ticks": ""
             }
            },
            "type": "scattermapbox"
           }
          ],
          "scatterpolar": [
           {
            "marker": {
             "colorbar": {
              "outlinewidth": 0,
              "ticks": ""
             }
            },
            "type": "scatterpolar"
           }
          ],
          "scatterpolargl": [
           {
            "marker": {
             "colorbar": {
              "outlinewidth": 0,
              "ticks": ""
             }
            },
            "type": "scatterpolargl"
           }
          ],
          "scatterternary": [
           {
            "marker": {
             "colorbar": {
              "outlinewidth": 0,
              "ticks": ""
             }
            },
            "type": "scatterternary"
           }
          ],
          "surface": [
           {
            "colorbar": {
             "outlinewidth": 0,
             "ticks": ""
            },
            "colorscale": [
             [
              0,
              "#0d0887"
             ],
             [
              0.1111111111111111,
              "#46039f"
             ],
             [
              0.2222222222222222,
              "#7201a8"
             ],
             [
              0.3333333333333333,
              "#9c179e"
             ],
             [
              0.4444444444444444,
              "#bd3786"
             ],
             [
              0.5555555555555556,
              "#d8576b"
             ],
             [
              0.6666666666666666,
              "#ed7953"
             ],
             [
              0.7777777777777778,
              "#fb9f3a"
             ],
             [
              0.8888888888888888,
              "#fdca26"
             ],
             [
              1,
              "#f0f921"
             ]
            ],
            "type": "surface"
           }
          ],
          "table": [
           {
            "cells": {
             "fill": {
              "color": "#EBF0F8"
             },
             "line": {
              "color": "white"
             }
            },
            "header": {
             "fill": {
              "color": "#C8D4E3"
             },
             "line": {
              "color": "white"
             }
            },
            "type": "table"
           }
          ]
         },
         "layout": {
          "annotationdefaults": {
           "arrowcolor": "#2a3f5f",
           "arrowhead": 0,
           "arrowwidth": 1
          },
          "autotypenumbers": "strict",
          "coloraxis": {
           "colorbar": {
            "outlinewidth": 0,
            "ticks": ""
           }
          },
          "colorscale": {
           "diverging": [
            [
             0,
             "#8e0152"
            ],
            [
             0.1,
             "#c51b7d"
            ],
            [
             0.2,
             "#de77ae"
            ],
            [
             0.3,
             "#f1b6da"
            ],
            [
             0.4,
             "#fde0ef"
            ],
            [
             0.5,
             "#f7f7f7"
            ],
            [
             0.6,
             "#e6f5d0"
            ],
            [
             0.7,
             "#b8e186"
            ],
            [
             0.8,
             "#7fbc41"
            ],
            [
             0.9,
             "#4d9221"
            ],
            [
             1,
             "#276419"
            ]
           ],
           "sequential": [
            [
             0,
             "#0d0887"
            ],
            [
             0.1111111111111111,
             "#46039f"
            ],
            [
             0.2222222222222222,
             "#7201a8"
            ],
            [
             0.3333333333333333,
             "#9c179e"
            ],
            [
             0.4444444444444444,
             "#bd3786"
            ],
            [
             0.5555555555555556,
             "#d8576b"
            ],
            [
             0.6666666666666666,
             "#ed7953"
            ],
            [
             0.7777777777777778,
             "#fb9f3a"
            ],
            [
             0.8888888888888888,
             "#fdca26"
            ],
            [
             1,
             "#f0f921"
            ]
           ],
           "sequentialminus": [
            [
             0,
             "#0d0887"
            ],
            [
             0.1111111111111111,
             "#46039f"
            ],
            [
             0.2222222222222222,
             "#7201a8"
            ],
            [
             0.3333333333333333,
             "#9c179e"
            ],
            [
             0.4444444444444444,
             "#bd3786"
            ],
            [
             0.5555555555555556,
             "#d8576b"
            ],
            [
             0.6666666666666666,
             "#ed7953"
            ],
            [
             0.7777777777777778,
             "#fb9f3a"
            ],
            [
             0.8888888888888888,
             "#fdca26"
            ],
            [
             1,
             "#f0f921"
            ]
           ]
          },
          "colorway": [
           "#636efa",
           "#EF553B",
           "#00cc96",
           "#ab63fa",
           "#FFA15A",
           "#19d3f3",
           "#FF6692",
           "#B6E880",
           "#FF97FF",
           "#FECB52"
          ],
          "font": {
           "color": "#2a3f5f"
          },
          "geo": {
           "bgcolor": "white",
           "lakecolor": "white",
           "landcolor": "#E5ECF6",
           "showlakes": true,
           "showland": true,
           "subunitcolor": "white"
          },
          "hoverlabel": {
           "align": "left"
          },
          "hovermode": "closest",
          "mapbox": {
           "style": "light"
          },
          "paper_bgcolor": "white",
          "plot_bgcolor": "#E5ECF6",
          "polar": {
           "angularaxis": {
            "gridcolor": "white",
            "linecolor": "white",
            "ticks": ""
           },
           "bgcolor": "#E5ECF6",
           "radialaxis": {
            "gridcolor": "white",
            "linecolor": "white",
            "ticks": ""
           }
          },
          "scene": {
           "xaxis": {
            "backgroundcolor": "#E5ECF6",
            "gridcolor": "white",
            "gridwidth": 2,
            "linecolor": "white",
            "showbackground": true,
            "ticks": "",
            "zerolinecolor": "white"
           },
           "yaxis": {
            "backgroundcolor": "#E5ECF6",
            "gridcolor": "white",
            "gridwidth": 2,
            "linecolor": "white",
            "showbackground": true,
            "ticks": "",
            "zerolinecolor": "white"
           },
           "zaxis": {
            "backgroundcolor": "#E5ECF6",
            "gridcolor": "white",
            "gridwidth": 2,
            "linecolor": "white",
            "showbackground": true,
            "ticks": "",
            "zerolinecolor": "white"
           }
          },
          "shapedefaults": {
           "line": {
            "color": "#2a3f5f"
           }
          },
          "ternary": {
           "aaxis": {
            "gridcolor": "white",
            "linecolor": "white",
            "ticks": ""
           },
           "baxis": {
            "gridcolor": "white",
            "linecolor": "white",
            "ticks": ""
           },
           "bgcolor": "#E5ECF6",
           "caxis": {
            "gridcolor": "white",
            "linecolor": "white",
            "ticks": ""
           }
          },
          "title": {
           "x": 0.05
          },
          "xaxis": {
           "automargin": true,
           "gridcolor": "white",
           "linecolor": "white",
           "ticks": "",
           "title": {
            "standoff": 15
           },
           "zerolinecolor": "white",
           "zerolinewidth": 2
          },
          "yaxis": {
           "automargin": true,
           "gridcolor": "white",
           "linecolor": "white",
           "ticks": "",
           "title": {
            "standoff": 15
           },
           "zerolinecolor": "white",
           "zerolinewidth": 2
          }
         }
        },
        "xaxis": {
         "anchor": "y",
         "domain": [
          0,
          1
         ],
         "title": {
          "text": "Ppi"
         }
        },
        "yaxis": {
         "anchor": "x",
         "domain": [
          0,
          1
         ]
        }
       }
      }
     },
     "metadata": {},
     "output_type": "display_data"
    },
    {
     "data": {
      "application/vnd.plotly.v1+json": {
       "config": {
        "plotlyServerURL": "https://plot.ly"
       },
       "data": [
        {
         "alignmentgroup": "True",
         "hovertemplate": "HDD=%{x}<extra></extra>",
         "legendgroup": "",
         "marker": {
          "color": "#636efa"
         },
         "name": "",
         "notched": false,
         "offsetgroup": "",
         "orientation": "h",
         "showlegend": false,
         "type": "box",
         "x": [
          0,
          0,
          0,
          0,
          0,
          500,
          0,
          0,
          0,
          0,
          500,
          500,
          0,
          0,
          0,
          0,
          0,
          0,
          1000,
          0,
          0,
          1000,
          500,
          0,
          0,
          1000,
          0,
          0,
          0,
          1000,
          0,
          0,
          500,
          0,
          0,
          0,
          1000,
          1000,
          1000,
          0,
          1000,
          1000,
          1000,
          0,
          1000,
          0,
          0,
          1000,
          0,
          1000,
          0,
          0,
          0,
          0,
          1000,
          0,
          0,
          0,
          2000,
          0,
          2000,
          0,
          0,
          0,
          0,
          0,
          500,
          0,
          1000,
          1000,
          0,
          0,
          0,
          1000,
          1000,
          1000,
          2000,
          1000,
          1000,
          1000,
          0,
          0,
          0,
          0,
          1000,
          1000,
          0,
          0,
          1000,
          0,
          1000,
          1000,
          0,
          0,
          0,
          0,
          1000,
          0,
          0,
          1000,
          0,
          500,
          1000,
          0,
          0,
          0,
          1000,
          0,
          1000,
          0,
          1000,
          0,
          0,
          500,
          0,
          0,
          0,
          1000,
          1000,
          0,
          1000,
          2000,
          0,
          0,
          0,
          500,
          1000,
          0,
          2000,
          0,
          1000,
          1000,
          0,
          0,
          1000,
          0,
          1000,
          1000,
          1000,
          0,
          1000,
          0,
          0,
          500,
          0,
          0,
          0,
          1000,
          1000,
          1000,
          0,
          0,
          0,
          1000,
          0,
          0,
          0,
          0,
          0,
          500,
          1000,
          0,
          0,
          0,
          1000,
          1000,
          1000,
          1000,
          0,
          500,
          0,
          2000,
          500,
          500,
          0,
          1000,
          0,
          1000,
          1000,
          0,
          2000,
          0,
          0,
          0,
          0,
          0,
          0,
          0,
          0,
          1000,
          0,
          0,
          0,
          0,
          1000,
          1000,
          0,
          0,
          1000,
          0,
          1000,
          0,
          1000,
          1000,
          1000,
          0,
          1000,
          0,
          0,
          0,
          1000,
          1000,
          500,
          0,
          0,
          0,
          1000,
          0,
          0,
          0,
          0,
          0,
          0,
          1000,
          1000,
          0,
          1000,
          0,
          500,
          1000,
          1000,
          500,
          1000,
          0,
          0,
          0,
          1000,
          1000,
          1000,
          0,
          0,
          1000,
          1000,
          0,
          0,
          2000,
          1000,
          0,
          500,
          0,
          1000,
          1000,
          1000,
          0,
          0,
          0,
          0,
          1000,
          1000,
          0,
          1000,
          0,
          500,
          1000,
          1000,
          0,
          0,
          1000,
          1000,
          0,
          0,
          1000,
          0,
          0,
          500,
          1000,
          1000,
          1000,
          1000,
          2000,
          1000,
          1000,
          0,
          0,
          0,
          1000,
          0,
          0,
          1000,
          1000,
          0,
          1000,
          1000,
          0,
          0,
          1000,
          0,
          0,
          1000,
          0,
          0,
          1000,
          1000,
          2000,
          1000,
          1000,
          0,
          0,
          1000,
          1000,
          0,
          0,
          1000,
          0,
          0,
          1000,
          0,
          0,
          0,
          0,
          0,
          1000,
          0,
          1000,
          0,
          0,
          1000,
          0,
          0,
          0,
          1000,
          0,
          1000,
          1000,
          0,
          0,
          1000,
          0,
          1000,
          0,
          500,
          2000,
          1000,
          0,
          0,
          2000,
          0,
          0,
          0,
          1000,
          0,
          0,
          1000,
          0,
          0,
          2000,
          1000,
          1000,
          2000,
          0,
          500,
          0,
          1000,
          1000,
          0,
          2000,
          1000,
          1000,
          0,
          0,
          2000,
          0,
          1000,
          0,
          0,
          0,
          0,
          500,
          0,
          1000,
          1000,
          0,
          1000,
          0,
          0,
          0,
          0,
          500,
          0,
          0,
          1000,
          1000,
          1000,
          0,
          0,
          0,
          0,
          0,
          0,
          0,
          1000,
          1000,
          1000,
          0,
          1000,
          0,
          0,
          0,
          500,
          0,
          0,
          0,
          1000,
          0,
          0,
          0,
          0,
          0,
          1000,
          0,
          0,
          0,
          0,
          1000,
          1000,
          1000,
          2000,
          0,
          1000,
          0,
          0,
          0,
          0,
          0,
          0,
          1000,
          500,
          0,
          0,
          0,
          1000,
          0,
          0,
          0,
          1000,
          0,
          500,
          1000,
          0,
          0,
          0,
          0,
          0,
          0,
          1000,
          500,
          1000,
          0,
          0,
          0,
          1000,
          0,
          1000,
          0,
          0,
          500,
          500,
          2000,
          1000,
          0,
          0,
          500,
          0,
          0,
          1000,
          0,
          0,
          0,
          1000,
          0,
          0,
          1000,
          0,
          0,
          0,
          0,
          0,
          0,
          0,
          0,
          0,
          0,
          1000,
          1000,
          1000,
          0,
          0,
          0,
          0,
          0,
          0,
          0,
          0,
          500,
          0,
          0,
          1000,
          1000,
          0,
          1000,
          0,
          500,
          1000,
          2000,
          0,
          0,
          1000,
          0,
          0,
          1000,
          1000,
          0,
          0,
          0,
          1000,
          0,
          1000,
          2000,
          500,
          0,
          1000,
          500,
          1000,
          0,
          1000,
          0,
          0,
          0,
          1000,
          0,
          0,
          0,
          0,
          1000,
          500,
          0,
          500,
          1000,
          500,
          0,
          0,
          0,
          1000,
          1000,
          1000,
          500,
          0,
          1000,
          0,
          1000,
          0,
          0,
          0,
          0,
          1000,
          0,
          500,
          1000,
          500,
          500,
          500,
          2000,
          0,
          0,
          500,
          0,
          0,
          1000,
          1000,
          0,
          0,
          500,
          0,
          0,
          0,
          1000,
          1000,
          0,
          1000,
          1000,
          1000,
          0,
          0,
          1000,
          500,
          1000,
          0,
          0,
          0,
          0,
          0,
          500,
          0,
          1000,
          1000,
          2000,
          0,
          1000,
          0,
          0,
          0,
          1000,
          1000,
          1000,
          500,
          1000,
          0,
          0,
          1000,
          0,
          0,
          0,
          1000,
          0,
          500,
          1000,
          0,
          0,
          1000,
          0,
          0,
          1000,
          0,
          1000,
          1000,
          1000,
          0,
          0,
          0,
          0,
          1000,
          1000,
          0,
          1000,
          500,
          0,
          0,
          0,
          0,
          0,
          0,
          1000,
          0,
          1000,
          500,
          500,
          0,
          2000,
          1000,
          1000,
          0,
          500,
          500,
          1000,
          1000,
          0,
          1000,
          1000,
          0,
          0,
          0,
          1000,
          0,
          0,
          0,
          1000,
          0,
          0,
          0,
          0,
          0,
          0,
          1000,
          0,
          0,
          1000,
          500,
          1000,
          2000,
          500,
          0,
          0,
          500,
          0,
          0,
          0,
          0,
          0,
          0,
          500,
          1000,
          0,
          1000,
          2000,
          500,
          0,
          0,
          0,
          0,
          2000,
          1000,
          0,
          1000,
          0,
          0,
          0,
          0,
          500,
          32,
          0,
          0,
          0,
          0,
          1000,
          1000,
          1000,
          1000,
          1000,
          1000,
          1000,
          1000,
          1000,
          1000,
          500,
          0,
          1000,
          0,
          1000,
          1000,
          500,
          1000,
          0,
          0,
          0,
          0,
          0,
          0,
          0,
          0,
          0,
          0,
          0,
          1000,
          0,
          0,
          0,
          1000,
          0,
          1000,
          0,
          1000,
          0,
          0,
          0,
          500,
          0,
          1000,
          1000,
          0,
          1000,
          0,
          0,
          0,
          1000,
          0,
          2000,
          0,
          0,
          0,
          0,
          1000,
          1000,
          0,
          1000,
          0,
          1000,
          1000,
          1000,
          1000,
          0,
          1000,
          0,
          0,
          0,
          0,
          0,
          0,
          0,
          0,
          0,
          0,
          0,
          0,
          0,
          0,
          0,
          500,
          2000,
          0,
          1000,
          1000,
          1000,
          0,
          1000,
          0,
          0,
          0,
          0,
          1000,
          500,
          500,
          0,
          0,
          0,
          0,
          0,
          0,
          500,
          0,
          0,
          0,
          0,
          1000,
          0,
          0,
          1000,
          1000,
          500,
          0,
          128,
          1000,
          1000,
          1000,
          0,
          0,
          0,
          0,
          0,
          0,
          0,
          0,
          1000,
          1000,
          0,
          0,
          0,
          1000,
          0,
          1000,
          1000,
          1000,
          0,
          0,
          1000,
          0,
          500,
          0,
          0,
          0,
          1000,
          500,
          1000,
          0,
          0,
          0,
          0,
          1000,
          0,
          1000,
          0,
          0,
          500,
          0,
          1000,
          500,
          0,
          1000,
          1000,
          0,
          500,
          0,
          0,
          0,
          0,
          2000,
          0,
          1000,
          1000,
          1000,
          500,
          0,
          0,
          0,
          0,
          0,
          0,
          0,
          0,
          1000,
          0,
          0,
          0,
          0,
          0,
          1000,
          0,
          0,
          1000,
          1000,
          1000,
          1000,
          0,
          0,
          0,
          0,
          500,
          0,
          0,
          1000,
          500,
          1000,
          500,
          1000,
          0,
          0,
          0,
          1000,
          1000,
          0,
          1000,
          1000,
          1000,
          500,
          0,
          0,
          1000,
          0,
          1000,
          1000,
          0,
          0,
          0,
          0,
          0,
          0,
          1000,
          0,
          0,
          0,
          0,
          0,
          0,
          1000,
          0,
          1000,
          1000,
          500,
          500,
          1000,
          0,
          0,
          0,
          1000,
          0,
          1000,
          1000,
          0,
          2000,
          1000,
          1000,
          0,
          0,
          0,
          0,
          500,
          500,
          1000,
          1000,
          1000,
          0,
          0,
          1000,
          0,
          0,
          0,
          0,
          0,
          500,
          1000,
          0,
          1000,
          0,
          0,
          500,
          0,
          0,
          0,
          0,
          0,
          500,
          0,
          500,
          0,
          0,
          500,
          0,
          0,
          0,
          0,
          0,
          1000,
          0,
          0,
          0,
          500,
          0,
          500,
          500,
          0,
          0,
          0,
          1000,
          1000,
          0,
          0,
          0,
          500,
          0,
          0,
          0,
          0,
          0,
          0,
          0,
          500,
          500,
          0,
          1000,
          1000,
          0,
          0,
          1000,
          0,
          0,
          0,
          500,
          500,
          1000,
          0,
          1000,
          0,
          1000,
          1000,
          2000,
          1000,
          0,
          0,
          0,
          1000,
          0,
          500,
          500,
          0,
          0,
          0,
          1000,
          1000,
          1000,
          500,
          500,
          0,
          0,
          0,
          0,
          0,
          500,
          0,
          0,
          0,
          500,
          500,
          1000,
          1000,
          0,
          0,
          1000,
          1000,
          0,
          1000,
          1000,
          500,
          0,
          0,
          1000,
          0,
          0,
          1000,
          0,
          1000,
          1000,
          0,
          500,
          0,
          0,
          0,
          0,
          0,
          0,
          0,
          1000,
          0,
          0,
          0,
          500,
          1000,
          0,
          0,
          0,
          1000,
          1000,
          2000,
          0,
          0,
          0,
          1000,
          0,
          0,
          1000,
          1000,
          0,
          0,
          1000,
          0,
          0,
          0,
          0,
          0,
          0,
          0,
          0,
          1000,
          500,
          1000,
          1000,
          0,
          0,
          1000,
          0,
          0,
          0,
          0,
          1000,
          1000,
          1000,
          500,
          1000,
          0,
          1000,
          0,
          1000,
          0,
          0,
          500,
          500,
          1000,
          0,
          0,
          0,
          1000,
          500,
          0,
          0,
          0,
          500,
          1000,
          1000,
          0,
          0,
          0,
          1000,
          1000,
          500,
          0,
          0,
          1000,
          1000,
          1000,
          1000,
          1000,
          0,
          500,
          0,
          0,
          1000,
          0,
          0,
          500,
          1000,
          1000,
          0,
          1000,
          1000,
          0,
          1000,
          0,
          1000,
          1000,
          1000,
          0,
          0,
          1000,
          1000,
          0,
          500,
          1000,
          0,
          1000,
          1000,
          1000,
          0,
          0,
          1000,
          1000,
          0,
          1000,
          0,
          500,
          1000,
          0,
          0,
          0,
          500,
          0,
          0,
          1000,
          500,
          1000,
          0,
          0,
          500,
          500,
          0,
          0,
          500,
          1000,
          1000,
          500,
          0,
          1000,
          0,
          0,
          1000,
          500,
          500,
          1000,
          0,
          1000,
          0,
          500,
          0,
          0,
          0,
          1000
         ],
         "x0": " ",
         "xaxis": "x",
         "y0": " ",
         "yaxis": "y"
        }
       ],
       "layout": {
        "boxmode": "group",
        "legend": {
         "tracegroupgap": 0
        },
        "margin": {
         "t": 60
        },
        "template": {
         "data": {
          "bar": [
           {
            "error_x": {
             "color": "#2a3f5f"
            },
            "error_y": {
             "color": "#2a3f5f"
            },
            "marker": {
             "line": {
              "color": "#E5ECF6",
              "width": 0.5
             },
             "pattern": {
              "fillmode": "overlay",
              "size": 10,
              "solidity": 0.2
             }
            },
            "type": "bar"
           }
          ],
          "barpolar": [
           {
            "marker": {
             "line": {
              "color": "#E5ECF6",
              "width": 0.5
             },
             "pattern": {
              "fillmode": "overlay",
              "size": 10,
              "solidity": 0.2
             }
            },
            "type": "barpolar"
           }
          ],
          "carpet": [
           {
            "aaxis": {
             "endlinecolor": "#2a3f5f",
             "gridcolor": "white",
             "linecolor": "white",
             "minorgridcolor": "white",
             "startlinecolor": "#2a3f5f"
            },
            "baxis": {
             "endlinecolor": "#2a3f5f",
             "gridcolor": "white",
             "linecolor": "white",
             "minorgridcolor": "white",
             "startlinecolor": "#2a3f5f"
            },
            "type": "carpet"
           }
          ],
          "choropleth": [
           {
            "colorbar": {
             "outlinewidth": 0,
             "ticks": ""
            },
            "type": "choropleth"
           }
          ],
          "contour": [
           {
            "colorbar": {
             "outlinewidth": 0,
             "ticks": ""
            },
            "colorscale": [
             [
              0,
              "#0d0887"
             ],
             [
              0.1111111111111111,
              "#46039f"
             ],
             [
              0.2222222222222222,
              "#7201a8"
             ],
             [
              0.3333333333333333,
              "#9c179e"
             ],
             [
              0.4444444444444444,
              "#bd3786"
             ],
             [
              0.5555555555555556,
              "#d8576b"
             ],
             [
              0.6666666666666666,
              "#ed7953"
             ],
             [
              0.7777777777777778,
              "#fb9f3a"
             ],
             [
              0.8888888888888888,
              "#fdca26"
             ],
             [
              1,
              "#f0f921"
             ]
            ],
            "type": "contour"
           }
          ],
          "contourcarpet": [
           {
            "colorbar": {
             "outlinewidth": 0,
             "ticks": ""
            },
            "type": "contourcarpet"
           }
          ],
          "heatmap": [
           {
            "colorbar": {
             "outlinewidth": 0,
             "ticks": ""
            },
            "colorscale": [
             [
              0,
              "#0d0887"
             ],
             [
              0.1111111111111111,
              "#46039f"
             ],
             [
              0.2222222222222222,
              "#7201a8"
             ],
             [
              0.3333333333333333,
              "#9c179e"
             ],
             [
              0.4444444444444444,
              "#bd3786"
             ],
             [
              0.5555555555555556,
              "#d8576b"
             ],
             [
              0.6666666666666666,
              "#ed7953"
             ],
             [
              0.7777777777777778,
              "#fb9f3a"
             ],
             [
              0.8888888888888888,
              "#fdca26"
             ],
             [
              1,
              "#f0f921"
             ]
            ],
            "type": "heatmap"
           }
          ],
          "heatmapgl": [
           {
            "colorbar": {
             "outlinewidth": 0,
             "ticks": ""
            },
            "colorscale": [
             [
              0,
              "#0d0887"
             ],
             [
              0.1111111111111111,
              "#46039f"
             ],
             [
              0.2222222222222222,
              "#7201a8"
             ],
             [
              0.3333333333333333,
              "#9c179e"
             ],
             [
              0.4444444444444444,
              "#bd3786"
             ],
             [
              0.5555555555555556,
              "#d8576b"
             ],
             [
              0.6666666666666666,
              "#ed7953"
             ],
             [
              0.7777777777777778,
              "#fb9f3a"
             ],
             [
              0.8888888888888888,
              "#fdca26"
             ],
             [
              1,
              "#f0f921"
             ]
            ],
            "type": "heatmapgl"
           }
          ],
          "histogram": [
           {
            "marker": {
             "pattern": {
              "fillmode": "overlay",
              "size": 10,
              "solidity": 0.2
             }
            },
            "type": "histogram"
           }
          ],
          "histogram2d": [
           {
            "colorbar": {
             "outlinewidth": 0,
             "ticks": ""
            },
            "colorscale": [
             [
              0,
              "#0d0887"
             ],
             [
              0.1111111111111111,
              "#46039f"
             ],
             [
              0.2222222222222222,
              "#7201a8"
             ],
             [
              0.3333333333333333,
              "#9c179e"
             ],
             [
              0.4444444444444444,
              "#bd3786"
             ],
             [
              0.5555555555555556,
              "#d8576b"
             ],
             [
              0.6666666666666666,
              "#ed7953"
             ],
             [
              0.7777777777777778,
              "#fb9f3a"
             ],
             [
              0.8888888888888888,
              "#fdca26"
             ],
             [
              1,
              "#f0f921"
             ]
            ],
            "type": "histogram2d"
           }
          ],
          "histogram2dcontour": [
           {
            "colorbar": {
             "outlinewidth": 0,
             "ticks": ""
            },
            "colorscale": [
             [
              0,
              "#0d0887"
             ],
             [
              0.1111111111111111,
              "#46039f"
             ],
             [
              0.2222222222222222,
              "#7201a8"
             ],
             [
              0.3333333333333333,
              "#9c179e"
             ],
             [
              0.4444444444444444,
              "#bd3786"
             ],
             [
              0.5555555555555556,
              "#d8576b"
             ],
             [
              0.6666666666666666,
              "#ed7953"
             ],
             [
              0.7777777777777778,
              "#fb9f3a"
             ],
             [
              0.8888888888888888,
              "#fdca26"
             ],
             [
              1,
              "#f0f921"
             ]
            ],
            "type": "histogram2dcontour"
           }
          ],
          "mesh3d": [
           {
            "colorbar": {
             "outlinewidth": 0,
             "ticks": ""
            },
            "type": "mesh3d"
           }
          ],
          "parcoords": [
           {
            "line": {
             "colorbar": {
              "outlinewidth": 0,
              "ticks": ""
             }
            },
            "type": "parcoords"
           }
          ],
          "pie": [
           {
            "automargin": true,
            "type": "pie"
           }
          ],
          "scatter": [
           {
            "fillpattern": {
             "fillmode": "overlay",
             "size": 10,
             "solidity": 0.2
            },
            "type": "scatter"
           }
          ],
          "scatter3d": [
           {
            "line": {
             "colorbar": {
              "outlinewidth": 0,
              "ticks": ""
             }
            },
            "marker": {
             "colorbar": {
              "outlinewidth": 0,
              "ticks": ""
             }
            },
            "type": "scatter3d"
           }
          ],
          "scattercarpet": [
           {
            "marker": {
             "colorbar": {
              "outlinewidth": 0,
              "ticks": ""
             }
            },
            "type": "scattercarpet"
           }
          ],
          "scattergeo": [
           {
            "marker": {
             "colorbar": {
              "outlinewidth": 0,
              "ticks": ""
             }
            },
            "type": "scattergeo"
           }
          ],
          "scattergl": [
           {
            "marker": {
             "colorbar": {
              "outlinewidth": 0,
              "ticks": ""
             }
            },
            "type": "scattergl"
           }
          ],
          "scattermapbox": [
           {
            "marker": {
             "colorbar": {
              "outlinewidth": 0,
              "ticks": ""
             }
            },
            "type": "scattermapbox"
           }
          ],
          "scatterpolar": [
           {
            "marker": {
             "colorbar": {
              "outlinewidth": 0,
              "ticks": ""
             }
            },
            "type": "scatterpolar"
           }
          ],
          "scatterpolargl": [
           {
            "marker": {
             "colorbar": {
              "outlinewidth": 0,
              "ticks": ""
             }
            },
            "type": "scatterpolargl"
           }
          ],
          "scatterternary": [
           {
            "marker": {
             "colorbar": {
              "outlinewidth": 0,
              "ticks": ""
             }
            },
            "type": "scatterternary"
           }
          ],
          "surface": [
           {
            "colorbar": {
             "outlinewidth": 0,
             "ticks": ""
            },
            "colorscale": [
             [
              0,
              "#0d0887"
             ],
             [
              0.1111111111111111,
              "#46039f"
             ],
             [
              0.2222222222222222,
              "#7201a8"
             ],
             [
              0.3333333333333333,
              "#9c179e"
             ],
             [
              0.4444444444444444,
              "#bd3786"
             ],
             [
              0.5555555555555556,
              "#d8576b"
             ],
             [
              0.6666666666666666,
              "#ed7953"
             ],
             [
              0.7777777777777778,
              "#fb9f3a"
             ],
             [
              0.8888888888888888,
              "#fdca26"
             ],
             [
              1,
              "#f0f921"
             ]
            ],
            "type": "surface"
           }
          ],
          "table": [
           {
            "cells": {
             "fill": {
              "color": "#EBF0F8"
             },
             "line": {
              "color": "white"
             }
            },
            "header": {
             "fill": {
              "color": "#C8D4E3"
             },
             "line": {
              "color": "white"
             }
            },
            "type": "table"
           }
          ]
         },
         "layout": {
          "annotationdefaults": {
           "arrowcolor": "#2a3f5f",
           "arrowhead": 0,
           "arrowwidth": 1
          },
          "autotypenumbers": "strict",
          "coloraxis": {
           "colorbar": {
            "outlinewidth": 0,
            "ticks": ""
           }
          },
          "colorscale": {
           "diverging": [
            [
             0,
             "#8e0152"
            ],
            [
             0.1,
             "#c51b7d"
            ],
            [
             0.2,
             "#de77ae"
            ],
            [
             0.3,
             "#f1b6da"
            ],
            [
             0.4,
             "#fde0ef"
            ],
            [
             0.5,
             "#f7f7f7"
            ],
            [
             0.6,
             "#e6f5d0"
            ],
            [
             0.7,
             "#b8e186"
            ],
            [
             0.8,
             "#7fbc41"
            ],
            [
             0.9,
             "#4d9221"
            ],
            [
             1,
             "#276419"
            ]
           ],
           "sequential": [
            [
             0,
             "#0d0887"
            ],
            [
             0.1111111111111111,
             "#46039f"
            ],
            [
             0.2222222222222222,
             "#7201a8"
            ],
            [
             0.3333333333333333,
             "#9c179e"
            ],
            [
             0.4444444444444444,
             "#bd3786"
            ],
            [
             0.5555555555555556,
             "#d8576b"
            ],
            [
             0.6666666666666666,
             "#ed7953"
            ],
            [
             0.7777777777777778,
             "#fb9f3a"
            ],
            [
             0.8888888888888888,
             "#fdca26"
            ],
            [
             1,
             "#f0f921"
            ]
           ],
           "sequentialminus": [
            [
             0,
             "#0d0887"
            ],
            [
             0.1111111111111111,
             "#46039f"
            ],
            [
             0.2222222222222222,
             "#7201a8"
            ],
            [
             0.3333333333333333,
             "#9c179e"
            ],
            [
             0.4444444444444444,
             "#bd3786"
            ],
            [
             0.5555555555555556,
             "#d8576b"
            ],
            [
             0.6666666666666666,
             "#ed7953"
            ],
            [
             0.7777777777777778,
             "#fb9f3a"
            ],
            [
             0.8888888888888888,
             "#fdca26"
            ],
            [
             1,
             "#f0f921"
            ]
           ]
          },
          "colorway": [
           "#636efa",
           "#EF553B",
           "#00cc96",
           "#ab63fa",
           "#FFA15A",
           "#19d3f3",
           "#FF6692",
           "#B6E880",
           "#FF97FF",
           "#FECB52"
          ],
          "font": {
           "color": "#2a3f5f"
          },
          "geo": {
           "bgcolor": "white",
           "lakecolor": "white",
           "landcolor": "#E5ECF6",
           "showlakes": true,
           "showland": true,
           "subunitcolor": "white"
          },
          "hoverlabel": {
           "align": "left"
          },
          "hovermode": "closest",
          "mapbox": {
           "style": "light"
          },
          "paper_bgcolor": "white",
          "plot_bgcolor": "#E5ECF6",
          "polar": {
           "angularaxis": {
            "gridcolor": "white",
            "linecolor": "white",
            "ticks": ""
           },
           "bgcolor": "#E5ECF6",
           "radialaxis": {
            "gridcolor": "white",
            "linecolor": "white",
            "ticks": ""
           }
          },
          "scene": {
           "xaxis": {
            "backgroundcolor": "#E5ECF6",
            "gridcolor": "white",
            "gridwidth": 2,
            "linecolor": "white",
            "showbackground": true,
            "ticks": "",
            "zerolinecolor": "white"
           },
           "yaxis": {
            "backgroundcolor": "#E5ECF6",
            "gridcolor": "white",
            "gridwidth": 2,
            "linecolor": "white",
            "showbackground": true,
            "ticks": "",
            "zerolinecolor": "white"
           },
           "zaxis": {
            "backgroundcolor": "#E5ECF6",
            "gridcolor": "white",
            "gridwidth": 2,
            "linecolor": "white",
            "showbackground": true,
            "ticks": "",
            "zerolinecolor": "white"
           }
          },
          "shapedefaults": {
           "line": {
            "color": "#2a3f5f"
           }
          },
          "ternary": {
           "aaxis": {
            "gridcolor": "white",
            "linecolor": "white",
            "ticks": ""
           },
           "baxis": {
            "gridcolor": "white",
            "linecolor": "white",
            "ticks": ""
           },
           "bgcolor": "#E5ECF6",
           "caxis": {
            "gridcolor": "white",
            "linecolor": "white",
            "ticks": ""
           }
          },
          "title": {
           "x": 0.05
          },
          "xaxis": {
           "automargin": true,
           "gridcolor": "white",
           "linecolor": "white",
           "ticks": "",
           "title": {
            "standoff": 15
           },
           "zerolinecolor": "white",
           "zerolinewidth": 2
          },
          "yaxis": {
           "automargin": true,
           "gridcolor": "white",
           "linecolor": "white",
           "ticks": "",
           "title": {
            "standoff": 15
           },
           "zerolinecolor": "white",
           "zerolinewidth": 2
          }
         }
        },
        "xaxis": {
         "anchor": "y",
         "domain": [
          0,
          1
         ],
         "title": {
          "text": "HDD"
         }
        },
        "yaxis": {
         "anchor": "x",
         "domain": [
          0,
          1
         ]
        }
       }
      }
     },
     "metadata": {},
     "output_type": "display_data"
    },
    {
     "data": {
      "application/vnd.plotly.v1+json": {
       "config": {
        "plotlyServerURL": "https://plot.ly"
       },
       "data": [
        {
         "alignmentgroup": "True",
         "hovertemplate": "SSD=%{x}<extra></extra>",
         "legendgroup": "",
         "marker": {
          "color": "#636efa"
         },
         "name": "",
         "notched": false,
         "offsetgroup": "",
         "orientation": "h",
         "showlegend": false,
         "type": "box",
         "x": [
          128,
          0,
          256,
          512,
          256,
          0,
          0,
          0,
          512,
          256,
          0,
          0,
          256,
          256,
          256,
          256,
          256,
          512,
          0,
          128,
          0,
          128,
          0,
          256,
          256,
          0,
          0,
          256,
          512,
          0,
          0,
          0,
          0,
          512,
          0,
          0,
          0,
          128,
          0,
          256,
          0,
          256,
          0,
          256,
          0,
          256,
          128,
          256,
          256,
          0,
          0,
          256,
          256,
          512,
          0,
          256,
          128,
          256,
          256,
          256,
          256,
          256,
          256,
          256,
          256,
          512,
          0,
          32,
          0,
          0,
          128,
          256,
          256,
          128,
          0,
          0,
          0,
          128,
          0,
          128,
          256,
          512,
          256,
          128,
          0,
          128,
          256,
          256,
          128,
          256,
          0,
          0,
          512,
          256,
          256,
          256,
          0,
          256,
          256,
          128,
          256,
          0,
          0,
          256,
          256,
          256,
          0,
          256,
          256,
          256,
          256,
          256,
          256,
          0,
          256,
          256,
          512,
          256,
          0,
          256,
          0,
          256,
          256,
          512,
          256,
          0,
          0,
          64,
          256,
          256,
          0,
          0,
          256,
          256,
          0,
          256,
          0,
          128,
          0,
          256,
          0,
          256,
          256,
          0,
          256,
          256,
          512,
          0,
          256,
          0,
          512,
          0,
          128,
          256,
          256,
          256,
          256,
          256,
          256,
          0,
          0,
          256,
          256,
          256,
          0,
          256,
          0,
          128,
          256,
          0,
          256,
          0,
          0,
          0,
          256,
          0,
          128,
          512,
          128,
          256,
          256,
          256,
          512,
          128,
          256,
          512,
          512,
          256,
          256,
          128,
          1000,
          0,
          256,
          256,
          0,
          0,
          1000,
          512,
          256,
          256,
          512,
          128,
          0,
          512,
          256,
          512,
          0,
          256,
          256,
          256,
          0,
          256,
          0,
          256,
          512,
          256,
          0,
          256,
          256,
          512,
          256,
          256,
          256,
          0,
          256,
          256,
          0,
          256,
          256,
          0,
          0,
          0,
          256,
          256,
          256,
          256,
          0,
          128,
          512,
          256,
          128,
          128,
          128,
          256,
          256,
          128,
          0,
          256,
          0,
          512,
          0,
          256,
          0,
          512,
          256,
          256,
          128,
          0,
          512,
          512,
          128,
          256,
          0,
          0,
          0,
          256,
          1024,
          0,
          0,
          256,
          512,
          256,
          256,
          512,
          0,
          0,
          128,
          0,
          0,
          0,
          128,
          0,
          256,
          256,
          256,
          0,
          256,
          256,
          256,
          0,
          16,
          0,
          0,
          256,
          256,
          0,
          256,
          256,
          0,
          512,
          128,
          256,
          0,
          0,
          128,
          0,
          256,
          256,
          128,
          0,
          256,
          1000,
          256,
          256,
          0,
          128,
          1000,
          0,
          256,
          0,
          256,
          0,
          256,
          0,
          256,
          0,
          0,
          256,
          256,
          1000,
          256,
          256,
          256,
          0,
          256,
          256,
          128,
          256,
          0,
          256,
          0,
          0,
          0,
          512,
          256,
          256,
          0,
          768,
          0,
          0,
          512,
          256,
          128,
          256,
          512,
          128,
          0,
          0,
          0,
          256,
          0,
          256,
          128,
          0,
          256,
          0,
          128,
          128,
          256,
          256,
          512,
          128,
          256,
          128,
          256,
          256,
          128,
          0,
          0,
          0,
          128,
          128,
          128,
          256,
          512,
          512,
          128,
          0,
          256,
          512,
          0,
          256,
          0,
          256,
          256,
          256,
          256,
          256,
          256,
          1000,
          0,
          256,
          256,
          256,
          256,
          512,
          512,
          512,
          0,
          0,
          512,
          512,
          0,
          256,
          256,
          256,
          128,
          256,
          0,
          256,
          512,
          0,
          256,
          0,
          256,
          128,
          256,
          256,
          256,
          32,
          0,
          256,
          128,
          512,
          512,
          256,
          0,
          512,
          512,
          256,
          0,
          256,
          256,
          128,
          128,
          256,
          0,
          0,
          256,
          512,
          128,
          256,
          512,
          256,
          128,
          0,
          0,
          128,
          256,
          256,
          0,
          128,
          0,
          512,
          256,
          0,
          0,
          0,
          0,
          256,
          512,
          0,
          128,
          256,
          128,
          128,
          256,
          180,
          0,
          256,
          512,
          0,
          128,
          0,
          128,
          256,
          512,
          512,
          512,
          512,
          256,
          512,
          128,
          0,
          256,
          180,
          256,
          1000,
          256,
          256,
          0,
          256,
          256,
          0,
          16,
          256,
          256,
          0,
          512,
          256,
          128,
          0,
          0,
          256,
          256,
          0,
          0,
          512,
          256,
          256,
          256,
          256,
          256,
          128,
          128,
          256,
          0,
          0,
          0,
          256,
          128,
          0,
          256,
          32,
          128,
          256,
          256,
          256,
          0,
          256,
          256,
          128,
          256,
          0,
          0,
          128,
          0,
          0,
          0,
          512,
          128,
          256,
          256,
          0,
          0,
          0,
          0,
          128,
          128,
          0,
          0,
          128,
          512,
          256,
          128,
          128,
          0,
          0,
          0,
          0,
          0,
          0,
          256,
          256,
          0,
          32,
          512,
          256,
          512,
          256,
          32,
          0,
          128,
          256,
          0,
          128,
          256,
          256,
          0,
          128,
          0,
          512,
          128,
          128,
          0,
          0,
          512,
          256,
          256,
          256,
          256,
          0,
          0,
          128,
          0,
          256,
          256,
          0,
          256,
          0,
          1000,
          0,
          0,
          0,
          0,
          128,
          128,
          512,
          256,
          0,
          256,
          256,
          0,
          256,
          0,
          0,
          0,
          128,
          0,
          256,
          512,
          256,
          256,
          0,
          0,
          0,
          256,
          0,
          256,
          1000,
          128,
          0,
          512,
          0,
          0,
          0,
          256,
          256,
          256,
          256,
          512,
          0,
          256,
          128,
          0,
          0,
          256,
          256,
          128,
          512,
          256,
          0,
          0,
          0,
          128,
          128,
          0,
          0,
          256,
          128,
          256,
          128,
          256,
          128,
          128,
          256,
          256,
          0,
          512,
          256,
          256,
          128,
          128,
          256,
          512,
          256,
          0,
          0,
          0,
          0,
          0,
          256,
          0,
          256,
          256,
          0,
          512,
          0,
          512,
          0,
          0,
          256,
          0,
          0,
          0,
          256,
          256,
          512,
          256,
          0,
          128,
          256,
          0,
          0,
          512,
          256,
          256,
          0,
          0,
          256,
          512,
          256,
          256,
          1000,
          128,
          0,
          128,
          0,
          0,
          0,
          128,
          0,
          128,
          0,
          256,
          0,
          256,
          0,
          256,
          0,
          128,
          256,
          256,
          256,
          1000,
          0,
          256,
          256,
          256,
          256,
          128,
          256,
          0,
          180,
          256,
          256,
          128,
          256,
          256,
          256,
          128,
          256,
          256,
          256,
          0,
          128,
          0,
          128,
          256,
          0,
          256,
          256,
          128,
          0,
          256,
          0,
          512,
          128,
          512,
          128,
          1000,
          256,
          512,
          0,
          512,
          256,
          128,
          0,
          256,
          256,
          128,
          0,
          512,
          256,
          0,
          256,
          0,
          128,
          256,
          256,
          256,
          256,
          256,
          256,
          128,
          256,
          0,
          0,
          512,
          0,
          0,
          512,
          256,
          0,
          256,
          256,
          512,
          0,
          128,
          0,
          0,
          128,
          512,
          256,
          0,
          128,
          256,
          0,
          0,
          128,
          512,
          512,
          0,
          256,
          256,
          256,
          256,
          0,
          0,
          0,
          512,
          512,
          0,
          128,
          512,
          256,
          0,
          512,
          256,
          512,
          128,
          128,
          0,
          256,
          256,
          128,
          0,
          256,
          0,
          0,
          0,
          256,
          128,
          0,
          512,
          0,
          256,
          256,
          256,
          0,
          0,
          0,
          256,
          180,
          256,
          256,
          0,
          256,
          128,
          256,
          256,
          0,
          0,
          0,
          0,
          256,
          0,
          128,
          0,
          0,
          128,
          256,
          256,
          256,
          512,
          256,
          0,
          0,
          0,
          0,
          512,
          512,
          256,
          0,
          512,
          512,
          512,
          0,
          128,
          512,
          256,
          240,
          256,
          256,
          0,
          128,
          256,
          256,
          128,
          128,
          0,
          256,
          256,
          256,
          512,
          0,
          256,
          256,
          0,
          0,
          0,
          0,
          0,
          1000,
          128,
          256,
          0,
          128,
          256,
          512,
          128,
          0,
          0,
          256,
          256,
          512,
          256,
          0,
          0,
          0,
          8,
          256,
          256,
          0,
          256,
          512,
          256,
          256,
          256,
          0,
          256,
          256,
          128,
          512,
          0,
          0,
          0,
          0,
          256,
          256,
          512,
          256,
          256,
          256,
          256,
          128,
          0,
          512,
          0,
          256,
          512,
          128,
          256,
          256,
          0,
          0,
          0,
          128,
          0,
          128,
          512,
          128,
          128,
          256,
          256,
          256,
          256,
          0,
          256,
          512,
          128,
          256,
          128,
          0,
          128,
          256,
          256,
          256,
          256,
          0,
          0,
          0,
          256,
          256,
          0,
          256,
          256,
          512,
          256,
          256,
          0,
          256,
          256,
          256,
          0,
          256,
          0,
          0,
          256,
          256,
          256,
          0,
          128,
          256,
          256,
          256,
          0,
          256,
          256,
          256,
          256,
          0,
          256,
          256,
          0,
          256,
          256,
          256,
          128,
          0,
          256,
          0,
          256,
          256,
          1000,
          0,
          0,
          0,
          256,
          256,
          256,
          0,
          0,
          0,
          256,
          256,
          1000,
          256,
          256,
          0,
          0,
          0,
          256,
          256,
          256,
          0,
          0,
          256,
          0,
          0,
          512,
          512,
          0,
          512,
          256,
          0,
          256,
          180,
          0,
          0,
          0,
          0,
          256,
          256,
          128,
          256,
          0,
          256,
          0,
          128,
          0,
          128,
          16,
          0,
          512,
          256,
          128,
          256,
          0,
          128,
          256,
          0,
          128,
          512,
          0,
          256,
          256,
          256,
          512,
          128,
          0,
          256,
          256,
          0,
          0,
          256,
          0,
          256,
          128,
          128,
          0,
          512,
          0,
          256,
          0,
          0,
          256,
          0,
          256,
          256,
          512,
          128,
          256,
          256,
          256,
          256,
          256,
          256,
          256,
          256,
          0,
          0,
          0,
          0,
          256,
          256,
          256,
          512,
          0,
          512,
          256,
          256,
          0,
          0,
          0,
          128,
          256,
          0,
          0,
          0,
          256,
          512,
          0,
          0,
          0,
          256,
          0,
          512,
          128,
          0,
          256,
          256,
          256,
          0,
          0,
          256,
          512,
          256,
          256,
          256,
          0,
          0,
          0,
          256,
          128,
          0,
          512,
          0,
          256,
          128,
          0,
          512,
          512,
          0,
          256,
          256,
          0,
          0,
          256,
          0,
          128,
          256,
          256,
          256,
          32,
          0,
          0,
          128,
          256,
          256,
          128,
          0,
          256,
          0,
          0,
          256,
          0,
          128,
          128,
          512,
          1000,
          0,
          256,
          0,
          0,
          256,
          0,
          128,
          512,
          256,
          256,
          0,
          512,
          256,
          256,
          0,
          256,
          256,
          256,
          0,
          0,
          128,
          256,
          0,
          0,
          128,
          0,
          0,
          128,
          128,
          512,
          0,
          0,
          0,
          0,
          0,
          0,
          0,
          0,
          128,
          512,
          0,
          0
         ],
         "x0": " ",
         "xaxis": "x",
         "y0": " ",
         "yaxis": "y"
        }
       ],
       "layout": {
        "boxmode": "group",
        "legend": {
         "tracegroupgap": 0
        },
        "margin": {
         "t": 60
        },
        "template": {
         "data": {
          "bar": [
           {
            "error_x": {
             "color": "#2a3f5f"
            },
            "error_y": {
             "color": "#2a3f5f"
            },
            "marker": {
             "line": {
              "color": "#E5ECF6",
              "width": 0.5
             },
             "pattern": {
              "fillmode": "overlay",
              "size": 10,
              "solidity": 0.2
             }
            },
            "type": "bar"
           }
          ],
          "barpolar": [
           {
            "marker": {
             "line": {
              "color": "#E5ECF6",
              "width": 0.5
             },
             "pattern": {
              "fillmode": "overlay",
              "size": 10,
              "solidity": 0.2
             }
            },
            "type": "barpolar"
           }
          ],
          "carpet": [
           {
            "aaxis": {
             "endlinecolor": "#2a3f5f",
             "gridcolor": "white",
             "linecolor": "white",
             "minorgridcolor": "white",
             "startlinecolor": "#2a3f5f"
            },
            "baxis": {
             "endlinecolor": "#2a3f5f",
             "gridcolor": "white",
             "linecolor": "white",
             "minorgridcolor": "white",
             "startlinecolor": "#2a3f5f"
            },
            "type": "carpet"
           }
          ],
          "choropleth": [
           {
            "colorbar": {
             "outlinewidth": 0,
             "ticks": ""
            },
            "type": "choropleth"
           }
          ],
          "contour": [
           {
            "colorbar": {
             "outlinewidth": 0,
             "ticks": ""
            },
            "colorscale": [
             [
              0,
              "#0d0887"
             ],
             [
              0.1111111111111111,
              "#46039f"
             ],
             [
              0.2222222222222222,
              "#7201a8"
             ],
             [
              0.3333333333333333,
              "#9c179e"
             ],
             [
              0.4444444444444444,
              "#bd3786"
             ],
             [
              0.5555555555555556,
              "#d8576b"
             ],
             [
              0.6666666666666666,
              "#ed7953"
             ],
             [
              0.7777777777777778,
              "#fb9f3a"
             ],
             [
              0.8888888888888888,
              "#fdca26"
             ],
             [
              1,
              "#f0f921"
             ]
            ],
            "type": "contour"
           }
          ],
          "contourcarpet": [
           {
            "colorbar": {
             "outlinewidth": 0,
             "ticks": ""
            },
            "type": "contourcarpet"
           }
          ],
          "heatmap": [
           {
            "colorbar": {
             "outlinewidth": 0,
             "ticks": ""
            },
            "colorscale": [
             [
              0,
              "#0d0887"
             ],
             [
              0.1111111111111111,
              "#46039f"
             ],
             [
              0.2222222222222222,
              "#7201a8"
             ],
             [
              0.3333333333333333,
              "#9c179e"
             ],
             [
              0.4444444444444444,
              "#bd3786"
             ],
             [
              0.5555555555555556,
              "#d8576b"
             ],
             [
              0.6666666666666666,
              "#ed7953"
             ],
             [
              0.7777777777777778,
              "#fb9f3a"
             ],
             [
              0.8888888888888888,
              "#fdca26"
             ],
             [
              1,
              "#f0f921"
             ]
            ],
            "type": "heatmap"
           }
          ],
          "heatmapgl": [
           {
            "colorbar": {
             "outlinewidth": 0,
             "ticks": ""
            },
            "colorscale": [
             [
              0,
              "#0d0887"
             ],
             [
              0.1111111111111111,
              "#46039f"
             ],
             [
              0.2222222222222222,
              "#7201a8"
             ],
             [
              0.3333333333333333,
              "#9c179e"
             ],
             [
              0.4444444444444444,
              "#bd3786"
             ],
             [
              0.5555555555555556,
              "#d8576b"
             ],
             [
              0.6666666666666666,
              "#ed7953"
             ],
             [
              0.7777777777777778,
              "#fb9f3a"
             ],
             [
              0.8888888888888888,
              "#fdca26"
             ],
             [
              1,
              "#f0f921"
             ]
            ],
            "type": "heatmapgl"
           }
          ],
          "histogram": [
           {
            "marker": {
             "pattern": {
              "fillmode": "overlay",
              "size": 10,
              "solidity": 0.2
             }
            },
            "type": "histogram"
           }
          ],
          "histogram2d": [
           {
            "colorbar": {
             "outlinewidth": 0,
             "ticks": ""
            },
            "colorscale": [
             [
              0,
              "#0d0887"
             ],
             [
              0.1111111111111111,
              "#46039f"
             ],
             [
              0.2222222222222222,
              "#7201a8"
             ],
             [
              0.3333333333333333,
              "#9c179e"
             ],
             [
              0.4444444444444444,
              "#bd3786"
             ],
             [
              0.5555555555555556,
              "#d8576b"
             ],
             [
              0.6666666666666666,
              "#ed7953"
             ],
             [
              0.7777777777777778,
              "#fb9f3a"
             ],
             [
              0.8888888888888888,
              "#fdca26"
             ],
             [
              1,
              "#f0f921"
             ]
            ],
            "type": "histogram2d"
           }
          ],
          "histogram2dcontour": [
           {
            "colorbar": {
             "outlinewidth": 0,
             "ticks": ""
            },
            "colorscale": [
             [
              0,
              "#0d0887"
             ],
             [
              0.1111111111111111,
              "#46039f"
             ],
             [
              0.2222222222222222,
              "#7201a8"
             ],
             [
              0.3333333333333333,
              "#9c179e"
             ],
             [
              0.4444444444444444,
              "#bd3786"
             ],
             [
              0.5555555555555556,
              "#d8576b"
             ],
             [
              0.6666666666666666,
              "#ed7953"
             ],
             [
              0.7777777777777778,
              "#fb9f3a"
             ],
             [
              0.8888888888888888,
              "#fdca26"
             ],
             [
              1,
              "#f0f921"
             ]
            ],
            "type": "histogram2dcontour"
           }
          ],
          "mesh3d": [
           {
            "colorbar": {
             "outlinewidth": 0,
             "ticks": ""
            },
            "type": "mesh3d"
           }
          ],
          "parcoords": [
           {
            "line": {
             "colorbar": {
              "outlinewidth": 0,
              "ticks": ""
             }
            },
            "type": "parcoords"
           }
          ],
          "pie": [
           {
            "automargin": true,
            "type": "pie"
           }
          ],
          "scatter": [
           {
            "fillpattern": {
             "fillmode": "overlay",
             "size": 10,
             "solidity": 0.2
            },
            "type": "scatter"
           }
          ],
          "scatter3d": [
           {
            "line": {
             "colorbar": {
              "outlinewidth": 0,
              "ticks": ""
             }
            },
            "marker": {
             "colorbar": {
              "outlinewidth": 0,
              "ticks": ""
             }
            },
            "type": "scatter3d"
           }
          ],
          "scattercarpet": [
           {
            "marker": {
             "colorbar": {
              "outlinewidth": 0,
              "ticks": ""
             }
            },
            "type": "scattercarpet"
           }
          ],
          "scattergeo": [
           {
            "marker": {
             "colorbar": {
              "outlinewidth": 0,
              "ticks": ""
             }
            },
            "type": "scattergeo"
           }
          ],
          "scattergl": [
           {
            "marker": {
             "colorbar": {
              "outlinewidth": 0,
              "ticks": ""
             }
            },
            "type": "scattergl"
           }
          ],
          "scattermapbox": [
           {
            "marker": {
             "colorbar": {
              "outlinewidth": 0,
              "ticks": ""
             }
            },
            "type": "scattermapbox"
           }
          ],
          "scatterpolar": [
           {
            "marker": {
             "colorbar": {
              "outlinewidth": 0,
              "ticks": ""
             }
            },
            "type": "scatterpolar"
           }
          ],
          "scatterpolargl": [
           {
            "marker": {
             "colorbar": {
              "outlinewidth": 0,
              "ticks": ""
             }
            },
            "type": "scatterpolargl"
           }
          ],
          "scatterternary": [
           {
            "marker": {
             "colorbar": {
              "outlinewidth": 0,
              "ticks": ""
             }
            },
            "type": "scatterternary"
           }
          ],
          "surface": [
           {
            "colorbar": {
             "outlinewidth": 0,
             "ticks": ""
            },
            "colorscale": [
             [
              0,
              "#0d0887"
             ],
             [
              0.1111111111111111,
              "#46039f"
             ],
             [
              0.2222222222222222,
              "#7201a8"
             ],
             [
              0.3333333333333333,
              "#9c179e"
             ],
             [
              0.4444444444444444,
              "#bd3786"
             ],
             [
              0.5555555555555556,
              "#d8576b"
             ],
             [
              0.6666666666666666,
              "#ed7953"
             ],
             [
              0.7777777777777778,
              "#fb9f3a"
             ],
             [
              0.8888888888888888,
              "#fdca26"
             ],
             [
              1,
              "#f0f921"
             ]
            ],
            "type": "surface"
           }
          ],
          "table": [
           {
            "cells": {
             "fill": {
              "color": "#EBF0F8"
             },
             "line": {
              "color": "white"
             }
            },
            "header": {
             "fill": {
              "color": "#C8D4E3"
             },
             "line": {
              "color": "white"
             }
            },
            "type": "table"
           }
          ]
         },
         "layout": {
          "annotationdefaults": {
           "arrowcolor": "#2a3f5f",
           "arrowhead": 0,
           "arrowwidth": 1
          },
          "autotypenumbers": "strict",
          "coloraxis": {
           "colorbar": {
            "outlinewidth": 0,
            "ticks": ""
           }
          },
          "colorscale": {
           "diverging": [
            [
             0,
             "#8e0152"
            ],
            [
             0.1,
             "#c51b7d"
            ],
            [
             0.2,
             "#de77ae"
            ],
            [
             0.3,
             "#f1b6da"
            ],
            [
             0.4,
             "#fde0ef"
            ],
            [
             0.5,
             "#f7f7f7"
            ],
            [
             0.6,
             "#e6f5d0"
            ],
            [
             0.7,
             "#b8e186"
            ],
            [
             0.8,
             "#7fbc41"
            ],
            [
             0.9,
             "#4d9221"
            ],
            [
             1,
             "#276419"
            ]
           ],
           "sequential": [
            [
             0,
             "#0d0887"
            ],
            [
             0.1111111111111111,
             "#46039f"
            ],
            [
             0.2222222222222222,
             "#7201a8"
            ],
            [
             0.3333333333333333,
             "#9c179e"
            ],
            [
             0.4444444444444444,
             "#bd3786"
            ],
            [
             0.5555555555555556,
             "#d8576b"
            ],
            [
             0.6666666666666666,
             "#ed7953"
            ],
            [
             0.7777777777777778,
             "#fb9f3a"
            ],
            [
             0.8888888888888888,
             "#fdca26"
            ],
            [
             1,
             "#f0f921"
            ]
           ],
           "sequentialminus": [
            [
             0,
             "#0d0887"
            ],
            [
             0.1111111111111111,
             "#46039f"
            ],
            [
             0.2222222222222222,
             "#7201a8"
            ],
            [
             0.3333333333333333,
             "#9c179e"
            ],
            [
             0.4444444444444444,
             "#bd3786"
            ],
            [
             0.5555555555555556,
             "#d8576b"
            ],
            [
             0.6666666666666666,
             "#ed7953"
            ],
            [
             0.7777777777777778,
             "#fb9f3a"
            ],
            [
             0.8888888888888888,
             "#fdca26"
            ],
            [
             1,
             "#f0f921"
            ]
           ]
          },
          "colorway": [
           "#636efa",
           "#EF553B",
           "#00cc96",
           "#ab63fa",
           "#FFA15A",
           "#19d3f3",
           "#FF6692",
           "#B6E880",
           "#FF97FF",
           "#FECB52"
          ],
          "font": {
           "color": "#2a3f5f"
          },
          "geo": {
           "bgcolor": "white",
           "lakecolor": "white",
           "landcolor": "#E5ECF6",
           "showlakes": true,
           "showland": true,
           "subunitcolor": "white"
          },
          "hoverlabel": {
           "align": "left"
          },
          "hovermode": "closest",
          "mapbox": {
           "style": "light"
          },
          "paper_bgcolor": "white",
          "plot_bgcolor": "#E5ECF6",
          "polar": {
           "angularaxis": {
            "gridcolor": "white",
            "linecolor": "white",
            "ticks": ""
           },
           "bgcolor": "#E5ECF6",
           "radialaxis": {
            "gridcolor": "white",
            "linecolor": "white",
            "ticks": ""
           }
          },
          "scene": {
           "xaxis": {
            "backgroundcolor": "#E5ECF6",
            "gridcolor": "white",
            "gridwidth": 2,
            "linecolor": "white",
            "showbackground": true,
            "ticks": "",
            "zerolinecolor": "white"
           },
           "yaxis": {
            "backgroundcolor": "#E5ECF6",
            "gridcolor": "white",
            "gridwidth": 2,
            "linecolor": "white",
            "showbackground": true,
            "ticks": "",
            "zerolinecolor": "white"
           },
           "zaxis": {
            "backgroundcolor": "#E5ECF6",
            "gridcolor": "white",
            "gridwidth": 2,
            "linecolor": "white",
            "showbackground": true,
            "ticks": "",
            "zerolinecolor": "white"
           }
          },
          "shapedefaults": {
           "line": {
            "color": "#2a3f5f"
           }
          },
          "ternary": {
           "aaxis": {
            "gridcolor": "white",
            "linecolor": "white",
            "ticks": ""
           },
           "baxis": {
            "gridcolor": "white",
            "linecolor": "white",
            "ticks": ""
           },
           "bgcolor": "#E5ECF6",
           "caxis": {
            "gridcolor": "white",
            "linecolor": "white",
            "ticks": ""
           }
          },
          "title": {
           "x": 0.05
          },
          "xaxis": {
           "automargin": true,
           "gridcolor": "white",
           "linecolor": "white",
           "ticks": "",
           "title": {
            "standoff": 15
           },
           "zerolinecolor": "white",
           "zerolinewidth": 2
          },
          "yaxis": {
           "automargin": true,
           "gridcolor": "white",
           "linecolor": "white",
           "ticks": "",
           "title": {
            "standoff": 15
           },
           "zerolinecolor": "white",
           "zerolinewidth": 2
          }
         }
        },
        "xaxis": {
         "anchor": "y",
         "domain": [
          0,
          1
         ],
         "title": {
          "text": "SSD"
         }
        },
        "yaxis": {
         "anchor": "x",
         "domain": [
          0,
          1
         ]
        }
       }
      }
     },
     "metadata": {},
     "output_type": "display_data"
    }
   ],
   "source": [
    "for i in number.columns:\n",
    "    fig = pt.box(data,x=data[i])\n",
    "    fig.show() "
   ]
  },
  {
   "cell_type": "code",
   "execution_count": 17,
   "metadata": {},
   "outputs": [
    {
     "data": {
      "text/html": [
       "<div>\n",
       "<style scoped>\n",
       "    .dataframe tbody tr th:only-of-type {\n",
       "        vertical-align: middle;\n",
       "    }\n",
       "\n",
       "    .dataframe tbody tr th {\n",
       "        vertical-align: top;\n",
       "    }\n",
       "\n",
       "    .dataframe thead th {\n",
       "        text-align: right;\n",
       "    }\n",
       "</style>\n",
       "<table border=\"1\" class=\"dataframe\">\n",
       "  <thead>\n",
       "    <tr style=\"text-align: right;\">\n",
       "      <th></th>\n",
       "      <th>Company</th>\n",
       "      <th>TypeName</th>\n",
       "      <th>Ram</th>\n",
       "      <th>Weight</th>\n",
       "      <th>Price</th>\n",
       "      <th>TouchScreen</th>\n",
       "      <th>Ips</th>\n",
       "      <th>Ppi</th>\n",
       "      <th>Cpu_brand</th>\n",
       "      <th>HDD</th>\n",
       "      <th>SSD</th>\n",
       "      <th>Gpu_brand</th>\n",
       "      <th>Os</th>\n",
       "    </tr>\n",
       "  </thead>\n",
       "  <tbody>\n",
       "    <tr>\n",
       "      <th>0</th>\n",
       "      <td>Apple</td>\n",
       "      <td>Ultrabook</td>\n",
       "      <td>8</td>\n",
       "      <td>1.37</td>\n",
       "      <td>11.175755</td>\n",
       "      <td>0</td>\n",
       "      <td>1</td>\n",
       "      <td>226.983005</td>\n",
       "      <td>Intel Core i5</td>\n",
       "      <td>0</td>\n",
       "      <td>128</td>\n",
       "      <td>Intel</td>\n",
       "      <td>Mac</td>\n",
       "    </tr>\n",
       "    <tr>\n",
       "      <th>1</th>\n",
       "      <td>Apple</td>\n",
       "      <td>Ultrabook</td>\n",
       "      <td>8</td>\n",
       "      <td>1.34</td>\n",
       "      <td>10.776777</td>\n",
       "      <td>0</td>\n",
       "      <td>0</td>\n",
       "      <td>127.677940</td>\n",
       "      <td>Intel Core i5</td>\n",
       "      <td>0</td>\n",
       "      <td>0</td>\n",
       "      <td>Intel</td>\n",
       "      <td>Mac</td>\n",
       "    </tr>\n",
       "    <tr>\n",
       "      <th>2</th>\n",
       "      <td>HP</td>\n",
       "      <td>Notebook</td>\n",
       "      <td>8</td>\n",
       "      <td>1.86</td>\n",
       "      <td>10.329931</td>\n",
       "      <td>0</td>\n",
       "      <td>0</td>\n",
       "      <td>141.211998</td>\n",
       "      <td>Intel Core i5</td>\n",
       "      <td>0</td>\n",
       "      <td>256</td>\n",
       "      <td>Intel</td>\n",
       "      <td>Others</td>\n",
       "    </tr>\n",
       "    <tr>\n",
       "      <th>3</th>\n",
       "      <td>Apple</td>\n",
       "      <td>Ultrabook</td>\n",
       "      <td>16</td>\n",
       "      <td>1.83</td>\n",
       "      <td>11.814476</td>\n",
       "      <td>0</td>\n",
       "      <td>1</td>\n",
       "      <td>220.534624</td>\n",
       "      <td>Intel Core i7</td>\n",
       "      <td>0</td>\n",
       "      <td>512</td>\n",
       "      <td>AMD</td>\n",
       "      <td>Mac</td>\n",
       "    </tr>\n",
       "    <tr>\n",
       "      <th>4</th>\n",
       "      <td>Apple</td>\n",
       "      <td>Ultrabook</td>\n",
       "      <td>8</td>\n",
       "      <td>1.37</td>\n",
       "      <td>11.473101</td>\n",
       "      <td>0</td>\n",
       "      <td>1</td>\n",
       "      <td>226.983005</td>\n",
       "      <td>Intel Core i5</td>\n",
       "      <td>0</td>\n",
       "      <td>256</td>\n",
       "      <td>Intel</td>\n",
       "      <td>Mac</td>\n",
       "    </tr>\n",
       "    <tr>\n",
       "      <th>...</th>\n",
       "      <td>...</td>\n",
       "      <td>...</td>\n",
       "      <td>...</td>\n",
       "      <td>...</td>\n",
       "      <td>...</td>\n",
       "      <td>...</td>\n",
       "      <td>...</td>\n",
       "      <td>...</td>\n",
       "      <td>...</td>\n",
       "      <td>...</td>\n",
       "      <td>...</td>\n",
       "      <td>...</td>\n",
       "      <td>...</td>\n",
       "    </tr>\n",
       "    <tr>\n",
       "      <th>1268</th>\n",
       "      <td>Asus</td>\n",
       "      <td>Notebook</td>\n",
       "      <td>4</td>\n",
       "      <td>2.20</td>\n",
       "      <td>10.555257</td>\n",
       "      <td>0</td>\n",
       "      <td>0</td>\n",
       "      <td>100.454670</td>\n",
       "      <td>Intel Core i7</td>\n",
       "      <td>500</td>\n",
       "      <td>0</td>\n",
       "      <td>Nvidia</td>\n",
       "      <td>Windows</td>\n",
       "    </tr>\n",
       "    <tr>\n",
       "      <th>1269</th>\n",
       "      <td>Lenovo</td>\n",
       "      <td>2 in 1 Convertible</td>\n",
       "      <td>4</td>\n",
       "      <td>1.80</td>\n",
       "      <td>10.433899</td>\n",
       "      <td>1</td>\n",
       "      <td>1</td>\n",
       "      <td>157.350512</td>\n",
       "      <td>Intel Core i7</td>\n",
       "      <td>0</td>\n",
       "      <td>128</td>\n",
       "      <td>Intel</td>\n",
       "      <td>Windows</td>\n",
       "    </tr>\n",
       "    <tr>\n",
       "      <th>1270</th>\n",
       "      <td>Lenovo</td>\n",
       "      <td>2 in 1 Convertible</td>\n",
       "      <td>16</td>\n",
       "      <td>1.30</td>\n",
       "      <td>11.288115</td>\n",
       "      <td>1</td>\n",
       "      <td>1</td>\n",
       "      <td>276.053530</td>\n",
       "      <td>Intel Core i7</td>\n",
       "      <td>0</td>\n",
       "      <td>512</td>\n",
       "      <td>Intel</td>\n",
       "      <td>Windows</td>\n",
       "    </tr>\n",
       "    <tr>\n",
       "      <th>1271</th>\n",
       "      <td>Lenovo</td>\n",
       "      <td>Notebook</td>\n",
       "      <td>2</td>\n",
       "      <td>1.50</td>\n",
       "      <td>9.409283</td>\n",
       "      <td>0</td>\n",
       "      <td>0</td>\n",
       "      <td>111.935204</td>\n",
       "      <td>Other Intel Processor</td>\n",
       "      <td>0</td>\n",
       "      <td>0</td>\n",
       "      <td>Intel</td>\n",
       "      <td>Windows</td>\n",
       "    </tr>\n",
       "    <tr>\n",
       "      <th>1272</th>\n",
       "      <td>HP</td>\n",
       "      <td>Notebook</td>\n",
       "      <td>6</td>\n",
       "      <td>2.19</td>\n",
       "      <td>10.614129</td>\n",
       "      <td>0</td>\n",
       "      <td>0</td>\n",
       "      <td>100.454670</td>\n",
       "      <td>Intel Core i7</td>\n",
       "      <td>1000</td>\n",
       "      <td>0</td>\n",
       "      <td>AMD</td>\n",
       "      <td>Windows</td>\n",
       "    </tr>\n",
       "  </tbody>\n",
       "</table>\n",
       "<p>1224 rows × 13 columns</p>\n",
       "</div>"
      ],
      "text/plain": [
       "     Company            TypeName  Ram  Weight      Price  TouchScreen  Ips  \\\n",
       "0      Apple           Ultrabook    8    1.37  11.175755            0    1   \n",
       "1      Apple           Ultrabook    8    1.34  10.776777            0    0   \n",
       "2         HP            Notebook    8    1.86  10.329931            0    0   \n",
       "3      Apple           Ultrabook   16    1.83  11.814476            0    1   \n",
       "4      Apple           Ultrabook    8    1.37  11.473101            0    1   \n",
       "...      ...                 ...  ...     ...        ...          ...  ...   \n",
       "1268    Asus            Notebook    4    2.20  10.555257            0    0   \n",
       "1269  Lenovo  2 in 1 Convertible    4    1.80  10.433899            1    1   \n",
       "1270  Lenovo  2 in 1 Convertible   16    1.30  11.288115            1    1   \n",
       "1271  Lenovo            Notebook    2    1.50   9.409283            0    0   \n",
       "1272      HP            Notebook    6    2.19  10.614129            0    0   \n",
       "\n",
       "             Ppi              Cpu_brand   HDD  SSD Gpu_brand       Os  \n",
       "0     226.983005          Intel Core i5     0  128     Intel      Mac  \n",
       "1     127.677940          Intel Core i5     0    0     Intel      Mac  \n",
       "2     141.211998          Intel Core i5     0  256     Intel   Others  \n",
       "3     220.534624          Intel Core i7     0  512       AMD      Mac  \n",
       "4     226.983005          Intel Core i5     0  256     Intel      Mac  \n",
       "...          ...                    ...   ...  ...       ...      ...  \n",
       "1268  100.454670          Intel Core i7   500    0    Nvidia  Windows  \n",
       "1269  157.350512          Intel Core i7     0  128     Intel  Windows  \n",
       "1270  276.053530          Intel Core i7     0  512     Intel  Windows  \n",
       "1271  111.935204  Other Intel Processor     0    0     Intel  Windows  \n",
       "1272  100.454670          Intel Core i7  1000    0       AMD  Windows  \n",
       "\n",
       "[1224 rows x 13 columns]"
      ]
     },
     "execution_count": 17,
     "metadata": {},
     "output_type": "execute_result"
    }
   ],
   "source": [
    "# remove some outlier\n",
    "data=data[data['Ram']!=64]\n",
    "data=data[data['Ppi']<300]\n",
    "data=data[data['Weight']<4]\n",
    "data"
   ]
  },
  {
   "cell_type": "code",
   "execution_count": 18,
   "metadata": {},
   "outputs": [
    {
     "data": {
      "text/html": [
       "<div>\n",
       "<style scoped>\n",
       "    .dataframe tbody tr th:only-of-type {\n",
       "        vertical-align: middle;\n",
       "    }\n",
       "\n",
       "    .dataframe tbody tr th {\n",
       "        vertical-align: top;\n",
       "    }\n",
       "\n",
       "    .dataframe thead th {\n",
       "        text-align: right;\n",
       "    }\n",
       "</style>\n",
       "<table border=\"1\" class=\"dataframe\">\n",
       "  <thead>\n",
       "    <tr style=\"text-align: right;\">\n",
       "      <th></th>\n",
       "      <th>Company</th>\n",
       "      <th>TypeName</th>\n",
       "      <th>Ram</th>\n",
       "      <th>Weight</th>\n",
       "      <th>TouchScreen</th>\n",
       "      <th>Ips</th>\n",
       "      <th>Ppi</th>\n",
       "      <th>Cpu_brand</th>\n",
       "      <th>HDD</th>\n",
       "      <th>SSD</th>\n",
       "      <th>Gpu_brand</th>\n",
       "      <th>Os</th>\n",
       "    </tr>\n",
       "  </thead>\n",
       "  <tbody>\n",
       "    <tr>\n",
       "      <th>0</th>\n",
       "      <td>1</td>\n",
       "      <td>4</td>\n",
       "      <td>8</td>\n",
       "      <td>1.37</td>\n",
       "      <td>0</td>\n",
       "      <td>1</td>\n",
       "      <td>2.132120</td>\n",
       "      <td>2</td>\n",
       "      <td>-0.780105</td>\n",
       "      <td>-0.282639</td>\n",
       "      <td>1</td>\n",
       "      <td>0</td>\n",
       "    </tr>\n",
       "    <tr>\n",
       "      <th>1</th>\n",
       "      <td>1</td>\n",
       "      <td>4</td>\n",
       "      <td>8</td>\n",
       "      <td>1.34</td>\n",
       "      <td>0</td>\n",
       "      <td>0</td>\n",
       "      <td>-0.451195</td>\n",
       "      <td>2</td>\n",
       "      <td>-0.780105</td>\n",
       "      <td>-0.999775</td>\n",
       "      <td>1</td>\n",
       "      <td>0</td>\n",
       "    </tr>\n",
       "    <tr>\n",
       "      <th>2</th>\n",
       "      <td>7</td>\n",
       "      <td>3</td>\n",
       "      <td>8</td>\n",
       "      <td>1.86</td>\n",
       "      <td>0</td>\n",
       "      <td>0</td>\n",
       "      <td>-0.099121</td>\n",
       "      <td>2</td>\n",
       "      <td>-0.780105</td>\n",
       "      <td>0.434496</td>\n",
       "      <td>1</td>\n",
       "      <td>1</td>\n",
       "    </tr>\n",
       "    <tr>\n",
       "      <th>3</th>\n",
       "      <td>1</td>\n",
       "      <td>4</td>\n",
       "      <td>16</td>\n",
       "      <td>1.83</td>\n",
       "      <td>0</td>\n",
       "      <td>1</td>\n",
       "      <td>1.964372</td>\n",
       "      <td>3</td>\n",
       "      <td>-0.780105</td>\n",
       "      <td>1.868767</td>\n",
       "      <td>0</td>\n",
       "      <td>0</td>\n",
       "    </tr>\n",
       "    <tr>\n",
       "      <th>4</th>\n",
       "      <td>1</td>\n",
       "      <td>4</td>\n",
       "      <td>8</td>\n",
       "      <td>1.37</td>\n",
       "      <td>0</td>\n",
       "      <td>1</td>\n",
       "      <td>2.132120</td>\n",
       "      <td>2</td>\n",
       "      <td>-0.780105</td>\n",
       "      <td>0.434496</td>\n",
       "      <td>1</td>\n",
       "      <td>0</td>\n",
       "    </tr>\n",
       "    <tr>\n",
       "      <th>...</th>\n",
       "      <td>...</td>\n",
       "      <td>...</td>\n",
       "      <td>...</td>\n",
       "      <td>...</td>\n",
       "      <td>...</td>\n",
       "      <td>...</td>\n",
       "      <td>...</td>\n",
       "      <td>...</td>\n",
       "      <td>...</td>\n",
       "      <td>...</td>\n",
       "      <td>...</td>\n",
       "      <td>...</td>\n",
       "    </tr>\n",
       "    <tr>\n",
       "      <th>1268</th>\n",
       "      <td>2</td>\n",
       "      <td>3</td>\n",
       "      <td>4</td>\n",
       "      <td>2.20</td>\n",
       "      <td>0</td>\n",
       "      <td>0</td>\n",
       "      <td>-1.159379</td>\n",
       "      <td>3</td>\n",
       "      <td>0.187007</td>\n",
       "      <td>-0.999775</td>\n",
       "      <td>2</td>\n",
       "      <td>2</td>\n",
       "    </tr>\n",
       "    <tr>\n",
       "      <th>1269</th>\n",
       "      <td>10</td>\n",
       "      <td>0</td>\n",
       "      <td>4</td>\n",
       "      <td>1.80</td>\n",
       "      <td>1</td>\n",
       "      <td>1</td>\n",
       "      <td>0.320705</td>\n",
       "      <td>3</td>\n",
       "      <td>-0.780105</td>\n",
       "      <td>-0.282639</td>\n",
       "      <td>1</td>\n",
       "      <td>2</td>\n",
       "    </tr>\n",
       "    <tr>\n",
       "      <th>1270</th>\n",
       "      <td>10</td>\n",
       "      <td>0</td>\n",
       "      <td>16</td>\n",
       "      <td>1.30</td>\n",
       "      <td>1</td>\n",
       "      <td>1</td>\n",
       "      <td>3.408637</td>\n",
       "      <td>3</td>\n",
       "      <td>-0.780105</td>\n",
       "      <td>1.868767</td>\n",
       "      <td>1</td>\n",
       "      <td>2</td>\n",
       "    </tr>\n",
       "    <tr>\n",
       "      <th>1271</th>\n",
       "      <td>10</td>\n",
       "      <td>3</td>\n",
       "      <td>2</td>\n",
       "      <td>1.50</td>\n",
       "      <td>0</td>\n",
       "      <td>0</td>\n",
       "      <td>-0.860725</td>\n",
       "      <td>4</td>\n",
       "      <td>-0.780105</td>\n",
       "      <td>-0.999775</td>\n",
       "      <td>1</td>\n",
       "      <td>2</td>\n",
       "    </tr>\n",
       "    <tr>\n",
       "      <th>1272</th>\n",
       "      <td>7</td>\n",
       "      <td>3</td>\n",
       "      <td>6</td>\n",
       "      <td>2.19</td>\n",
       "      <td>0</td>\n",
       "      <td>0</td>\n",
       "      <td>-1.159379</td>\n",
       "      <td>3</td>\n",
       "      <td>1.154118</td>\n",
       "      <td>-0.999775</td>\n",
       "      <td>0</td>\n",
       "      <td>2</td>\n",
       "    </tr>\n",
       "  </tbody>\n",
       "</table>\n",
       "<p>1224 rows × 12 columns</p>\n",
       "</div>"
      ],
      "text/plain": [
       "      Company  TypeName  Ram  Weight  TouchScreen  Ips       Ppi  Cpu_brand  \\\n",
       "0           1         4    8    1.37            0    1  2.132120          2   \n",
       "1           1         4    8    1.34            0    0 -0.451195          2   \n",
       "2           7         3    8    1.86            0    0 -0.099121          2   \n",
       "3           1         4   16    1.83            0    1  1.964372          3   \n",
       "4           1         4    8    1.37            0    1  2.132120          2   \n",
       "...       ...       ...  ...     ...          ...  ...       ...        ...   \n",
       "1268        2         3    4    2.20            0    0 -1.159379          3   \n",
       "1269       10         0    4    1.80            1    1  0.320705          3   \n",
       "1270       10         0   16    1.30            1    1  3.408637          3   \n",
       "1271       10         3    2    1.50            0    0 -0.860725          4   \n",
       "1272        7         3    6    2.19            0    0 -1.159379          3   \n",
       "\n",
       "           HDD       SSD  Gpu_brand  Os  \n",
       "0    -0.780105 -0.282639          1   0  \n",
       "1    -0.780105 -0.999775          1   0  \n",
       "2    -0.780105  0.434496          1   1  \n",
       "3    -0.780105  1.868767          0   0  \n",
       "4    -0.780105  0.434496          1   0  \n",
       "...        ...       ...        ...  ..  \n",
       "1268  0.187007 -0.999775          2   2  \n",
       "1269 -0.780105 -0.282639          1   2  \n",
       "1270 -0.780105  1.868767          1   2  \n",
       "1271 -0.780105 -0.999775          1   2  \n",
       "1272  1.154118 -0.999775          0   2  \n",
       "\n",
       "[1224 rows x 12 columns]"
      ]
     },
     "execution_count": 18,
     "metadata": {},
     "output_type": "execute_result"
    }
   ],
   "source": [
    "#prepare the data\n",
    "x=data.drop(columns=[\"Price\"])\n",
    "y=data[\"Price\"]\n",
    "label_encoder = LabelEncoder()\n",
    "\n",
    "for i in string.columns:\n",
    "    x[i] = label_encoder.fit_transform(x[i])\n",
    "standardscaler=StandardScaler()\n",
    "x['HDD'] = (x['HDD'] - np.mean(x['HDD'])) / np.std(x['HDD'])\n",
    "x['SSD'] = (x['SSD'] - np.mean(x['SSD'])) / np.std(x['SSD'])\n",
    "x['Ppi'] = (x['Ppi'] - np.mean(x['Ppi'])) / np.std(x['Ppi'])\n",
    "\n",
    "\n",
    "x"
   ]
  },
  {
   "cell_type": "code",
   "execution_count": 19,
   "metadata": {},
   "outputs": [],
   "source": [
    "x_train,x_test,y_train,y_test=train_test_split(x,y,test_size=0.2)"
   ]
  },
  {
   "cell_type": "code",
   "execution_count": 20,
   "metadata": {},
   "outputs": [
    {
     "name": "stdout",
     "output_type": "stream",
     "text": [
      "Decision Tree - Mean Squared Error: 0.07909068677097347\n",
      "Decision Tree - R^2 Score: 0.762456519277982\n",
      "--------------------------------------------------------------------------------\n",
      "Random Forest - Mean Squared Error: 0.049541501377399315\n",
      "Random Forest - R^2 Score: 0.8512054812286562\n",
      "--------------------------------------------------------------------------------\n",
      "Gradient Boosting - Mean Squared Error: 0.049901544948621854\n",
      "Gradient Boosting - R^2 Score: 0.8501241149311622\n",
      "--------------------------------------------------------------------------------\n",
      "k-NN - Mean Squared Error: 0.07101709547411271\n",
      "k-NN - R^2 Score: 0.7867049998119396\n",
      "--------------------------------------------------------------------------------\n"
     ]
    }
   ],
   "source": [
    "# check the models\n",
    "regressors = {\n",
    "    'Decision Tree': DecisionTreeRegressor(),\n",
    "    'Random Forest': RandomForestRegressor(),\n",
    "    'Gradient Boosting': GradientBoostingRegressor(),\n",
    "    'k-NN': KNeighborsRegressor()\n",
    "}\n",
    "\n",
    "# Train and evaluate each regressor\n",
    "for name, reg in regressors.items():\n",
    "    reg.fit(x_train, y_train)\n",
    "    y_pred = reg.predict(x_test)\n",
    "    mse = mean_squared_error(y_test,y_pred)\n",
    "    r2 = r2_score(y_test, y_pred)\n",
    "    print(f\"{name} - Mean Squared Error: {mse}\")\n",
    "    print(f\"{name} - R^2 Score: {r2}\")\n",
    "    print('-'*80)"
   ]
  }
 ],
 "metadata": {
  "kernelspec": {
   "display_name": "Python 3",
   "language": "python",
   "name": "python3"
  },
  "language_info": {
   "codemirror_mode": {
    "name": "ipython",
    "version": 3
   },
   "file_extension": ".py",
   "mimetype": "text/x-python",
   "name": "python",
   "nbconvert_exporter": "python",
   "pygments_lexer": "ipython3",
   "version": "3.11.1"
  }
 },
 "nbformat": 4,
 "nbformat_minor": 2
}
